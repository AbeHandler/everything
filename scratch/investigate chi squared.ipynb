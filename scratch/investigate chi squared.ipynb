{
 "cells": [
  {
   "cell_type": "code",
   "execution_count": 22,
   "metadata": {},
   "outputs": [
    {
     "data": {
      "text/plain": [
       "1000.0"
      ]
     },
     "execution_count": 22,
     "metadata": {},
     "output_type": "execute_result"
    }
   ],
   "source": [
    "import numpy as np\n",
    "\n",
    "X = np.random.binomial(1, .4, 1000)\n",
    "Y = np.random.binomial(1, .4, 1000)\n",
    "\n",
    "c = np.zeros((2, 2))\n",
    "for i in [0,1]:\n",
    "    for j in [0,1]:\n",
    "        for n in range(1000):\n",
    "            if X[n] == i and Y[n] == j:\n",
    "                c[i,j] += 1\n",
    "                \n",
    "np.sum(c)"
   ]
  }
 ],
 "metadata": {
  "kernelspec": {
   "display_name": "Python 3",
   "language": "python",
   "name": "python3"
  },
  "language_info": {
   "codemirror_mode": {
    "name": "ipython",
    "version": 3
   },
   "file_extension": ".py",
   "mimetype": "text/x-python",
   "name": "python",
   "nbconvert_exporter": "python",
   "pygments_lexer": "ipython3",
   "version": "3.7.6"
  }
 },
 "nbformat": 4,
 "nbformat_minor": 2
}

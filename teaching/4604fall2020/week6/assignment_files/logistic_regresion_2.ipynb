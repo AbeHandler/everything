{
 "cells": [
  {
   "cell_type": "markdown",
   "metadata": {},
   "source": [
    "## CU Boulder 4604/5604\n",
    "\n",
    "#### September 28, 2020\n",
    "\n",
    "####  Logistic regression revisited"
   ]
  },
  {
   "cell_type": "markdown",
   "metadata": {},
   "source": [
    "### Logistic Regression revisited\n",
    "\n",
    "- Last week we learned about logistic regression and regularization\n",
    "- Today, we are going modify the notebook from last week in 2 ways \n",
    "\n",
    "##### New stuff:\n",
    "1. I filled in the missing functions from last week if you are curious. Everyone who submitted last week got full credit. These notebooks are a way to get your hands dirty with real ML code so you learn the materials more deeply. They are not a way for me to quiz you on what you know. That is what HW, quizzes, exams are for ...\n",
    "2. We are going to add a regularization term to the loss function\n",
    "3. We will split training data and test data, and look at the effects of regularization\n",
    "4. We will introduce stochastic gradient descent. The well-known ML researcher [Dave Blei](http://www.cs.columbia.edu/~blei/) says stoachstic gradient descent is like walking from New York to Los Angeles by asking one person at a time for directions. And every person you ask for directions is drunk. Even though this seems like a bad way to get across the country, we will see that is has clear advantages\n",
    "5. I changed the code from gradient ascent to gradient descent (flipping signs as needed). Recall that maximizing log likelihood is the same as minimizing negative log likelihood."
   ]
  },
  {
   "cell_type": "markdown",
   "metadata": {},
   "source": [
    "### Annoucements \n",
    "\n",
    "- Recall HW2 is out\n",
    "- This notebook is pretty similar to HW2\n",
    "- In the real world, it is OK to lean on sklearn's implementation of logistic regression\n",
    "- But taking this class gives you a chance to actually understand how it works. This notebook should make the sklearn code much less mysterious"
   ]
  },
  {
   "cell_type": "code",
   "execution_count": 77,
   "metadata": {},
   "outputs": [],
   "source": [
    "%matplotlib inline\n",
    "\n",
    "import math\n",
    "import matplotlib.pyplot as plt\n",
    "import numpy as np\n",
    "import random\n",
    "import pandas as pd\n",
    "np.random.seed(42)"
   ]
  },
  {
   "cell_type": "code",
   "execution_count": 78,
   "metadata": {},
   "outputs": [
    {
     "data": {
      "text/plain": [
       "[<matplotlib.lines.Line2D at 0x7fc828fd1790>]"
      ]
     },
     "execution_count": 78,
     "metadata": {},
     "output_type": "execute_result"
    },
    {
     "data": {
      "image/png": "[encoded data removed]",
      "text/plain": [
       "<Figure size 432x288 with 1 Axes>"
      ]
     },
     "metadata": {
      "needs_background": "light"
     },
     "output_type": "display_data"
    }
   ],
   "source": [
    "## Here is the logistic function, the activation function for logistic regression\n",
    "\n",
    "def logistic(z):\n",
    "    return 1/(1 + np.exp(-z))\n",
    "\n",
    "x, fz = [], []\n",
    "for z in range(-10, 10):\n",
    "    x.append(z)\n",
    "    fz.append(logistic(z))\n",
    "\n",
    "plt.plot(x, fz)"
   ]
  },
  {
   "cell_type": "code",
   "execution_count": 79,
   "metadata": {},
   "outputs": [
    {
     "data": {
      "image/png": "[encoded data removed]",
      "text/plain": [
       "<Figure size 432x288 with 1 Axes>"
      ]
     },
     "metadata": {
      "needs_background": "light"
     },
     "output_type": "display_data"
    }
   ],
   "source": [
    "## Let's generate some features, weights and y values and compute the loss \n",
    "## This can help you build up intuition for what is happening\n",
    "\n",
    "def log_prob(z, y_i):\n",
    "    '''\n",
    "    Returns the log_prob for one point\n",
    "    '''\n",
    "    fz = logistic(z)\n",
    "    return y_i * np.log(fz) + (1 - y_i) * np.log(1 - fz)\n",
    "\n",
    "\n",
    "out = []\n",
    "\n",
    "dim_ = 10\n",
    "\n",
    "for _ in range(1000):\n",
    "    # generate some random weights \n",
    "    w = np.random.uniform(low=-2, high=2, size=dim_)\n",
    "    \n",
    "    # generate some random binary features \n",
    "    x = (np.random.rand(dim_) > .5).astype(int) \n",
    "    \n",
    "    # get the z score\n",
    "    z = w.dot(x)\n",
    "\n",
    "    # randomly assign y\n",
    "    y = 1 if random.random() < .5 else 0\n",
    "    \n",
    "    # compute the loss\n",
    "    loss = log_prob(z=z, y_i=y)\n",
    "    \n",
    "    # keep track of what is happening\n",
    "    out.append({\"z\": z, \"loss\": loss, \"label\": y})\n",
    "\n",
    "\n",
    "# Plot the results\n",
    "df = pd.DataFrame(out)\n",
    "    \n",
    "fig, ax = plt.subplots()\n",
    "ax.plot(df[df[\"label\"] == 1][\"z\"], df[df[\"label\"] == 1][\"loss\"], 'x', color=\"red\", label='1')\n",
    "ax.plot(df[df[\"label\"] == 0][\"z\"], df[df[\"label\"] == 0][\"loss\"], 'o', color=\"blue\", label='0')\n",
    "plt.xlabel(\"z\")\n",
    "plt.ylabel(\"log_prob\")\n",
    "plt.legend()\n",
    "plt.show()"
   ]
  },
  {
   "cell_type": "code",
   "execution_count": 94,
   "metadata": {},
   "outputs": [
    {
     "name": "stdout",
     "output_type": "stream",
     "text": [
      "iter: 0, loss: 40785.26777250834, accuracy: 0.1797\n",
      "iter: 1, loss: 33006.902493152906, accuracy: 0.1797\n",
      "iter: 2, loss: 25709.89321512094, accuracy: 0.1797\n",
      "iter: 3, loss: 19225.22217939883, accuracy: 0.1797\n",
      "iter: 4, loss: 13930.413046183727, accuracy: 0.2435\n",
      "iter: 5, loss: 10095.536918631436, accuracy: 0.4305\n",
      "iter: 6, loss: 7691.552404996494, accuracy: 0.3698\n",
      "iter: 7, loss: 6299.181220341007, accuracy: 0.4986\n",
      "iter: 8, loss: 5463.063262218603, accuracy: 0.5602\n",
      "iter: 9, loss: 4917.892326879042, accuracy: 0.6854\n",
      "iter: 10, loss: 4533.492387183636, accuracy: 0.6854\n",
      "iter: 11, loss: 4244.721538289048, accuracy: 0.7515\n",
      "iter: 12, loss: 4016.7734040045843, accuracy: 0.7515\n",
      "iter: 13, loss: 3829.7696567799926, accuracy: 0.8145\n",
      "iter: 14, loss: 3671.6782218828216, accuracy: 0.8145\n",
      "iter: 15, loss: 3534.8494061323227, accuracy: 0.874\n",
      "iter: 16, loss: 3414.2130737456564, accuracy: 0.874\n",
      "iter: 17, loss: 3306.2867203076635, accuracy: 0.874\n",
      "iter: 18, loss: 3208.602746740112, accuracy: 0.874\n",
      "iter: 19, loss: 3119.363751641777, accuracy: 0.9393\n",
      "iter: 20, loss: 3037.227502490243, accuracy: 0.9393\n",
      "iter: 21, loss: 2961.1685860777106, accuracy: 0.9393\n",
      "iter: 22, loss: 2890.386971507245, accuracy: 0.9393\n",
      "iter: 23, loss: 2824.246146284396, accuracy: 0.9393\n",
      "iter: 24, loss: 2762.2303924634443, accuracy: 0.9393\n",
      "iter: 25, loss: 2703.9147415179896, accuracy: 0.9393\n",
      "iter: 26, loss: 2648.943501693296, accuracy: 0.9393\n",
      "iter: 27, loss: 2597.014687246581, accuracy: 0.9393\n",
      "iter: 28, loss: 2547.868576309961, accuracy: 0.9393\n",
      "iter: 29, loss: 2501.279197882078, accuracy: 0.9393\n",
      "iter: 30, loss: 2457.047923037932, accuracy: 0.9393\n",
      "iter: 31, loss: 2414.9985846287145, accuracy: 0.9393\n",
      "iter: 32, loss: 2374.9737184171954, accuracy: 0.9393\n",
      "iter: 33, loss: 2336.831634526442, accuracy: 0.9393\n",
      "iter: 34, loss: 2300.444108907903, accuracy: 0.9393\n",
      "iter: 35, loss: 2265.694541586654, accuracy: 0.9393\n",
      "iter: 36, loss: 2232.4764691616406, accuracy: 0.9393\n",
      "iter: 37, loss: 2200.692348370194, accuracy: 0.9393\n",
      "iter: 38, loss: 2170.2525488532974, accuracy: 0.9393\n",
      "iter: 39, loss: 2141.0745088408216, accuracy: 1.0\n",
      "iter: 40, loss: 2113.0820189711458, accuracy: 1.0\n",
      "iter: 41, loss: 2086.2046079371835, accuracy: 1.0\n",
      "iter: 42, loss: 2060.377009968298, accuracy: 1.0\n",
      "iter: 43, loss: 2035.5386988624143, accuracy: 1.0\n",
      "iter: 44, loss: 2011.6334767928727, accuracy: 1.0\n",
      "iter: 45, loss: 1988.6091087626453, accuracy: 1.0\n",
      "iter: 46, loss: 1966.4169955638356, accuracy: 1.0\n",
      "iter: 47, loss: 1945.0118795940286, accuracy: 1.0\n",
      "iter: 48, loss: 1924.351579029703, accuracy: 1.0\n",
      "iter: 49, loss: 1904.3967467099724, accuracy: 1.0\n",
      "iter: 50, loss: 1885.1106507551174, accuracy: 1.0\n",
      "iter: 51, loss: 1866.4589744538682, accuracy: 1.0\n",
      "iter: 52, loss: 1848.4096333435548, accuracy: 1.0\n",
      "iter: 53, loss: 1830.9326077257515, accuracy: 1.0\n",
      "iter: 54, loss: 1813.9997891035894, accuracy: 1.0\n",
      "iter: 55, loss: 1797.5848392206578, accuracy: 1.0\n",
      "iter: 56, loss: 1781.6630605486407, accuracy: 1.0\n",
      "iter: 57, loss: 1766.2112771980671, accuracy: 1.0\n",
      "iter: 58, loss: 1751.207725337343, accuracy: 1.0\n",
      "iter: 59, loss: 1736.6319523037116, accuracy: 1.0\n",
      "iter: 60, loss: 1722.4647236637009, accuracy: 1.0\n",
      "iter: 61, loss: 1708.6879375553833, accuracy: 1.0\n",
      "iter: 62, loss: 1695.2845457027852, accuracy: 1.0\n",
      "iter: 63, loss: 1682.2384805505496, accuracy: 1.0\n",
      "iter: 64, loss: 1669.5345880146615, accuracy: 1.0\n",
      "iter: 65, loss: 1657.158565383455, accuracy: 1.0\n",
      "iter: 66, loss: 1645.09690395436, accuracy: 1.0\n",
      "iter: 67, loss: 1633.3368360136074, accuracy: 1.0\n",
      "iter: 68, loss: 1621.8662858114408, accuracy: 1.0\n",
      "iter: 69, loss: 1610.6738242046836, accuracy: 1.0\n",
      "iter: 70, loss: 1599.7486266740268, accuracy: 1.0\n",
      "iter: 71, loss: 1589.0804344435203, accuracy: 1.0\n",
      "iter: 72, loss: 1578.6595184518412, accuracy: 1.0\n",
      "iter: 73, loss: 1568.476645949692, accuracy: 1.0\n",
      "iter: 74, loss: 1558.5230495143805, accuracy: 1.0\n",
      "iter: 75, loss: 1548.790398287864, accuracy: 1.0\n",
      "iter: 76, loss: 1539.2707712661834, accuracy: 1.0\n",
      "iter: 77, loss: 1529.9566324762545, accuracy: 1.0\n",
      "iter: 78, loss: 1520.8408078946277, accuracy: 1.0\n",
      "iter: 79, loss: 1511.9164639722844, accuracy: 1.0\n",
      "iter: 80, loss: 1503.1770876413334, accuracy: 1.0\n",
      "iter: 81, loss: 1494.6164676891046, accuracy: 1.0\n",
      "iter: 82, loss: 1486.2286773982405, accuracy: 1.0\n",
      "iter: 83, loss: 1478.0080583515494, accuracy: 1.0\n",
      "iter: 84, loss: 1469.9492053203307, accuracy: 1.0\n",
      "iter: 85, loss: 1462.0469521478365, accuracy: 1.0\n",
      "iter: 86, loss: 1454.296358561196, accuracy: 1.0\n",
      "iter: 87, loss: 1446.6926978371644, accuracy: 1.0\n",
      "iter: 88, loss: 1439.2314452629694, accuracy: 1.0\n",
      "iter: 89, loss: 1431.9082673326218, accuracy: 1.0\n",
      "iter: 90, loss: 1424.7190116258707, accuracy: 1.0\n",
      "iter: 91, loss: 1417.6596973215583, accuracy: 1.0\n",
      "iter: 92, loss: 1410.7265062983656, accuracy: 1.0\n",
      "iter: 93, loss: 1403.9157747850384, accuracy: 1.0\n",
      "iter: 94, loss: 1397.2239855164596, accuracy: 1.0\n",
      "iter: 95, loss: 1390.6477603659655, accuracy: 1.0\n",
      "iter: 96, loss: 1384.1838534163949, accuracy: 1.0\n",
      "iter: 97, loss: 1377.8291444428446, accuracy: 1.0\n",
      "iter: 98, loss: 1371.580632777998, accuracy: 1.0\n",
      "iter: 99, loss: 1365.4354315343821, accuracy: 1.0\n",
      "iter: 100, loss: 1359.3907621600176, accuracy: 1.0\n",
      "iter: 101, loss: 1353.443949304573, accuracy: 1.0\n",
      "iter: 102, loss: 1347.5924159769872, accuracy: 1.0\n",
      "iter: 103, loss: 1341.8336789743703, accuracy: 1.0\n",
      "iter: 104, loss: 1336.1653445652278, accuracy: 1.0\n",
      "iter: 105, loss: 1330.5851044106519, accuracy: 1.0\n",
      "iter: 106, loss: 1325.0907317082329, accuracy: 1.0\n",
      "iter: 107, loss: 1319.6800775439997, accuracy: 1.0\n",
      "iter: 108, loss: 1314.3510674421987, accuracy: 1.0\n",
      "iter: 109, loss: 1309.1016980956972, accuracy: 1.0\n",
      "iter: 110, loss: 1303.9300342709605, accuracy: 1.0\n",
      "iter: 111, loss: 1298.8342058735, accuracy: 1.0\n",
      "iter: 112, loss: 1293.812405166594, accuracy: 1.0\n",
      "iter: 113, loss: 1288.8628841307946, accuracy: 1.0\n",
      "iter: 114, loss: 1283.9839519602015, accuracy: 1.0\n",
      "0.25 5.324256436592882\n",
      "iter: 0, loss: 4955.759689805518, accuracy: 0.688\n",
      "iter: 1, loss: 4273.6790249562055, accuracy: 0.8147\n",
      "iter: 2, loss: 3885.862294723742, accuracy: 0.8784\n",
      "iter: 3, loss: 3647.9590896181926, accuracy: 0.9384\n",
      "iter: 4, loss: 3492.6674767182462, accuracy: 0.9384\n",
      "iter: 5, loss: 3386.063647544879, accuracy: 0.9384\n",
      "iter: 6, loss: 3309.773346929401, accuracy: 0.9384\n",
      "iter: 7, loss: 3253.2282551095223, accuracy: 0.9384\n",
      "iter: 8, loss: 3210.041787242521, accuracy: 0.9384\n",
      "iter: 9, loss: 3176.1930066377786, accuracy: 0.9384\n",
      "iter: 10, loss: 3149.061480902987, accuracy: 0.9384\n",
      "iter: 11, loss: 3126.888129634525, accuracy: 0.9384\n",
      "iter: 12, loss: 3108.4610277357497, accuracy: 0.9384\n",
      "iter: 13, loss: 3092.9255877114133, accuracy: 0.9384\n",
      "iter: 14, loss: 3079.666288288927, accuracy: 0.9384\n",
      "iter: 15, loss: 3068.23099154234, accuracy: 0.9384\n",
      "iter: 16, loss: 3058.281376118927, accuracy: 0.9384\n",
      "iter: 17, loss: 3049.559806294804, accuracy: 0.9384\n",
      "iter: 18, loss: 3041.8667827015047, accuracy: 0.9384\n",
      "iter: 19, loss: 3035.0453436795756, accuracy: 0.9384\n",
      "iter: 20, loss: 3028.970114024329, accuracy: 0.9384\n",
      "iter: 21, loss: 3023.5395107496465, accuracy: 0.9384\n",
      "iter: 22, loss: 3018.670124201578, accuracy: 0.9384\n",
      "iter: 23, loss: 3014.29261758055, accuracy: 0.9384\n",
      "iter: 24, loss: 3010.3486989478934, accuracy: 1.0\n",
      "iter: 25, loss: 3006.7888591112956, accuracy: 1.0\n",
      "iter: 26, loss: 3003.570662128523, accuracy: 1.0\n",
      "iter: 27, loss: 3000.6574385035196, accuracy: 1.0\n",
      "iter: 28, loss: 2998.0172746556245, accuracy: 1.0\n",
      "iter: 29, loss: 2995.622222427038, accuracy: 1.0\n",
      "iter: 30, loss: 2993.447673558959, accuracy: 1.0\n",
      "iter: 31, loss: 2991.4718590279226, accuracy: 1.0\n",
      "iter: 32, loss: 2989.6754437953377, accuracy: 1.0\n",
      "iter: 33, loss: 2988.041195197981, accuracy: 1.0\n",
      "iter: 34, loss: 2986.5537087323714, accuracy: 1.0\n",
      "iter: 35, loss: 2985.199179045124, accuracy: 1.0\n",
      "iter: 36, loss: 2983.965206881101, accuracy: 1.0\n",
      "iter: 37, loss: 2982.8406349441207, accuracy: 1.0\n",
      "iter: 38, loss: 2981.815407231922, accuracy: 1.0\n",
      "iter: 39, loss: 2980.8804476296423, accuracy: 1.0\n",
      "100 2.668516055168179\n",
      "iter: 0, loss: 53295.33107379207, accuracy: 0.1806\n",
      "iter: 1, loss: 30080.468358811668, accuracy: 0.1806\n",
      "iter: 2, loss: 17184.71592460854, accuracy: 0.3096\n",
      "iter: 3, loss: 10861.60686718801, accuracy: 0.3696\n",
      "iter: 4, loss: 7953.1767446743215, accuracy: 0.5572\n",
      "iter: 5, loss: 6563.511596473982, accuracy: 0.5572\n",
      "iter: 6, loss: 5857.042923966386, accuracy: 0.6846\n"
     ]
    },
    {
     "name": "stdout",
     "output_type": "stream",
     "text": [
      "iter: 7, loss: 5481.490918118335, accuracy: 0.7469\n",
      "iter: 8, loss: 5276.713251602495, accuracy: 0.8107\n",
      "iter: 9, loss: 5163.5566456624165, accuracy: 0.876\n",
      "iter: 10, loss: 5100.600095982626, accuracy: 0.876\n",
      "iter: 11, loss: 5065.44971222225, accuracy: 0.8144\n",
      "iter: 12, loss: 5045.787621612491, accuracy: 0.8777\n",
      "iter: 13, loss: 5034.777799280437, accuracy: 0.8777\n",
      "iter: 14, loss: 5028.609030709994, accuracy: 0.8777\n",
      "iter: 15, loss: 5025.1513329043355, accuracy: 0.8777\n",
      "iter: 16, loss: 5023.212718076863, accuracy: 0.8777\n",
      "iter: 17, loss: 5022.125593800687, accuracy: 0.8777\n",
      "iter: 18, loss: 5021.5158761376315, accuracy: 0.8777\n",
      "iter: 19, loss: 5021.173876553959, accuracy: 0.8777\n",
      "1000 0.9467609672846842\n",
      "iter: 0, loss: 236038.814196377, accuracy: 0.1797\n",
      "iter: 1, loss: 8399.654634284849, accuracy: 0.8144\n",
      "iter: 2, loss: 6385.903400084284, accuracy: 0.1797\n",
      "iter: 3, loss: 6251.7172451751485, accuracy: 0.368\n",
      "iter: 4, loss: 6239.438788947214, accuracy: 0.3036\n",
      "iter: 5, loss: 6238.377290770742, accuracy: 0.3036\n",
      "iter: 6, loss: 6238.283698250863, accuracy: 0.3036\n",
      "iter: 7, loss: 6238.27549205352, accuracy: 0.3036\n",
      "5000 0.329007594091732\n"
     ]
    }
   ],
   "source": [
    "def neg_log_likelihood(X, w, y):\n",
    "    '''Compute the negative log likelihood'''\n",
    "    L = 0\n",
    "    for _x,_y in zip(X, y):\n",
    "        z = w.dot(_x)\n",
    "        L += log_prob(z=z, y_i=_y)\n",
    "    return -1 * L\n",
    "\n",
    "\n",
    "def fast_logistic(X, w):\n",
    "    '''Compute the logistic function over many data points'''\n",
    "    return 1/(1 + np.exp(-1 * X.dot(w)))\n",
    "\n",
    "\n",
    "def grad(X, w, y, lambda_=.5):\n",
    "    '''\n",
    "    Return the gradient\n",
    "    \n",
    "    - https://web.stanford.edu/~jurafsky/slp3/5.pdf\n",
    "    '''\n",
    "    grad = np.zeros_like(w)\n",
    "    \n",
    "    b = X * (fast_logistic(X, w) - y).reshape((N, 1))\n",
    "\n",
    "    return np.sum(b, axis=0) + (lambda_ * 2 * w)\n",
    "\n",
    "\n",
    "def squared_l2_norm(x):\n",
    "    '''\n",
    "    $\\sqrt{\\Sigma x_i^2} ^ 2\n",
    "    '''\n",
    "    return np.sum(x ** 2)\n",
    "\n",
    "\n",
    "def grad_decent(X, y, eta = .0001, lambda_ = 0, tolerance=1e-4, verbose=True):\n",
    "    '''\n",
    "    - Perform gradient ascent\n",
    "    - This function is basically the same as in the Adeline notebook\n",
    "    - Of course, the gradient is different, because it is a different function\n",
    "    '''\n",
    "    w = np.random.uniform(low=-5, high=2, size=dim_)\n",
    "    last = 0\n",
    "    for i in range(1000):\n",
    "        this_ll = neg_log_likelihood(X, w, y)\n",
    "        loss = this_ll + lambda_ * squared_l2_norm(w)\n",
    "        if verbose:\n",
    "            print(\"iter: {}, loss: {}, accuracy: {}\".format(i, loss, accuracy(X, w, y)))\n",
    "        if(abs(this_ll - last) < tolerance): break\n",
    "        last = this_ll\n",
    "        w -= eta * grad(X, w, y, lambda_=lambda_)\n",
    "    return w\n",
    "\n",
    "def prediction(X, w, threshold=.5):\n",
    "    '''\n",
    "    - Return a Boolean array of length N.\n",
    "    - The array should be True if the weights dotted with the features for a given instance is greater than .5\n",
    "    '''\n",
    "    N, D = X.shape\n",
    "    return X.dot(w) > threshold\n",
    "\n",
    "def accuracy(X, w, y):\n",
    "    '''\n",
    "    Return a value between 0 and 1, showing the fraction of data points which have been classified correctly\n",
    "    '''\n",
    "    return np.mean(prediction(X, w) == y)\n",
    "\n",
    "def init_data(N, dim_):\n",
    "    '''\n",
    "    Initialize data. Note how we generate y below. We know how the data is generated.\n",
    "    We should be able to \n",
    "    '''\n",
    "    w = np.random.uniform(low=-2, high=2, size=dim_)\n",
    "    X = (np.random.rand(dim_ * N) > .5).astype(int)\n",
    "    X = X.reshape(N, dim_)\n",
    "\n",
    "    z_ = X[:,0] * 2 +  X[:,1] * -2 +  X[:,2] * 3 + X[:,3] * 4\n",
    "\n",
    "    y =  1/(1 + np.exp(-1 * z_)) > .5\n",
    "    \n",
    "    return X, y\n",
    "\n",
    "N = 10000\n",
    "dim_ = 4\n",
    "w = np.random.uniform(low=-5, high=2, size=dim_)\n",
    "X, y = init_data(N, dim_)\n",
    "\n",
    "X_train = X[0:90000]\n",
    "X_test = X[90000:]\n",
    "y_train = y[0:90000]\n",
    "y_test = y[90000:]\n",
    "\n",
    "for lambda_ in [.25, 100, 1000, 5000]:\n",
    "    w = grad_decent(X_train, y_train, eta=.0001, tolerance=5, verbose=True, lambda_=lambda_)\n",
    "    print(lambda_, np.linalg.norm(w))\n"
   ]
  },
  {
   "cell_type": "code",
   "execution_count": 88,
   "metadata": {},
   "outputs": [
    {
     "name": "stdout",
     "output_type": "stream",
     "text": [
      "[0.35916366 0.13180775 0.57819843 0.63003658]\n"
     ]
    }
   ],
   "source": [
    "print(w)"
   ]
  },
  {
   "cell_type": "code",
   "execution_count": 82,
   "metadata": {},
   "outputs": [
    {
     "name": "stdout",
     "output_type": "stream",
     "text": [
      "[0.35276984 0.11927442 0.62132456 0.59863421]\n"
     ]
    }
   ],
   "source": [
    "print(w)"
   ]
  },
  {
   "cell_type": "code",
   "execution_count": 38,
   "metadata": {},
   "outputs": [
    {
     "data": {
      "text/plain": [
       "5"
      ]
     },
     "execution_count": 38,
     "metadata": {},
     "output_type": "execute_result"
    }
   ],
   "source": [
    "a = np.asarray([1,2])\n",
    "\n",
    "np.sum(a ** 2)"
   ]
  },
  {
   "cell_type": "code",
   "execution_count": 36,
   "metadata": {},
   "outputs": [
    {
     "data": {
      "text/plain": [
       "2.23606797749979"
      ]
     },
     "execution_count": 36,
     "metadata": {},
     "output_type": "execute_result"
    }
   ],
   "source": [
    "np.linalg.norm(a)"
   ]
  },
  {
   "cell_type": "code",
   "execution_count": 37,
   "metadata": {},
   "outputs": [
    {
     "data": {
      "text/plain": [
       "5.000000000000001"
      ]
     },
     "execution_count": 37,
     "metadata": {},
     "output_type": "execute_result"
    }
   ],
   "source": [
    "np.linalg.norm(a)**2"
   ]
  },
  {
   "cell_type": "code",
   "execution_count": null,
   "metadata": {},
   "outputs": [],
   "source": [
    "- Complete the L2 norm function\n",
    "- What does \\lambda do? \n",
    "- What happens if you set lambda = 5000?\n",
    "- Try computing the norm of w with different lambda"
   ]
  }
 ],
 "metadata": {
  "kernelspec": {
   "display_name": "Python 3",
   "language": "python",
   "name": "python3"
  },
  "language_info": {
   "codemirror_mode": {
    "name": "ipython",
    "version": 3
   },
   "file_extension": ".py",
   "mimetype": "text/x-python",
   "name": "python",
   "nbconvert_exporter": "python",
   "pygments_lexer": "ipython3",
   "version": "3.8.5"
  }
 },
 "nbformat": 4,
 "nbformat_minor": 4
}

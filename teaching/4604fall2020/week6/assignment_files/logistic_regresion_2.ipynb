{
 "cells": [
  {
   "cell_type": "markdown",
   "metadata": {},
   "source": [
    "## CU Boulder 4604/5604\n",
    "\n",
    "#### September 28, 2020\n",
    "\n",
    "####  Logistic regression revisited"
   ]
  },
  {
   "cell_type": "markdown",
   "metadata": {},
   "source": [
    "### Logistic Regression revisited\n",
    "\n",
    "- Last week we learned about logistic regression and regularization\n",
    "- Today, we are going modify the notebook from last week in 2 ways \n",
    "\n",
    "##### New stuff:\n",
    "1. We are going to add a regularization term to the loss function\n",
    "2. We will introduce stochastic gradient descent. The well-known ML researcher [Dave Blei](http://www.cs.columbia.edu/~blei/) says stoachstic gradient descent is like walking from New York to Los Angeles by asking one person at a time for directions. And every person you ask for directions is drunk. Even though this seems like a bad way to get across the country, we will see that is has clear advantages\n",
    "3. We will split training data and test data, and look at the effects of regularization\n",
    "4. I filled in the missing functions from last week if you are curious. Everyone who submitted last week got full credit. These notebooks are a way to get your hands dirty with real ML code so you learn the materials more deeply. They are not a way for me to quiz you on what you know. That is what HW, quizzes, exams are for ...\n",
    "5. I changed the code from gradient ascent to gradient descent (flipping signs as needed). Recall that maximizing log likelihood is the same as minimizing negative log likelihood."
   ]
  },
  {
   "cell_type": "markdown",
   "metadata": {},
   "source": [
    "### Annoucements \n",
    "\n",
    "- Recall HW2 is out\n",
    "- This notebook is pretty similar to HW2\n",
    "- In the real world, it is OK to lean on sklearn's implementation of logistic regression\n",
    "- But taking this class gives you a chance to actually understand how it works. This notebook should make the sklearn code much less mysterious"
   ]
  },
  {
   "cell_type": "code",
   "execution_count": 6,
   "metadata": {},
   "outputs": [],
   "source": [
    "%matplotlib inline\n",
    "\n",
    "import math\n",
    "import matplotlib.pyplot as plt\n",
    "import numpy as np\n",
    "import random\n",
    "import pandas as pd"
   ]
  },
  {
   "cell_type": "code",
   "execution_count": 4,
   "metadata": {},
   "outputs": [
    {
     "data": {
      "text/plain": [
       "[<matplotlib.lines.Line2D at 0x7fc828a0b2b0>]"
      ]
     },
     "execution_count": 4,
     "metadata": {},
     "output_type": "execute_result"
    },
    {
     "data": {
      "image/png": "[encoded data removed]",
      "text/plain": [
       "<Figure size 432x288 with 1 Axes>"
      ]
     },
     "metadata": {
      "needs_background": "light"
     },
     "output_type": "display_data"
    }
   ],
   "source": [
    "## Here is the logistic function, the activation function for logistic regression\n",
    "\n",
    "def logistic(z):\n",
    "    return 1/(1 + np.exp(-z))\n",
    "\n",
    "x, fz = [], []\n",
    "for z in range(-10, 10):\n",
    "    x.append(z)\n",
    "    fz.append(logistic(z))\n",
    "\n",
    "plt.plot(x, fz)"
   ]
  },
  {
   "cell_type": "code",
   "execution_count": 5,
   "metadata": {},
   "outputs": [
    {
     "data": {
      "image/png": "[encoded data removed]",
      "text/plain": [
       "<Figure size 432x288 with 1 Axes>"
      ]
     },
     "metadata": {
      "needs_background": "light"
     },
     "output_type": "display_data"
    }
   ],
   "source": [
    "## Let's generate some features, weights and y values and compute the loss \n",
    "## This can help you build up intuition for what is happening\n",
    "\n",
    "def log_prob(z, y_i):\n",
    "    '''\n",
    "    Returns the log_prob for one point\n",
    "    '''\n",
    "    fz = logistic(z)\n",
    "    return y_i * np.log(fz) + (1 - y_i) * np.log(1 - fz)\n",
    "\n",
    "\n",
    "out = []\n",
    "\n",
    "dim_ = 10\n",
    "\n",
    "for _ in range(1000):\n",
    "    # generate some random weights \n",
    "    w = np.random.uniform(low=-2, high=2, size=dim_)\n",
    "    \n",
    "    # generate some random binary features \n",
    "    x = (np.random.rand(dim_) > .5).astype(int) \n",
    "    \n",
    "    # get the z score\n",
    "    z = w.dot(x)\n",
    "\n",
    "    # randomly assign y\n",
    "    y = 1 if random.random() < .5 else 0\n",
    "    \n",
    "    # compute the loss\n",
    "    loss = log_prob(z=z, y_i=y)\n",
    "    \n",
    "    # keep track of what is happening\n",
    "    out.append({\"z\": z, \"loss\": loss, \"label\": y})\n",
    "\n",
    "\n",
    "# Plot the results\n",
    "df = pd.DataFrame(out)\n",
    "    \n",
    "fig, ax = plt.subplots()\n",
    "ax.plot(df[df[\"label\"] == 1][\"z\"], df[df[\"label\"] == 1][\"loss\"], 'x', color=\"red\", label='1')\n",
    "ax.plot(df[df[\"label\"] == 0][\"z\"], df[df[\"label\"] == 0][\"loss\"], 'o', color=\"blue\", label='0')\n",
    "plt.xlabel(\"z\")\n",
    "plt.ylabel(\"log_prob\")\n",
    "plt.legend()\n",
    "plt.show()"
   ]
  },
  {
   "cell_type": "code",
   "execution_count": 28,
   "metadata": {},
   "outputs": [
    {
     "name": "stdout",
     "output_type": "stream",
     "text": [
      "iter: 0, neg ll: 42370.04794299019, accuracy: 0.2479\n",
      "iter: 1, neg ll: 35370.40901700881, accuracy: 0.3126\n",
      "iter: 2, neg ll: 28850.814821885437, accuracy: 0.3126\n",
      "iter: 3, neg ll: 23044.62877845306, accuracy: 0.3126\n",
      "iter: 4, neg ll: 18216.28261301992, accuracy: 0.4361\n",
      "iter: 5, neg ll: 14442.007305396346, accuracy: 0.5026\n",
      "iter: 6, neg ll: 11626.35713803692, accuracy: 0.5664\n",
      "iter: 7, neg ll: 9609.994919277047, accuracy: 0.5036\n",
      "iter: 8, neg ll: 8174.02669611055, accuracy: 0.6326\n",
      "iter: 9, neg ll: 7116.047299438249, accuracy: 0.6326\n",
      "iter: 10, neg ll: 6304.86721587038, accuracy: 0.6326\n",
      "iter: 11, neg ll: 5665.075534521254, accuracy: 0.6326\n",
      "iter: 12, neg ll: 5151.695771799171, accuracy: 0.6956\n",
      "iter: 13, neg ll: 4735.133432216919, accuracy: 0.6956\n",
      "iter: 14, neg ll: 4394.018970778181, accuracy: 0.6956\n",
      "iter: 15, neg ll: 4112.044190300059, accuracy: 0.6956\n",
      "iter: 16, neg ll: 3876.507843150038, accuracy: 0.6956\n",
      "iter: 17, neg ll: 3677.5045437911513, accuracy: 0.6956\n",
      "iter: 18, neg ll: 3507.3476185046557, accuracy: 0.8142\n",
      "iter: 19, neg ll: 3360.1016194256426, accuracy: 0.8142\n",
      "iter: 20, neg ll: 3231.1956152559324, accuracy: 0.8142\n",
      "iter: 21, neg ll: 3117.1094738938614, accuracy: 0.8142\n",
      "iter: 22, neg ll: 3015.12565621412, accuracy: 0.8142\n",
      "iter: 23, neg ll: 2923.1368054214036, accuracy: 0.9393\n",
      "iter: 24, neg ll: 2839.4987089485985, accuracy: 0.9393\n",
      "iter: 25, neg ll: 2762.918950797485, accuracy: 0.9393\n",
      "iter: 26, neg ll: 2692.3730173330973, accuracy: 0.9393\n",
      "iter: 27, neg ll: 2627.0412183276667, accuracy: 0.9393\n",
      "iter: 28, neg ll: 2566.2612525365425, accuracy: 0.9393\n",
      "iter: 29, neg ll: 2509.4924759394053, accuracy: 0.9393\n",
      "iter: 30, neg ll: 2456.2889074472882, accuracy: 0.9393\n",
      "iter: 31, neg ll: 2406.278759018704, accuracy: 0.9393\n",
      "iter: 32, neg ll: 2359.1488451714636, accuracy: 0.9393\n",
      "iter: 33, neg ll: 2314.63265084163, accuracy: 0.9393\n",
      "iter: 34, neg ll: 2272.501150856566, accuracy: 0.9393\n",
      "iter: 35, neg ll: 2232.5557065687394, accuracy: 0.9393\n",
      "iter: 36, neg ll: 2194.622536702132, accuracy: 0.9393\n",
      "iter: 37, neg ll: 2158.54838620601, accuracy: 0.9393\n",
      "iter: 38, neg ll: 2124.1971107709815, accuracy: 0.9393\n",
      "iter: 39, neg ll: 2091.446964336886, accuracy: 0.9393\n",
      "iter: 40, neg ll: 2060.188428835999, accuracy: 0.9393\n",
      "iter: 41, neg ll: 2030.3224641921986, accuracy: 0.9393\n",
      "iter: 42, neg ll: 2001.7590857046707, accuracy: 0.9393\n",
      "iter: 43, neg ll: 1974.4161978230861, accuracy: 0.9393\n",
      "iter: 44, neg ll: 1948.2186298672177, accuracy: 0.9393\n",
      "iter: 45, neg ll: 1923.0973317612152, accuracy: 0.9393\n",
      "iter: 46, neg ll: 1898.9886973803616, accuracy: 0.9393\n",
      "iter: 47, neg ll: 1875.8339903575206, accuracy: 0.9393\n",
      "iter: 48, neg ll: 1853.5788527586024, accuracy: 0.9393\n",
      "iter: 49, neg ll: 1832.1728812801764, accuracy: 0.9393\n",
      "iter: 50, neg ll: 1811.5692589048465, accuracy: 0.9393\n",
      "iter: 51, neg ll: 1791.7244324742885, accuracy: 0.9393\n",
      "iter: 52, neg ll: 1772.5978285923684, accuracy: 0.9393\n",
      "iter: 53, neg ll: 1754.1516017902964, accuracy: 0.9393\n",
      "iter: 54, neg ll: 1736.350410070084, accuracy: 0.9393\n",
      "iter: 55, neg ll: 1719.161213863206, accuracy: 0.9393\n",
      "iter: 56, neg ll: 1702.5530951733185, accuracy: 0.9393\n",
      "iter: 57, neg ll: 1686.497094240202, accuracy: 0.9393\n",
      "iter: 58, neg ll: 1670.9660615192813, accuracy: 0.9393\n",
      "iter: 59, neg ll: 1655.9345231339175, accuracy: 0.9393\n",
      "iter: 60, neg ll: 1641.3785582437235, accuracy: 0.9393\n",
      "iter: 61, neg ll: 1627.2756870147955, accuracy: 0.9393\n",
      "iter: 62, neg ll: 1613.6047680557779, accuracy: 0.9393\n",
      "iter: 63, neg ll: 1600.3459043550422, accuracy: 0.9393\n",
      "iter: 64, neg ll: 1587.4803568675527, accuracy: 0.9393\n",
      "iter: 65, neg ll: 1574.990465016448, accuracy: 0.9393\n",
      "iter: 66, neg ll: 1562.8595734618789, accuracy: 0.9393\n",
      "iter: 67, neg ll: 1551.0719645601591, accuracy: 0.9393\n",
      "iter: 68, neg ll: 1539.6127960077886, accuracy: 0.9393\n",
      "iter: 69, neg ll: 1528.4680432138407, accuracy: 0.9393\n",
      "iter: 70, neg ll: 1517.6244459940124, accuracy: 1.0\n",
      "iter: 71, neg ll: 1507.069459220949, accuracy: 1.0\n",
      "iter: 72, neg ll: 1496.7912071009227, accuracy: 1.0\n",
      "iter: 73, neg ll: 1486.7784407772842, accuracy: 1.0\n",
      "iter: 74, neg ll: 1477.020498992227, accuracy: 1.0\n",
      "iter: 75, neg ll: 1467.5072715599417, accuracy: 1.0\n",
      "iter: 76, neg ll: 1458.229165426578, accuracy: 1.0\n",
      "iter: 77, neg ll: 1449.1770731163808, accuracy: 1.0\n",
      "iter: 78, neg ll: 1440.3423433744244, accuracy: 1.0\n",
      "iter: 79, neg ll: 1431.7167538384924, accuracy: 1.0\n"
     ]
    },
    {
     "ename": "KeyboardInterrupt",
     "evalue": "",
     "output_type": "error",
     "traceback": [
      "\u001b[0;31m---------------------------------------------------------------------------\u001b[0m",
      "\u001b[0;31mKeyboardInterrupt\u001b[0m                         Traceback (most recent call last)",
      "\u001b[0;32m<ipython-input-28-806fdfd8fe28>\u001b[0m in \u001b[0;36m<module>\u001b[0;34m\u001b[0m\n\u001b[1;32m     72\u001b[0m \u001b[0mw\u001b[0m \u001b[0;34m=\u001b[0m \u001b[0mnp\u001b[0m\u001b[0;34m.\u001b[0m\u001b[0mrandom\u001b[0m\u001b[0;34m.\u001b[0m\u001b[0muniform\u001b[0m\u001b[0;34m(\u001b[0m\u001b[0mlow\u001b[0m\u001b[0;34m=\u001b[0m\u001b[0;34m-\u001b[0m\u001b[0;36m5\u001b[0m\u001b[0;34m,\u001b[0m \u001b[0mhigh\u001b[0m\u001b[0;34m=\u001b[0m\u001b[0;36m2\u001b[0m\u001b[0;34m,\u001b[0m \u001b[0msize\u001b[0m\u001b[0;34m=\u001b[0m\u001b[0mdim_\u001b[0m\u001b[0;34m)\u001b[0m\u001b[0;34m\u001b[0m\u001b[0;34m\u001b[0m\u001b[0m\n\u001b[1;32m     73\u001b[0m \u001b[0mX\u001b[0m\u001b[0;34m,\u001b[0m \u001b[0my\u001b[0m \u001b[0;34m=\u001b[0m \u001b[0minit_data\u001b[0m\u001b[0;34m(\u001b[0m\u001b[0mN\u001b[0m\u001b[0;34m,\u001b[0m \u001b[0mdim_\u001b[0m\u001b[0;34m)\u001b[0m\u001b[0;34m\u001b[0m\u001b[0;34m\u001b[0m\u001b[0m\n\u001b[0;32m---> 74\u001b[0;31m \u001b[0mw\u001b[0m \u001b[0;34m=\u001b[0m \u001b[0mgrad_decent\u001b[0m\u001b[0;34m(\u001b[0m\u001b[0mX\u001b[0m\u001b[0;34m,\u001b[0m \u001b[0my\u001b[0m\u001b[0;34m,\u001b[0m \u001b[0meta\u001b[0m\u001b[0;34m=\u001b[0m\u001b[0;36m.0001\u001b[0m\u001b[0;34m,\u001b[0m \u001b[0mtolerance\u001b[0m\u001b[0;34m=\u001b[0m\u001b[0;36m5\u001b[0m\u001b[0;34m,\u001b[0m \u001b[0mverbose\u001b[0m\u001b[0;34m=\u001b[0m\u001b[0;32mTrue\u001b[0m\u001b[0;34m)\u001b[0m\u001b[0;34m\u001b[0m\u001b[0;34m\u001b[0m\u001b[0m\n\u001b[0m\u001b[1;32m     75\u001b[0m \u001b[0;34m\u001b[0m\u001b[0m\n\u001b[1;32m     76\u001b[0m \u001b[0;31m#neg_log_likelihood(X, w, y)\u001b[0m\u001b[0;34m\u001b[0m\u001b[0;34m\u001b[0m\u001b[0;34m\u001b[0m\u001b[0m\n",
      "\u001b[0;32m<ipython-input-28-806fdfd8fe28>\u001b[0m in \u001b[0;36mgrad_decent\u001b[0;34m(X, y, eta, tolerance, verbose)\u001b[0m\n\u001b[1;32m     31\u001b[0m     \u001b[0mlast\u001b[0m \u001b[0;34m=\u001b[0m \u001b[0;36m0\u001b[0m\u001b[0;34m\u001b[0m\u001b[0;34m\u001b[0m\u001b[0m\n\u001b[1;32m     32\u001b[0m     \u001b[0;32mfor\u001b[0m \u001b[0mi\u001b[0m \u001b[0;32min\u001b[0m \u001b[0mrange\u001b[0m\u001b[0;34m(\u001b[0m\u001b[0;36m1000\u001b[0m\u001b[0;34m)\u001b[0m\u001b[0;34m:\u001b[0m\u001b[0;34m\u001b[0m\u001b[0;34m\u001b[0m\u001b[0m\n\u001b[0;32m---> 33\u001b[0;31m         \u001b[0mthis_ll\u001b[0m \u001b[0;34m=\u001b[0m \u001b[0mneg_log_likelihood\u001b[0m\u001b[0;34m(\u001b[0m\u001b[0mX\u001b[0m\u001b[0;34m,\u001b[0m \u001b[0mw\u001b[0m\u001b[0;34m,\u001b[0m \u001b[0my\u001b[0m\u001b[0;34m)\u001b[0m\u001b[0;34m\u001b[0m\u001b[0;34m\u001b[0m\u001b[0m\n\u001b[0m\u001b[1;32m     34\u001b[0m         \u001b[0;32mif\u001b[0m \u001b[0mverbose\u001b[0m\u001b[0;34m:\u001b[0m\u001b[0;34m\u001b[0m\u001b[0;34m\u001b[0m\u001b[0m\n\u001b[1;32m     35\u001b[0m             \u001b[0mprint\u001b[0m\u001b[0;34m(\u001b[0m\u001b[0;34m\"iter: {}, neg ll: {}, accuracy: {}\"\u001b[0m\u001b[0;34m.\u001b[0m\u001b[0mformat\u001b[0m\u001b[0;34m(\u001b[0m\u001b[0mi\u001b[0m\u001b[0;34m,\u001b[0m \u001b[0mthis_ll\u001b[0m\u001b[0;34m,\u001b[0m \u001b[0maccuracy\u001b[0m\u001b[0;34m(\u001b[0m\u001b[0mX\u001b[0m\u001b[0;34m,\u001b[0m \u001b[0mw\u001b[0m\u001b[0;34m,\u001b[0m \u001b[0my\u001b[0m\u001b[0;34m)\u001b[0m\u001b[0;34m)\u001b[0m\u001b[0;34m)\u001b[0m\u001b[0;34m\u001b[0m\u001b[0;34m\u001b[0m\u001b[0m\n",
      "\u001b[0;32m<ipython-input-28-806fdfd8fe28>\u001b[0m in \u001b[0;36mneg_log_likelihood\u001b[0;34m(X, w, y)\u001b[0m\n\u001b[1;32m      4\u001b[0m     \u001b[0;32mfor\u001b[0m \u001b[0m_x\u001b[0m\u001b[0;34m,\u001b[0m\u001b[0m_y\u001b[0m \u001b[0;32min\u001b[0m \u001b[0mzip\u001b[0m\u001b[0;34m(\u001b[0m\u001b[0mX\u001b[0m\u001b[0;34m,\u001b[0m \u001b[0my\u001b[0m\u001b[0;34m)\u001b[0m\u001b[0;34m:\u001b[0m\u001b[0;34m\u001b[0m\u001b[0;34m\u001b[0m\u001b[0m\n\u001b[1;32m      5\u001b[0m         \u001b[0mz\u001b[0m \u001b[0;34m=\u001b[0m \u001b[0mw\u001b[0m\u001b[0;34m.\u001b[0m\u001b[0mdot\u001b[0m\u001b[0;34m(\u001b[0m\u001b[0m_x\u001b[0m\u001b[0;34m)\u001b[0m\u001b[0;34m\u001b[0m\u001b[0;34m\u001b[0m\u001b[0m\n\u001b[0;32m----> 6\u001b[0;31m         \u001b[0mL\u001b[0m \u001b[0;34m+=\u001b[0m \u001b[0mlog_prob\u001b[0m\u001b[0;34m(\u001b[0m\u001b[0mz\u001b[0m\u001b[0;34m=\u001b[0m\u001b[0mz\u001b[0m\u001b[0;34m,\u001b[0m \u001b[0my_i\u001b[0m\u001b[0;34m=\u001b[0m\u001b[0m_y\u001b[0m\u001b[0;34m)\u001b[0m\u001b[0;34m\u001b[0m\u001b[0;34m\u001b[0m\u001b[0m\n\u001b[0m\u001b[1;32m      7\u001b[0m     \u001b[0;32mreturn\u001b[0m \u001b[0;34m-\u001b[0m\u001b[0;36m1\u001b[0m \u001b[0;34m*\u001b[0m \u001b[0mL\u001b[0m\u001b[0;34m\u001b[0m\u001b[0;34m\u001b[0m\u001b[0m\n\u001b[1;32m      8\u001b[0m \u001b[0;34m\u001b[0m\u001b[0m\n",
      "\u001b[0;32m<ipython-input-5-fba247bc2cc2>\u001b[0m in \u001b[0;36mlog_prob\u001b[0;34m(z, y_i)\u001b[0m\n\u001b[1;32m      7\u001b[0m     '''\n\u001b[1;32m      8\u001b[0m     \u001b[0mfz\u001b[0m \u001b[0;34m=\u001b[0m \u001b[0mlogistic\u001b[0m\u001b[0;34m(\u001b[0m\u001b[0mz\u001b[0m\u001b[0;34m)\u001b[0m\u001b[0;34m\u001b[0m\u001b[0;34m\u001b[0m\u001b[0m\n\u001b[0;32m----> 9\u001b[0;31m     \u001b[0;32mreturn\u001b[0m \u001b[0my_i\u001b[0m \u001b[0;34m*\u001b[0m \u001b[0mnp\u001b[0m\u001b[0;34m.\u001b[0m\u001b[0mlog\u001b[0m\u001b[0;34m(\u001b[0m\u001b[0mfz\u001b[0m\u001b[0;34m)\u001b[0m \u001b[0;34m+\u001b[0m \u001b[0;34m(\u001b[0m\u001b[0;36m1\u001b[0m \u001b[0;34m-\u001b[0m \u001b[0my_i\u001b[0m\u001b[0;34m)\u001b[0m \u001b[0;34m*\u001b[0m \u001b[0mnp\u001b[0m\u001b[0;34m.\u001b[0m\u001b[0mlog\u001b[0m\u001b[0;34m(\u001b[0m\u001b[0;36m1\u001b[0m \u001b[0;34m-\u001b[0m \u001b[0mfz\u001b[0m\u001b[0;34m)\u001b[0m\u001b[0;34m\u001b[0m\u001b[0;34m\u001b[0m\u001b[0m\n\u001b[0m\u001b[1;32m     10\u001b[0m \u001b[0;34m\u001b[0m\u001b[0m\n\u001b[1;32m     11\u001b[0m \u001b[0;34m\u001b[0m\u001b[0m\n",
      "\u001b[0;31mKeyboardInterrupt\u001b[0m: "
     ]
    }
   ],
   "source": [
    "def neg_log_likelihood(X, w, y):\n",
    "    '''Compute the negative log likelihood'''\n",
    "    L = 0\n",
    "    for _x,_y in zip(X, y):\n",
    "        z = w.dot(_x)\n",
    "        L += log_prob(z=z, y_i=_y)\n",
    "    return -1 * L\n",
    "\n",
    "\n",
    "def fast_logistic(X, w):\n",
    "    '''Compute the logistic function over many data points'''\n",
    "    return 1/(1 + np.exp(-1 * X.dot(w)))\n",
    "\n",
    "\n",
    "def grad(X, w, y):\n",
    "    '''Return the gradient'''\n",
    "    grad = np.zeros_like(w)\n",
    "    for _x,_y in zip(X, y):\n",
    "        fz = logistic(w.dot(_x))\n",
    "        grad += _x * (_y - fz)\n",
    "    return -1 * grad    \n",
    "\n",
    "\n",
    "def grad_decent(X, y, eta = .0001, tolerance=1e-4, verbose=True):\n",
    "    '''\n",
    "    - Perform gradient ascent\n",
    "    - This function is basically the same as in the Adeline notebook\n",
    "    - Of course, the gradient is different, because it is a different function\n",
    "    '''\n",
    "    w = np.random.uniform(low=-5, high=2, size=dim_)\n",
    "    last = 0\n",
    "    for i in range(1000):\n",
    "        this_ll = neg_log_likelihood(X, w, y)\n",
    "        if verbose:\n",
    "            print(\"iter: {}, neg ll: {}, accuracy: {}\".format(i, this_ll, accuracy(X, w, y)))\n",
    "        if(abs(this_ll - last) < tolerance): break\n",
    "        last = this_ll\n",
    "        w -= eta * grad(X, w, y)\n",
    "    return w\n",
    "\n",
    "def prediction(X, w, threshold=.5):\n",
    "    '''\n",
    "    - Return a Boolean array of length N.\n",
    "    - The array should be True if the weights dotted with the features for a given instance is greater than .5\n",
    "    '''\n",
    "    N, D = X.shape\n",
    "    return X.dot(w) > threshold\n",
    "\n",
    "def accuracy(X, w, y):\n",
    "    '''\n",
    "    Return a value between 0 and 1, showing the fraction of data points which have been classified correctly\n",
    "    '''\n",
    "    return np.mean(prediction(X, w) == y)\n",
    "\n",
    "def init_data(N, dim_):\n",
    "    '''\n",
    "    Initialize data. Note how we generate y below. We know how the data is generated.\n",
    "    We should be able to \n",
    "    '''\n",
    "    w = np.random.uniform(low=-2, high=2, size=dim_)\n",
    "    X = (np.random.rand(dim_ * N) > .5).astype(int)\n",
    "    X = X.reshape(N, dim_)\n",
    "\n",
    "    z_ = X[:,0] * 2 +  X[:,1] * -2 +  X[:,2] * 3 + X[:,3] * 4\n",
    "\n",
    "    y =  1/(1 + np.exp(-1 * z_)) > .5\n",
    "    \n",
    "    return X, y\n",
    "\n",
    "N = 10000\n",
    "dim_ = 4\n",
    "w = np.random.uniform(low=-5, high=2, size=dim_)\n",
    "X, y = init_data(N, dim_)\n",
    "w = grad_decent(X, y, eta=.0001, tolerance=5, verbose=True)\n",
    "\n",
    "#neg_log_likelihood(X, w, y)"
   ]
  },
  {
   "cell_type": "code",
   "execution_count": null,
   "metadata": {},
   "outputs": [],
   "source": []
  }
 ],
 "metadata": {
  "kernelspec": {
   "display_name": "Python 3",
   "language": "python",
   "name": "python3"
  },
  "language_info": {
   "codemirror_mode": {
    "name": "ipython",
    "version": 3
   },
   "file_extension": ".py",
   "mimetype": "text/x-python",
   "name": "python",
   "nbconvert_exporter": "python",
   "pygments_lexer": "ipython3",
   "version": "3.8.5"
  }
 },
 "nbformat": 4,
 "nbformat_minor": 4
}

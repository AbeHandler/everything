{
 "cells": [
  {
   "cell_type": "code",
   "execution_count": 168,
   "metadata": {
    "scrolled": false
   },
   "outputs": [
    {
     "name": "stdout",
     "output_type": "stream",
     "text": [
      "0.3469627364220727\n",
      "0.22187582306280246\n",
      "0.1419356085911569\n",
      "0.09081541895748724\n",
      "0.05811345473808467\n",
      "0.03718958221027962\n",
      "0.023800242238624904\n",
      "0.01523176249737648\n",
      "0.009748186685597304\n",
      "0.006238788606201762\n"
     ]
    }
   ],
   "source": [
    "import numpy as np\n",
    "\n",
    "def loss(weights, features, labels):\n",
    "    return np.sum((labels - features.dot(weights)) ** 2)\n",
    "\n",
    "def grad(weights, features, labels):\n",
    "    a =  -2 * np.multiply(features, (labels - features.dot(weights)))\n",
    "    return np.sum(a, axis=0).reshape(-1, 1)\n",
    "\n",
    "N = 3\n",
    "\n",
    "w = np.random.rand(2).reshape(2,1)\n",
    "\n",
    "x = np.ones(6).reshape((N,2))\n",
    "\n",
    "x[0][0] = 0\n",
    "x[1][1] = 0\n",
    "x[2][1] = 0\n",
    "\n",
    "y = np.asarray([0,1,1]).reshape(N,1)\n",
    "\n",
    "for i in range(10):\n",
    "    w += .1 * -1 * grad(w, x, y)\n",
    "    print(loss(w, x, y))"
   ]
  }
 ],
 "metadata": {
  "kernelspec": {
   "display_name": "Python 3",
   "language": "python",
   "name": "python3"
  },
  "language_info": {
   "codemirror_mode": {
    "name": "ipython",
    "version": 3
   },
   "file_extension": ".py",
   "mimetype": "text/x-python",
   "name": "python",
   "nbconvert_exporter": "python",
   "pygments_lexer": "ipython3",
   "version": "3.8.5"
  }
 },
 "nbformat": 4,
 "nbformat_minor": 4
}

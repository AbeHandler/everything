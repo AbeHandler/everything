{
 "cells": [
  {
   "cell_type": "code",
   "execution_count": 1,
   "metadata": {},
   "outputs": [],
   "source": [
    "import math\n",
    "import matplotlib.pyplot as plt\n",
    "import numpy as np\n",
    "import random\n",
    "import pandas as pd\n",
    "%matplotlib inline"
   ]
  },
  {
   "cell_type": "code",
   "execution_count": 2,
   "metadata": {},
   "outputs": [
    {
     "data": {
      "text/plain": [
       "[<matplotlib.lines.Line2D at 0x7f878ca8bdf0>]"
      ]
     },
     "execution_count": 2,
     "metadata": {},
     "output_type": "execute_result"
    },
    {
     "data": {
      "image/png": "[encoded data removed]",
      "text/plain": [
       "<Figure size 432x288 with 1 Axes>"
      ]
     },
     "metadata": {
      "needs_background": "light"
     },
     "output_type": "display_data"
    }
   ],
   "source": [
    "def logistic(z):\n",
    "    return 1/(1 + np.exp(-z))\n",
    "\n",
    "x, fz = [], []\n",
    "for z in range(-10, 10):\n",
    "    x.append(z)\n",
    "    fz.append(logistic(z))\n",
    "    \n",
    "plt.plot(x, fz)"
   ]
  },
  {
   "cell_type": "markdown",
   "metadata": {},
   "source": [
    "1. What is the domain of the logistic function? \n",
    "\n",
    "[Type your answer here]\n",
    "\n",
    "2. What is the range of the logistic function?\n",
    "\n",
    "[Type your answer here]"
   ]
  },
  {
   "cell_type": "code",
   "execution_count": 25,
   "metadata": {},
   "outputs": [
    {
     "data": {
      "image/png": "[encoded data removed]",
      "text/plain": [
       "<Figure size 432x288 with 1 Axes>"
      ]
     },
     "metadata": {
      "needs_background": "light"
     },
     "output_type": "display_data"
    }
   ],
   "source": [
    "def log_prob(z, y_i):\n",
    "    '''\n",
    "    Returns the log_prob for one point\n",
    "    '''\n",
    "    fz = logistic(z)\n",
    "    return y_i * np.log(fz) + (1 - y_i) * np.log(1 - fz)\n",
    "\n",
    "\n",
    "out = []\n",
    "\n",
    "dim_ = 10\n",
    "\n",
    "for _ in range(1000):\n",
    "    # generate some random weights \n",
    "    w = np.random.uniform(low=-2, high=2, size=dim_)\n",
    "    \n",
    "    # generate some random binary features \n",
    "    x = (np.random.rand(dim_) > .5).astype(int) \n",
    "    \n",
    "    # get the z score\n",
    "    z = w.dot(x)\n",
    "\n",
    "    y = 1 if random.random() < .5 else 0\n",
    "    loss = log_prob(z=z, y_i=y)\n",
    "    out.append({\"z\": z, \"loss\": loss, \"label\": y})\n",
    "\n",
    "df = pd.DataFrame(out)\n",
    "    \n",
    "fig, ax = plt.subplots()\n",
    "\n",
    "ax.plot(df[df[\"label\"] == 1][\"z\"], df[df[\"label\"] == 1][\"loss\"], 'x', color=\"red\", label='1')\n",
    "ax.plot(df[df[\"label\"] == 0][\"z\"], df[df[\"label\"] == 0][\"loss\"], 'o', color=\"blue\", label='0')\n",
    "\n",
    "plt.xlabel(\"z\")\n",
    "\n",
    "plt.ylabel(\"log_prob\")\n",
    "\n",
    "plt.legend()\n",
    "\n",
    "plt.show()"
   ]
  },
  {
   "cell_type": "code",
   "execution_count": null,
   "metadata": {},
   "outputs": [],
   "source": [
    "3. What is the log_prob when y=1 and z=-.25? Why does that make sense?\n",
    "\n",
    "[Type your answer here]\n",
    "\n",
    "4. What is the log_prob when y=0 and z=-.25? Why does that make sense?\n",
    "\n",
    "[Type your answer here]\n",
    "\n",
    "5. Why is the log_prob always negative? \n",
    "\n",
    "[Type your answer here]"
   ]
  },
  {
   "cell_type": "code",
   "execution_count": null,
   "metadata": {},
   "outputs": [
    {
     "name": "stdout",
     "output_type": "stream",
     "text": [
      "0 668.6123106587274 0.48\n",
      "1000 301.64535147186973 0.48\n",
      "2000 81.93541207169974 0.47\n",
      "3000 71.09410451182991 0.61\n",
      "4000 66.94196794372782 0.64\n",
      "5000 63.45079942551603 0.66\n",
      "6000 60.49220612421758 0.67\n",
      "7000 57.974064511130926 0.69\n",
      "8000 55.81781416140057 0.71\n"
     ]
    }
   ],
   "source": [
    "def neg_log_likelihood(X, w, y):\n",
    "    L = 0\n",
    "    for _x,_y in zip(X, y):\n",
    "        z = w.dot(_x)\n",
    "        L += loss_one_point(z=z, y_i=_y)\n",
    "    return -1 * L\n",
    "\n",
    "def fast_logistic(X, w):\n",
    "    return 1/(1 + np.exp(-1 * X.dot(w)))\n",
    "\n",
    "def grad(X, w, y):\n",
    "    grad = np.zeros_like(w)\n",
    "    for _x,_y in zip(X, y):\n",
    "        fz = logistic(w.dot(_x))\n",
    "        grad += _x * (_y - fz)\n",
    "    return grad    \n",
    "\n",
    "def grad_ascent(X, y, eta = .0001, tolerance=1e-4):\n",
    "\n",
    "    w = np.random.rand(dim_)\n",
    "    last = 0\n",
    "    for i in range(100000):\n",
    "        this_ll = log_likelihood(X, w, y)\n",
    "        if (i % 1000 == 0): \n",
    "            print(i, this_ll, accuracy(X, w))\n",
    "        if accuracy(X, w) == 1: break\n",
    "        if(abs(this_ll - last) < tolerance): break\n",
    "        last = this_ll\n",
    "        w += eta * grad(X, w, y)\n",
    "    return w\n",
    "\n",
    "def preds(X, w, threshold=.5):\n",
    "    return 1/(1 + np.exp(-1 * X.dot(w))) > threshold\n",
    "\n",
    "def accuracy(X, w):\n",
    "    return np.mean(preds(X, w) == y)\n",
    "\n",
    "N = 100\n",
    "dim_ = 50\n",
    "w = np.random.uniform(low=-2, high=2, size=dim_)\n",
    "X = (np.random.rand(dim_ * N) > .5).astype(int)\n",
    "X = X.reshape(N, dim_)\n",
    "y = (np.random.rand(N) > .5).astype(int)\n",
    "\n",
    "w = grad_ascent(X, y, eta=.00001, tolerance=1e-10)"
   ]
  },
  {
   "cell_type": "code",
   "execution_count": 107,
   "metadata": {},
   "outputs": [
    {
     "data": {
      "text/plain": [
       "(100,)"
      ]
     },
     "execution_count": 107,
     "metadata": {},
     "output_type": "execute_result"
    }
   ],
   "source": [
    "fast_logistic(X, w)"
   ]
  },
  {
   "cell_type": "markdown",
   "metadata": {},
   "source": [
    "Is stochastic grad ascent faster?\n",
    "What is the advantage of stoch grad? \n"
   ]
  }
 ],
 "metadata": {
  "kernelspec": {
   "display_name": "Python 3",
   "language": "python",
   "name": "python3"
  },
  "language_info": {
   "codemirror_mode": {
    "name": "ipython",
    "version": 3
   },
   "file_extension": ".py",
   "mimetype": "text/x-python",
   "name": "python",
   "nbconvert_exporter": "python",
   "pygments_lexer": "ipython3",
   "version": "3.8.5"
  }
 },
 "nbformat": 4,
 "nbformat_minor": 4
}

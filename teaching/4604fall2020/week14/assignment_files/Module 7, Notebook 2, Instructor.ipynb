{
 "cells": [
  {
   "cell_type": "markdown",
   "metadata": {},
   "source": [
    "### Working with unstructured data (Module 07)\n"
   ]
  },
  {
   "cell_type": "code",
   "execution_count": 1,
   "metadata": {},
   "outputs": [],
   "source": [
    "from ptb import TreebankWordTokenizer\n",
    "# This is the Penn Tree Bank tokenizer from NLTK as just one file\n",
    "tok = TreebankWordTokenizer()"
   ]
  },
  {
   "cell_type": "markdown",
   "metadata": {},
   "source": [
    "#### Adding a covariate\n",
    "\n",
    "- In text processing, a variable that occurs along with words (but is not a word) is sometimes called a covariate \n",
    "\n",
    "- This is similar to the idea of \"metadata\"\n",
    "\n",
    "- Example covariates: day of the week, time of day, number of upvotes, author, political party "
   ]
  },
  {
   "cell_type": "markdown",
   "metadata": {},
   "source": [
    "Questions: \n",
    "    \n",
    "- Make a term document matrix for `libertarian.jsonl`\n",
    "- Make a term document matrix for `socialism.jsonl`\n",
    "- This is mostly review from last time.\n",
    "- You should share the vocabularies between these two subreddits\n",
    "- There are two changes"
   ]
  },
  {
   "cell_type": "markdown",
   "metadata": {},
   "source": [
    "### Raw counts \n",
    "\n",
    "- Instead of a binary matrix, replace the 1s with the counts of each word\n",
    "- So if a word occurs 5x in a document, the number should be 5 in the term-document matrix"
   ]
  },
  {
   "cell_type": "markdown",
   "metadata": {},
   "source": [
    "### Stop words \n",
    "\n",
    "Before we start, we will add one new thing, stop words. A stop word is a common word that is excluded from analysis in text processing. In NLP, it is common to exclude stop words. There are many stop word lists out there. We will use a [common list](https://gist.github.com/sebleier/554280) from NLTK. \n",
    "\n",
    "Start off by downloading the list using requests. Hint: click raw on Github to get a link to the raw data.\n",
    "\n",
    "Add in all of the punctuation in the string module"
   ]
  },
  {
   "cell_type": "code",
   "execution_count": 2,
   "metadata": {},
   "outputs": [],
   "source": [
    "import requests\n",
    "import string\n",
    "\n",
    "url = \"https://gist.githubusercontent.com/sebleier/554280/raw/7e0e4a1ce04c2bb7bd41089c9821dbcf6d0c786c/NLTK's%2520list%2520of%2520english%2520stopwords\"\n",
    "r = requests.get(url).text\n",
    "stop_words = r.split(\"\\n\") + [i for i in string.punctuation]\n",
    "stop_words = [i.lower() for i in stop_words]"
   ]
  },
  {
   "cell_type": "markdown",
   "metadata": {},
   "source": [
    "- When you read in the tokens from your file, this time ignore the stop words. Lower case the word to see if it is a stop word "
   ]
  },
  {
   "cell_type": "code",
   "execution_count": 3,
   "metadata": {},
   "outputs": [],
   "source": [
    "import json\n",
    "\n",
    "def get_D_and_V(fn):\n",
    "    V = set()\n",
    "    D = 0\n",
    "\n",
    "    with open(fn, \"r\") as inf:\n",
    "        for doc in inf:\n",
    "            D += 1\n",
    "            doc = json.loads(doc)\n",
    "            for token in tok.tokenize(doc[\"body\"]):\n",
    "                if token.lower() not in stop_words:\n",
    "                    V.add(token)\n",
    "\n",
    "    V = list(V) # we want a consistent order. Not sure the latest on Python set ordering\n",
    "    \n",
    "    return D, V\n",
    "\n",
    "D1, V1 = get_D_and_V(fn=\"libertarian.jsonl\")\n",
    "D2, V2 = get_D_and_V(fn=\"socialism.jsonl\")\n",
    "\n",
    "V = list(set(V1 + V2))\n",
    "\n",
    "n2v = {k:v for k, v in enumerate(V)}\n",
    "v2n = {v:k for k, v in enumerate(V)}"
   ]
  },
  {
   "cell_type": "markdown",
   "metadata": {},
   "source": [
    "### Make a tdm for each subreddit, sharing vocabulary"
   ]
  },
  {
   "cell_type": "code",
   "execution_count": null,
   "metadata": {},
   "outputs": [],
   "source": [
    "import numpy as np\n",
    "import pandas as pd\n",
    "\n",
    "def make_tdm(_D, _V, fn):\n",
    "\n",
    "    out = np.zeros((D2, len(_V)))\n",
    "\n",
    "    with open(fn, \"r\") as inf:\n",
    "        for docno, doc in enumerate(inf):\n",
    "            doc = json.loads(doc)\n",
    "            for token in tok.tokenize(doc[\"body\"]):\n",
    "                if token.lower() not in stop_words:\n",
    "                    out[docno][v2n[token]] += 1\n",
    "\n",
    "    out = pd.DataFrame(data=out, columns=V)\n",
    "    \n",
    "    return out\n",
    "\n",
    "tdm_libertarian_df =  make_tdm(D1, V, fn=\"libertarian.jsonl\")\n",
    "tdm_socialism_df =  make_tdm(D2, V, fn=\"socialism.jsonl\")"
   ]
  },
  {
   "cell_type": "code",
   "execution_count": null,
   "metadata": {},
   "outputs": [],
   "source": [
    "### Add in covariates, and make a big dataframe\n",
    "\n",
    "tdm_libertarian_df[\"source_reddit\"] = \"libertarian\"\n",
    "tdm_socialism_df[\"source_reddit\"] = \"socialism\"\n",
    "\n",
    "tdm = pd.concat([tdm_libertarian_df, tdm_socialism_df])"
   ]
  },
  {
   "cell_type": "markdown",
   "metadata": {},
   "source": [
    "#### Question \n",
    "\n",
    "- What does the tdm represent? "
   ]
  },
  {
   "cell_type": "markdown",
   "metadata": {},
   "source": [
    "### Question \n",
    "\n",
    "- What are the top terms, based on raw count in the libertarian subreddit?\n",
    "- What are the top terms, based on raw count in the socialism subreddit?\n",
    "- Do you think it helps that you removed stop words?\n",
    "- Can you think of ways to expand the stop word list that might help?"
   ]
  },
  {
   "cell_type": "code",
   "execution_count": null,
   "metadata": {},
   "outputs": [],
   "source": [
    "counts_socialism = tdm[tdm[\"source_reddit\"] == \"socialism\"]\n",
    "counts_socialism = counts_socialism.drop(columns=[\"source_reddit\"], axis=1)\n",
    "counts_socialism = counts_socialism.sum(axis=0)\n",
    "counts_socialism = pd.DataFrame(counts_socialism)\n",
    "counts_socialism = counts_socialism.rename(columns={0: \"frequency\"})\n",
    "counts_socialism.sort_values(axis=1, by=\"frequency\", ascending=False, inplace=False)"
   ]
  },
  {
   "cell_type": "code",
   "execution_count": null,
   "metadata": {},
   "outputs": [],
   "source": [
    "counts_libertarian = tdm[tdm[\"source_reddit\"] == \"libertarian\"]\n",
    "counts_libertarian = counts_libertarian.drop(columns=[\"source_reddit\"], axis=1)\n",
    "counts_libertarian = counts_libertarian.sum(axis=0)\n",
    "counts_libertarian = pd.DataFrame(counts_libertarian)\n",
    "counts_libertarian = counts_libertarian.rename(columns={0: \"frequency\"})\n",
    "counts_libertarian.sort_values(axis=1, by=\"frequency\", ascending=False , inplace=False)"
   ]
  },
  {
   "cell_type": "code",
   "execution_count": null,
   "metadata": {},
   "outputs": [],
   "source": [
    "mx = np.sum(tdm.drop([\"source_reddit\"], axis=1)> 0)\n",
    "D = tdm.shape[0]\n",
    "idf = pd.DataFrame({\"idf\": np.log(D/mx)})"
   ]
  },
  {
   "cell_type": "code",
   "execution_count": null,
   "metadata": {},
   "outputs": [],
   "source": [
    "counts_libertarian[\"tfidf\"] = counts_libertarian[\"frequency\"] * idf[\"idf\"]\n",
    "counts_socialism[\"tfidf\"] = counts_socialism[\"frequency\"] * idf[\"idf\"]"
   ]
  },
  {
   "cell_type": "code",
   "execution_count": null,
   "metadata": {},
   "outputs": [],
   "source": [
    "counts_socialism.sort_values(\"tfidf\", ascending=False)[0:100].index"
   ]
  },
  {
   "cell_type": "code",
   "execution_count": null,
   "metadata": {},
   "outputs": [],
   "source": [
    "counts_libertarian.sort_values(\"tfidf\", ascending=False)[0:100].index"
   ]
  },
  {
   "cell_type": "code",
   "execution_count": 5,
   "metadata": {},
   "outputs": [
    {
     "ename": "NameError",
     "evalue": "name 'counts_libertarian' is not defined",
     "output_type": "error",
     "traceback": [
      "\u001b[0;31m-----------------------------------\u001b[0m",
      "\u001b[0;31mNameError\u001b[0mTraceback (most recent call last)",
      "\u001b[0;32m<ipython-input-5-67ac06579001>\u001b[0m in \u001b[0;36m<module>\u001b[0;34m\u001b[0m\n\u001b[0;32m----> 1\u001b[0;31m \u001b[0mcounts_libertarian\u001b[0m\u001b[0;34m\u001b[0m\u001b[0;34m\u001b[0m\u001b[0m\n\u001b[0m",
      "\u001b[0;31mNameError\u001b[0m: name 'counts_libertarian' is not defined"
     ]
    }
   ],
   "source": [
    "counts_libertarian"
   ]
  },
  {
   "cell_type": "code",
   "execution_count": null,
   "metadata": {},
   "outputs": [],
   "source": []
  }
 ],
 "metadata": {
  "kernelspec": {
   "display_name": "Python 3",
   "language": "python",
   "name": "python3"
  },
  "language_info": {
   "codemirror_mode": {
    "name": "ipython",
    "version": 3
   },
   "file_extension": ".py",
   "mimetype": "text/x-python",
   "name": "python",
   "nbconvert_exporter": "python",
   "pygments_lexer": "ipython3",
   "version": "3.8.5"
  }
 },
 "nbformat": 4,
 "nbformat_minor": 4
}

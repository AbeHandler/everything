{
 "cells": [
  {
   "cell_type": "markdown",
   "metadata": {},
   "source": [
    "### Working with unstructured data (Module 07)\n"
   ]
  },
  {
   "cell_type": "code",
   "execution_count": 1,
   "metadata": {},
   "outputs": [],
   "source": [
    "from ptb import TreebankWordTokenizer\n",
    "# This is the Penn Tree Bank tokenizer from NLTK as just one file\n",
    "tok = TreebankWordTokenizer()"
   ]
  },
  {
   "cell_type": "markdown",
   "metadata": {},
   "source": [
    "#### Adding a covariate\n",
    "\n",
    "- In text processing, a variable that occurs along with words (but is not a word) is sometimes called a covariate \n",
    "\n",
    "- This is similar to the idea of \"metadata\"\n",
    "\n",
    "- Example covariates: day of the week, time of day, number of upvotes, author, political party "
   ]
  },
  {
   "cell_type": "markdown",
   "metadata": {},
   "source": [
    "Questions: \n",
    "    \n",
    "- Make a term document matrix for `libertarian.jsonl`\n",
    "- Make a term document matrix for `socialism.jsonl`\n",
    "- This is mostly review from last time.\n",
    "- You should share the vocabularies between these two subreddits\n",
    "- There are two changes"
   ]
  },
  {
   "cell_type": "markdown",
   "metadata": {},
   "source": [
    "### Raw counts \n",
    "\n",
    "- Instead of a binary matrix, replace the 1s with the counts of each word\n",
    "- So if a word occurs 5x in a document, the number should be 5 in the term-document matrix"
   ]
  },
  {
   "cell_type": "markdown",
   "metadata": {},
   "source": [
    "### Stop words \n",
    "\n",
    "Before we start, we will add one new thing, stop words. A stop word is a common word that is excluded from analysis in text processing. In NLP, it is common to exclude stop words. There are many stop word lists out there. We will use a [common list](https://gist.github.com/sebleier/554280) from NLTK. \n",
    "\n",
    "Start off by downloading the list using requests. Hint: click raw on Github to get a link to the raw data.\n",
    "\n",
    "Add in all of the punctuation in the string module"
   ]
  },
  {
   "cell_type": "code",
   "execution_count": 2,
   "metadata": {},
   "outputs": [],
   "source": [
    "import requests\n",
    "import string\n",
    "\n",
    "url = \"https://gist.githubusercontent.com/sebleier/554280/raw/7e0e4a1ce04c2bb7bd41089c9821dbcf6d0c786c/NLTK's%2520list%2520of%2520english%2520stopwords\"\n",
    "r = requests.get(url).text\n",
    "stop_words = r.split(\"\\n\") + [i for i in string.punctuation]\n",
    "stop_words = [i.lower() for i in stop_words]"
   ]
  },
  {
   "cell_type": "markdown",
   "metadata": {},
   "source": [
    "- When you read in the tokens from your file, this time ignore the stop words. Lower case the word to see if it is a stop word "
   ]
  },
  {
   "cell_type": "code",
   "execution_count": 3,
   "metadata": {},
   "outputs": [],
   "source": [
    "import json\n",
    "\n",
    "def get_D_and_V(fn):\n",
    "    V = set()\n",
    "    D = 0\n",
    "\n",
    "    with open(fn, \"r\") as inf:\n",
    "        for doc in inf:\n",
    "            D += 1\n",
    "            doc = json.loads(doc)\n",
    "            for token in tok.tokenize(doc[\"body\"]):\n",
    "                if token.lower() not in stop_words:\n",
    "                    V.add(token)\n",
    "\n",
    "    V = list(V) # we want a consistent order. Not sure the latest on Python set ordering\n",
    "    \n",
    "    return D, V\n",
    "\n",
    "D1, V1 = get_D_and_V(fn=\"libertarian.jsonl\")\n",
    "D2, V2 = get_D_and_V(fn=\"socialism.jsonl\")\n",
    "\n",
    "V = list(set(V1 + V2))\n",
    "\n",
    "n2v = {k:v for k, v in enumerate(V)}\n",
    "v2n = {v:k for k, v in enumerate(V)}"
   ]
  },
  {
   "cell_type": "markdown",
   "metadata": {},
   "source": [
    "### Make a tdm for each subreddit, sharing vocabulary"
   ]
  },
  {
   "cell_type": "code",
   "execution_count": 4,
   "metadata": {},
   "outputs": [],
   "source": [
    "import numpy as np\n",
    "import pandas as pd\n",
    "\n",
    "def make_tdm(_D, _V, fn):\n",
    "\n",
    "    out = np.zeros((D2, len(_V)))\n",
    "\n",
    "    with open(fn, \"r\") as inf:\n",
    "        for docno, doc in enumerate(inf):\n",
    "            doc = json.loads(doc)\n",
    "            for token in tok.tokenize(doc[\"body\"]):\n",
    "                if token.lower() not in stop_words:\n",
    "                    out[docno][v2n[token]] += 1\n",
    "\n",
    "    out = pd.DataFrame(data=out, columns=V)\n",
    "    \n",
    "    return out\n",
    "\n",
    "tdm_libertarian_df =  make_tdm(D1, V, fn=\"libertarian.jsonl\")\n",
    "tdm_socialism_df =  make_tdm(D2, V, fn=\"socialism.jsonl\")"
   ]
  },
  {
   "cell_type": "code",
   "execution_count": 5,
   "metadata": {},
   "outputs": [],
   "source": [
    "### Add in covariates, and make a big dataframe\n",
    "\n",
    "tdm_libertarian_df[\"source_reddit\"] = \"libertarian\"\n",
    "tdm_socialism_df[\"source_reddit\"] = \"socialism\"\n",
    "\n",
    "tdm = pd.concat([tdm_libertarian_df, tdm_socialism_df])"
   ]
  },
  {
   "cell_type": "markdown",
   "metadata": {},
   "source": [
    "#### Question \n",
    "\n",
    "- What does the tdm represent? "
   ]
  },
  {
   "cell_type": "markdown",
   "metadata": {},
   "source": [
    "### Question \n",
    "\n",
    "- What are the top terms, based on raw count in the libertarian subreddit?\n",
    "- What are the top terms, based on raw count in the socialism subreddit?\n",
    "- Do you think it helps that you removed stop words?\n",
    "- Can you think of ways to expand the stop word list that might help?"
   ]
  },
  {
   "cell_type": "code",
   "execution_count": 6,
   "metadata": {},
   "outputs": [
    {
     "data": {
      "text/html": [
       "<div>\n",
       "<style scoped>\n",
       "    .dataframe tbody tr th:only-of-type {\n",
       "        vertical-align: middle;\n",
       "    }\n",
       "\n",
       "    .dataframe tbody tr th {\n",
       "        vertical-align: top;\n",
       "    }\n",
       "\n",
       "    .dataframe thead th {\n",
       "        text-align: right;\n",
       "    }\n",
       "</style>\n",
       "<table border=\"1\" class=\"dataframe\">\n",
       "  <thead>\n",
       "    <tr style=\"text-align: right;\">\n",
       "      <th></th>\n",
       "      <th>frequency</th>\n",
       "    </tr>\n",
       "  </thead>\n",
       "  <tbody>\n",
       "    <tr>\n",
       "      <th>incursion</th>\n",
       "      <td>0.0</td>\n",
       "    </tr>\n",
       "    <tr>\n",
       "      <th>owe</th>\n",
       "      <td>1.0</td>\n",
       "    </tr>\n",
       "    <tr>\n",
       "      <th>Ignore</th>\n",
       "      <td>2.0</td>\n",
       "    </tr>\n",
       "    <tr>\n",
       "      <th>misuse.</th>\n",
       "      <td>1.0</td>\n",
       "    </tr>\n",
       "    <tr>\n",
       "      <th>foment</th>\n",
       "      <td>0.0</td>\n",
       "    </tr>\n",
       "    <tr>\n",
       "      <th>...</th>\n",
       "      <td>...</td>\n",
       "    </tr>\n",
       "    <tr>\n",
       "      <th>Substantial</th>\n",
       "      <td>0.0</td>\n",
       "    </tr>\n",
       "    <tr>\n",
       "      <th>poured</th>\n",
       "      <td>3.0</td>\n",
       "    </tr>\n",
       "    <tr>\n",
       "      <th>impounding.</th>\n",
       "      <td>0.0</td>\n",
       "    </tr>\n",
       "    <tr>\n",
       "      <th>11,000</th>\n",
       "      <td>0.0</td>\n",
       "    </tr>\n",
       "    <tr>\n",
       "      <th>2000's.</th>\n",
       "      <td>1.0</td>\n",
       "    </tr>\n",
       "  </tbody>\n",
       "</table>\n",
       "<p>51460 rows × 1 columns</p>\n",
       "</div>"
      ],
      "text/plain": [
       "             frequency\n",
       "incursion          0.0\n",
       "owe                1.0\n",
       "Ignore             2.0\n",
       "misuse.            1.0\n",
       "foment             0.0\n",
       "...                ...\n",
       "Substantial        0.0\n",
       "poured             3.0\n",
       "impounding.        0.0\n",
       "11,000             0.0\n",
       "2000's.            1.0\n",
       "\n",
       "[51460 rows x 1 columns]"
      ]
     },
     "execution_count": 6,
     "metadata": {},
     "output_type": "execute_result"
    }
   ],
   "source": [
    "counts_socialism = tdm[tdm[\"source_reddit\"] == \"socialism\"]\n",
    "counts_socialism = counts_socialism.drop(columns=[\"source_reddit\"], axis=1)\n",
    "counts_socialism = counts_socialism.sum(axis=0)\n",
    "counts_socialism = pd.DataFrame(counts_socialism)\n",
    "counts_socialism = counts_socialism.rename(columns={0: \"frequency\"})\n",
    "counts_socialism.sort_values(axis=1, by=\"frequency\", ascending=False, inplace=False)"
   ]
  },
  {
   "cell_type": "code",
   "execution_count": 45,
   "metadata": {},
   "outputs": [
    {
     "data": {
      "text/html": [
       "<div>\n",
       "<style scoped>\n",
       "    .dataframe tbody tr th:only-of-type {\n",
       "        vertical-align: middle;\n",
       "    }\n",
       "\n",
       "    .dataframe tbody tr th {\n",
       "        vertical-align: top;\n",
       "    }\n",
       "\n",
       "    .dataframe thead th {\n",
       "        text-align: right;\n",
       "    }\n",
       "</style>\n",
       "<table border=\"1\" class=\"dataframe\">\n",
       "  <thead>\n",
       "    <tr style=\"text-align: right;\">\n",
       "      <th></th>\n",
       "      <th>frequency</th>\n",
       "    </tr>\n",
       "  </thead>\n",
       "  <tbody>\n",
       "    <tr>\n",
       "      <th>incursion</th>\n",
       "      <td>1.0</td>\n",
       "    </tr>\n",
       "    <tr>\n",
       "      <th>owe</th>\n",
       "      <td>9.0</td>\n",
       "    </tr>\n",
       "    <tr>\n",
       "      <th>Ignore</th>\n",
       "      <td>2.0</td>\n",
       "    </tr>\n",
       "    <tr>\n",
       "      <th>misuse.</th>\n",
       "      <td>0.0</td>\n",
       "    </tr>\n",
       "    <tr>\n",
       "      <th>foment</th>\n",
       "      <td>1.0</td>\n",
       "    </tr>\n",
       "    <tr>\n",
       "      <th>...</th>\n",
       "      <td>...</td>\n",
       "    </tr>\n",
       "    <tr>\n",
       "      <th>Substantial</th>\n",
       "      <td>1.0</td>\n",
       "    </tr>\n",
       "    <tr>\n",
       "      <th>poured</th>\n",
       "      <td>5.0</td>\n",
       "    </tr>\n",
       "    <tr>\n",
       "      <th>impounding.</th>\n",
       "      <td>1.0</td>\n",
       "    </tr>\n",
       "    <tr>\n",
       "      <th>11,000</th>\n",
       "      <td>3.0</td>\n",
       "    </tr>\n",
       "    <tr>\n",
       "      <th>2000's.</th>\n",
       "      <td>0.0</td>\n",
       "    </tr>\n",
       "  </tbody>\n",
       "</table>\n",
       "<p>51460 rows × 1 columns</p>\n",
       "</div>"
      ],
      "text/plain": [
       "             frequency\n",
       "incursion          1.0\n",
       "owe                9.0\n",
       "Ignore             2.0\n",
       "misuse.            0.0\n",
       "foment             1.0\n",
       "...                ...\n",
       "Substantial        1.0\n",
       "poured             5.0\n",
       "impounding.        1.0\n",
       "11,000             3.0\n",
       "2000's.            0.0\n",
       "\n",
       "[51460 rows x 1 columns]"
      ]
     },
     "execution_count": 45,
     "metadata": {},
     "output_type": "execute_result"
    }
   ],
   "source": [
    "counts_libertarian = tdm[tdm[\"source_reddit\"] == \"libertarian\"]\n",
    "counts_libertarian = counts_libertarian.drop(columns=[\"source_reddit\"], axis=1)\n",
    "counts_libertarian = counts_libertarian.sum(axis=0)\n",
    "counts_libertarian = pd.DataFrame(counts_libertarian)\n",
    "counts_libertarian = counts_libertarian.rename(columns={0: \"frequency\"})\n",
    "counts_libertarian.sort_values(axis=1, by=\"frequency\", ascending=False , inplace=False)"
   ]
  },
  {
   "cell_type": "code",
   "execution_count": 52,
   "metadata": {},
   "outputs": [],
   "source": [
    "mx = np.sum(tdm.drop([\"source_reddit\"], axis=1)> 0)\n",
    "D = tdm.shape[0]\n",
    "idf = pd.DataFrame({\"idf\": 1/mx})\n",
    "\n",
    "idf[idf[\"idf\"] > .25] = 0"
   ]
  },
  {
   "cell_type": "code",
   "execution_count": 55,
   "metadata": {},
   "outputs": [],
   "source": [
    "counts_libertarian[\"tfidf\"] = counts_libertarian[\"frequency\"] * idf[\"idf\"]\n",
    "counts_socialism[\"tfidf\"] = counts_socialism[\"frequency\"] * idf[\"idf\"]"
   ]
  },
  {
   "cell_type": "code",
   "execution_count": 56,
   "metadata": {},
   "outputs": [
    {
     "data": {
      "text/plain": [
       "Index(['Mr', 'feat.', 'Turkish', 'hip', 'Trots', 'ft.', 'hop.', 'Poland',\n",
       "       'Bookchin', 'EU', 'Harvey', 'cites', 'Community', 'absentee', 'Kliman',\n",
       "       'Bolivar', 'Rosa', 'deed', 'Proudhon', 'Berlin', 'bourgeosie', 'coca',\n",
       "       'Proyect', 'hop', 'Bioshock', 'FARC', 'LTRPF', 'er', 'stereotypes',\n",
       "       'Hamas', 'Eurozone', 'moneyless', 'intrinsically', 'Costs', 'Rise',\n",
       "       'Verso', 'Tijoux', 'soc', 'Buddhist', 'marxists', 'delusions',\n",
       "       'left-liberal', 'Scottish', 'WSWS', 'Technique', 'Immortal', 'Cuban',\n",
       "       'Labour', 'Yugoslavia', 'Guevara', 'rap', 'parliaments', 'IRC', 'Venus',\n",
       "       'editors', 'battalion', 'uncompromising', 'Alice', 'tribalism', 'USSR.',\n",
       "       'obesity', 'vouchers', 'Cuba', 'organising', 'NATO', 'blah', 'Marxism',\n",
       "       'innovation.', 'Vox', 'PKK', 'halls', 'accumulate', 'Comunista',\n",
       "       'Reconstrucción', 'patriarchal', 'comfort/entertainment', 'achievable',\n",
       "       'Ana', 'Feminists', 'deficit', 'Mos', 'rewarding', 'Lupe', 'Buddhism',\n",
       "       'Socialized', 'programming', 'music.', 'Bangladesh', 'Raul', 'Batista',\n",
       "       'stalinist', 'unity.', 'orthodox', 'electronic', 'Organizing', 'Volume',\n",
       "       'social-democratic', 'copyrights', 'novels', 'Havana'],\n",
       "      dtype='object')"
      ]
     },
     "execution_count": 56,
     "metadata": {},
     "output_type": "execute_result"
    }
   ],
   "source": [
    "counts_socialism.sort_values(\"tfidf\", ascending=False)[0:100].index"
   ]
  },
  {
   "cell_type": "code",
   "execution_count": 57,
   "metadata": {},
   "outputs": [
    {
     "data": {
      "text/plain": [
       "Index(['^|', 'Nexium', 'quot', 'hijackers', 'mg', '009', 'ESA', 'glasses',\n",
       "       'Prilosec', 'Gilded', 'NRA', 'passengers', 'temp', 'amp', 'DNA',\n",
       "       'airlines', '039', 'incestuous', '/message/compose', 'to=autowikibot',\n",
       "       'Conley', 'WTC', '^or', 'OTC', 'incest', 'message=', '^delete',\n",
       "       'subject=AutoWikibot', 'herd', 'stickers', 'FISA', 'prescription',\n",
       "       '*****', 'soda', 'ID', 'sorority', 'Barr', '^libertarianism', 'FICA',\n",
       "       '2F', 'MJ', 'elective', '^of', 'encryption', 'plane.', 'Gardner',\n",
       "       'exchanges', 'tl', '//en.wikipedia.org/wiki/Libertarianism', 'refund',\n",
       "       'charter', 'sexuality.', 'heroin', 'Musk', 'temps', 'Pentagon',\n",
       "       'marriage', 'lenses', 'airline', 'GM', 'planes', 'Kasich',\n",
       "       'announcement', 'Air', 'Towers', 'nihilist', 'nuisance', 'vaccination',\n",
       "       'Flight', 'statute', 'Biden', 'blah', '10th', 'standard.', 'resolved',\n",
       "       '14th', 'evaluating', 'dwelling', 'SWAT', 'joints', 'Josh', 'weed.',\n",
       "       'encrypted', 'Richmond', 'premiums', 'reporters', 'plane', 'deputy',\n",
       "       'Medicaid', 'keys', 'Surveillance', 'Singapore', 'molestation',\n",
       "       'Jonathan', 'NAP', 'searches', 'Chelsea', 'mouthing', 'customs',\n",
       "       'sighted'],\n",
       "      dtype='object')"
      ]
     },
     "execution_count": 57,
     "metadata": {},
     "output_type": "execute_result"
    }
   ],
   "source": [
    "counts_libertarian.sort_values(\"tfidf\", ascending=False)[0:100].index"
   ]
  },
  {
   "cell_type": "code",
   "execution_count": 51,
   "metadata": {},
   "outputs": [
    {
     "data": {
      "text/html": [
       "<div>\n",
       "<style scoped>\n",
       "    .dataframe tbody tr th:only-of-type {\n",
       "        vertical-align: middle;\n",
       "    }\n",
       "\n",
       "    .dataframe tbody tr th {\n",
       "        vertical-align: top;\n",
       "    }\n",
       "\n",
       "    .dataframe thead th {\n",
       "        text-align: right;\n",
       "    }\n",
       "</style>\n",
       "<table border=\"1\" class=\"dataframe\">\n",
       "  <thead>\n",
       "    <tr style=\"text-align: right;\">\n",
       "      <th></th>\n",
       "      <th>frequency</th>\n",
       "      <th>tfidf</th>\n",
       "    </tr>\n",
       "  </thead>\n",
       "  <tbody>\n",
       "    <tr>\n",
       "      <th>incursion</th>\n",
       "      <td>1.0</td>\n",
       "      <td>0.0</td>\n",
       "    </tr>\n",
       "    <tr>\n",
       "      <th>//gizmodo.com/the-fbis-secret-aircraft-are-watching-us-1702799186</th>\n",
       "      <td>1.0</td>\n",
       "      <td>0.0</td>\n",
       "    </tr>\n",
       "    <tr>\n",
       "      <th>instructive</th>\n",
       "      <td>0.0</td>\n",
       "      <td>0.0</td>\n",
       "    </tr>\n",
       "    <tr>\n",
       "      <th>means-tested</th>\n",
       "      <td>1.0</td>\n",
       "      <td>0.0</td>\n",
       "    </tr>\n",
       "    <tr>\n",
       "      <th>gulag-worthy</th>\n",
       "      <td>0.0</td>\n",
       "      <td>0.0</td>\n",
       "    </tr>\n",
       "    <tr>\n",
       "      <th>...</th>\n",
       "      <td>...</td>\n",
       "      <td>...</td>\n",
       "    </tr>\n",
       "    <tr>\n",
       "      <th>Ebert</th>\n",
       "      <td>0.0</td>\n",
       "      <td>0.0</td>\n",
       "    </tr>\n",
       "    <tr>\n",
       "      <th>boys</th>\n",
       "      <td>8.0</td>\n",
       "      <td>0.0</td>\n",
       "    </tr>\n",
       "    <tr>\n",
       "      <th>//i.imgur.com/UcjMaRB.png</th>\n",
       "      <td>0.0</td>\n",
       "      <td>0.0</td>\n",
       "    </tr>\n",
       "    <tr>\n",
       "      <th>falsified</th>\n",
       "      <td>1.0</td>\n",
       "      <td>0.0</td>\n",
       "    </tr>\n",
       "    <tr>\n",
       "      <th>redirect</th>\n",
       "      <td>1.0</td>\n",
       "      <td>0.0</td>\n",
       "    </tr>\n",
       "  </tbody>\n",
       "</table>\n",
       "<p>100 rows × 2 columns</p>\n",
       "</div>"
      ],
      "text/plain": [
       "                                                    frequency  tfidf\n",
       "incursion                                                 1.0    0.0\n",
       "//gizmodo.com/the-fbis-secret-aircraft-are-watc...        1.0    0.0\n",
       "instructive                                               0.0    0.0\n",
       "means-tested                                              1.0    0.0\n",
       "gulag-worthy                                              0.0    0.0\n",
       "...                                                       ...    ...\n",
       "Ebert                                                     0.0    0.0\n",
       "boys                                                      8.0    0.0\n",
       "//i.imgur.com/UcjMaRB.png                                 0.0    0.0\n",
       "falsified                                                 1.0    0.0\n",
       "redirect                                                  1.0    0.0\n",
       "\n",
       "[100 rows x 2 columns]"
      ]
     },
     "execution_count": 51,
     "metadata": {},
     "output_type": "execute_result"
    }
   ],
   "source": [
    "counts_libertarian.sort_values(\"tfidf\", ascending=True)[0:100]"
   ]
  },
  {
   "cell_type": "code",
   "execution_count": 17,
   "metadata": {},
   "outputs": [
    {
     "data": {
      "text/plain": [
       "idf    1.884862\n",
       "Name: people, dtype: float64"
      ]
     },
     "execution_count": 17,
     "metadata": {},
     "output_type": "execute_result"
    }
   ],
   "source": [
    "idf.loc['people']"
   ]
  },
  {
   "cell_type": "code",
   "execution_count": 32,
   "metadata": {},
   "outputs": [
    {
     "data": {
      "text/plain": [
       "2000's.                              1.0\n",
       "epistopsychological                  1.0\n",
       "//www.democracyatwork.info/radio/    1.0\n",
       "breakbeats                           1.0\n",
       "interventions.                       1.0\n",
       "Imho                                 1.0\n",
       "limousine                            1.0\n",
       "Continued                            1.0\n",
       "dipping                              1.0\n",
       "accelerates                          1.0\n",
       "Name: idf, dtype: float64"
      ]
     },
     "execution_count": 32,
     "metadata": {},
     "output_type": "execute_result"
    }
   ],
   "source": [
    "idf[\"idf\"].sort_values(ascending=False)[0:10]"
   ]
  },
  {
   "cell_type": "code",
   "execution_count": 36,
   "metadata": {},
   "outputs": [],
   "source": []
  },
  {
   "cell_type": "code",
   "execution_count": null,
   "metadata": {},
   "outputs": [],
   "source": []
  }
 ],
 "metadata": {
  "kernelspec": {
   "display_name": "Python 3",
   "language": "python",
   "name": "python3"
  },
  "language_info": {
   "codemirror_mode": {
    "name": "ipython",
    "version": 3
   },
   "file_extension": ".py",
   "mimetype": "text/x-python",
   "name": "python",
   "nbconvert_exporter": "python",
   "pygments_lexer": "ipython3",
   "version": "3.8.5"
  }
 },
 "nbformat": 4,
 "nbformat_minor": 4
}

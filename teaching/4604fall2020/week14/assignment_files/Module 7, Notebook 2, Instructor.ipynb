{
 "cells": [
  {
   "cell_type": "markdown",
   "metadata": {},
   "source": [
    "### Working with unstructured data (Module 07)\n"
   ]
  },
  {
   "cell_type": "code",
   "execution_count": 1,
   "metadata": {},
   "outputs": [],
   "source": [
    "from ptb import TreebankWordTokenizer\n",
    "# This is the Penn Tree Bank tokenizer from NLTK as just one file\n",
    "tok = TreebankWordTokenizer()"
   ]
  },
  {
   "cell_type": "markdown",
   "metadata": {},
   "source": [
    "#### Adding a covariate\n",
    "\n",
    "- In text processing, a variable that occurs along with words (but is not a word) is sometimes called a covariate \n",
    "\n",
    "- This is similar to the idea of \"metadata\"\n",
    "\n",
    "- Example covariates: day of the week, time of day, number of upvotes, author, political party "
   ]
  },
  {
   "cell_type": "markdown",
   "metadata": {},
   "source": [
    "Questions: \n",
    "    \n",
    "- Make a term document matrix for `libertarian.jsonl`\n",
    "- Make a term document matrix for `socialism.jsonl`\n",
    "- This is mostly review from last time.\n",
    "- You should share the vocabularies between these two subreddits\n",
    "- There are two changes"
   ]
  },
  {
   "cell_type": "markdown",
   "metadata": {},
   "source": [
    "### Raw counts \n",
    "\n",
    "- Instead of a binary matrix, replace the 1s with the counts of each word\n",
    "- So if a word occurs 5x in a document, the number should be 5 in the term-document matrix"
   ]
  },
  {
   "cell_type": "markdown",
   "metadata": {},
   "source": [
    "### Stop words \n",
    "\n",
    "Before we start, we will add one new thing, stop words. A stop word is a common word that is excluded from analysis in text processing. In NLP, it is common to exclude stop words. There are many stop word lists out there. We will use a [common list](https://gist.github.com/sebleier/554280) from NLTK. \n",
    "\n",
    "Start off by downloading the list using requests. Hint: click raw on Github to get a link to the raw data."
   ]
  },
  {
   "cell_type": "code",
   "execution_count": 2,
   "metadata": {},
   "outputs": [],
   "source": [
    "import requests\n",
    "\n",
    "url = \"https://gist.githubusercontent.com/sebleier/554280/raw/7e0e4a1ce04c2bb7bd41089c9821dbcf6d0c786c/NLTK's%2520list%2520of%2520english%2520stopwords\"\n",
    "r = requests.get(url).text\n",
    "stop_words = r.split(\"\\n\")"
   ]
  },
  {
   "cell_type": "markdown",
   "metadata": {},
   "source": [
    "- When you read in the tokens from your file, this time ignore the stop words"
   ]
  },
  {
   "cell_type": "code",
   "execution_count": 3,
   "metadata": {},
   "outputs": [],
   "source": [
    "import json\n",
    "\n",
    "def get_D_and_V(fn):\n",
    "    V = set()\n",
    "    D = 0\n",
    "\n",
    "    with open(fn, \"r\") as inf:\n",
    "        for doc in inf:\n",
    "            D += 1\n",
    "            doc = json.loads(doc)\n",
    "            for token in tok.tokenize(doc[\"body\"]):\n",
    "                if token not in stop_words:\n",
    "                    V.add(token)\n",
    "\n",
    "    V = list(V) # we want a consistent order. Not sure the latest on Python set ordering\n",
    "    \n",
    "    return D, V\n",
    "\n",
    "D1, V1 = get_D_and_V(fn=\"libertarian.jsonl\")\n",
    "D2, V2 = get_D_and_V(fn=\"socialism.jsonl\")\n",
    "\n",
    "V = list(set(V1 + V2))\n",
    "\n",
    "n2v = {k:v for k, v in enumerate(V)}\n",
    "v2n = {v:k for k, v in enumerate(V)}"
   ]
  },
  {
   "cell_type": "markdown",
   "metadata": {},
   "source": [
    "### Make a tdm for each subreddit, sharing vocabulary"
   ]
  },
  {
   "cell_type": "code",
   "execution_count": 4,
   "metadata": {},
   "outputs": [],
   "source": [
    "import numpy as np\n",
    "import pandas as pd\n",
    "\n",
    "def make_tdm(_D, _V, fn):\n",
    "\n",
    "    out = np.zeros((D2, len(_V)))\n",
    "\n",
    "    with open(fn, \"r\") as inf:\n",
    "        for docno, doc in enumerate(inf):\n",
    "            doc = json.loads(doc)\n",
    "            for token in tok.tokenize(doc[\"body\"]):\n",
    "                if token not in stop_words:\n",
    "                    out[docno][v2n[token]] += 1\n",
    "\n",
    "    out = pd.DataFrame(data=out, columns=V)\n",
    "    \n",
    "    return out\n",
    "\n",
    "tdm_libertarian_df =  make_tdm(D1, V, fn=\"libertarian.jsonl\")\n",
    "tdm_socialism_df =  make_tdm(D2, V, fn=\"socialism.jsonl\")"
   ]
  },
  {
   "cell_type": "code",
   "execution_count": 58,
   "metadata": {},
   "outputs": [],
   "source": [
    "### Add in covariates, and make a big dataframe\n",
    "\n",
    "tdm_libertarian_df[\"source_reddit\"] = \"libertarian\"\n",
    "tdm_socialism_df[\"source_reddit\"] = \"socialism\"\n",
    "\n",
    "tdm = pd.concat([tdm_libertarian_df, tdm_socialism_df])"
   ]
  },
  {
   "cell_type": "markdown",
   "metadata": {},
   "source": [
    "#### Question \n",
    "\n",
    "- What does the tdm represent? "
   ]
  },
  {
   "cell_type": "markdown",
   "metadata": {},
   "source": [
    "### Question \n",
    "\n",
    "- What are the top terms, based on raw count in the libertarian subreddit?\n",
    "- What are the top terms, based on raw count in the socialism subreddit?\n",
    "- Do you think it helps that you removed stop words?\n",
    "- Can you think of ways to expand the stop word list that might help?"
   ]
  },
  {
   "cell_type": "code",
   "execution_count": 27,
   "metadata": {},
   "outputs": [],
   "source": [
    "counts_socialism = tdm[tdm[\"source_reddit\"] == \"socialism\"]\n",
    "counts_socialism = counts_socialism.drop(columns=[\"source_reddit\"], axis=1)\n",
    "counts_socialism = counts_socialism.sum(axis=0)\n",
    "counts_socialism = pd.DataFrame(counts_socialism)\n",
    "counts_socialism = counts_socialism.rename(columns={0: \"frequency\"})\n",
    "counts_socialism = counts_socialism.sort_values(axis=1, by=\"frequency\", ascending=False)"
   ]
  },
  {
   "cell_type": "code",
   "execution_count": 28,
   "metadata": {},
   "outputs": [
    {
     "data": {
      "text/html": [
       "<div>\n",
       "<style scoped>\n",
       "    .dataframe tbody tr th:only-of-type {\n",
       "        vertical-align: middle;\n",
       "    }\n",
       "\n",
       "    .dataframe tbody tr th {\n",
       "        vertical-align: top;\n",
       "    }\n",
       "\n",
       "    .dataframe thead th {\n",
       "        text-align: right;\n",
       "    }\n",
       "</style>\n",
       "<table border=\"1\" class=\"dataframe\">\n",
       "  <thead>\n",
       "    <tr style=\"text-align: right;\">\n",
       "      <th></th>\n",
       "      <th>frequency</th>\n",
       "    </tr>\n",
       "  </thead>\n",
       "  <tbody>\n",
       "    <tr>\n",
       "      <th>residency</th>\n",
       "      <td>1.0</td>\n",
       "    </tr>\n",
       "    <tr>\n",
       "      <th>Restrict</th>\n",
       "      <td>1.0</td>\n",
       "    </tr>\n",
       "    <tr>\n",
       "      <th>oxygen</th>\n",
       "      <td>1.0</td>\n",
       "    </tr>\n",
       "    <tr>\n",
       "      <th>infertile</th>\n",
       "      <td>0.0</td>\n",
       "    </tr>\n",
       "    <tr>\n",
       "      <th>wingers</th>\n",
       "      <td>0.0</td>\n",
       "    </tr>\n",
       "    <tr>\n",
       "      <th>...</th>\n",
       "      <td>...</td>\n",
       "    </tr>\n",
       "    <tr>\n",
       "      <th>cost</th>\n",
       "      <td>15.0</td>\n",
       "    </tr>\n",
       "    <tr>\n",
       "      <th>nobody</th>\n",
       "      <td>6.0</td>\n",
       "    </tr>\n",
       "    <tr>\n",
       "      <th>familiar</th>\n",
       "      <td>6.0</td>\n",
       "    </tr>\n",
       "    <tr>\n",
       "      <th>socialist/egalitarian</th>\n",
       "      <td>0.0</td>\n",
       "    </tr>\n",
       "    <tr>\n",
       "      <th>none-the-less.</th>\n",
       "      <td>1.0</td>\n",
       "    </tr>\n",
       "  </tbody>\n",
       "</table>\n",
       "<p>21923 rows × 1 columns</p>\n",
       "</div>"
      ],
      "text/plain": [
       "                       frequency\n",
       "residency                    1.0\n",
       "Restrict                     1.0\n",
       "oxygen                       1.0\n",
       "infertile                    0.0\n",
       "wingers                      0.0\n",
       "...                          ...\n",
       "cost                        15.0\n",
       "nobody                       6.0\n",
       "familiar                     6.0\n",
       "socialist/egalitarian        0.0\n",
       "none-the-less.               1.0\n",
       "\n",
       "[21923 rows x 1 columns]"
      ]
     },
     "execution_count": 28,
     "metadata": {},
     "output_type": "execute_result"
    }
   ],
   "source": [
    "counts_libertarian = tdm[tdm[\"source_reddit\"] == \"libertarian\"]\n",
    "counts_libertarian = counts_libertarian.drop(columns=[\"source_reddit\"], axis=1)\n",
    "counts_libertarian = counts_libertarian.sum(axis=0)\n",
    "counts_libertarian = pd.DataFrame(counts_libertarian)\n",
    "counts_libertarian = counts_libertarian.rename(columns={0: \"frequency\"})\n",
    "counts_libertarian = counts_libertarian.sort_values(axis=1, by=\"frequency\", ascending=False)\n",
    "counts_libertarian"
   ]
  },
  {
   "cell_type": "code",
   "execution_count": 47,
   "metadata": {},
   "outputs": [
    {
     "data": {
      "text/plain": [
       "21923"
      ]
     },
     "execution_count": 47,
     "metadata": {},
     "output_type": "execute_result"
    }
   ],
   "source": [
    "mx.shape[0]"
   ]
  },
  {
   "cell_type": "code",
   "execution_count": 68,
   "metadata": {},
   "outputs": [],
   "source": [
    "mx = np.sum(tdm.drop([\"source_reddit\"], axis=1)> 0)\n",
    "D = tdm.shape[0]\n",
    "idf = pd.DataFrame({\"idf\": np.log(D/mx)})"
   ]
  },
  {
   "cell_type": "code",
   "execution_count": 61,
   "metadata": {},
   "outputs": [
    {
     "data": {
      "text/plain": [
       "(21923, 2)"
      ]
     },
     "execution_count": 61,
     "metadata": {},
     "output_type": "execute_result"
    }
   ],
   "source": [
    "counts_socialism.shape"
   ]
  },
  {
   "cell_type": "code",
   "execution_count": 62,
   "metadata": {},
   "outputs": [],
   "source": [
    "counts_libertarian[\"tfidf\"] = counts_libertarian[\"frequency\"] * idf[\"idf\"]\n",
    "counts_socialism[\"tfidf\"] = counts_socialism[\"frequency\"] * idf[\"idf\"]"
   ]
  },
  {
   "cell_type": "code",
   "execution_count": 74,
   "metadata": {},
   "outputs": [
    {
     "data": {
      "text/plain": [
       "Index([',', 'I', 'n't', ''s', ')', '(', '?', 'people', ';', '''', 'would',\n",
       "       '``', '&', ':', 'gt', '[', ']', 'think', 'The', 'like', ''m', 'class',\n",
       "       'socialist', '.', 'work', 'socialism', ''re', 'capitalism', 'one', 'It',\n",
       "       'even', 'working', 'You', 'get', 'deleted', '-', 'If', 'know', 'social',\n",
       "       'men', 'capitalist', 'state', 'way', 'much', 'really', 'say', 'going',\n",
       "       'http', 'society', 'also', 'see', ''', 'make', ''ve', 'time',\n",
       "       'feminism', 'left', 'But', 'many', 'could', 'revolution', 'things',\n",
       "       'This', 'system', 'still', 'political', 'want', '!', 'movement', 'That',\n",
       "       'mean', 'good', 'Marx', 'power', 'point', 'support', 'need', 'right',\n",
       "       'something', 'better', 'bourgeois', 'And', 'workers', 'actually',\n",
       "       'change', 'women', '...', 'Sanders', 'party', ''d', 'read', 'said',\n",
       "       'What', 'There', 'They', 'never', 'someone', 'saying', 'money', 'We'],\n",
       "      dtype='object')"
      ]
     },
     "execution_count": 74,
     "metadata": {},
     "output_type": "execute_result"
    }
   ],
   "source": [
    "counts_socialism.sort_values(\"tfidf\", ascending=False)[0:100].index"
   ]
  },
  {
   "cell_type": "code",
   "execution_count": null,
   "metadata": {},
   "outputs": [],
   "source": []
  }
 ],
 "metadata": {
  "kernelspec": {
   "display_name": "Python 3",
   "language": "python",
   "name": "python3"
  },
  "language_info": {
   "codemirror_mode": {
    "name": "ipython",
    "version": 3
   },
   "file_extension": ".py",
   "mimetype": "text/x-python",
   "name": "python",
   "nbconvert_exporter": "python",
   "pygments_lexer": "ipython3",
   "version": "3.8.5"
  }
 },
 "nbformat": 4,
 "nbformat_minor": 4
}

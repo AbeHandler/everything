{
 "cells": [
  {
   "cell_type": "code",
   "execution_count": 8,
   "metadata": {},
   "outputs": [
    {
     "name": "stdout",
     "output_type": "stream",
     "text": [
      "50.0\n",
      "0.0\n"
     ]
    },
    {
     "data": {
      "text/plain": [
       "50.0"
      ]
     },
     "execution_count": 8,
     "metadata": {},
     "output_type": "execute_result"
    }
   ],
   "source": [
    "Omega = {\"W\", \"L\"}\n",
    "\n",
    "def p(event):\n",
    "    if event == \"W\":\n",
    "        return .75\n",
    "    if event == \"L\":\n",
    "        return .25\n",
    "    \n",
    "def X(event):\n",
    "    '''\n",
    "    X is a r.v. \n",
    "    \n",
    "    X: Omega to the reals\n",
    "    \n",
    "    Win => 100\n",
    "    Loss => 0\n",
    "    '''\n",
    "    if event == \"W\":\n",
    "        return 100\n",
    "    if event == \"L\":\n",
    "        return 0\n",
    "    \n",
    "print(p(\"W\") * X(\"W\"))\n",
    "print(p(\"L\") * X(\"L\"))\n",
    "\n",
    "p(\"W\") * X(\"W\") + p(\"L\") * X(\"L\")"
   ]
  },
  {
   "cell_type": "markdown",
   "metadata": {},
   "source": [
    "$ E[X] = \\Sigma p(x_i) x_i$ for $x_i \\in \\Omega$"
   ]
  },
  {
   "cell_type": "code",
   "execution_count": 10,
   "metadata": {},
   "outputs": [
    {
     "name": "stdout",
     "output_type": "stream",
     "text": [
      "1\n",
      "2\n",
      "3\n",
      "4\n",
      "5\n",
      "6\n",
      "e.v. = E[X] =  15.166666666666666\n"
     ]
    }
   ],
   "source": [
    "Omega = {1, 2, 3, 4, 5, 6}\n",
    "\n",
    "def p(event):\n",
    "    return 1/6\n",
    "\n",
    "def X(event):\n",
    "    return event ** 2\n",
    "\n",
    "sum_ = 0\n",
    "for event in Omega:\n",
    "    print(event)\n",
    "    sum_ += p(event) * X(event)\n",
    "    \n",
    "print(\"e.v. = E[X] = \", sum_)"
   ]
  },
  {
   "cell_type": "code",
   "execution_count": 14,
   "metadata": {},
   "outputs": [
    {
     "name": "stdout",
     "output_type": "stream",
     "text": [
      "90.0\n"
     ]
    }
   ],
   "source": [
    "Omega = {1, 2, 3}\n",
    "\n",
    "def p(event):\n",
    "    return 1/3\n",
    "\n",
    "def X(student):\n",
    "    if student == 1:\n",
    "        return 89\n",
    "    if student == 2:\n",
    "        return 90\n",
    "    if student == 3:\n",
    "        return 91\n",
    "\n",
    "sum_ = 0\n",
    "for event in Omega:\n",
    "    sum_ += p(event) * X(event)\n",
    "\n",
    "print(sum_)"
   ]
  },
  {
   "cell_type": "code",
   "execution_count": null,
   "metadata": {},
   "outputs": [],
   "source": []
  }
 ],
 "metadata": {
  "kernelspec": {
   "display_name": "Python 3",
   "language": "python",
   "name": "python3"
  },
  "language_info": {
   "codemirror_mode": {
    "name": "ipython",
    "version": 3
   },
   "file_extension": ".py",
   "mimetype": "text/x-python",
   "name": "python",
   "nbconvert_exporter": "python",
   "pygments_lexer": "ipython3",
   "version": "3.8.3"
  }
 },
 "nbformat": 4,
 "nbformat_minor": 4
}

{
 "cells": [
  {
   "cell_type": "markdown",
   "metadata": {},
   "source": [
    "## Intro\n",
    "\n",
    "In this class, we have worked to understand both general principles of machine learning methods and specific details of particular machine learning techniques. For this project, you will apply what you have learned in this course to formulate and answer your own question, using ML. The midterm will be good practice for the final project, which will be similar.\n",
    "\n",
    "**Important:** Be sure to include code and answers in the correct cells of the notebook. Otherwise we might miss your answers.\n",
    "\n",
    "Please use this notebook to turn in your work. \n",
    "\n",
    "Points: 20\n",
    "\n",
    "You will be graded based on:\n",
    "1. __Technical completeness__. _(12 points)_ \n",
    "\n",
    "Did you meet the technical requirements for the project? For instance, did you describe hyperparameter tuning and include plots, where necessary.\n",
    "\n",
    "2. __Creativity and imagination__. _(3 points)_ \n",
    "\n",
    "Did you form an interesting and creative question, and explain why it is important to answer that question? \n",
    "\n",
    "3. __Presentation__. _(5 points)_ \n",
    "\n",
    "Did you do a good job presenting your results? Would your notebook make sense to a person who was not familiar with your project? You should take time to write clearly, simplify your code and explain what you are doing in your notebook. Make sure your plots are well-labeled and appropriately scaled. "
   ]
  },
  {
   "cell_type": "markdown",
   "metadata": {},
   "source": [
    "## Question \n",
    "\n",
    "_Using this cell, please write a short, clear paragraph explaining what question you plan to answer in this notebook. Your question can be narrow (e.g. can we predict a dog's height from its weight) or broad (e.g. what features are important or unimportant in predicting the price of a house). Briefly describe why your question is important and how you plan to answer. Be sure to ask a question you can actually answer using machine learning techniques!_\n",
    "\n",
    "Your answer here"
   ]
  },
  {
   "cell_type": "markdown",
   "metadata": {},
   "source": [
    "## Data (writing)\n",
    "\n",
    "_Using this cell, please write a short, clear paragraph explaining what data you will use to answer your question. You do not need to go gather custom datasets for this class, although you are welcome to do so. Just downloading data from Kaggle is fine, although we encourage you to think a little harder and more creatively when you do the project. There are many, many places to find interesting datasets online related to many topics like music, politics, sports, transportation, etc. Data gathering is one way to make your project more creative, but you are not expected or encouraged to take on a major data gathering effort. If applicable, describe how you plan to split between the training and test sets._\n",
    "\n",
    "Your answer here"
   ]
  },
  {
   "cell_type": "code",
   "execution_count": 1,
   "metadata": {},
   "outputs": [],
   "source": [
    "## Code for data preprocessing \n",
    "\n",
    "# Include your code to load, clean and split data in this cell. You must complete this step in the project."
   ]
  },
  {
   "cell_type": "markdown",
   "metadata": {},
   "source": [
    "## Model selection and tuning\n",
    "\n",
    "_Using this cell, please write a short, clear paragraph explaining how you selected and tuned your model for the project. You must answer the following two questions in this cell (1) Why is your model an appropriate choice for your data? (2) What hyperparameters does your model have and how did you select them? (3) What features did you choose and why? You must engineer at least 1 feature_ \n",
    "\n",
    "Your answer here"
   ]
  },
  {
   "cell_type": "code",
   "execution_count": 2,
   "metadata": {},
   "outputs": [],
   "source": [
    "## Code for model selection and tuning + feature engineering\n",
    "\n",
    "# Include any code to select and tune your model in this cell. You must complete this step in the project."
   ]
  },
  {
   "cell_type": "code",
   "execution_count": 3,
   "metadata": {},
   "outputs": [],
   "source": [
    "## Plot or table \n",
    "\n",
    "# Include a plot or table explaining how you selected and tuned your model. You must complete this step in the project."
   ]
  },
  {
   "cell_type": "markdown",
   "metadata": {},
   "source": [
    "## Results\n",
    "\n",
    "_Using this cell, please write a short, clear paragraph explaining your results. In this class, we have mostly focused on accuracy. It is OK to measure your results in another quantitative way (e.g. precision or likelihood). Whatever you pick, make sure you are clear on what you are doing, and make sure you explain why your measurement of success makes sense._\n",
    "\n",
    "Your answer here"
   ]
  },
  {
   "cell_type": "code",
   "execution_count": 1,
   "metadata": {},
   "outputs": [],
   "source": [
    "## Code \n",
    "\n",
    "# Include code showing how you arrived at your results. You must complete this step in the project."
   ]
  },
  {
   "cell_type": "code",
   "execution_count": 2,
   "metadata": {},
   "outputs": [],
   "source": [
    "## Plot or table \n",
    "\n",
    "# Include a plot or table explaining your results. You must complete this step in the project."
   ]
  },
  {
   "cell_type": "markdown",
   "metadata": {},
   "source": [
    "## Error analysis\n",
    "\n",
    "_Using this cell, please write a short, clear paragraph explaining what errors your model seems to be making, and offer a brief explanation based on your code below._"
   ]
  },
  {
   "cell_type": "code",
   "execution_count": null,
   "metadata": {},
   "outputs": [],
   "source": [
    "## Error analysis\n",
    "\n",
    "# Include code for error analysis here, to justify your conclusions. \n",
    "# You might make a confusion matrix, sample misclassifier data, analyze learned weights, or use any other method \n",
    "# discussed in class, or which makes sense for your model"
   ]
  },
  {
   "cell_type": "markdown",
   "metadata": {},
   "source": [
    "## Discussion\n",
    "\n",
    "_Using this cell, please write a short, clear paragraph describing how your results answer or do not answer your question. What new questions arise from your work?_\n",
    "\n",
    "Your answer here"
   ]
  },
  {
   "cell_type": "code",
   "execution_count": null,
   "metadata": {},
   "outputs": [],
   "source": []
  }
 ],
 "metadata": {
  "kernelspec": {
   "display_name": "Python 3",
   "language": "python",
   "name": "python3"
  },
  "language_info": {
   "codemirror_mode": {
    "name": "ipython",
    "version": 3
   },
   "file_extension": ".py",
   "mimetype": "text/x-python",
   "name": "python",
   "nbconvert_exporter": "python",
   "pygments_lexer": "ipython3",
   "version": "3.8.5"
  }
 },
 "nbformat": 4,
 "nbformat_minor": 4
}

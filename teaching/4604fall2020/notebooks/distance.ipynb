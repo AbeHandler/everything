{
 "cells": [
  {
   "cell_type": "markdown",
   "metadata": {},
   "source": [
    "## Intro \n",
    "\n",
    "In this notebook, we will get a little practice with [NumPy](https://numpy.org/) and [Pandas](https://pandas.pydata.org/), and start building better intuitions about the geometry of data. \n",
    "\n",
    "Remember that machine learning methods often start but turning data into points in space. One reason to do this is that we can use tools from geometry to reason about data. If you think about it, this is pretty cool! We are going to use abstract concepts from math to reason about practical data from the grubby real world.  \n",
    "\n",
    "In this notebook, we're going to try this out with one mathematical concept: distance. You already have intuitions about distance. Boulder is closer to Denver than it is to California, but California is closer to Boulder than New York. We are going to learn to use distance reason about datasets. Eventually, we'll get to our first machine learning methods: K-nearest neighbors and k-means clustering. But first we need to learn a bit more. "
   ]
  },
  {
   "cell_type": "code",
   "execution_count": 64,
   "metadata": {},
   "outputs": [],
   "source": [
    "'''\n",
    "In this cell, go ahead and import the data from covid.csv, which is available on Canvas. \n",
    "\n",
    "If you have not installed pandas, you will need to that. (I strongly suggest using conda). \n",
    "\n",
    "If pandas is totally new to you, I suggest doing a quick tutorial to get up to speed. \n",
    "We'll use pandas a little bit in this class\n",
    "'''\n",
    "\n",
    "import pandas as pd\n",
    "\n",
    "df = pd.read_csv(\"covid.csv\")"
   ]
  },
  {
   "cell_type": "code",
   "execution_count": 60,
   "metadata": {},
   "outputs": [],
   "source": [
    "# print out the dataframe \n",
    "\n",
    "# 1. How many features are there?\n",
    "\n",
    "# 2. How many observations are there? \n",
    "\n",
    "# [Type your answer here]"
   ]
  },
  {
   "cell_type": "code",
   "execution_count": 57,
   "metadata": {},
   "outputs": [],
   "source": [
    "\n",
    "# This line of code converts a dataframe to a numpy matrix\n",
    "# You might need to check out a tutorial of numpy is this is unfamiliar.\n",
    "\n",
    "df_as_matrix = df.to_numpy()\n",
    "\n",
    "# 3. What is the dimensionality of this matrix (and this dataset)? \n",
    "# The dimensionality of a matrix is the number of rows and columns in the matrix\n",
    "\n",
    "# [Type your answer here]\n"
   ]
  },
  {
   "cell_type": "markdown",
   "metadata": {},
   "source": [
    "Now let's go ahead and plot states by population. Remember that population is just one dimension in the dataset. We're starting with population because it's *way* easier to think in one dimension than in say seven dimensions. However, as this class goes on, you *will* learn to think in 7 or even 300 dimensions, however! "
   ]
  },
  {
   "cell_type": "markdown",
   "metadata": {},
   "source": [
    "### Plotting states by population"
   ]
  },
  {
   "cell_type": "code",
   "execution_count": 59,
   "metadata": {},
   "outputs": [
    {
     "data": {
      "image/png": "[encoded data removed]",
      "text/plain": [
       "<Figure size 432x288 with 1 Axes>"
      ]
     },
     "metadata": {
      "needs_background": "light"
     },
     "output_type": "display_data"
    }
   ],
   "source": [
    "import matplotlib.pyplot as plt\n",
    "\n",
    "# https://stackoverflow.com/questions/15943945/annotate-scatterplot-from-a-pandas-dataframe\n",
    "\n",
    "df[\"_\"] = 0\n",
    "\n",
    "plt.scatter(df['population'],df[\"_\"])\n",
    "\n",
    "# zip joins x and y coordinates in pairs\n",
    "for x,y,z in zip(df[\"population\"], df[\"_\"], df[\"state/region\"]):\n",
    "\n",
    "    label = \"{:.2f}\".format(y)\n",
    "\n",
    "    plt.annotate(z, # this is the text\n",
    "                 (x,y), # this is the point to label\n",
    "                 textcoords=\"offset points\", # how to position the text\n",
    "                 xytext=(0,10), # distance from text to points (x,y)\n",
    "                 ha='center') # horizontal alignment can be left, right or center"
   ]
  },
  {
   "cell_type": "code",
   "execution_count": 50,
   "metadata": {},
   "outputs": [],
   "source": [
    "! mv ../data/out.csv covid.csv"
   ]
  }
 ],
 "metadata": {
  "kernelspec": {
   "display_name": "Python 3",
   "language": "python",
   "name": "python3"
  },
  "language_info": {
   "codemirror_mode": {
    "name": "ipython",
    "version": 3
   },
   "file_extension": ".py",
   "mimetype": "text/x-python",
   "name": "python",
   "nbconvert_exporter": "python",
   "pygments_lexer": "ipython3",
   "version": "3.7.7"
  }
 },
 "nbformat": 4,
 "nbformat_minor": 2
}

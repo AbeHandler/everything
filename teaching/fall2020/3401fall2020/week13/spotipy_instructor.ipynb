{
 "cells": [
  {
   "cell_type": "markdown",
   "metadata": {},
   "source": [
    "### Authentication and set up"
   ]
  },
  {
   "cell_type": "code",
   "execution_count": 26,
   "metadata": {},
   "outputs": [
    {
     "name": "stdout",
     "output_type": "stream",
     "text": [
      "/Users/abramhandler/everything/teaching/3401fall2020/week13\r\n"
     ]
    }
   ],
   "source": [
    "~/cp "
   ]
  },
  {
   "cell_type": "code",
   "execution_count": 16,
   "metadata": {},
   "outputs": [
    {
     "name": "stdout",
     "output_type": "stream",
     "text": [
      "0 Island In The Sun\n",
      "1 Say It Ain't So\n",
      "2 Buddy Holly\n",
      "3 Beverly Hills\n",
      "4 Undone - The Sweater Song\n",
      "5 Hash Pipe\n",
      "6 Lost in the Woods - Weezer Version\n",
      "7 Africa\n",
      "8 My Name Is Jonas\n",
      "9 Feels Like Summer\n",
      "10 Hero\n",
      "11 Pork And Beans\n",
      "12 Take on Me\n",
      "13 Weezer Medley\n",
      "14 Sunfish\n",
      "15 See You Again\n",
      "16 Like a Star\n",
      "17 Fancy\n",
      "18 Youth\n",
      "19 Dive\n"
     ]
    }
   ],
   "source": [
    "import spotipy\n",
    "from spotipy.oauth2 import SpotifyClientCredentials\n",
    "\n",
    "sp = spotipy.Spotify(auth_manager=SpotifyClientCredentials(client_id=\"9d8abf61ce1f44c089e2eb931fc58320\",\n",
    "                                                           client_secret=\"defb77b266ee4a8cb9fbeeecd02ae203\"))\n",
    "\n",
    "results = sp.search(q='weezer', limit=20)\n",
    "for idx, track in enumerate(results['tracks']['items']):\n",
    "    print(idx, track['name'])"
   ]
  },
  {
   "cell_type": "code",
   "execution_count": 11,
   "metadata": {},
   "outputs": [],
   "source": [
    "! pbpaste > secret.txt"
   ]
  },
  {
   "cell_type": "code",
   "execution_count": 17,
   "metadata": {},
   "outputs": [
    {
     "data": {
      "text/plain": [
       "'\"defb77b266ee4a8cb9fbeeecd02ae203\"'"
      ]
     },
     "execution_count": 17,
     "metadata": {},
     "output_type": "execute_result"
    }
   ],
   "source": [
    "with open(\"secret.txt\", \"r\") as inf:\n",
    "    dt = inf.read()\n",
    "    \n",
    "dt"
   ]
  },
  {
   "cell_type": "markdown",
   "metadata": {},
   "source": [
    "### Search\n",
    "\n",
    "https://spotipy.readthedocs.io/en/2.16.1/?highlight=search#spotipy.client.Spotify.search"
   ]
  },
  {
   "cell_type": "code",
   "execution_count": 24,
   "metadata": {},
   "outputs": [
    {
     "name": "stdout",
     "output_type": "stream",
     "text": [
      "0 Ransom {'album': {'album_type': 'album', 'artists': [{'external_urls': {'spotify': 'https://open.spotify.com/artist/4Ga1P7PMIsmqEZqhYZQgDo'}, 'href': 'https://api.spotify.com/v1/artists/4Ga1P7PMIsmqEZqhYZQgDo', 'id': '4Ga1P7PMIsmqEZqhYZQgDo', 'name': 'Lil Tecca', 'type': 'artist', 'uri': 'spotify:artist:4Ga1P7PMIsmqEZqhYZQgDo'}], 'available_markets': ['AD', 'AE', 'AL', 'AR', 'AT', 'AU', 'BA', 'BE', 'BG', 'BH', 'BO', 'BR', 'CA', 'CH', 'CL', 'CO', 'CR', 'CY', 'CZ', 'DE', 'DK', 'DO', 'DZ', 'EC', 'EE', 'EG', 'ES', 'FI', 'FR', 'GB', 'GR', 'GT', 'HK', 'HN', 'HR', 'HU', 'ID', 'IE', 'IL', 'IN', 'IS', 'IT', 'JO', 'JP', 'KW', 'KZ', 'LB', 'LI', 'LT', 'LU', 'LV', 'MA', 'MC', 'MD', 'ME', 'MK', 'MT', 'MX', 'MY', 'NI', 'NL', 'NO', 'NZ', 'OM', 'PA', 'PE', 'PH', 'PL', 'PS', 'PT', 'PY', 'QA', 'RO', 'RS', 'RU', 'SA', 'SE', 'SG', 'SI', 'SK', 'SV', 'TH', 'TN', 'TR', 'TW', 'UA', 'US', 'UY', 'VN', 'XK', 'ZA'], 'external_urls': {'spotify': 'https://open.spotify.com/album/1I6FpscJIfwf4T56VxGVsB'}, 'href': 'https://api.spotify.com/v1/albums/1I6FpscJIfwf4T56VxGVsB', 'id': '1I6FpscJIfwf4T56VxGVsB', 'images': [{'height': 640, 'url': 'https://i.scdn.co/image/ab67616d0000b273bd69bbde4aeee723d6d08058', 'width': 640}, {'height': 300, 'url': 'https://i.scdn.co/image/ab67616d00001e02bd69bbde4aeee723d6d08058', 'width': 300}, {'height': 64, 'url': 'https://i.scdn.co/image/ab67616d00004851bd69bbde4aeee723d6d08058', 'width': 64}], 'name': 'We Love You Tecca', 'release_date': '2019-08-30', 'release_date_precision': 'day', 'total_tracks': 18, 'type': 'album', 'uri': 'spotify:album:1I6FpscJIfwf4T56VxGVsB'}, 'artists': [{'external_urls': {'spotify': 'https://open.spotify.com/artist/4Ga1P7PMIsmqEZqhYZQgDo'}, 'href': 'https://api.spotify.com/v1/artists/4Ga1P7PMIsmqEZqhYZQgDo', 'id': '4Ga1P7PMIsmqEZqhYZQgDo', 'name': 'Lil Tecca', 'type': 'artist', 'uri': 'spotify:artist:4Ga1P7PMIsmqEZqhYZQgDo'}], 'available_markets': ['AD', 'AE', 'AL', 'AR', 'AT', 'AU', 'BA', 'BE', 'BG', 'BH', 'BO', 'BR', 'CA', 'CH', 'CL', 'CO', 'CR', 'CY', 'CZ', 'DE', 'DK', 'DO', 'DZ', 'EC', 'EE', 'EG', 'ES', 'FI', 'FR', 'GB', 'GR', 'GT', 'HK', 'HN', 'HR', 'HU', 'ID', 'IE', 'IL', 'IN', 'IS', 'IT', 'JO', 'JP', 'KW', 'KZ', 'LB', 'LI', 'LT', 'LU', 'LV', 'MA', 'MC', 'MD', 'ME', 'MK', 'MT', 'MX', 'MY', 'NI', 'NL', 'NO', 'NZ', 'OM', 'PA', 'PE', 'PH', 'PL', 'PS', 'PT', 'PY', 'QA', 'RO', 'RS', 'RU', 'SA', 'SE', 'SG', 'SI', 'SK', 'SV', 'TH', 'TN', 'TR', 'TW', 'UA', 'US', 'UY', 'VN', 'XK', 'ZA'], 'disc_number': 1, 'duration_ms': 131240, 'explicit': True, 'external_ids': {'isrc': 'QZ85M1940160'}, 'external_urls': {'spotify': 'https://open.spotify.com/track/1lOe9qE0vR9zwWQAOk6CoO'}, 'href': 'https://api.spotify.com/v1/tracks/1lOe9qE0vR9zwWQAOk6CoO', 'id': '1lOe9qE0vR9zwWQAOk6CoO', 'is_local': False, 'name': 'Ransom', 'popularity': 84, 'preview_url': None, 'track_number': 1, 'type': 'track', 'uri': 'spotify:track:1lOe9qE0vR9zwWQAOk6CoO'}\n",
      "1 Diva (feat. Lil Tecca) {'album': {'album_type': 'single', 'artists': [{'external_urls': {'spotify': 'https://open.spotify.com/artist/2tIP7SsRs7vjIcLrU85W8J'}, 'href': 'https://api.spotify.com/v1/artists/2tIP7SsRs7vjIcLrU85W8J', 'id': '2tIP7SsRs7vjIcLrU85W8J', 'name': 'The Kid LAROI', 'type': 'artist', 'uri': 'spotify:artist:2tIP7SsRs7vjIcLrU85W8J'}], 'available_markets': ['AD', 'AE', 'AL', 'AR', 'AT', 'AU', 'BA', 'BE', 'BG', 'BH', 'BO', 'BR', 'BY', 'CA', 'CH', 'CL', 'CO', 'CR', 'CY', 'CZ', 'DE', 'DK', 'DO', 'DZ', 'EC', 'EE', 'EG', 'ES', 'FI', 'FR', 'GB', 'GR', 'GT', 'HK', 'HN', 'HR', 'HU', 'ID', 'IE', 'IL', 'IN', 'IS', 'IT', 'JO', 'JP', 'KW', 'KZ', 'LB', 'LI', 'LT', 'LU', 'LV', 'MA', 'MC', 'MD', 'ME', 'MK', 'MT', 'MX', 'MY', 'NI', 'NL', 'NO', 'NZ', 'OM', 'PA', 'PE', 'PH', 'PL', 'PS', 'PT', 'PY', 'QA', 'RO', 'RS', 'RU', 'SA', 'SE', 'SG', 'SI', 'SK', 'SV', 'TH', 'TN', 'TR', 'TW', 'UA', 'US', 'UY', 'VN', 'XK', 'ZA'], 'external_urls': {'spotify': 'https://open.spotify.com/album/6baGSG5U130x5ttGIIRIwR'}, 'href': 'https://api.spotify.com/v1/albums/6baGSG5U130x5ttGIIRIwR', 'id': '6baGSG5U130x5ttGIIRIwR', 'images': [{'height': 640, 'url': 'https://i.scdn.co/image/ab67616d0000b2731ae71e77aef7c34227027daa', 'width': 640}, {'height': 300, 'url': 'https://i.scdn.co/image/ab67616d00001e021ae71e77aef7c34227027daa', 'width': 300}, {'height': 64, 'url': 'https://i.scdn.co/image/ab67616d000048511ae71e77aef7c34227027daa', 'width': 64}], 'name': 'Diva (feat. Lil Tecca)', 'release_date': '2020-01-31', 'release_date_precision': 'day', 'total_tracks': 1, 'type': 'album', 'uri': 'spotify:album:6baGSG5U130x5ttGIIRIwR'}, 'artists': [{'external_urls': {'spotify': 'https://open.spotify.com/artist/2tIP7SsRs7vjIcLrU85W8J'}, 'href': 'https://api.spotify.com/v1/artists/2tIP7SsRs7vjIcLrU85W8J', 'id': '2tIP7SsRs7vjIcLrU85W8J', 'name': 'The Kid LAROI', 'type': 'artist', 'uri': 'spotify:artist:2tIP7SsRs7vjIcLrU85W8J'}, {'external_urls': {'spotify': 'https://open.spotify.com/artist/4Ga1P7PMIsmqEZqhYZQgDo'}, 'href': 'https://api.spotify.com/v1/artists/4Ga1P7PMIsmqEZqhYZQgDo', 'id': '4Ga1P7PMIsmqEZqhYZQgDo', 'name': 'Lil Tecca', 'type': 'artist', 'uri': 'spotify:artist:4Ga1P7PMIsmqEZqhYZQgDo'}], 'available_markets': ['AD', 'AE', 'AL', 'AR', 'AT', 'AU', 'BA', 'BE', 'BG', 'BH', 'BO', 'BR', 'BY', 'CA', 'CH', 'CL', 'CO', 'CR', 'CY', 'CZ', 'DE', 'DK', 'DO', 'DZ', 'EC', 'EE', 'EG', 'ES', 'FI', 'FR', 'GB', 'GR', 'GT', 'HK', 'HN', 'HR', 'HU', 'ID', 'IE', 'IL', 'IN', 'IS', 'IT', 'JO', 'JP', 'KW', 'KZ', 'LB', 'LI', 'LT', 'LU', 'LV', 'MA', 'MC', 'MD', 'ME', 'MK', 'MT', 'MX', 'MY', 'NI', 'NL', 'NO', 'NZ', 'OM', 'PA', 'PE', 'PH', 'PL', 'PS', 'PT', 'PY', 'QA', 'RO', 'RS', 'RU', 'SA', 'SE', 'SG', 'SI', 'SK', 'SV', 'TH', 'TN', 'TR', 'TW', 'UA', 'US', 'UY', 'VN', 'XK', 'ZA'], 'disc_number': 1, 'duration_ms': 172004, 'explicit': True, 'external_ids': {'isrc': 'USSM12000239'}, 'external_urls': {'spotify': 'https://open.spotify.com/track/7gVwgc8b3XnO87TpmXXFA5'}, 'href': 'https://api.spotify.com/v1/tracks/7gVwgc8b3XnO87TpmXXFA5', 'id': '7gVwgc8b3XnO87TpmXXFA5', 'is_local': False, 'name': 'Diva (feat. Lil Tecca)', 'popularity': 80, 'preview_url': 'https://p.scdn.co/mp3-preview/73f6f7bcaaf5c26682f4c2a7ad1121a7caf2579a?cid=9d8abf61ce1f44c089e2eb931fc58320', 'track_number': 1, 'type': 'track', 'uri': 'spotify:track:7gVwgc8b3XnO87TpmXXFA5'}\n",
      "2 When You Down (with Polo G feat. Lil Durk) {'album': {'album_type': 'album', 'artists': [{'external_urls': {'spotify': 'https://open.spotify.com/artist/4Ga1P7PMIsmqEZqhYZQgDo'}, 'href': 'https://api.spotify.com/v1/artists/4Ga1P7PMIsmqEZqhYZQgDo', 'id': '4Ga1P7PMIsmqEZqhYZQgDo', 'name': 'Lil Tecca', 'type': 'artist', 'uri': 'spotify:artist:4Ga1P7PMIsmqEZqhYZQgDo'}], 'available_markets': ['AD', 'AE', 'AL', 'AR', 'AT', 'AU', 'BA', 'BE', 'BG', 'BH', 'BO', 'BR', 'BY', 'CA', 'CH', 'CL', 'CO', 'CR', 'CY', 'CZ', 'DE', 'DK', 'DO', 'DZ', 'EC', 'EE', 'EG', 'ES', 'FI', 'FR', 'GB', 'GR', 'GT', 'HK', 'HN', 'HR', 'HU', 'ID', 'IE', 'IL', 'IN', 'IS', 'IT', 'JO', 'JP', 'KW', 'KZ', 'LB', 'LI', 'LT', 'LU', 'LV', 'MA', 'MC', 'MD', 'ME', 'MK', 'MT', 'MX', 'MY', 'NI', 'NL', 'NO', 'NZ', 'OM', 'PA', 'PE', 'PH', 'PL', 'PS', 'PT', 'PY', 'QA', 'RO', 'RS', 'RU', 'SA', 'SE', 'SG', 'SI', 'SK', 'SV', 'TH', 'TN', 'TR', 'TW', 'UA', 'US', 'UY', 'VN', 'XK', 'ZA'], 'external_urls': {'spotify': 'https://open.spotify.com/album/389zGArsMlwuPorS4Cw7IX'}, 'href': 'https://api.spotify.com/v1/albums/389zGArsMlwuPorS4Cw7IX', 'id': '389zGArsMlwuPorS4Cw7IX', 'images': [{'height': 640, 'url': 'https://i.scdn.co/image/ab67616d0000b2732026d0048432d395f6f715b5', 'width': 640}, {'height': 300, 'url': 'https://i.scdn.co/image/ab67616d00001e022026d0048432d395f6f715b5', 'width': 300}, {'height': 64, 'url': 'https://i.scdn.co/image/ab67616d000048512026d0048432d395f6f715b5', 'width': 64}], 'name': 'Virgo World', 'release_date': '2020-09-18', 'release_date_precision': 'day', 'total_tracks': 19, 'type': 'album', 'uri': 'spotify:album:389zGArsMlwuPorS4Cw7IX'}, 'artists': [{'external_urls': {'spotify': 'https://open.spotify.com/artist/4Ga1P7PMIsmqEZqhYZQgDo'}, 'href': 'https://api.spotify.com/v1/artists/4Ga1P7PMIsmqEZqhYZQgDo', 'id': '4Ga1P7PMIsmqEZqhYZQgDo', 'name': 'Lil Tecca', 'type': 'artist', 'uri': 'spotify:artist:4Ga1P7PMIsmqEZqhYZQgDo'}, {'external_urls': {'spotify': 'https://open.spotify.com/artist/6AgTAQt8XS6jRWi4sX7w49'}, 'href': 'https://api.spotify.com/v1/artists/6AgTAQt8XS6jRWi4sX7w49', 'id': '6AgTAQt8XS6jRWi4sX7w49', 'name': 'Polo G', 'type': 'artist', 'uri': 'spotify:artist:6AgTAQt8XS6jRWi4sX7w49'}, {'external_urls': {'spotify': 'https://open.spotify.com/artist/3hcs9uc56yIGFCSy9leWe7'}, 'href': 'https://api.spotify.com/v1/artists/3hcs9uc56yIGFCSy9leWe7', 'id': '3hcs9uc56yIGFCSy9leWe7', 'name': 'Lil Durk', 'type': 'artist', 'uri': 'spotify:artist:3hcs9uc56yIGFCSy9leWe7'}], 'available_markets': ['AD', 'AE', 'AL', 'AR', 'AT', 'AU', 'BA', 'BE', 'BG', 'BH', 'BO', 'BR', 'BY', 'CA', 'CH', 'CL', 'CO', 'CR', 'CY', 'CZ', 'DE', 'DK', 'DO', 'DZ', 'EC', 'EE', 'EG', 'ES', 'FI', 'FR', 'GB', 'GR', 'GT', 'HK', 'HN', 'HR', 'HU', 'ID', 'IE', 'IL', 'IN', 'IS', 'IT', 'JO', 'JP', 'KW', 'KZ', 'LB', 'LI', 'LT', 'LU', 'LV', 'MA', 'MC', 'MD', 'ME', 'MK', 'MT', 'MX', 'MY', 'NI', 'NL', 'NO', 'NZ', 'OM', 'PA', 'PE', 'PH', 'PL', 'PS', 'PT', 'PY', 'QA', 'RO', 'RS', 'RU', 'SA', 'SE', 'SG', 'SI', 'SK', 'SV', 'TH', 'TN', 'TR', 'TW', 'UA', 'US', 'UY', 'VN', 'XK', 'ZA'], 'disc_number': 1, 'duration_ms': 193013, 'explicit': True, 'external_ids': {'isrc': 'USUM72018014'}, 'external_urls': {'spotify': 'https://open.spotify.com/track/5kTn07V96U8LyoQgz6DZzX'}, 'href': 'https://api.spotify.com/v1/tracks/5kTn07V96U8LyoQgz6DZzX', 'id': '5kTn07V96U8LyoQgz6DZzX', 'is_local': False, 'name': 'When You Down (with Polo G feat. Lil Durk)', 'popularity': 77, 'preview_url': None, 'track_number': 3, 'type': 'track', 'uri': 'spotify:track:5kTn07V96U8LyoQgz6DZzX'}\n",
      "3 Ransom (with Juice WRLD) - Remix {'album': {'album_type': 'album', 'artists': [{'external_urls': {'spotify': 'https://open.spotify.com/artist/4Ga1P7PMIsmqEZqhYZQgDo'}, 'href': 'https://api.spotify.com/v1/artists/4Ga1P7PMIsmqEZqhYZQgDo', 'id': '4Ga1P7PMIsmqEZqhYZQgDo', 'name': 'Lil Tecca', 'type': 'artist', 'uri': 'spotify:artist:4Ga1P7PMIsmqEZqhYZQgDo'}], 'available_markets': ['AD', 'AE', 'AL', 'AR', 'AT', 'AU', 'BA', 'BE', 'BG', 'BH', 'BO', 'BR', 'CA', 'CH', 'CL', 'CO', 'CR', 'CY', 'CZ', 'DE', 'DK', 'DO', 'DZ', 'EC', 'EE', 'EG', 'ES', 'FI', 'FR', 'GB', 'GR', 'GT', 'HK', 'HN', 'HR', 'HU', 'ID', 'IE', 'IL', 'IN', 'IS', 'IT', 'JO', 'JP', 'KW', 'KZ', 'LB', 'LI', 'LT', 'LU', 'LV', 'MA', 'MC', 'MD', 'ME', 'MK', 'MT', 'MX', 'MY', 'NI', 'NL', 'NO', 'NZ', 'OM', 'PA', 'PE', 'PH', 'PL', 'PS', 'PT', 'PY', 'QA', 'RO', 'RS', 'RU', 'SA', 'SE', 'SG', 'SI', 'SK', 'SV', 'TH', 'TN', 'TR', 'TW', 'UA', 'US', 'UY', 'VN', 'XK', 'ZA'], 'external_urls': {'spotify': 'https://open.spotify.com/album/1I6FpscJIfwf4T56VxGVsB'}, 'href': 'https://api.spotify.com/v1/albums/1I6FpscJIfwf4T56VxGVsB', 'id': '1I6FpscJIfwf4T56VxGVsB', 'images': [{'height': 640, 'url': 'https://i.scdn.co/image/ab67616d0000b273bd69bbde4aeee723d6d08058', 'width': 640}, {'height': 300, 'url': 'https://i.scdn.co/image/ab67616d00001e02bd69bbde4aeee723d6d08058', 'width': 300}, {'height': 64, 'url': 'https://i.scdn.co/image/ab67616d00004851bd69bbde4aeee723d6d08058', 'width': 64}], 'name': 'We Love You Tecca', 'release_date': '2019-08-30', 'release_date_precision': 'day', 'total_tracks': 18, 'type': 'album', 'uri': 'spotify:album:1I6FpscJIfwf4T56VxGVsB'}, 'artists': [{'external_urls': {'spotify': 'https://open.spotify.com/artist/4Ga1P7PMIsmqEZqhYZQgDo'}, 'href': 'https://api.spotify.com/v1/artists/4Ga1P7PMIsmqEZqhYZQgDo', 'id': '4Ga1P7PMIsmqEZqhYZQgDo', 'name': 'Lil Tecca', 'type': 'artist', 'uri': 'spotify:artist:4Ga1P7PMIsmqEZqhYZQgDo'}, {'external_urls': {'spotify': 'https://open.spotify.com/artist/4MCBfE4596Uoi2O4DtmEMz'}, 'href': 'https://api.spotify.com/v1/artists/4MCBfE4596Uoi2O4DtmEMz', 'id': '4MCBfE4596Uoi2O4DtmEMz', 'name': 'Juice WRLD', 'type': 'artist', 'uri': 'spotify:artist:4MCBfE4596Uoi2O4DtmEMz'}], 'available_markets': ['AD', 'AE', 'AL', 'AR', 'AT', 'AU', 'BA', 'BE', 'BG', 'BH', 'BO', 'BR', 'CA', 'CH', 'CL', 'CO', 'CR', 'CY', 'CZ', 'DE', 'DK', 'DO', 'DZ', 'EC', 'EE', 'EG', 'ES', 'FI', 'FR', 'GB', 'GR', 'GT', 'HK', 'HN', 'HR', 'HU', 'ID', 'IE', 'IL', 'IN', 'IS', 'IT', 'JO', 'JP', 'KW', 'KZ', 'LB', 'LI', 'LT', 'LU', 'LV', 'MA', 'MC', 'MD', 'ME', 'MK', 'MT', 'MX', 'MY', 'NI', 'NL', 'NO', 'NZ', 'OM', 'PA', 'PE', 'PH', 'PL', 'PS', 'PT', 'PY', 'QA', 'RO', 'RS', 'RU', 'SA', 'SE', 'SG', 'SI', 'SK', 'SV', 'TH', 'TN', 'TR', 'TW', 'UA', 'US', 'UY', 'VN', 'XK', 'ZA'], 'disc_number': 1, 'duration_ms': 171253, 'explicit': True, 'external_ids': {'isrc': 'USUG11903068'}, 'external_urls': {'spotify': 'https://open.spotify.com/track/2WsuSYJNXGKXVYkHPnq2yp'}, 'href': 'https://api.spotify.com/v1/tracks/2WsuSYJNXGKXVYkHPnq2yp', 'id': '2WsuSYJNXGKXVYkHPnq2yp', 'is_local': False, 'name': 'Ransom (with Juice WRLD) - Remix', 'popularity': 77, 'preview_url': None, 'track_number': 18, 'type': 'track', 'uri': 'spotify:track:2WsuSYJNXGKXVYkHPnq2yp'}\n",
      "4 Dolly (with Lil Uzi Vert) {'album': {'album_type': 'album', 'artists': [{'external_urls': {'spotify': 'https://open.spotify.com/artist/4Ga1P7PMIsmqEZqhYZQgDo'}, 'href': 'https://api.spotify.com/v1/artists/4Ga1P7PMIsmqEZqhYZQgDo', 'id': '4Ga1P7PMIsmqEZqhYZQgDo', 'name': 'Lil Tecca', 'type': 'artist', 'uri': 'spotify:artist:4Ga1P7PMIsmqEZqhYZQgDo'}], 'available_markets': ['AD', 'AE', 'AL', 'AR', 'AT', 'AU', 'BA', 'BE', 'BG', 'BH', 'BO', 'BR', 'BY', 'CA', 'CH', 'CL', 'CO', 'CR', 'CY', 'CZ', 'DE', 'DK', 'DO', 'DZ', 'EC', 'EE', 'EG', 'ES', 'FI', 'FR', 'GB', 'GR', 'GT', 'HK', 'HN', 'HR', 'HU', 'ID', 'IE', 'IL', 'IN', 'IS', 'IT', 'JO', 'JP', 'KW', 'KZ', 'LB', 'LI', 'LT', 'LU', 'LV', 'MA', 'MC', 'MD', 'ME', 'MK', 'MT', 'MX', 'MY', 'NI', 'NL', 'NO', 'NZ', 'OM', 'PA', 'PE', 'PH', 'PL', 'PS', 'PT', 'PY', 'QA', 'RO', 'RS', 'RU', 'SA', 'SE', 'SG', 'SI', 'SK', 'SV', 'TH', 'TN', 'TR', 'TW', 'UA', 'US', 'UY', 'VN', 'XK', 'ZA'], 'external_urls': {'spotify': 'https://open.spotify.com/album/389zGArsMlwuPorS4Cw7IX'}, 'href': 'https://api.spotify.com/v1/albums/389zGArsMlwuPorS4Cw7IX', 'id': '389zGArsMlwuPorS4Cw7IX', 'images': [{'height': 640, 'url': 'https://i.scdn.co/image/ab67616d0000b2732026d0048432d395f6f715b5', 'width': 640}, {'height': 300, 'url': 'https://i.scdn.co/image/ab67616d00001e022026d0048432d395f6f715b5', 'width': 300}, {'height': 64, 'url': 'https://i.scdn.co/image/ab67616d000048512026d0048432d395f6f715b5', 'width': 64}], 'name': 'Virgo World', 'release_date': '2020-09-18', 'release_date_precision': 'day', 'total_tracks': 19, 'type': 'album', 'uri': 'spotify:album:389zGArsMlwuPorS4Cw7IX'}, 'artists': [{'external_urls': {'spotify': 'https://open.spotify.com/artist/4Ga1P7PMIsmqEZqhYZQgDo'}, 'href': 'https://api.spotify.com/v1/artists/4Ga1P7PMIsmqEZqhYZQgDo', 'id': '4Ga1P7PMIsmqEZqhYZQgDo', 'name': 'Lil Tecca', 'type': 'artist', 'uri': 'spotify:artist:4Ga1P7PMIsmqEZqhYZQgDo'}, {'external_urls': {'spotify': 'https://open.spotify.com/artist/4O15NlyKLIASxsJ0PrXPfz'}, 'href': 'https://api.spotify.com/v1/artists/4O15NlyKLIASxsJ0PrXPfz', 'id': '4O15NlyKLIASxsJ0PrXPfz', 'name': 'Lil Uzi Vert', 'type': 'artist', 'uri': 'spotify:artist:4O15NlyKLIASxsJ0PrXPfz'}], 'available_markets': ['AD', 'AE', 'AL', 'AR', 'AT', 'AU', 'BA', 'BE', 'BG', 'BH', 'BO', 'BR', 'BY', 'CA', 'CH', 'CL', 'CO', 'CR', 'CY', 'CZ', 'DE', 'DK', 'DO', 'DZ', 'EC', 'EE', 'EG', 'ES', 'FI', 'FR', 'GB', 'GR', 'GT', 'HK', 'HN', 'HR', 'HU', 'ID', 'IE', 'IL', 'IN', 'IS', 'IT', 'JO', 'JP', 'KW', 'KZ', 'LB', 'LI', 'LT', 'LU', 'LV', 'MA', 'MC', 'MD', 'ME', 'MK', 'MT', 'MX', 'MY', 'NI', 'NL', 'NO', 'NZ', 'OM', 'PA', 'PE', 'PH', 'PL', 'PS', 'PT', 'PY', 'QA', 'RO', 'RS', 'RU', 'SA', 'SE', 'SG', 'SI', 'SK', 'SV', 'TH', 'TN', 'TR', 'TW', 'UA', 'US', 'UY', 'VN', 'XK', 'ZA'], 'disc_number': 1, 'duration_ms': 179813, 'explicit': True, 'external_ids': {'isrc': 'USUM72018026'}, 'external_urls': {'spotify': 'https://open.spotify.com/track/77Xwqkw7VrV8E5FCq9JhO8'}, 'href': 'https://api.spotify.com/v1/tracks/77Xwqkw7VrV8E5FCq9JhO8', 'id': '77Xwqkw7VrV8E5FCq9JhO8', 'is_local': False, 'name': 'Dolly (with Lil Uzi Vert)', 'popularity': 75, 'preview_url': None, 'track_number': 10, 'type': 'track', 'uri': 'spotify:track:77Xwqkw7VrV8E5FCq9JhO8'}\n",
      "5 Love Me {'album': {'album_type': 'album', 'artists': [{'external_urls': {'spotify': 'https://open.spotify.com/artist/4Ga1P7PMIsmqEZqhYZQgDo'}, 'href': 'https://api.spotify.com/v1/artists/4Ga1P7PMIsmqEZqhYZQgDo', 'id': '4Ga1P7PMIsmqEZqhYZQgDo', 'name': 'Lil Tecca', 'type': 'artist', 'uri': 'spotify:artist:4Ga1P7PMIsmqEZqhYZQgDo'}], 'available_markets': ['AD', 'AE', 'AL', 'AR', 'AT', 'AU', 'BA', 'BE', 'BG', 'BH', 'BO', 'BR', 'CA', 'CH', 'CL', 'CO', 'CR', 'CY', 'CZ', 'DE', 'DK', 'DO', 'DZ', 'EC', 'EE', 'EG', 'ES', 'FI', 'FR', 'GB', 'GR', 'GT', 'HK', 'HN', 'HR', 'HU', 'ID', 'IE', 'IL', 'IN', 'IS', 'IT', 'JO', 'JP', 'KW', 'KZ', 'LB', 'LI', 'LT', 'LU', 'LV', 'MA', 'MC', 'MD', 'ME', 'MK', 'MT', 'MX', 'MY', 'NI', 'NL', 'NO', 'NZ', 'OM', 'PA', 'PE', 'PH', 'PL', 'PS', 'PT', 'PY', 'QA', 'RO', 'RS', 'RU', 'SA', 'SE', 'SG', 'SI', 'SK', 'SV', 'TH', 'TN', 'TR', 'TW', 'UA', 'US', 'UY', 'VN', 'XK', 'ZA'], 'external_urls': {'spotify': 'https://open.spotify.com/album/1I6FpscJIfwf4T56VxGVsB'}, 'href': 'https://api.spotify.com/v1/albums/1I6FpscJIfwf4T56VxGVsB', 'id': '1I6FpscJIfwf4T56VxGVsB', 'images': [{'height': 640, 'url': 'https://i.scdn.co/image/ab67616d0000b273bd69bbde4aeee723d6d08058', 'width': 640}, {'height': 300, 'url': 'https://i.scdn.co/image/ab67616d00001e02bd69bbde4aeee723d6d08058', 'width': 300}, {'height': 64, 'url': 'https://i.scdn.co/image/ab67616d00004851bd69bbde4aeee723d6d08058', 'width': 64}], 'name': 'We Love You Tecca', 'release_date': '2019-08-30', 'release_date_precision': 'day', 'total_tracks': 18, 'type': 'album', 'uri': 'spotify:album:1I6FpscJIfwf4T56VxGVsB'}, 'artists': [{'external_urls': {'spotify': 'https://open.spotify.com/artist/4Ga1P7PMIsmqEZqhYZQgDo'}, 'href': 'https://api.spotify.com/v1/artists/4Ga1P7PMIsmqEZqhYZQgDo', 'id': '4Ga1P7PMIsmqEZqhYZQgDo', 'name': 'Lil Tecca', 'type': 'artist', 'uri': 'spotify:artist:4Ga1P7PMIsmqEZqhYZQgDo'}], 'available_markets': ['AD', 'AE', 'AL', 'AR', 'AT', 'AU', 'BA', 'BE', 'BG', 'BH', 'BO', 'BR', 'CA', 'CH', 'CL', 'CO', 'CR', 'CY', 'CZ', 'DE', 'DK', 'DO', 'DZ', 'EC', 'EE', 'EG', 'ES', 'FI', 'FR', 'GB', 'GR', 'GT', 'HK', 'HN', 'HR', 'HU', 'ID', 'IE', 'IL', 'IN', 'IS', 'IT', 'JO', 'JP', 'KW', 'KZ', 'LB', 'LI', 'LT', 'LU', 'LV', 'MA', 'MC', 'MD', 'ME', 'MK', 'MT', 'MX', 'MY', 'NI', 'NL', 'NO', 'NZ', 'OM', 'PA', 'PE', 'PH', 'PL', 'PS', 'PT', 'PY', 'QA', 'RO', 'RS', 'RU', 'SA', 'SE', 'SG', 'SI', 'SK', 'SV', 'TH', 'TN', 'TR', 'TW', 'UA', 'US', 'UY', 'VN', 'XK', 'ZA'], 'disc_number': 1, 'duration_ms': 117013, 'explicit': True, 'external_ids': {'isrc': 'SE6A91812468'}, 'external_urls': {'spotify': 'https://open.spotify.com/track/4e0FYxSROat25pH16zMTZI'}, 'href': 'https://api.spotify.com/v1/tracks/4e0FYxSROat25pH16zMTZI', 'id': '4e0FYxSROat25pH16zMTZI', 'is_local': False, 'name': 'Love Me', 'popularity': 78, 'preview_url': None, 'track_number': 13, 'type': 'track', 'uri': 'spotify:track:4e0FYxSROat25pH16zMTZI'}\n",
      "6 Did It Again {'album': {'album_type': 'album', 'artists': [{'external_urls': {'spotify': 'https://open.spotify.com/artist/4Ga1P7PMIsmqEZqhYZQgDo'}, 'href': 'https://api.spotify.com/v1/artists/4Ga1P7PMIsmqEZqhYZQgDo', 'id': '4Ga1P7PMIsmqEZqhYZQgDo', 'name': 'Lil Tecca', 'type': 'artist', 'uri': 'spotify:artist:4Ga1P7PMIsmqEZqhYZQgDo'}], 'available_markets': ['AD', 'AE', 'AL', 'AR', 'AT', 'AU', 'BA', 'BE', 'BG', 'BH', 'BO', 'BR', 'CA', 'CH', 'CL', 'CO', 'CR', 'CY', 'CZ', 'DE', 'DK', 'DO', 'DZ', 'EC', 'EE', 'EG', 'ES', 'FI', 'FR', 'GB', 'GR', 'GT', 'HK', 'HN', 'HR', 'HU', 'ID', 'IE', 'IL', 'IN', 'IS', 'IT', 'JO', 'JP', 'KW', 'KZ', 'LB', 'LI', 'LT', 'LU', 'LV', 'MA', 'MC', 'MD', 'ME', 'MK', 'MT', 'MX', 'MY', 'NI', 'NL', 'NO', 'NZ', 'OM', 'PA', 'PE', 'PH', 'PL', 'PS', 'PT', 'PY', 'QA', 'RO', 'RS', 'RU', 'SA', 'SE', 'SG', 'SI', 'SK', 'SV', 'TH', 'TN', 'TR', 'TW', 'UA', 'US', 'UY', 'VN', 'XK', 'ZA'], 'external_urls': {'spotify': 'https://open.spotify.com/album/1I6FpscJIfwf4T56VxGVsB'}, 'href': 'https://api.spotify.com/v1/albums/1I6FpscJIfwf4T56VxGVsB', 'id': '1I6FpscJIfwf4T56VxGVsB', 'images': [{'height': 640, 'url': 'https://i.scdn.co/image/ab67616d0000b273bd69bbde4aeee723d6d08058', 'width': 640}, {'height': 300, 'url': 'https://i.scdn.co/image/ab67616d00001e02bd69bbde4aeee723d6d08058', 'width': 300}, {'height': 64, 'url': 'https://i.scdn.co/image/ab67616d00004851bd69bbde4aeee723d6d08058', 'width': 64}], 'name': 'We Love You Tecca', 'release_date': '2019-08-30', 'release_date_precision': 'day', 'total_tracks': 18, 'type': 'album', 'uri': 'spotify:album:1I6FpscJIfwf4T56VxGVsB'}, 'artists': [{'external_urls': {'spotify': 'https://open.spotify.com/artist/4Ga1P7PMIsmqEZqhYZQgDo'}, 'href': 'https://api.spotify.com/v1/artists/4Ga1P7PMIsmqEZqhYZQgDo', 'id': '4Ga1P7PMIsmqEZqhYZQgDo', 'name': 'Lil Tecca', 'type': 'artist', 'uri': 'spotify:artist:4Ga1P7PMIsmqEZqhYZQgDo'}], 'available_markets': ['AD', 'AE', 'AL', 'AR', 'AT', 'AU', 'BA', 'BE', 'BG', 'BH', 'BO', 'BR', 'CA', 'CH', 'CL', 'CO', 'CR', 'CY', 'CZ', 'DE', 'DK', 'DO', 'DZ', 'EC', 'EE', 'EG', 'ES', 'FI', 'FR', 'GB', 'GR', 'GT', 'HK', 'HN', 'HR', 'HU', 'ID', 'IE', 'IL', 'IN', 'IS', 'IT', 'JO', 'JP', 'KW', 'KZ', 'LB', 'LI', 'LT', 'LU', 'LV', 'MA', 'MC', 'MD', 'ME', 'MK', 'MT', 'MX', 'MY', 'NI', 'NL', 'NO', 'NZ', 'OM', 'PA', 'PE', 'PH', 'PL', 'PS', 'PT', 'PY', 'QA', 'RO', 'RS', 'RU', 'SA', 'SE', 'SG', 'SI', 'SK', 'SV', 'TH', 'TN', 'TR', 'TW', 'UA', 'US', 'UY', 'VN', 'XK', 'ZA'], 'disc_number': 1, 'duration_ms': 116240, 'explicit': True, 'external_ids': {'isrc': 'USUG11902664'}, 'external_urls': {'spotify': 'https://open.spotify.com/track/4guBZjUyrGoHsTahO3IHdj'}, 'href': 'https://api.spotify.com/v1/tracks/4guBZjUyrGoHsTahO3IHdj', 'id': '4guBZjUyrGoHsTahO3IHdj', 'is_local': False, 'name': 'Did It Again', 'popularity': 75, 'preview_url': None, 'track_number': 4, 'type': 'track', 'uri': 'spotify:track:4guBZjUyrGoHsTahO3IHdj'}\n",
      "7 Out Of Love (feat. Internet Money) {'album': {'album_type': 'album', 'artists': [{'external_urls': {'spotify': 'https://open.spotify.com/artist/4Ga1P7PMIsmqEZqhYZQgDo'}, 'href': 'https://api.spotify.com/v1/artists/4Ga1P7PMIsmqEZqhYZQgDo', 'id': '4Ga1P7PMIsmqEZqhYZQgDo', 'name': 'Lil Tecca', 'type': 'artist', 'uri': 'spotify:artist:4Ga1P7PMIsmqEZqhYZQgDo'}], 'available_markets': ['AD', 'AE', 'AL', 'AR', 'AT', 'AU', 'BA', 'BE', 'BG', 'BH', 'BO', 'BR', 'BY', 'CA', 'CH', 'CL', 'CO', 'CR', 'CY', 'CZ', 'DE', 'DK', 'DO', 'DZ', 'EC', 'EE', 'EG', 'ES', 'FI', 'FR', 'GB', 'GR', 'GT', 'HK', 'HN', 'HR', 'HU', 'ID', 'IE', 'IL', 'IN', 'IS', 'IT', 'JO', 'JP', 'KW', 'KZ', 'LB', 'LI', 'LT', 'LU', 'LV', 'MA', 'MC', 'MD', 'ME', 'MK', 'MT', 'MX', 'MY', 'NI', 'NL', 'NO', 'NZ', 'OM', 'PA', 'PE', 'PH', 'PL', 'PS', 'PT', 'PY', 'QA', 'RO', 'RS', 'RU', 'SA', 'SE', 'SG', 'SI', 'SK', 'SV', 'TH', 'TN', 'TR', 'TW', 'UA', 'US', 'UY', 'VN', 'XK', 'ZA'], 'external_urls': {'spotify': 'https://open.spotify.com/album/389zGArsMlwuPorS4Cw7IX'}, 'href': 'https://api.spotify.com/v1/albums/389zGArsMlwuPorS4Cw7IX', 'id': '389zGArsMlwuPorS4Cw7IX', 'images': [{'height': 640, 'url': 'https://i.scdn.co/image/ab67616d0000b2732026d0048432d395f6f715b5', 'width': 640}, {'height': 300, 'url': 'https://i.scdn.co/image/ab67616d00001e022026d0048432d395f6f715b5', 'width': 300}, {'height': 64, 'url': 'https://i.scdn.co/image/ab67616d000048512026d0048432d395f6f715b5', 'width': 64}], 'name': 'Virgo World', 'release_date': '2020-09-18', 'release_date_precision': 'day', 'total_tracks': 19, 'type': 'album', 'uri': 'spotify:album:389zGArsMlwuPorS4Cw7IX'}, 'artists': [{'external_urls': {'spotify': 'https://open.spotify.com/artist/4Ga1P7PMIsmqEZqhYZQgDo'}, 'href': 'https://api.spotify.com/v1/artists/4Ga1P7PMIsmqEZqhYZQgDo', 'id': '4Ga1P7PMIsmqEZqhYZQgDo', 'name': 'Lil Tecca', 'type': 'artist', 'uri': 'spotify:artist:4Ga1P7PMIsmqEZqhYZQgDo'}, {'external_urls': {'spotify': 'https://open.spotify.com/artist/6MPCFvOQv5cIGfw3jODMF0'}, 'href': 'https://api.spotify.com/v1/artists/6MPCFvOQv5cIGfw3jODMF0', 'id': '6MPCFvOQv5cIGfw3jODMF0', 'name': 'Internet Money', 'type': 'artist', 'uri': 'spotify:artist:6MPCFvOQv5cIGfw3jODMF0'}], 'available_markets': ['AD', 'AE', 'AL', 'AR', 'AT', 'AU', 'BA', 'BE', 'BG', 'BH', 'BO', 'BR', 'BY', 'CA', 'CH', 'CL', 'CO', 'CR', 'CY', 'CZ', 'DE', 'DK', 'DO', 'DZ', 'EC', 'EE', 'EG', 'ES', 'FI', 'FR', 'GB', 'GR', 'GT', 'HK', 'HN', 'HR', 'HU', 'ID', 'IE', 'IL', 'IN', 'IS', 'IT', 'JO', 'JP', 'KW', 'KZ', 'LB', 'LI', 'LT', 'LU', 'LV', 'MA', 'MC', 'MD', 'ME', 'MK', 'MT', 'MX', 'MY', 'NI', 'NL', 'NO', 'NZ', 'OM', 'PA', 'PE', 'PH', 'PL', 'PS', 'PT', 'PY', 'QA', 'RO', 'RS', 'RU', 'SA', 'SE', 'SG', 'SI', 'SK', 'SV', 'TH', 'TN', 'TR', 'TW', 'UA', 'US', 'UY', 'VN', 'XK', 'ZA'], 'disc_number': 1, 'duration_ms': 153626, 'explicit': True, 'external_ids': {'isrc': 'USUM72007332'}, 'external_urls': {'spotify': 'https://open.spotify.com/track/0IJA9KP6rT55jrP1YpTdhx'}, 'href': 'https://api.spotify.com/v1/tracks/0IJA9KP6rT55jrP1YpTdhx', 'id': '0IJA9KP6rT55jrP1YpTdhx', 'is_local': False, 'name': 'Out Of Love (feat. Internet Money)', 'popularity': 72, 'preview_url': None, 'track_number': 19, 'type': 'track', 'uri': 'spotify:track:0IJA9KP6rT55jrP1YpTdhx'}\n",
      "8 Somebody {'album': {'album_type': 'single', 'artists': [{'external_urls': {'spotify': 'https://open.spotify.com/artist/6MPCFvOQv5cIGfw3jODMF0'}, 'href': 'https://api.spotify.com/v1/artists/6MPCFvOQv5cIGfw3jODMF0', 'id': '6MPCFvOQv5cIGfw3jODMF0', 'name': 'Internet Money', 'type': 'artist', 'uri': 'spotify:artist:6MPCFvOQv5cIGfw3jODMF0'}, {'external_urls': {'spotify': 'https://open.spotify.com/artist/4Ga1P7PMIsmqEZqhYZQgDo'}, 'href': 'https://api.spotify.com/v1/artists/4Ga1P7PMIsmqEZqhYZQgDo', 'id': '4Ga1P7PMIsmqEZqhYZQgDo', 'name': 'Lil Tecca', 'type': 'artist', 'uri': 'spotify:artist:4Ga1P7PMIsmqEZqhYZQgDo'}, {'external_urls': {'spotify': 'https://open.spotify.com/artist/31W5EY0aAly4Qieq6OFu6I'}, 'href': 'https://api.spotify.com/v1/artists/31W5EY0aAly4Qieq6OFu6I', 'id': '31W5EY0aAly4Qieq6OFu6I', 'name': 'A Boogie Wit da Hoodie', 'type': 'artist', 'uri': 'spotify:artist:31W5EY0aAly4Qieq6OFu6I'}], 'available_markets': ['AD', 'AE', 'AL', 'AR', 'AT', 'AU', 'BA', 'BE', 'BG', 'BH', 'BO', 'BR', 'CA', 'CH', 'CL', 'CO', 'CR', 'CY', 'CZ', 'DE', 'DK', 'DO', 'DZ', 'EC', 'EE', 'EG', 'ES', 'FI', 'FR', 'GB', 'GR', 'GT', 'HK', 'HN', 'HR', 'HU', 'ID', 'IE', 'IL', 'IN', 'IS', 'IT', 'JO', 'JP', 'KW', 'KZ', 'LB', 'LI', 'LT', 'LU', 'LV', 'MA', 'MC', 'MD', 'ME', 'MK', 'MT', 'MX', 'MY', 'NI', 'NL', 'NO', 'NZ', 'OM', 'PA', 'PE', 'PH', 'PL', 'PS', 'PT', 'PY', 'QA', 'RO', 'RS', 'RU', 'SA', 'SE', 'SG', 'SI', 'SK', 'SV', 'TH', 'TN', 'TR', 'TW', 'UA', 'US', 'UY', 'VN', 'XK', 'ZA'], 'external_urls': {'spotify': 'https://open.spotify.com/album/2tGRWs8mrUVyjgbMIQpWQN'}, 'href': 'https://api.spotify.com/v1/albums/2tGRWs8mrUVyjgbMIQpWQN', 'id': '2tGRWs8mrUVyjgbMIQpWQN', 'images': [{'height': 640, 'url': 'https://i.scdn.co/image/ab67616d0000b273a5a6adca55a0a15c16ecc64a', 'width': 640}, {'height': 300, 'url': 'https://i.scdn.co/image/ab67616d00001e02a5a6adca55a0a15c16ecc64a', 'width': 300}, {'height': 64, 'url': 'https://i.scdn.co/image/ab67616d00004851a5a6adca55a0a15c16ecc64a', 'width': 64}], 'name': 'Somebody', 'release_date': '2019-10-11', 'release_date_precision': 'day', 'total_tracks': 1, 'type': 'album', 'uri': 'spotify:album:2tGRWs8mrUVyjgbMIQpWQN'}, 'artists': [{'external_urls': {'spotify': 'https://open.spotify.com/artist/6MPCFvOQv5cIGfw3jODMF0'}, 'href': 'https://api.spotify.com/v1/artists/6MPCFvOQv5cIGfw3jODMF0', 'id': '6MPCFvOQv5cIGfw3jODMF0', 'name': 'Internet Money', 'type': 'artist', 'uri': 'spotify:artist:6MPCFvOQv5cIGfw3jODMF0'}, {'external_urls': {'spotify': 'https://open.spotify.com/artist/4Ga1P7PMIsmqEZqhYZQgDo'}, 'href': 'https://api.spotify.com/v1/artists/4Ga1P7PMIsmqEZqhYZQgDo', 'id': '4Ga1P7PMIsmqEZqhYZQgDo', 'name': 'Lil Tecca', 'type': 'artist', 'uri': 'spotify:artist:4Ga1P7PMIsmqEZqhYZQgDo'}, {'external_urls': {'spotify': 'https://open.spotify.com/artist/31W5EY0aAly4Qieq6OFu6I'}, 'href': 'https://api.spotify.com/v1/artists/31W5EY0aAly4Qieq6OFu6I', 'id': '31W5EY0aAly4Qieq6OFu6I', 'name': 'A Boogie Wit da Hoodie', 'type': 'artist', 'uri': 'spotify:artist:31W5EY0aAly4Qieq6OFu6I'}], 'available_markets': ['AD', 'AE', 'AL', 'AR', 'AT', 'AU', 'BA', 'BE', 'BG', 'BH', 'BO', 'BR', 'CA', 'CH', 'CL', 'CO', 'CR', 'CY', 'CZ', 'DE', 'DK', 'DO', 'DZ', 'EC', 'EE', 'EG', 'ES', 'FI', 'FR', 'GB', 'GR', 'GT', 'HK', 'HN', 'HR', 'HU', 'ID', 'IE', 'IL', 'IN', 'IS', 'IT', 'JO', 'JP', 'KW', 'KZ', 'LB', 'LI', 'LT', 'LU', 'LV', 'MA', 'MC', 'MD', 'ME', 'MK', 'MT', 'MX', 'MY', 'NI', 'NL', 'NO', 'NZ', 'OM', 'PA', 'PE', 'PH', 'PL', 'PS', 'PT', 'PY', 'QA', 'RO', 'RS', 'RU', 'SA', 'SE', 'SG', 'SI', 'SK', 'SV', 'TH', 'TN', 'TR', 'TW', 'UA', 'US', 'UY', 'VN', 'XK', 'ZA'], 'disc_number': 1, 'duration_ms': 174333, 'explicit': True, 'external_ids': {'isrc': 'QZJ841900026'}, 'external_urls': {'spotify': 'https://open.spotify.com/track/735RSTb2xbtWbDtKD9XDYi'}, 'href': 'https://api.spotify.com/v1/tracks/735RSTb2xbtWbDtKD9XDYi', 'id': '735RSTb2xbtWbDtKD9XDYi', 'is_local': False, 'name': 'Somebody', 'popularity': 70, 'preview_url': None, 'track_number': 1, 'type': 'track', 'uri': 'spotify:track:735RSTb2xbtWbDtKD9XDYi'}\n",
      "9 Our Time {'album': {'album_type': 'album', 'artists': [{'external_urls': {'spotify': 'https://open.spotify.com/artist/4Ga1P7PMIsmqEZqhYZQgDo'}, 'href': 'https://api.spotify.com/v1/artists/4Ga1P7PMIsmqEZqhYZQgDo', 'id': '4Ga1P7PMIsmqEZqhYZQgDo', 'name': 'Lil Tecca', 'type': 'artist', 'uri': 'spotify:artist:4Ga1P7PMIsmqEZqhYZQgDo'}], 'available_markets': ['AD', 'AE', 'AL', 'AR', 'AT', 'AU', 'BA', 'BE', 'BG', 'BH', 'BO', 'BR', 'BY', 'CA', 'CH', 'CL', 'CO', 'CR', 'CY', 'CZ', 'DE', 'DK', 'DO', 'DZ', 'EC', 'EE', 'EG', 'ES', 'FI', 'FR', 'GB', 'GR', 'GT', 'HK', 'HN', 'HR', 'HU', 'ID', 'IE', 'IL', 'IN', 'IS', 'IT', 'JO', 'JP', 'KW', 'KZ', 'LB', 'LI', 'LT', 'LU', 'LV', 'MA', 'MC', 'MD', 'ME', 'MK', 'MT', 'MX', 'MY', 'NI', 'NL', 'NO', 'NZ', 'OM', 'PA', 'PE', 'PH', 'PL', 'PS', 'PT', 'PY', 'QA', 'RO', 'RS', 'RU', 'SA', 'SE', 'SG', 'SI', 'SK', 'SV', 'TH', 'TN', 'TR', 'TW', 'UA', 'US', 'UY', 'VN', 'XK', 'ZA'], 'external_urls': {'spotify': 'https://open.spotify.com/album/389zGArsMlwuPorS4Cw7IX'}, 'href': 'https://api.spotify.com/v1/albums/389zGArsMlwuPorS4Cw7IX', 'id': '389zGArsMlwuPorS4Cw7IX', 'images': [{'height': 640, 'url': 'https://i.scdn.co/image/ab67616d0000b2732026d0048432d395f6f715b5', 'width': 640}, {'height': 300, 'url': 'https://i.scdn.co/image/ab67616d00001e022026d0048432d395f6f715b5', 'width': 300}, {'height': 64, 'url': 'https://i.scdn.co/image/ab67616d000048512026d0048432d395f6f715b5', 'width': 64}], 'name': 'Virgo World', 'release_date': '2020-09-18', 'release_date_precision': 'day', 'total_tracks': 19, 'type': 'album', 'uri': 'spotify:album:389zGArsMlwuPorS4Cw7IX'}, 'artists': [{'external_urls': {'spotify': 'https://open.spotify.com/artist/4Ga1P7PMIsmqEZqhYZQgDo'}, 'href': 'https://api.spotify.com/v1/artists/4Ga1P7PMIsmqEZqhYZQgDo', 'id': '4Ga1P7PMIsmqEZqhYZQgDo', 'name': 'Lil Tecca', 'type': 'artist', 'uri': 'spotify:artist:4Ga1P7PMIsmqEZqhYZQgDo'}], 'available_markets': ['AD', 'AE', 'AL', 'AR', 'AT', 'AU', 'BA', 'BE', 'BG', 'BH', 'BO', 'BR', 'BY', 'CA', 'CH', 'CL', 'CO', 'CR', 'CY', 'CZ', 'DE', 'DK', 'DO', 'DZ', 'EC', 'EE', 'EG', 'ES', 'FI', 'FR', 'GB', 'GR', 'GT', 'HK', 'HN', 'HR', 'HU', 'ID', 'IE', 'IL', 'IN', 'IS', 'IT', 'JO', 'JP', 'KW', 'KZ', 'LB', 'LI', 'LT', 'LU', 'LV', 'MA', 'MC', 'MD', 'ME', 'MK', 'MT', 'MX', 'MY', 'NI', 'NL', 'NO', 'NZ', 'OM', 'PA', 'PE', 'PH', 'PL', 'PS', 'PT', 'PY', 'QA', 'RO', 'RS', 'RU', 'SA', 'SE', 'SG', 'SI', 'SK', 'SV', 'TH', 'TN', 'TR', 'TW', 'UA', 'US', 'UY', 'VN', 'XK', 'ZA'], 'disc_number': 1, 'duration_ms': 98413, 'explicit': True, 'external_ids': {'isrc': 'USUM72017151'}, 'external_urls': {'spotify': 'https://open.spotify.com/track/2WxUIiq06XXPYWl9YcRJnD'}, 'href': 'https://api.spotify.com/v1/tracks/2WxUIiq06XXPYWl9YcRJnD', 'id': '2WxUIiq06XXPYWl9YcRJnD', 'is_local': False, 'name': 'Our Time', 'popularity': 69, 'preview_url': None, 'track_number': 1, 'type': 'track', 'uri': 'spotify:track:2WxUIiq06XXPYWl9YcRJnD'}\n",
      "10 Shots {'album': {'album_type': 'album', 'artists': [{'external_urls': {'spotify': 'https://open.spotify.com/artist/4Ga1P7PMIsmqEZqhYZQgDo'}, 'href': 'https://api.spotify.com/v1/artists/4Ga1P7PMIsmqEZqhYZQgDo', 'id': '4Ga1P7PMIsmqEZqhYZQgDo', 'name': 'Lil Tecca', 'type': 'artist', 'uri': 'spotify:artist:4Ga1P7PMIsmqEZqhYZQgDo'}], 'available_markets': ['AD', 'AE', 'AL', 'AR', 'AT', 'AU', 'BA', 'BE', 'BG', 'BH', 'BO', 'BR', 'CA', 'CH', 'CL', 'CO', 'CR', 'CY', 'CZ', 'DE', 'DK', 'DO', 'DZ', 'EC', 'EE', 'EG', 'ES', 'FI', 'FR', 'GB', 'GR', 'GT', 'HK', 'HN', 'HR', 'HU', 'ID', 'IE', 'IL', 'IN', 'IS', 'IT', 'JO', 'JP', 'KW', 'KZ', 'LB', 'LI', 'LT', 'LU', 'LV', 'MA', 'MC', 'MD', 'ME', 'MK', 'MT', 'MX', 'MY', 'NI', 'NL', 'NO', 'NZ', 'OM', 'PA', 'PE', 'PH', 'PL', 'PS', 'PT', 'PY', 'QA', 'RO', 'RS', 'RU', 'SA', 'SE', 'SG', 'SI', 'SK', 'SV', 'TH', 'TN', 'TR', 'TW', 'UA', 'US', 'UY', 'VN', 'XK', 'ZA'], 'external_urls': {'spotify': 'https://open.spotify.com/album/1I6FpscJIfwf4T56VxGVsB'}, 'href': 'https://api.spotify.com/v1/albums/1I6FpscJIfwf4T56VxGVsB', 'id': '1I6FpscJIfwf4T56VxGVsB', 'images': [{'height': 640, 'url': 'https://i.scdn.co/image/ab67616d0000b273bd69bbde4aeee723d6d08058', 'width': 640}, {'height': 300, 'url': 'https://i.scdn.co/image/ab67616d00001e02bd69bbde4aeee723d6d08058', 'width': 300}, {'height': 64, 'url': 'https://i.scdn.co/image/ab67616d00004851bd69bbde4aeee723d6d08058', 'width': 64}], 'name': 'We Love You Tecca', 'release_date': '2019-08-30', 'release_date_precision': 'day', 'total_tracks': 18, 'type': 'album', 'uri': 'spotify:album:1I6FpscJIfwf4T56VxGVsB'}, 'artists': [{'external_urls': {'spotify': 'https://open.spotify.com/artist/4Ga1P7PMIsmqEZqhYZQgDo'}, 'href': 'https://api.spotify.com/v1/artists/4Ga1P7PMIsmqEZqhYZQgDo', 'id': '4Ga1P7PMIsmqEZqhYZQgDo', 'name': 'Lil Tecca', 'type': 'artist', 'uri': 'spotify:artist:4Ga1P7PMIsmqEZqhYZQgDo'}], 'available_markets': ['AD', 'AE', 'AL', 'AR', 'AT', 'AU', 'BA', 'BE', 'BG', 'BH', 'BO', 'BR', 'CA', 'CH', 'CL', 'CO', 'CR', 'CY', 'CZ', 'DE', 'DK', 'DO', 'DZ', 'EC', 'EE', 'EG', 'ES', 'FI', 'FR', 'GB', 'GR', 'GT', 'HK', 'HN', 'HR', 'HU', 'ID', 'IE', 'IL', 'IN', 'IS', 'IT', 'JO', 'JP', 'KW', 'KZ', 'LB', 'LI', 'LT', 'LU', 'LV', 'MA', 'MC', 'MD', 'ME', 'MK', 'MT', 'MX', 'MY', 'NI', 'NL', 'NO', 'NZ', 'OM', 'PA', 'PE', 'PH', 'PL', 'PS', 'PT', 'PY', 'QA', 'RO', 'RS', 'RU', 'SA', 'SE', 'SG', 'SI', 'SK', 'SV', 'TH', 'TN', 'TR', 'TW', 'UA', 'US', 'UY', 'VN', 'XK', 'ZA'], 'disc_number': 1, 'duration_ms': 109373, 'explicit': True, 'external_ids': {'isrc': 'USUM71917711'}, 'external_urls': {'spotify': 'https://open.spotify.com/track/6eSU1exzDvBEXmBRxspeh5'}, 'href': 'https://api.spotify.com/v1/tracks/6eSU1exzDvBEXmBRxspeh5', 'id': '6eSU1exzDvBEXmBRxspeh5', 'is_local': False, 'name': 'Shots', 'popularity': 67, 'preview_url': None, 'track_number': 2, 'type': 'track', 'uri': 'spotify:track:6eSU1exzDvBEXmBRxspeh5'}\n",
      "11 All Star (with Lil Tjay) {'album': {'album_type': 'single', 'artists': [{'external_urls': {'spotify': 'https://open.spotify.com/artist/4Ga1P7PMIsmqEZqhYZQgDo'}, 'href': 'https://api.spotify.com/v1/artists/4Ga1P7PMIsmqEZqhYZQgDo', 'id': '4Ga1P7PMIsmqEZqhYZQgDo', 'name': 'Lil Tecca', 'type': 'artist', 'uri': 'spotify:artist:4Ga1P7PMIsmqEZqhYZQgDo'}, {'external_urls': {'spotify': 'https://open.spotify.com/artist/6jGMq4yGs7aQzuGsMgVgZR'}, 'href': 'https://api.spotify.com/v1/artists/6jGMq4yGs7aQzuGsMgVgZR', 'id': '6jGMq4yGs7aQzuGsMgVgZR', 'name': 'Lil Tjay', 'type': 'artist', 'uri': 'spotify:artist:6jGMq4yGs7aQzuGsMgVgZR'}], 'available_markets': ['AD', 'AE', 'AL', 'AR', 'AT', 'AU', 'BA', 'BE', 'BG', 'BH', 'BO', 'BR', 'BY', 'CA', 'CH', 'CL', 'CO', 'CR', 'CY', 'CZ', 'DE', 'DK', 'DO', 'DZ', 'EC', 'EE', 'EG', 'ES', 'FI', 'FR', 'GB', 'GR', 'GT', 'HK', 'HN', 'HR', 'HU', 'ID', 'IE', 'IL', 'IN', 'IS', 'IT', 'JO', 'JP', 'KW', 'KZ', 'LB', 'LI', 'LT', 'LU', 'LV', 'MA', 'MC', 'MD', 'ME', 'MK', 'MT', 'MX', 'MY', 'NI', 'NL', 'NO', 'NZ', 'OM', 'PA', 'PE', 'PH', 'PL', 'PS', 'PT', 'PY', 'QA', 'RO', 'RS', 'RU', 'SA', 'SE', 'SG', 'SI', 'SK', 'SV', 'TH', 'TN', 'TR', 'TW', 'UA', 'US', 'UY', 'VN', 'XK', 'ZA'], 'external_urls': {'spotify': 'https://open.spotify.com/album/45LIS5vxDcdMniZcD6biUD'}, 'href': 'https://api.spotify.com/v1/albums/45LIS5vxDcdMniZcD6biUD', 'id': '45LIS5vxDcdMniZcD6biUD', 'images': [{'height': 640, 'url': 'https://i.scdn.co/image/ab67616d0000b2732bc92df808bf68e6610513b3', 'width': 640}, {'height': 300, 'url': 'https://i.scdn.co/image/ab67616d00001e022bc92df808bf68e6610513b3', 'width': 300}, {'height': 64, 'url': 'https://i.scdn.co/image/ab67616d000048512bc92df808bf68e6610513b3', 'width': 64}], 'name': 'All Star', 'release_date': '2020-03-13', 'release_date_precision': 'day', 'total_tracks': 1, 'type': 'album', 'uri': 'spotify:album:45LIS5vxDcdMniZcD6biUD'}, 'artists': [{'external_urls': {'spotify': 'https://open.spotify.com/artist/4Ga1P7PMIsmqEZqhYZQgDo'}, 'href': 'https://api.spotify.com/v1/artists/4Ga1P7PMIsmqEZqhYZQgDo', 'id': '4Ga1P7PMIsmqEZqhYZQgDo', 'name': 'Lil Tecca', 'type': 'artist', 'uri': 'spotify:artist:4Ga1P7PMIsmqEZqhYZQgDo'}, {'external_urls': {'spotify': 'https://open.spotify.com/artist/6jGMq4yGs7aQzuGsMgVgZR'}, 'href': 'https://api.spotify.com/v1/artists/6jGMq4yGs7aQzuGsMgVgZR', 'id': '6jGMq4yGs7aQzuGsMgVgZR', 'name': 'Lil Tjay', 'type': 'artist', 'uri': 'spotify:artist:6jGMq4yGs7aQzuGsMgVgZR'}], 'available_markets': ['AD', 'AE', 'AL', 'AR', 'AT', 'AU', 'BA', 'BE', 'BG', 'BH', 'BO', 'BR', 'BY', 'CA', 'CH', 'CL', 'CO', 'CR', 'CY', 'CZ', 'DE', 'DK', 'DO', 'DZ', 'EC', 'EE', 'EG', 'ES', 'FI', 'FR', 'GB', 'GR', 'GT', 'HK', 'HN', 'HR', 'HU', 'ID', 'IE', 'IL', 'IN', 'IS', 'IT', 'JO', 'JP', 'KW', 'KZ', 'LB', 'LI', 'LT', 'LU', 'LV', 'MA', 'MC', 'MD', 'ME', 'MK', 'MT', 'MX', 'MY', 'NI', 'NL', 'NO', 'NZ', 'OM', 'PA', 'PE', 'PH', 'PL', 'PS', 'PT', 'PY', 'QA', 'RO', 'RS', 'RU', 'SA', 'SE', 'SG', 'SI', 'SK', 'SV', 'TH', 'TN', 'TR', 'TW', 'UA', 'US', 'UY', 'VN', 'XK', 'ZA'], 'disc_number': 1, 'duration_ms': 180234, 'explicit': True, 'external_ids': {'isrc': 'USUM72004810'}, 'external_urls': {'spotify': 'https://open.spotify.com/track/62uolmVjOio9xIfwDM1ZvC'}, 'href': 'https://api.spotify.com/v1/tracks/62uolmVjOio9xIfwDM1ZvC', 'id': '62uolmVjOio9xIfwDM1ZvC', 'is_local': False, 'name': 'All Star (with Lil Tjay)', 'popularity': 66, 'preview_url': None, 'track_number': 1, 'type': 'track', 'uri': 'spotify:track:62uolmVjOio9xIfwDM1ZvC'}\n",
      "12 Foreign (feat. Nav) {'album': {'album_type': 'album', 'artists': [{'external_urls': {'spotify': 'https://open.spotify.com/artist/4Ga1P7PMIsmqEZqhYZQgDo'}, 'href': 'https://api.spotify.com/v1/artists/4Ga1P7PMIsmqEZqhYZQgDo', 'id': '4Ga1P7PMIsmqEZqhYZQgDo', 'name': 'Lil Tecca', 'type': 'artist', 'uri': 'spotify:artist:4Ga1P7PMIsmqEZqhYZQgDo'}], 'available_markets': ['AD', 'AE', 'AL', 'AR', 'AT', 'AU', 'BA', 'BE', 'BG', 'BH', 'BO', 'BR', 'BY', 'CA', 'CH', 'CL', 'CO', 'CR', 'CY', 'CZ', 'DE', 'DK', 'DO', 'DZ', 'EC', 'EE', 'EG', 'ES', 'FI', 'FR', 'GB', 'GR', 'GT', 'HK', 'HN', 'HR', 'HU', 'ID', 'IE', 'IL', 'IN', 'IS', 'IT', 'JO', 'JP', 'KW', 'KZ', 'LB', 'LI', 'LT', 'LU', 'LV', 'MA', 'MC', 'MD', 'ME', 'MK', 'MT', 'MX', 'MY', 'NI', 'NL', 'NO', 'NZ', 'OM', 'PA', 'PE', 'PH', 'PL', 'PS', 'PT', 'PY', 'QA', 'RO', 'RS', 'RU', 'SA', 'SE', 'SG', 'SI', 'SK', 'SV', 'TH', 'TN', 'TR', 'TW', 'UA', 'US', 'UY', 'VN', 'XK', 'ZA'], 'external_urls': {'spotify': 'https://open.spotify.com/album/389zGArsMlwuPorS4Cw7IX'}, 'href': 'https://api.spotify.com/v1/albums/389zGArsMlwuPorS4Cw7IX', 'id': '389zGArsMlwuPorS4Cw7IX', 'images': [{'height': 640, 'url': 'https://i.scdn.co/image/ab67616d0000b2732026d0048432d395f6f715b5', 'width': 640}, {'height': 300, 'url': 'https://i.scdn.co/image/ab67616d00001e022026d0048432d395f6f715b5', 'width': 300}, {'height': 64, 'url': 'https://i.scdn.co/image/ab67616d000048512026d0048432d395f6f715b5', 'width': 64}], 'name': 'Virgo World', 'release_date': '2020-09-18', 'release_date_precision': 'day', 'total_tracks': 19, 'type': 'album', 'uri': 'spotify:album:389zGArsMlwuPorS4Cw7IX'}, 'artists': [{'external_urls': {'spotify': 'https://open.spotify.com/artist/4Ga1P7PMIsmqEZqhYZQgDo'}, 'href': 'https://api.spotify.com/v1/artists/4Ga1P7PMIsmqEZqhYZQgDo', 'id': '4Ga1P7PMIsmqEZqhYZQgDo', 'name': 'Lil Tecca', 'type': 'artist', 'uri': 'spotify:artist:4Ga1P7PMIsmqEZqhYZQgDo'}, {'external_urls': {'spotify': 'https://open.spotify.com/artist/7rkW85dBwwrJtlHRDkJDAC'}, 'href': 'https://api.spotify.com/v1/artists/7rkW85dBwwrJtlHRDkJDAC', 'id': '7rkW85dBwwrJtlHRDkJDAC', 'name': 'NAV', 'type': 'artist', 'uri': 'spotify:artist:7rkW85dBwwrJtlHRDkJDAC'}], 'available_markets': ['AD', 'AE', 'AL', 'AR', 'AT', 'AU', 'BA', 'BE', 'BG', 'BH', 'BO', 'BR', 'BY', 'CA', 'CH', 'CL', 'CO', 'CR', 'CY', 'CZ', 'DE', 'DK', 'DO', 'DZ', 'EC', 'EE', 'EG', 'ES', 'FI', 'FR', 'GB', 'GR', 'GT', 'HK', 'HN', 'HR', 'HU', 'ID', 'IE', 'IL', 'IN', 'IS', 'IT', 'JO', 'JP', 'KW', 'KZ', 'LB', 'LI', 'LT', 'LU', 'LV', 'MA', 'MC', 'MD', 'ME', 'MK', 'MT', 'MX', 'MY', 'NI', 'NL', 'NO', 'NZ', 'OM', 'PA', 'PE', 'PH', 'PL', 'PS', 'PT', 'PY', 'QA', 'RO', 'RS', 'RU', 'SA', 'SE', 'SG', 'SI', 'SK', 'SV', 'TH', 'TN', 'TR', 'TW', 'UA', 'US', 'UY', 'VN', 'XK', 'ZA'], 'disc_number': 1, 'duration_ms': 133773, 'explicit': True, 'external_ids': {'isrc': 'USUM72018020'}, 'external_urls': {'spotify': 'https://open.spotify.com/track/3CTOc6QGsoaxwaPJYFxNsG'}, 'href': 'https://api.spotify.com/v1/tracks/3CTOc6QGsoaxwaPJYFxNsG', 'id': '3CTOc6QGsoaxwaPJYFxNsG', 'is_local': False, 'name': 'Foreign (feat. Nav)', 'popularity': 65, 'preview_url': None, 'track_number': 7, 'type': 'track', 'uri': 'spotify:track:3CTOc6QGsoaxwaPJYFxNsG'}\n",
      "13 Out Of Luck {'album': {'album_type': 'album', 'artists': [{'external_urls': {'spotify': 'https://open.spotify.com/artist/4Ga1P7PMIsmqEZqhYZQgDo'}, 'href': 'https://api.spotify.com/v1/artists/4Ga1P7PMIsmqEZqhYZQgDo', 'id': '4Ga1P7PMIsmqEZqhYZQgDo', 'name': 'Lil Tecca', 'type': 'artist', 'uri': 'spotify:artist:4Ga1P7PMIsmqEZqhYZQgDo'}], 'available_markets': ['AD', 'AE', 'AL', 'AR', 'AT', 'AU', 'BA', 'BE', 'BG', 'BH', 'BO', 'BR', 'CA', 'CH', 'CL', 'CO', 'CR', 'CY', 'CZ', 'DE', 'DK', 'DO', 'DZ', 'EC', 'EE', 'EG', 'ES', 'FI', 'FR', 'GB', 'GR', 'GT', 'HK', 'HN', 'HR', 'HU', 'ID', 'IE', 'IL', 'IN', 'IS', 'IT', 'JO', 'JP', 'KW', 'KZ', 'LB', 'LI', 'LT', 'LU', 'LV', 'MA', 'MC', 'MD', 'ME', 'MK', 'MT', 'MX', 'MY', 'NI', 'NL', 'NO', 'NZ', 'OM', 'PA', 'PE', 'PH', 'PL', 'PS', 'PT', 'PY', 'QA', 'RO', 'RS', 'RU', 'SA', 'SE', 'SG', 'SI', 'SK', 'SV', 'TH', 'TN', 'TR', 'TW', 'UA', 'US', 'UY', 'VN', 'XK', 'ZA'], 'external_urls': {'spotify': 'https://open.spotify.com/album/1I6FpscJIfwf4T56VxGVsB'}, 'href': 'https://api.spotify.com/v1/albums/1I6FpscJIfwf4T56VxGVsB', 'id': '1I6FpscJIfwf4T56VxGVsB', 'images': [{'height': 640, 'url': 'https://i.scdn.co/image/ab67616d0000b273bd69bbde4aeee723d6d08058', 'width': 640}, {'height': 300, 'url': 'https://i.scdn.co/image/ab67616d00001e02bd69bbde4aeee723d6d08058', 'width': 300}, {'height': 64, 'url': 'https://i.scdn.co/image/ab67616d00004851bd69bbde4aeee723d6d08058', 'width': 64}], 'name': 'We Love You Tecca', 'release_date': '2019-08-30', 'release_date_precision': 'day', 'total_tracks': 18, 'type': 'album', 'uri': 'spotify:album:1I6FpscJIfwf4T56VxGVsB'}, 'artists': [{'external_urls': {'spotify': 'https://open.spotify.com/artist/4Ga1P7PMIsmqEZqhYZQgDo'}, 'href': 'https://api.spotify.com/v1/artists/4Ga1P7PMIsmqEZqhYZQgDo', 'id': '4Ga1P7PMIsmqEZqhYZQgDo', 'name': 'Lil Tecca', 'type': 'artist', 'uri': 'spotify:artist:4Ga1P7PMIsmqEZqhYZQgDo'}], 'available_markets': ['AD', 'AE', 'AL', 'AR', 'AT', 'AU', 'BA', 'BE', 'BG', 'BH', 'BO', 'BR', 'CA', 'CH', 'CL', 'CO', 'CR', 'CY', 'CZ', 'DE', 'DK', 'DO', 'DZ', 'EC', 'EE', 'EG', 'ES', 'FI', 'FR', 'GB', 'GR', 'GT', 'HK', 'HN', 'HR', 'HU', 'ID', 'IE', 'IL', 'IN', 'IS', 'IT', 'JO', 'JP', 'KW', 'KZ', 'LB', 'LI', 'LT', 'LU', 'LV', 'MA', 'MC', 'MD', 'ME', 'MK', 'MT', 'MX', 'MY', 'NI', 'NL', 'NO', 'NZ', 'OM', 'PA', 'PE', 'PH', 'PL', 'PS', 'PT', 'PY', 'QA', 'RO', 'RS', 'RU', 'SA', 'SE', 'SG', 'SI', 'SK', 'SV', 'TH', 'TN', 'TR', 'TW', 'UA', 'US', 'UY', 'VN', 'XK', 'ZA'], 'disc_number': 1, 'duration_ms': 163266, 'explicit': True, 'external_ids': {'isrc': 'USUM71917721'}, 'external_urls': {'spotify': 'https://open.spotify.com/track/1ipyiYqvds0wcaFDTW6N4X'}, 'href': 'https://api.spotify.com/v1/tracks/1ipyiYqvds0wcaFDTW6N4X', 'id': '1ipyiYqvds0wcaFDTW6N4X', 'is_local': False, 'name': 'Out Of Luck', 'popularity': 63, 'preview_url': None, 'track_number': 5, 'type': 'track', 'uri': 'spotify:track:1ipyiYqvds0wcaFDTW6N4X'}\n",
      "14 Chemistry {'album': {'album_type': 'album', 'artists': [{'external_urls': {'spotify': 'https://open.spotify.com/artist/4Ga1P7PMIsmqEZqhYZQgDo'}, 'href': 'https://api.spotify.com/v1/artists/4Ga1P7PMIsmqEZqhYZQgDo', 'id': '4Ga1P7PMIsmqEZqhYZQgDo', 'name': 'Lil Tecca', 'type': 'artist', 'uri': 'spotify:artist:4Ga1P7PMIsmqEZqhYZQgDo'}], 'available_markets': ['AD', 'AE', 'AL', 'AR', 'AT', 'AU', 'BA', 'BE', 'BG', 'BH', 'BO', 'BR', 'BY', 'CA', 'CH', 'CL', 'CO', 'CR', 'CY', 'CZ', 'DE', 'DK', 'DO', 'DZ', 'EC', 'EE', 'EG', 'ES', 'FI', 'FR', 'GB', 'GR', 'GT', 'HK', 'HN', 'HR', 'HU', 'ID', 'IE', 'IL', 'IN', 'IS', 'IT', 'JO', 'JP', 'KW', 'KZ', 'LB', 'LI', 'LT', 'LU', 'LV', 'MA', 'MC', 'MD', 'ME', 'MK', 'MT', 'MX', 'MY', 'NI', 'NL', 'NO', 'NZ', 'OM', 'PA', 'PE', 'PH', 'PL', 'PS', 'PT', 'PY', 'QA', 'RO', 'RS', 'RU', 'SA', 'SE', 'SG', 'SI', 'SK', 'SV', 'TH', 'TN', 'TR', 'TW', 'UA', 'US', 'UY', 'VN', 'XK', 'ZA'], 'external_urls': {'spotify': 'https://open.spotify.com/album/389zGArsMlwuPorS4Cw7IX'}, 'href': 'https://api.spotify.com/v1/albums/389zGArsMlwuPorS4Cw7IX', 'id': '389zGArsMlwuPorS4Cw7IX', 'images': [{'height': 640, 'url': 'https://i.scdn.co/image/ab67616d0000b2732026d0048432d395f6f715b5', 'width': 640}, {'height': 300, 'url': 'https://i.scdn.co/image/ab67616d00001e022026d0048432d395f6f715b5', 'width': 300}, {'height': 64, 'url': 'https://i.scdn.co/image/ab67616d000048512026d0048432d395f6f715b5', 'width': 64}], 'name': 'Virgo World', 'release_date': '2020-09-18', 'release_date_precision': 'day', 'total_tracks': 19, 'type': 'album', 'uri': 'spotify:album:389zGArsMlwuPorS4Cw7IX'}, 'artists': [{'external_urls': {'spotify': 'https://open.spotify.com/artist/4Ga1P7PMIsmqEZqhYZQgDo'}, 'href': 'https://api.spotify.com/v1/artists/4Ga1P7PMIsmqEZqhYZQgDo', 'id': '4Ga1P7PMIsmqEZqhYZQgDo', 'name': 'Lil Tecca', 'type': 'artist', 'uri': 'spotify:artist:4Ga1P7PMIsmqEZqhYZQgDo'}], 'available_markets': ['AD', 'AE', 'AL', 'AR', 'AT', 'AU', 'BA', 'BE', 'BG', 'BH', 'BO', 'BR', 'BY', 'CA', 'CH', 'CL', 'CO', 'CR', 'CY', 'CZ', 'DE', 'DK', 'DO', 'DZ', 'EC', 'EE', 'EG', 'ES', 'FI', 'FR', 'GB', 'GR', 'GT', 'HK', 'HN', 'HR', 'HU', 'ID', 'IE', 'IL', 'IN', 'IS', 'IT', 'JO', 'JP', 'KW', 'KZ', 'LB', 'LI', 'LT', 'LU', 'LV', 'MA', 'MC', 'MD', 'ME', 'MK', 'MT', 'MX', 'MY', 'NI', 'NL', 'NO', 'NZ', 'OM', 'PA', 'PE', 'PH', 'PL', 'PS', 'PT', 'PY', 'QA', 'RO', 'RS', 'RU', 'SA', 'SE', 'SG', 'SI', 'SK', 'SV', 'TH', 'TN', 'TR', 'TW', 'UA', 'US', 'UY', 'VN', 'XK', 'ZA'], 'disc_number': 1, 'duration_ms': 133333, 'explicit': True, 'external_ids': {'isrc': 'USUM72017906'}, 'external_urls': {'spotify': 'https://open.spotify.com/track/7niut1GcKrCVZe4mx7Tqp8'}, 'href': 'https://api.spotify.com/v1/tracks/7niut1GcKrCVZe4mx7Tqp8', 'id': '7niut1GcKrCVZe4mx7Tqp8', 'is_local': False, 'name': 'Chemistry', 'popularity': 63, 'preview_url': None, 'track_number': 5, 'type': 'track', 'uri': 'spotify:track:7niut1GcKrCVZe4mx7Tqp8'}\n",
      "15 Somebody (feat. A Boogie Wit Da Hoodie & Lil Tecca) {'album': {'album_type': 'album', 'artists': [{'external_urls': {'spotify': 'https://open.spotify.com/artist/6MPCFvOQv5cIGfw3jODMF0'}, 'href': 'https://api.spotify.com/v1/artists/6MPCFvOQv5cIGfw3jODMF0', 'id': '6MPCFvOQv5cIGfw3jODMF0', 'name': 'Internet Money', 'type': 'artist', 'uri': 'spotify:artist:6MPCFvOQv5cIGfw3jODMF0'}], 'available_markets': ['AD', 'AE', 'AL', 'AR', 'AT', 'AU', 'BA', 'BE', 'BG', 'BH', 'BO', 'BR', 'BY', 'CA', 'CH', 'CL', 'CO', 'CR', 'CY', 'CZ', 'DE', 'DK', 'DO', 'DZ', 'EC', 'EE', 'EG', 'ES', 'FI', 'FR', 'GB', 'GR', 'GT', 'HK', 'HN', 'HR', 'HU', 'ID', 'IE', 'IL', 'IN', 'IS', 'IT', 'JO', 'JP', 'KW', 'KZ', 'LB', 'LI', 'LT', 'LU', 'LV', 'MA', 'MC', 'MD', 'ME', 'MK', 'MT', 'MX', 'MY', 'NI', 'NL', 'NO', 'NZ', 'OM', 'PA', 'PE', 'PH', 'PL', 'PS', 'PT', 'PY', 'QA', 'RO', 'RS', 'RU', 'SA', 'SE', 'SG', 'SI', 'SK', 'SV', 'TH', 'TN', 'TR', 'TW', 'UA', 'US', 'UY', 'VN', 'XK', 'ZA'], 'external_urls': {'spotify': 'https://open.spotify.com/album/2vGU0DOcfsDee0euvhl1iZ'}, 'href': 'https://api.spotify.com/v1/albums/2vGU0DOcfsDee0euvhl1iZ', 'id': '2vGU0DOcfsDee0euvhl1iZ', 'images': [{'height': 640, 'url': 'https://i.scdn.co/image/ab67616d0000b2739ca0c952f130e28025209cf0', 'width': 640}, {'height': 300, 'url': 'https://i.scdn.co/image/ab67616d00001e029ca0c952f130e28025209cf0', 'width': 300}, {'height': 64, 'url': 'https://i.scdn.co/image/ab67616d000048519ca0c952f130e28025209cf0', 'width': 64}], 'name': 'B4 The Storm', 'release_date': '2020-08-28', 'release_date_precision': 'day', 'total_tracks': 17, 'type': 'album', 'uri': 'spotify:album:2vGU0DOcfsDee0euvhl1iZ'}, 'artists': [{'external_urls': {'spotify': 'https://open.spotify.com/artist/6MPCFvOQv5cIGfw3jODMF0'}, 'href': 'https://api.spotify.com/v1/artists/6MPCFvOQv5cIGfw3jODMF0', 'id': '6MPCFvOQv5cIGfw3jODMF0', 'name': 'Internet Money', 'type': 'artist', 'uri': 'spotify:artist:6MPCFvOQv5cIGfw3jODMF0'}, {'external_urls': {'spotify': 'https://open.spotify.com/artist/4Ga1P7PMIsmqEZqhYZQgDo'}, 'href': 'https://api.spotify.com/v1/artists/4Ga1P7PMIsmqEZqhYZQgDo', 'id': '4Ga1P7PMIsmqEZqhYZQgDo', 'name': 'Lil Tecca', 'type': 'artist', 'uri': 'spotify:artist:4Ga1P7PMIsmqEZqhYZQgDo'}, {'external_urls': {'spotify': 'https://open.spotify.com/artist/31W5EY0aAly4Qieq6OFu6I'}, 'href': 'https://api.spotify.com/v1/artists/31W5EY0aAly4Qieq6OFu6I', 'id': '31W5EY0aAly4Qieq6OFu6I', 'name': 'A Boogie Wit da Hoodie', 'type': 'artist', 'uri': 'spotify:artist:31W5EY0aAly4Qieq6OFu6I'}], 'available_markets': ['AD', 'AE', 'AL', 'AR', 'AT', 'AU', 'BA', 'BE', 'BG', 'BH', 'BO', 'BR', 'BY', 'CA', 'CH', 'CL', 'CO', 'CR', 'CY', 'CZ', 'DE', 'DK', 'DO', 'DZ', 'EC', 'EE', 'EG', 'ES', 'FI', 'FR', 'GB', 'GR', 'GT', 'HK', 'HN', 'HR', 'HU', 'ID', 'IE', 'IL', 'IN', 'IS', 'IT', 'JO', 'JP', 'KW', 'KZ', 'LB', 'LI', 'LT', 'LU', 'LV', 'MA', 'MC', 'MD', 'ME', 'MK', 'MT', 'MX', 'MY', 'NI', 'NL', 'NO', 'NZ', 'OM', 'PA', 'PE', 'PH', 'PL', 'PS', 'PT', 'PY', 'QA', 'RO', 'RS', 'RU', 'SA', 'SE', 'SG', 'SI', 'SK', 'SV', 'TH', 'TN', 'TR', 'TW', 'UA', 'US', 'UY', 'VN', 'XK', 'ZA'], 'disc_number': 1, 'duration_ms': 174333, 'explicit': True, 'external_ids': {'isrc': 'QZJ841900026'}, 'external_urls': {'spotify': 'https://open.spotify.com/track/4yVpS65YGing0IChXRV9Yd'}, 'href': 'https://api.spotify.com/v1/tracks/4yVpS65YGing0IChXRV9Yd', 'id': '4yVpS65YGing0IChXRV9Yd', 'is_local': False, 'name': 'Somebody (feat. A Boogie Wit Da Hoodie & Lil Tecca)', 'popularity': 64, 'preview_url': None, 'track_number': 11, 'type': 'track', 'uri': 'spotify:track:4yVpS65YGing0IChXRV9Yd'}\n",
      "16 Amigo {'album': {'album_type': 'album', 'artists': [{'external_urls': {'spotify': 'https://open.spotify.com/artist/4Ga1P7PMIsmqEZqhYZQgDo'}, 'href': 'https://api.spotify.com/v1/artists/4Ga1P7PMIsmqEZqhYZQgDo', 'id': '4Ga1P7PMIsmqEZqhYZQgDo', 'name': 'Lil Tecca', 'type': 'artist', 'uri': 'spotify:artist:4Ga1P7PMIsmqEZqhYZQgDo'}], 'available_markets': ['AD', 'AE', 'AL', 'AR', 'AT', 'AU', 'BA', 'BE', 'BG', 'BH', 'BO', 'BR', 'CA', 'CH', 'CL', 'CO', 'CR', 'CY', 'CZ', 'DE', 'DK', 'DO', 'DZ', 'EC', 'EE', 'EG', 'ES', 'FI', 'FR', 'GB', 'GR', 'GT', 'HK', 'HN', 'HR', 'HU', 'ID', 'IE', 'IL', 'IN', 'IS', 'IT', 'JO', 'JP', 'KW', 'KZ', 'LB', 'LI', 'LT', 'LU', 'LV', 'MA', 'MC', 'MD', 'ME', 'MK', 'MT', 'MX', 'MY', 'NI', 'NL', 'NO', 'NZ', 'OM', 'PA', 'PE', 'PH', 'PL', 'PS', 'PT', 'PY', 'QA', 'RO', 'RS', 'RU', 'SA', 'SE', 'SG', 'SI', 'SK', 'SV', 'TH', 'TN', 'TR', 'TW', 'UA', 'US', 'UY', 'VN', 'XK', 'ZA'], 'external_urls': {'spotify': 'https://open.spotify.com/album/1I6FpscJIfwf4T56VxGVsB'}, 'href': 'https://api.spotify.com/v1/albums/1I6FpscJIfwf4T56VxGVsB', 'id': '1I6FpscJIfwf4T56VxGVsB', 'images': [{'height': 640, 'url': 'https://i.scdn.co/image/ab67616d0000b273bd69bbde4aeee723d6d08058', 'width': 640}, {'height': 300, 'url': 'https://i.scdn.co/image/ab67616d00001e02bd69bbde4aeee723d6d08058', 'width': 300}, {'height': 64, 'url': 'https://i.scdn.co/image/ab67616d00004851bd69bbde4aeee723d6d08058', 'width': 64}], 'name': 'We Love You Tecca', 'release_date': '2019-08-30', 'release_date_precision': 'day', 'total_tracks': 18, 'type': 'album', 'uri': 'spotify:album:1I6FpscJIfwf4T56VxGVsB'}, 'artists': [{'external_urls': {'spotify': 'https://open.spotify.com/artist/4Ga1P7PMIsmqEZqhYZQgDo'}, 'href': 'https://api.spotify.com/v1/artists/4Ga1P7PMIsmqEZqhYZQgDo', 'id': '4Ga1P7PMIsmqEZqhYZQgDo', 'name': 'Lil Tecca', 'type': 'artist', 'uri': 'spotify:artist:4Ga1P7PMIsmqEZqhYZQgDo'}], 'available_markets': ['AD', 'AE', 'AL', 'AR', 'AT', 'AU', 'BA', 'BE', 'BG', 'BH', 'BO', 'BR', 'CA', 'CH', 'CL', 'CO', 'CR', 'CY', 'CZ', 'DE', 'DK', 'DO', 'DZ', 'EC', 'EE', 'EG', 'ES', 'FI', 'FR', 'GB', 'GR', 'GT', 'HK', 'HN', 'HR', 'HU', 'ID', 'IE', 'IL', 'IN', 'IS', 'IT', 'JO', 'JP', 'KW', 'KZ', 'LB', 'LI', 'LT', 'LU', 'LV', 'MA', 'MC', 'MD', 'ME', 'MK', 'MT', 'MX', 'MY', 'NI', 'NL', 'NO', 'NZ', 'OM', 'PA', 'PE', 'PH', 'PL', 'PS', 'PT', 'PY', 'QA', 'RO', 'RS', 'RU', 'SA', 'SE', 'SG', 'SI', 'SK', 'SV', 'TH', 'TN', 'TR', 'TW', 'UA', 'US', 'UY', 'VN', 'XK', 'ZA'], 'disc_number': 1, 'duration_ms': 150093, 'explicit': True, 'external_ids': {'isrc': 'USUM71917722'}, 'external_urls': {'spotify': 'https://open.spotify.com/track/2BULAwmRpScmZE7YOF07e5'}, 'href': 'https://api.spotify.com/v1/tracks/2BULAwmRpScmZE7YOF07e5', 'id': '2BULAwmRpScmZE7YOF07e5', 'is_local': False, 'name': 'Amigo', 'popularity': 63, 'preview_url': None, 'track_number': 8, 'type': 'track', 'uri': 'spotify:track:2BULAwmRpScmZE7YOF07e5'}\n",
      "17 Royal Rumble {'album': {'album_type': 'album', 'artists': [{'external_urls': {'spotify': 'https://open.spotify.com/artist/4Ga1P7PMIsmqEZqhYZQgDo'}, 'href': 'https://api.spotify.com/v1/artists/4Ga1P7PMIsmqEZqhYZQgDo', 'id': '4Ga1P7PMIsmqEZqhYZQgDo', 'name': 'Lil Tecca', 'type': 'artist', 'uri': 'spotify:artist:4Ga1P7PMIsmqEZqhYZQgDo'}], 'available_markets': ['AD', 'AE', 'AL', 'AR', 'AT', 'AU', 'BA', 'BE', 'BG', 'BH', 'BO', 'BR', 'BY', 'CA', 'CH', 'CL', 'CO', 'CR', 'CY', 'CZ', 'DE', 'DK', 'DO', 'DZ', 'EC', 'EE', 'EG', 'ES', 'FI', 'FR', 'GB', 'GR', 'GT', 'HK', 'HN', 'HR', 'HU', 'ID', 'IE', 'IL', 'IN', 'IS', 'IT', 'JO', 'JP', 'KW', 'KZ', 'LB', 'LI', 'LT', 'LU', 'LV', 'MA', 'MC', 'MD', 'ME', 'MK', 'MT', 'MX', 'MY', 'NI', 'NL', 'NO', 'NZ', 'OM', 'PA', 'PE', 'PH', 'PL', 'PS', 'PT', 'PY', 'QA', 'RO', 'RS', 'RU', 'SA', 'SE', 'SG', 'SI', 'SK', 'SV', 'TH', 'TN', 'TR', 'TW', 'UA', 'US', 'UY', 'VN', 'XK', 'ZA'], 'external_urls': {'spotify': 'https://open.spotify.com/album/389zGArsMlwuPorS4Cw7IX'}, 'href': 'https://api.spotify.com/v1/albums/389zGArsMlwuPorS4Cw7IX', 'id': '389zGArsMlwuPorS4Cw7IX', 'images': [{'height': 640, 'url': 'https://i.scdn.co/image/ab67616d0000b2732026d0048432d395f6f715b5', 'width': 640}, {'height': 300, 'url': 'https://i.scdn.co/image/ab67616d00001e022026d0048432d395f6f715b5', 'width': 300}, {'height': 64, 'url': 'https://i.scdn.co/image/ab67616d000048512026d0048432d395f6f715b5', 'width': 64}], 'name': 'Virgo World', 'release_date': '2020-09-18', 'release_date_precision': 'day', 'total_tracks': 19, 'type': 'album', 'uri': 'spotify:album:389zGArsMlwuPorS4Cw7IX'}, 'artists': [{'external_urls': {'spotify': 'https://open.spotify.com/artist/4Ga1P7PMIsmqEZqhYZQgDo'}, 'href': 'https://api.spotify.com/v1/artists/4Ga1P7PMIsmqEZqhYZQgDo', 'id': '4Ga1P7PMIsmqEZqhYZQgDo', 'name': 'Lil Tecca', 'type': 'artist', 'uri': 'spotify:artist:4Ga1P7PMIsmqEZqhYZQgDo'}], 'available_markets': ['AD', 'AE', 'AL', 'AR', 'AT', 'AU', 'BA', 'BE', 'BG', 'BH', 'BO', 'BR', 'BY', 'CA', 'CH', 'CL', 'CO', 'CR', 'CY', 'CZ', 'DE', 'DK', 'DO', 'DZ', 'EC', 'EE', 'EG', 'ES', 'FI', 'FR', 'GB', 'GR', 'GT', 'HK', 'HN', 'HR', 'HU', 'ID', 'IE', 'IL', 'IN', 'IS', 'IT', 'JO', 'JP', 'KW', 'KZ', 'LB', 'LI', 'LT', 'LU', 'LV', 'MA', 'MC', 'MD', 'ME', 'MK', 'MT', 'MX', 'MY', 'NI', 'NL', 'NO', 'NZ', 'OM', 'PA', 'PE', 'PH', 'PL', 'PS', 'PT', 'PY', 'QA', 'RO', 'RS', 'RU', 'SA', 'SE', 'SG', 'SI', 'SK', 'SV', 'TH', 'TN', 'TR', 'TW', 'UA', 'US', 'UY', 'VN', 'XK', 'ZA'], 'disc_number': 1, 'duration_ms': 159813, 'explicit': True, 'external_ids': {'isrc': 'USUM72015759'}, 'external_urls': {'spotify': 'https://open.spotify.com/track/4XslNXIadAFZ1PmbELe5TB'}, 'href': 'https://api.spotify.com/v1/tracks/4XslNXIadAFZ1PmbELe5TB', 'id': '4XslNXIadAFZ1PmbELe5TB', 'is_local': False, 'name': 'Royal Rumble', 'popularity': 63, 'preview_url': None, 'track_number': 6, 'type': 'track', 'uri': 'spotify:track:4XslNXIadAFZ1PmbELe5TB'}\n",
      "18 JLO (feat. Lil Tecca) {'album': {'album_type': 'album', 'artists': [{'external_urls': {'spotify': 'https://open.spotify.com/artist/6MPCFvOQv5cIGfw3jODMF0'}, 'href': 'https://api.spotify.com/v1/artists/6MPCFvOQv5cIGfw3jODMF0', 'id': '6MPCFvOQv5cIGfw3jODMF0', 'name': 'Internet Money', 'type': 'artist', 'uri': 'spotify:artist:6MPCFvOQv5cIGfw3jODMF0'}], 'available_markets': ['AD', 'AE', 'AL', 'AR', 'AT', 'AU', 'BA', 'BE', 'BG', 'BH', 'BO', 'BR', 'BY', 'CA', 'CH', 'CL', 'CO', 'CR', 'CY', 'CZ', 'DE', 'DK', 'DO', 'DZ', 'EC', 'EE', 'EG', 'ES', 'FI', 'FR', 'GB', 'GR', 'GT', 'HK', 'HN', 'HR', 'HU', 'ID', 'IE', 'IL', 'IN', 'IS', 'IT', 'JO', 'JP', 'KW', 'KZ', 'LB', 'LI', 'LT', 'LU', 'LV', 'MA', 'MC', 'MD', 'ME', 'MK', 'MT', 'MX', 'MY', 'NI', 'NL', 'NO', 'NZ', 'OM', 'PA', 'PE', 'PH', 'PL', 'PS', 'PT', 'PY', 'QA', 'RO', 'RS', 'RU', 'SA', 'SE', 'SG', 'SI', 'SK', 'SV', 'TH', 'TN', 'TR', 'TW', 'UA', 'US', 'UY', 'VN', 'XK', 'ZA'], 'external_urls': {'spotify': 'https://open.spotify.com/album/6U5j597olXfdjtd6wHd3Cu'}, 'href': 'https://api.spotify.com/v1/albums/6U5j597olXfdjtd6wHd3Cu', 'id': '6U5j597olXfdjtd6wHd3Cu', 'images': [{'height': 640, 'url': 'https://i.scdn.co/image/ab67616d0000b2738de76cfb913ec21e57ed0dee', 'width': 640}, {'height': 300, 'url': 'https://i.scdn.co/image/ab67616d00001e028de76cfb913ec21e57ed0dee', 'width': 300}, {'height': 64, 'url': 'https://i.scdn.co/image/ab67616d000048518de76cfb913ec21e57ed0dee', 'width': 64}], 'name': 'B4 The Storm', 'release_date': '2020-08-29', 'release_date_precision': 'day', 'total_tracks': 17, 'type': 'album', 'uri': 'spotify:album:6U5j597olXfdjtd6wHd3Cu'}, 'artists': [{'external_urls': {'spotify': 'https://open.spotify.com/artist/6MPCFvOQv5cIGfw3jODMF0'}, 'href': 'https://api.spotify.com/v1/artists/6MPCFvOQv5cIGfw3jODMF0', 'id': '6MPCFvOQv5cIGfw3jODMF0', 'name': 'Internet Money', 'type': 'artist', 'uri': 'spotify:artist:6MPCFvOQv5cIGfw3jODMF0'}, {'external_urls': {'spotify': 'https://open.spotify.com/artist/4Ga1P7PMIsmqEZqhYZQgDo'}, 'href': 'https://api.spotify.com/v1/artists/4Ga1P7PMIsmqEZqhYZQgDo', 'id': '4Ga1P7PMIsmqEZqhYZQgDo', 'name': 'Lil Tecca', 'type': 'artist', 'uri': 'spotify:artist:4Ga1P7PMIsmqEZqhYZQgDo'}], 'available_markets': ['AD', 'AE', 'AL', 'AR', 'AT', 'AU', 'BA', 'BE', 'BG', 'BH', 'BO', 'BR', 'BY', 'CA', 'CH', 'CL', 'CO', 'CR', 'CY', 'CZ', 'DE', 'DK', 'DO', 'DZ', 'EC', 'EE', 'EG', 'ES', 'FI', 'FR', 'GB', 'GR', 'GT', 'HK', 'HN', 'HR', 'HU', 'ID', 'IE', 'IL', 'IN', 'IS', 'IT', 'JO', 'JP', 'KW', 'KZ', 'LB', 'LI', 'LT', 'LU', 'LV', 'MA', 'MC', 'MD', 'ME', 'MK', 'MT', 'MX', 'MY', 'NI', 'NL', 'NO', 'NZ', 'OM', 'PA', 'PE', 'PH', 'PL', 'PS', 'PT', 'PY', 'QA', 'RO', 'RS', 'RU', 'SA', 'SE', 'SG', 'SI', 'SK', 'SV', 'TH', 'TN', 'TR', 'TW', 'UA', 'US', 'UY', 'VN', 'XK', 'ZA'], 'disc_number': 1, 'duration_ms': 163636, 'explicit': True, 'external_ids': {'isrc': 'QZJ842000380'}, 'external_urls': {'spotify': 'https://open.spotify.com/track/3QpVmv8HQK5NrqqHr8Rqle'}, 'href': 'https://api.spotify.com/v1/tracks/3QpVmv8HQK5NrqqHr8Rqle', 'id': '3QpVmv8HQK5NrqqHr8Rqle', 'is_local': False, 'name': 'JLO (feat. Lil Tecca)', 'popularity': 61, 'preview_url': None, 'track_number': 6, 'type': 'track', 'uri': 'spotify:track:3QpVmv8HQK5NrqqHr8Rqle'}\n",
      "19 How I Was Raised {'album': {'album_type': 'album', 'artists': [{'external_urls': {'spotify': 'https://open.spotify.com/artist/6Xgp2XMz1fhVYe7i6yNAax'}, 'href': 'https://api.spotify.com/v1/artists/6Xgp2XMz1fhVYe7i6yNAax', 'id': '6Xgp2XMz1fhVYe7i6yNAax', 'name': 'Trippie Redd', 'type': 'artist', 'uri': 'spotify:artist:6Xgp2XMz1fhVYe7i6yNAax'}], 'available_markets': ['AD', 'AE', 'AL', 'AR', 'AT', 'AU', 'BA', 'BE', 'BG', 'BH', 'BO', 'BR', 'BY', 'CA', 'CH', 'CL', 'CO', 'CR', 'CY', 'CZ', 'DE', 'DK', 'DO', 'DZ', 'EC', 'EE', 'EG', 'ES', 'FI', 'FR', 'GB', 'GR', 'GT', 'HK', 'HN', 'HR', 'HU', 'ID', 'IE', 'IL', 'IN', 'IS', 'IT', 'JO', 'JP', 'KW', 'KZ', 'LB', 'LI', 'LT', 'LU', 'LV', 'MA', 'MC', 'MD', 'ME', 'MK', 'MT', 'MX', 'MY', 'NI', 'NL', 'NO', 'NZ', 'OM', 'PA', 'PE', 'PH', 'PL', 'PS', 'PT', 'PY', 'QA', 'RO', 'RS', 'RU', 'SA', 'SE', 'SG', 'SI', 'SK', 'SV', 'TH', 'TN', 'TR', 'TW', 'UA', 'US', 'UY', 'VN', 'XK', 'ZA'], 'external_urls': {'spotify': 'https://open.spotify.com/album/5Hsaxc6a2GWPAqXttPFbY0'}, 'href': 'https://api.spotify.com/v1/albums/5Hsaxc6a2GWPAqXttPFbY0', 'id': '5Hsaxc6a2GWPAqXttPFbY0', 'images': [{'height': 640, 'url': 'https://i.scdn.co/image/ab67616d0000b273411aeb5d15a59ea6e295d7b7', 'width': 640}, {'height': 300, 'url': 'https://i.scdn.co/image/ab67616d00001e02411aeb5d15a59ea6e295d7b7', 'width': 300}, {'height': 64, 'url': 'https://i.scdn.co/image/ab67616d00004851411aeb5d15a59ea6e295d7b7', 'width': 64}], 'name': 'A Love Letter To You 4 (Deluxe)', 'release_date': '2020-02-21', 'release_date_precision': 'day', 'total_tracks': 29, 'type': 'album', 'uri': 'spotify:album:5Hsaxc6a2GWPAqXttPFbY0'}, 'artists': [{'external_urls': {'spotify': 'https://open.spotify.com/artist/6Xgp2XMz1fhVYe7i6yNAax'}, 'href': 'https://api.spotify.com/v1/artists/6Xgp2XMz1fhVYe7i6yNAax', 'id': '6Xgp2XMz1fhVYe7i6yNAax', 'name': 'Trippie Redd', 'type': 'artist', 'uri': 'spotify:artist:6Xgp2XMz1fhVYe7i6yNAax'}, {'external_urls': {'spotify': 'https://open.spotify.com/artist/4Ga1P7PMIsmqEZqhYZQgDo'}, 'href': 'https://api.spotify.com/v1/artists/4Ga1P7PMIsmqEZqhYZQgDo', 'id': '4Ga1P7PMIsmqEZqhYZQgDo', 'name': 'Lil Tecca', 'type': 'artist', 'uri': 'spotify:artist:4Ga1P7PMIsmqEZqhYZQgDo'}], 'available_markets': ['AD', 'AE', 'AL', 'AR', 'AT', 'AU', 'BA', 'BE', 'BG', 'BH', 'BO', 'BR', 'BY', 'CA', 'CH', 'CL', 'CO', 'CR', 'CY', 'CZ', 'DE', 'DK', 'DO', 'DZ', 'EC', 'EE', 'EG', 'ES', 'FI', 'FR', 'GB', 'GR', 'GT', 'HK', 'HN', 'HR', 'HU', 'ID', 'IE', 'IL', 'IN', 'IS', 'IT', 'JO', 'JP', 'KW', 'KZ', 'LB', 'LI', 'LT', 'LU', 'LV', 'MA', 'MC', 'MD', 'ME', 'MK', 'MT', 'MX', 'MY', 'NI', 'NL', 'NO', 'NZ', 'OM', 'PA', 'PE', 'PH', 'PL', 'PS', 'PT', 'PY', 'QA', 'RO', 'RS', 'RU', 'SA', 'SE', 'SG', 'SI', 'SK', 'SV', 'TH', 'TN', 'TR', 'TW', 'UA', 'US', 'UY', 'VN', 'XK', 'ZA'], 'disc_number': 1, 'duration_ms': 169008, 'explicit': True, 'external_ids': {'isrc': 'QZJ842000097'}, 'external_urls': {'spotify': 'https://open.spotify.com/track/2wsA4fEHE7ig1B8TyGkZ12'}, 'href': 'https://api.spotify.com/v1/tracks/2wsA4fEHE7ig1B8TyGkZ12', 'id': '2wsA4fEHE7ig1B8TyGkZ12', 'is_local': False, 'name': 'How I Was Raised', 'popularity': 60, 'preview_url': None, 'track_number': 4, 'type': 'track', 'uri': 'spotify:track:2wsA4fEHE7ig1B8TyGkZ12'}\n"
     ]
    },
    {
     "data": {
      "text/plain": [
       "{'album_type': 'album',\n",
       " 'artists': [{'external_urls': {'spotify': 'https://open.spotify.com/artist/6Xgp2XMz1fhVYe7i6yNAax'},\n",
       "   'href': 'https://api.spotify.com/v1/artists/6Xgp2XMz1fhVYe7i6yNAax',\n",
       "   'id': '6Xgp2XMz1fhVYe7i6yNAax',\n",
       "   'name': 'Trippie Redd',\n",
       "   'type': 'artist',\n",
       "   'uri': 'spotify:artist:6Xgp2XMz1fhVYe7i6yNAax'}],\n",
       " 'available_markets': ['AD',\n",
       "  'AE',\n",
       "  'AL',\n",
       "  'AR',\n",
       "  'AT',\n",
       "  'AU',\n",
       "  'BA',\n",
       "  'BE',\n",
       "  'BG',\n",
       "  'BH',\n",
       "  'BO',\n",
       "  'BR',\n",
       "  'BY',\n",
       "  'CA',\n",
       "  'CH',\n",
       "  'CL',\n",
       "  'CO',\n",
       "  'CR',\n",
       "  'CY',\n",
       "  'CZ',\n",
       "  'DE',\n",
       "  'DK',\n",
       "  'DO',\n",
       "  'DZ',\n",
       "  'EC',\n",
       "  'EE',\n",
       "  'EG',\n",
       "  'ES',\n",
       "  'FI',\n",
       "  'FR',\n",
       "  'GB',\n",
       "  'GR',\n",
       "  'GT',\n",
       "  'HK',\n",
       "  'HN',\n",
       "  'HR',\n",
       "  'HU',\n",
       "  'ID',\n",
       "  'IE',\n",
       "  'IL',\n",
       "  'IN',\n",
       "  'IS',\n",
       "  'IT',\n",
       "  'JO',\n",
       "  'JP',\n",
       "  'KW',\n",
       "  'KZ',\n",
       "  'LB',\n",
       "  'LI',\n",
       "  'LT',\n",
       "  'LU',\n",
       "  'LV',\n",
       "  'MA',\n",
       "  'MC',\n",
       "  'MD',\n",
       "  'ME',\n",
       "  'MK',\n",
       "  'MT',\n",
       "  'MX',\n",
       "  'MY',\n",
       "  'NI',\n",
       "  'NL',\n",
       "  'NO',\n",
       "  'NZ',\n",
       "  'OM',\n",
       "  'PA',\n",
       "  'PE',\n",
       "  'PH',\n",
       "  'PL',\n",
       "  'PS',\n",
       "  'PT',\n",
       "  'PY',\n",
       "  'QA',\n",
       "  'RO',\n",
       "  'RS',\n",
       "  'RU',\n",
       "  'SA',\n",
       "  'SE',\n",
       "  'SG',\n",
       "  'SI',\n",
       "  'SK',\n",
       "  'SV',\n",
       "  'TH',\n",
       "  'TN',\n",
       "  'TR',\n",
       "  'TW',\n",
       "  'UA',\n",
       "  'US',\n",
       "  'UY',\n",
       "  'VN',\n",
       "  'XK',\n",
       "  'ZA'],\n",
       " 'external_urls': {'spotify': 'https://open.spotify.com/album/5Hsaxc6a2GWPAqXttPFbY0'},\n",
       " 'href': 'https://api.spotify.com/v1/albums/5Hsaxc6a2GWPAqXttPFbY0',\n",
       " 'id': '5Hsaxc6a2GWPAqXttPFbY0',\n",
       " 'images': [{'height': 640,\n",
       "   'url': 'https://i.scdn.co/image/ab67616d0000b273411aeb5d15a59ea6e295d7b7',\n",
       "   'width': 640},\n",
       "  {'height': 300,\n",
       "   'url': 'https://i.scdn.co/image/ab67616d00001e02411aeb5d15a59ea6e295d7b7',\n",
       "   'width': 300},\n",
       "  {'height': 64,\n",
       "   'url': 'https://i.scdn.co/image/ab67616d00004851411aeb5d15a59ea6e295d7b7',\n",
       "   'width': 64}],\n",
       " 'name': 'A Love Letter To You 4 (Deluxe)',\n",
       " 'release_date': '2020-02-21',\n",
       " 'release_date_precision': 'day',\n",
       " 'total_tracks': 29,\n",
       " 'type': 'album',\n",
       " 'uri': 'spotify:album:5Hsaxc6a2GWPAqXttPFbY0'}"
      ]
     },
     "execution_count": 24,
     "metadata": {},
     "output_type": "execute_result"
    }
   ],
   "source": [
    "import spotipy\n",
    "from spotipy.oauth2 import SpotifyClientCredentials\n",
    "\n",
    "sp = spotipy.Spotify(auth_manager=SpotifyClientCredentials(client_id=\"9d8abf61ce1f44c089e2eb931fc58320\",\n",
    "                                                           client_secret=dt.strip('\"')))\n",
    "\n",
    "results = sp.search(q='Lil Tecca', limit=20)\n",
    "for idx, track in enumerate(results['tracks']['items']):\n",
    "    print(idx, track['name'], track)\n",
    "    \n",
    "track[\"album\"][\"href\"]"
   ]
  },
  {
   "cell_type": "code",
   "execution_count": null,
   "metadata": {},
   "outputs": [],
   "source": [
    "track[\"album\"][\"href\"]"
   ]
  },
  {
   "cell_type": "code",
   "execution_count": 20,
   "metadata": {},
   "outputs": [
    {
     "name": "stdout",
     "output_type": "stream",
     "text": [
      "{'external_urls': {'spotify': 'https://open.spotify.com/artist/3jOstUTkEu2JkjvRdBA5Gu'}, 'followers': {'href': None, 'total': 2133866}, 'genres': ['alternative rock', 'modern power pop', 'modern rock', 'permanent wave', 'pop rock', 'rock'], 'href': 'https://api.spotify.com/v1/artists/3jOstUTkEu2JkjvRdBA5Gu', 'id': '3jOstUTkEu2JkjvRdBA5Gu', 'images': [{'height': 640, 'url': 'https://i.scdn.co/image/6b6289ebd6f1b70f65a7ea0b0d83af8e9dda5859', 'width': 640}, {'height': 320, 'url': 'https://i.scdn.co/image/a98b858b40c14cdaaa69f472e711a6759033694d', 'width': 320}, {'height': 160, 'url': 'https://i.scdn.co/image/a1d645bc5a4a32f772d3d4a62e6a94f27a1457a6', 'width': 160}], 'name': 'Weezer', 'popularity': 77, 'type': 'artist', 'uri': 'spotify:artist:3jOstUTkEu2JkjvRdBA5Gu'}\n"
     ]
    }
   ],
   "source": [
    "urn = 'spotify:artist:3jOstUTkEu2JkjvRdBA5Gu'\n",
    "artist = sp.artist(urn)\n",
    "print(artist)"
   ]
  },
  {
   "cell_type": "code",
   "execution_count": null,
   "metadata": {},
   "outputs": [],
   "source": [
    "### Using spotify as a reference\n",
    "\n",
    "- https://api.spotify.com/v1/artists/3jOstUTkEu2JkjvRdBA5Gu\n",
    "- '3jOstUTkEu2JkjvRdBA5Gu'"
   ]
  },
  {
   "cell_type": "markdown",
   "metadata": {},
   "source": [
    "### Explore the API \n",
    "\n",
    "- https://spotipy.readthedocs.io/en/2.16.1/"
   ]
  },
  {
   "cell_type": "code",
   "execution_count": null,
   "metadata": {},
   "outputs": [],
   "source": [
    "### Projects check in"
   ]
  }
 ],
 "metadata": {
  "kernelspec": {
   "display_name": "Python 3",
   "language": "python",
   "name": "python3"
  },
  "language_info": {
   "codemirror_mode": {
    "name": "ipython",
    "version": 3
   },
   "file_extension": ".py",
   "mimetype": "text/x-python",
   "name": "python",
   "nbconvert_exporter": "python",
   "pygments_lexer": "ipython3",
   "version": "3.8.5"
  }
 },
 "nbformat": 4,
 "nbformat_minor": 4
}

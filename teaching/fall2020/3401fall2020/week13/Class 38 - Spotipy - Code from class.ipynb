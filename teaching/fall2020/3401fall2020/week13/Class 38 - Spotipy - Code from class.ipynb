{
 "cells": [
  {
   "cell_type": "markdown",
   "metadata": {},
   "source": [
    "### Authentication and set up"
   ]
  },
  {
   "cell_type": "code",
   "execution_count": 1,
   "metadata": {},
   "outputs": [
    {
     "name": "stdout",
     "output_type": "stream",
     "text": [
      "0 Ransom\n",
      "1 Diva (feat. Lil Tecca)\n",
      "2 When You Down (with Polo G feat. Lil Durk)\n",
      "3 Ransom (with Juice WRLD) - Remix\n",
      "4 Dolly (with Lil Uzi Vert)\n",
      "5 Love Me\n",
      "6 Did It Again\n",
      "7 Out Of Love (feat. Internet Money)\n",
      "8 Somebody\n",
      "9 Our Time\n",
      "10 Shots\n",
      "11 Ransom\n",
      "12 All Star\n",
      "13 All Star (with Lil Tjay)\n",
      "14 Foreign (feat. Nav)\n",
      "15 Out Of Luck\n",
      "16 Royal Rumble\n",
      "17 Somebody (feat. A Boogie Wit Da Hoodie & Lil Tecca)\n",
      "18 Chemistry\n",
      "19 How I Was Raised\n"
     ]
    }
   ],
   "source": [
    "import spotipy\n",
    "from spotipy.oauth2 import SpotifyClientCredentials\n",
    "\n",
    "CLIENT_ID = \"9d8abf61ce1f44c089e2eb931fc58320\"\n",
    "\n",
    "CLIENT_SECRET = \"defb77b266ee4a8cb9fbeeecd02ae203\"\n",
    "    \n",
    "sp = spotipy.Spotify(auth_manager=SpotifyClientCredentials(client_id=CLIENT_ID,\n",
    "                                                           client_secret=CLIENT_SECRET))\n",
    "\n",
    "results = sp.search(q='Lil Tecca', limit=20)\n",
    "for idx, track in enumerate(results['tracks']['items']):\n",
    "    print(idx, track['name'])"
   ]
  },
  {
   "cell_type": "code",
   "execution_count": 8,
   "metadata": {},
   "outputs": [],
   "source": [
    "str_ = \"hi casey\".replace('\\n', '')"
   ]
  },
  {
   "cell_type": "markdown",
   "metadata": {},
   "source": [
    "### Search\n",
    "\n",
    "https://spotipy.readthedocs.io/en/2.16.1/?highlight=search#spotipy.client.Spotify.search"
   ]
  },
  {
   "cell_type": "code",
   "execution_count": 3,
   "metadata": {},
   "outputs": [
    {
     "name": "stdout",
     "output_type": "stream",
     "text": [
      "Gucci Mane vs Jeezy - Official Verzuz Playlist\n",
      "Gucci Mane: I Am My Only Competition\n",
      "Gucci Mane Hardest Shit\n",
      "This Is Gucci Mane\n",
      "Gucci Mane old school\n",
      "😎 Gucci Mane Classics ❄️🍦\n",
      "Gucci Mane!\n",
      "Gucci Mane — I Think I Love Her\n",
      "Gucci Mane – Gucci Classics\n",
      "Gucci Mane – Mixtapes\n",
      "Gucci Mane albums\n",
      "Gucci Mane vs Young Jeezy (Extended Version)\n",
      "Gucci Mane Radio\n",
      "Gucci Mane\n",
      "Gucci Mane — My Kitchen\n",
      "Gucci Mane — First Day Out Tha Feds\n",
      "Gucci Mane — Trap Back\n",
      "Gucci Mane Playlist\n",
      "Gucci Mane vs Young Jeezy\n",
      "gucci mane in 2006\n"
     ]
    }
   ],
   "source": [
    "import spotipy\n",
    "from spotipy.oauth2 import SpotifyClientCredentials\n",
    "\n",
    "sp = spotipy.Spotify(auth_manager=SpotifyClientCredentials(client_id=\"9d8abf61ce1f44c089e2eb931fc58320\",\n",
    "                                                           client_secret=\"defb77b266ee4a8cb9fbeeecd02ae203\"))\n",
    "\n",
    "\n",
    "results = sp.search(q='Gucci Mane', type=\"playlist\", limit=20)\n",
    "\n",
    "for item_ in results['playlists'][\"items\"]:\n",
    "    print(item_[\"name\"])"
   ]
  },
  {
   "cell_type": "code",
   "execution_count": 7,
   "metadata": {},
   "outputs": [
    {
     "ename": "AttributeError",
     "evalue": "'dict' object has no attribute 'id'",
     "output_type": "error",
     "traceback": [
      "\u001b[0;31m---------------------------------------------------------------------------\u001b[0m",
      "\u001b[0;31mAttributeError\u001b[0m                            Traceback (most recent call last)",
      "\u001b[0;32m<ipython-input-7-97093a1bbb28>\u001b[0m in \u001b[0;36m<module>\u001b[0;34m\u001b[0m\n\u001b[0;32m----> 1\u001b[0;31m \u001b[0mitem_\u001b[0m\u001b[0;34m.\u001b[0m\u001b[0mid\u001b[0m\u001b[0;34m\u001b[0m\u001b[0;34m\u001b[0m\u001b[0m\n\u001b[0m",
      "\u001b[0;31mAttributeError\u001b[0m: 'dict' object has no attribute 'id'"
     ]
    }
   ],
   "source": [
    "item_.id"
   ]
  },
  {
   "cell_type": "code",
   "execution_count": 18,
   "metadata": {},
   "outputs": [
    {
     "name": "stdout",
     "output_type": "stream",
     "text": [
      "dict_keys(['href', 'items', 'limit', 'next', 'offset', 'previous', 'total'])\n",
      "Round 1\n",
      "23, 24 Hood Mixx\n",
      "Fresh Out\n",
      "16 Fever\n",
      "Stay Strapped\n",
      "Everything\n",
      "745\n",
      "Don't You Know\n",
      "Street Niggaz\n",
      "Trap Or Die\n",
      "Trap House\n",
      "Get Ya Mind Right\n",
      "Vette Pass By (feat. OJ da Juiceman)\n",
      "Truth\n"
     ]
    }
   ],
   "source": [
    "output_dict = sp.playlist_items(playlist_id=\"6LhNY9r6QRusam17tVsKqO\")\n",
    "print(output_dict.keys())\n",
    "playlist_items = output_dict[\"items\"]\n",
    "for item in playlist_items:\n",
    "    print(item[\"track\"][\"name\"])"
   ]
  },
  {
   "cell_type": "code",
   "execution_count": 21,
   "metadata": {},
   "outputs": [
    {
     "name": "stdout",
     "output_type": "stream",
     "text": [
      "None\n"
     ]
    }
   ],
   "source": [
    "print(item['primary_color'])"
   ]
  },
  {
   "cell_type": "markdown",
   "metadata": {},
   "source": [
    "### Using spotify as a reference\n"
   ]
  },
  {
   "cell_type": "markdown",
   "metadata": {},
   "source": [
    "### Explore the API \n",
    "\n",
    "- https://spotipy.readthedocs.io/en/2.16.1/"
   ]
  },
  {
   "cell_type": "markdown",
   "metadata": {},
   "source": [
    "### Projects check in"
   ]
  }
 ],
 "metadata": {
  "kernelspec": {
   "display_name": "Python 3",
   "language": "python",
   "name": "python3"
  },
  "language_info": {
   "codemirror_mode": {
    "name": "ipython",
    "version": 3
   },
   "file_extension": ".py",
   "mimetype": "text/x-python",
   "name": "python",
   "nbconvert_exporter": "python",
   "pygments_lexer": "ipython3",
   "version": "3.8.3"
  }
 },
 "nbformat": 4,
 "nbformat_minor": 4
}

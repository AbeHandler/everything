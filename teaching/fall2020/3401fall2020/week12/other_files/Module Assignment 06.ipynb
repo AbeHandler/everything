{
 "cells": [
  {
   "cell_type": "markdown",
   "metadata": {},
   "source": [
    "## Module assignment 6 \n",
    "- INFO 3401 Fall 2020\n",
    "- Topic: APIs and JSON\n",
    "- 200 points"
   ]
  },
  {
   "cell_type": "markdown",
   "metadata": {},
   "source": [
    "### Intro\n",
    "\n",
    "Some sing about love, some sing about money. In this assignment, we will use the Spotify API to investigate who sings about what.\n",
    "\n",
    "We will be using the Spotipy wrapper to access the API. Both the API and the wrapper illustrate a number of common patterns in working with APIs including: \n",
    "\n",
    "1. **Authentication.** _Getting set up with a service, and proving you are who you say you are_\n",
    "\n",
    "2. **Pagination.** _Accessing data in chunks or pages_\n",
    "\n",
    "3. **Python wrapper libraries.** _Using wrapper code to access API endpoints with Python objects_\n",
    "\n",
    "4. **Nesting and linking.** _Working with nested and linked JSON objects that come back from an API_\n",
    "\n",
    "It's very useful to be comfortable working with APIs in general. This module will give you practice with one specific API to help build up your capacity to work with other APIs in the future."
   ]
  },
  {
   "cell_type": "markdown",
   "metadata": {},
   "source": [
    "### Setup [20 points]\n",
    "\n",
    "#### Step One: Registration\n",
    "To do this assignment, you will need to get set up with the Spotify API. Here is a [link](https://developer.spotify.com/documentation/web-api/quick-start/) to the Spotify site to get started. Please follow the sections \"Set Up Your Account\" and \"Register Your Application\" to tell Spotify that you are a creating an application. **You should NOT setup a nodejs environment. Just follow the steps to create an account and register a sample application**. \n",
    "\n",
    "#### Step Two: Lookup\n",
    "Once you are set up, you should be able to go to your Spotify [\"Dashboard\"](https://developer.spotify.com/dashboard/applications), click on your application and learn your `Client ID` and `Client Secret`. \n",
    "\n",
    "#### Step Three: Configuration\n",
    "You should set up [environment variables](https://askubuntu.com/questions/58814/how-do-i-add-environment-variables) `CLIENT_ID` and `CLIENT_SECRET`. We covered how to do this in class on 11/16 so please consult the recording for extra help. You want to fill these variables with the Client ID and Client Secret from the Spotify dashboard.\n",
    "\n",
    "#### Step Four: Installation\n",
    "You should install spotipy in the same environment where you set your `CLIENT_ID` and `CLIENT_SECRET` variables using the command `$pip install spotipy --upgrade`.\n",
    "\n",
    "#### Step Five: Verification\n",
    "If you are correctly set up, you should be able to run the cell below without error to print out the albums from the English singer [Birdy](https://www.officialbirdy.com/). This is the example on the \"Welcome to Spotipy\" [documentation page](https://spotipy.readthedocs.io/en/2.16.1/). Often APIs give you a minimal example to help you get started."
   ]
  },
  {
   "cell_type": "markdown",
   "metadata": {},
   "source": [
    "### Run the following cell to show that you have setup Spotipy"
   ]
  },
  {
   "cell_type": "code",
   "execution_count": 3,
   "metadata": {},
   "outputs": [],
   "source": [
    "import spotipy\n",
    "import pandas as pd\n",
    "from spotipy.oauth2 import SpotifyClientCredentials\n",
    "\n",
    "birdy_uri = 'spotify:artist:2WX2uTcsvV5OnS0inACecP'\n",
    "spotify = spotipy.Spotify(client_credentials_manager=SpotifyClientCredentials())\n",
    "\n",
    "results = spotify.artist_albums(birdy_uri, album_type='album')\n",
    "\n",
    "albums = results['items']\n",
    "while results['next']:\n",
    "    results = spotify.next(results)\n",
    "    albums.extend(results['items'])\n",
    "\n",
    "for album in albums:\n",
    "    print(album['name'])"
   ]
  },
  {
   "cell_type": "markdown",
   "metadata": {},
   "source": [
    "### Search for love song artists and save results [10 points]\n",
    "\n",
    "- Use the `spotipy.search` [method](https://spotipy.readthedocs.io/en/2.16.1/#spotipy.client.Spotify.search) to search for songs that mention the word `love`.\n",
    "- You will get back data that includes a `tracks` field with a list of `items` in it. Iterate over the items and fill a list of artists who sing love songs. Each artist should be a Python dictionary with two fields: `artist` and `artist_id`, representing an artist associated with some track returned from the search.\n",
    "- Note that the artist field returned from calls to Spotify is a list of artists. You should make dictionary for _each_ artist in the list.\n",
    "- Note that you should make 200 calls to the search method, using the `offset` parameter to get new pages and setting the `limit` field to 50. \n",
    "- There is some starter code to help you with all of this."
   ]
  },
  {
   "cell_type": "code",
   "execution_count": 5,
   "metadata": {},
   "outputs": [],
   "source": [
    "love_songs_artists = []\n",
    "\n",
    "for offset in range(200):\n",
    "    if offset % 10 == 0:\n",
    "        print(\"iter=\", offset)\n",
    "    results = spotify.search(q='love', type='track', limit=50, offset=offset)\n",
    "    # fill love_songs_artists with a list of dictionaries. Each dictionary should \n",
    "    # have two fields: artist and artist_id"
   ]
  },
  {
   "cell_type": "markdown",
   "metadata": {},
   "source": [
    "### Check in\n",
    "\n",
    "Run the cell below to turn your list of love songs into a dataframe. Do not modify the next cell."
   ]
  },
  {
   "cell_type": "code",
   "execution_count": 6,
   "metadata": {},
   "outputs": [],
   "source": [
    "### Do not modify this cell\n",
    "love_songs_artists = pd.DataFrame(love_songs_artists)\n",
    "print(len(love_songs_artists)) # include this line. Do not remove \n",
    "love_songs_artists"
   ]
  },
  {
   "cell_type": "markdown",
   "metadata": {},
   "source": [
    "### Reflection question [20 points]\n",
    "\n",
    "1. Why do you think Spotify's API returns a list of artists in the artist field, as opposed to a single artist?\n",
    "\n",
    "Answer: \n",
    "    \n",
    "2. Describe the `love_songs_artists` dataframe. What does it represent?\n",
    "\n",
    "Answer: "
   ]
  },
  {
   "cell_type": "markdown",
   "metadata": {},
   "source": [
    "### Search for money song artists and save results [10 points]\n",
    "\n",
    "- Use the `spotipy.search` [method](https://spotipy.readthedocs.io/en/2.16.1/#spotipy.client.Spotify.search) to search for songs that mention the word `money`.\n",
    "- You should use the exact same process that you used above\n",
    "- This time, fill a dictionary called `money_songs_artists`\n",
    "- Note that you should make 200 calls to the API, using the `offset` parameter to get new pages and setting the `limit` field to 50. There is some starter code to help you."
   ]
  },
  {
   "cell_type": "code",
   "execution_count": 7,
   "metadata": {},
   "outputs": [],
   "source": [
    "money_songs_artists = []\n",
    "\n",
    "for offset in range(200):\n",
    "    if offset % 10 == 0:\n",
    "        print(\"iter=\", offset)\n",
    "    results = spotify.search(q='money', type='track', limit=50, offset=offset)\n",
    "    # Your code here\n",
    "    \n",
    "# Do not modify code below this line \n",
    "money_songs_artists = pd.DataFrame(money_songs_artists)\n",
    "print(len(money_songs_artists)) \n",
    "money_songs_artists"
   ]
  },
  {
   "cell_type": "markdown",
   "metadata": {},
   "source": [
    "### Merge [20 points]\n",
    "\n",
    "Merge money songs and love songs to create a table `artists` showing every artist who is included in **both** `love_songs_artists` and `money_songs_artists`. Your table should have two columns, `artist` and `artist_id`. \n",
    "\n",
    "Depending on how you do this, you might need to rename columns, drop duplicates and reset indexes. You should end up with a table without duplicates listing every artist who is in both the `love_songs_artists` and `money_songs_artists` data frame. You should see around 25 unique artists."
   ]
  },
  {
   "cell_type": "code",
   "execution_count": 8,
   "metadata": {},
   "outputs": [
    {
     "data": {
      "text/html": [
       "<div>\n",
       "<style scoped>\n",
       "    .dataframe tbody tr th:only-of-type {\n",
       "        vertical-align: middle;\n",
       "    }\n",
       "\n",
       "    .dataframe tbody tr th {\n",
       "        vertical-align: top;\n",
       "    }\n",
       "\n",
       "    .dataframe thead th {\n",
       "        text-align: right;\n",
       "    }\n",
       "</style>\n",
       "<table border=\"1\" class=\"dataframe\">\n",
       "  <thead>\n",
       "    <tr style=\"text-align: right;\">\n",
       "      <th></th>\n",
       "      <th>artist</th>\n",
       "      <th>artist_id</th>\n",
       "    </tr>\n",
       "  </thead>\n",
       "  <tbody>\n",
       "  </tbody>\n",
       "</table>\n",
       "</div>"
      ],
      "text/plain": [
       "Empty DataFrame\n",
       "Columns: [artist, artist_id]\n",
       "Index: []"
      ]
     },
     "execution_count": 8,
     "metadata": {},
     "output_type": "execute_result"
    }
   ],
   "source": [
    "artists = pd.DataFrame([], columns = ['artist','artist_id'])\n",
    "artists"
   ]
  },
  {
   "cell_type": "markdown",
   "metadata": {},
   "source": [
    "### Examine the method below\n",
    "\n",
    "Take a look at the method below. It returns a list of tracks for a given album. \n",
    "\n",
    "Go to this URL, which shows the songs from an album from Lil Tecca \n",
    "- https://open.spotify.com/album/389zGArsMlwuPorS4Cw7IX\n",
    "    \n",
    "Then call `get_tracks_from_album(389zGArsMlwuPorS4Cw7IX)`\n",
    "\n",
    "What do you notice about the Spotify site and the API call? Why does that make sense? You don't need to type out an answer, just note what is going on."
   ]
  },
  {
   "cell_type": "code",
   "execution_count": 6,
   "metadata": {},
   "outputs": [
    {
     "data": {
      "text/plain": [
       "['Our Time',\n",
       " 'Actin Up',\n",
       " 'When You Down (with Polo G feat. Lil Durk)',\n",
       " 'Back It Up',\n",
       " 'Chemistry']"
      ]
     },
     "execution_count": 6,
     "metadata": {},
     "output_type": "execute_result"
    }
   ],
   "source": [
    "def get_tracks_from_album(album_id):\n",
    "    '''\n",
    "    Don't change this code. The method is provided for you. You don't need to modify anything. \n",
    "    But you will need to understand this example to complete the other methods \n",
    "    '''\n",
    "    tracks = []\n",
    "    for track in spotify.album_tracks(album_id)['items']:\n",
    "        tracks.append(track[\"name\"])\n",
    "    return tracks\n",
    "\n",
    "get_tracks_from_album(\"389zGArsMlwuPorS4Cw7IX\")[0:5]"
   ]
  },
  {
   "cell_type": "markdown",
   "metadata": {},
   "source": [
    "### Get all albums [20 points]\n",
    "\n",
    "Using the example above to give you a sense of the general pattern,  complete the `get_all_albums` method below. Your method should return a list of `id`s for every album for some artist, specified with their artist `artist_id`. \n",
    "\n",
    "For instance, if you call `get_all_albums(artist_id=\"0du5cEVh5yTK9QJze8zA0C\")` you should get a list with the album ids for all albums and singles by Bruno Mars. You should be able to check results for any album by going to the ablum URL on Spotify. You will need to change albumID to a string like `1zHGyWFzo9Vav0UaT6ujds` to use the URL below.\n",
    "\n",
    ". https://open.spotify.com/album/[albumID]\n",
    "\n",
    "**Important.** Artists sometimes release singles as well as albums. Notice that you will have to call the `spotify.artist_albums` method twice (see code below) to get both the full-length albums and the singles for the artist.\n"
   ]
  },
  {
   "cell_type": "code",
   "execution_count": 7,
   "metadata": {},
   "outputs": [
    {
     "data": {
      "text/plain": [
       "['1JirxaiYwz8hAxAk38rkeH',\n",
       " '3yt8Fkff5zoTNllx1J5ZKh',\n",
       " '4xWulj18AGahlyuZPulaGe',\n",
       " '3oP7uWUlDux6jlHTRlu0FC',\n",
       " '1z4Zl2hcCiRyB4uIPeqEfr',\n",
       " '0219JhsyibMkftKsI94Mv1',\n",
       " '4A0vJtV9ok7vmr9ursSKj8',\n",
       " '6cvRompQh4NtPhHa7cuAd2',\n",
       " '73pAZrAw8W3Ey9hBJYOVLt',\n",
       " '58ufpQsJ1DS5kq4hhzQDiI',\n",
       " '1uyf3l2d4XYwiEqAb7t7fX',\n",
       " '2vf1K6KumbRZnRHa1JeKyD',\n",
       " '4PgleR09JVnm3zY1fW3XBA',\n",
       " '6LD3J50OxLEQbAB8ahoj1S',\n",
       " '2xclonI4faQWl6lhqecGM5',\n",
       " '54DNHFsfCa7nlQFWXMg7y3',\n",
       " '1onK6XeDccA2NW6SlzQMNK',\n",
       " '4uoEruXjt0APvHaSqrwqPH',\n",
       " '7BzP09BlvvE4ioNgvdLrdm',\n",
       " '07OCQAUAQaZmKORKt2StFm',\n",
       " '4w6KUt7eyD4paTTNctylCS',\n",
       " '3X801hUAmbUAHmatvmMhfA',\n",
       " '0yDiMZdbFwO5lGB9Dq5wlL',\n",
       " '3mumK2ar9b4JPhVOZR0V2p',\n",
       " '5a4sJJ3qjn6hqRsvm0Veso',\n",
       " '7yBnuW3SpMKy3EB9iU0C7p',\n",
       " '3z0q0X2akvNg4SP1n1jYfK',\n",
       " '5AVEtKtguEa8sqYhSj3zFW',\n",
       " '6J84szYCnMfzEcvIcfWMFL',\n",
       " '7KBjLhk3IM27k3ry4vBk3i',\n",
       " '5EA4kogB3cZr2qykFlZDYV',\n",
       " '7mkyc2BUahNfo0orKzqNGB']"
      ]
     },
     "execution_count": 7,
     "metadata": {},
     "output_type": "execute_result"
    }
   ],
   "source": [
    "def get_all_albums(artist_id, limit=50):\n",
    "    '''Return a list of albums for the artist. You should return a set of IDs, one for each album'''\n",
    "    results = spotify.artist_albums(artist_id, album_type='album', limit=limit)\n",
    "    out = [] # use this to store output\n",
    "    \n",
    "    # your code here\n",
    "    \n",
    "    # You also need to call this again to get the artist's singles. \n",
    "    # notice that Album type is different in this second API call\n",
    "    results = spotify.artist_albums(artist_id, album_type='single', limit=limit)\n",
    "\n",
    "    # your code here\n",
    "    \n",
    "    return list(set(out))\n",
    "\n",
    "get_all_albums(artist_id=\"0du5cEVh5yTK9QJze8zA0C\") # all Bruno Mars albums"
   ]
  },
  {
   "cell_type": "markdown",
   "metadata": {},
   "source": [
    "### Get all tracks from all albums [25 points]\n",
    "\n",
    "Finally, use the `get_all_albums` method and the `get_tracks_from_album` method to get a list of all tracks from each artist. There is some starter code to help you. You should return a set of all tracks from all albums for an artist (including singles)."
   ]
  },
  {
   "cell_type": "code",
   "execution_count": 8,
   "metadata": {},
   "outputs": [
    {
     "data": {
      "text/plain": [
       "['Stupid In Love - Chew Fu Small Room Fix',\n",
       " 'What Now - Guy Scheiman Dub',\n",
       " 'S&M - Sidney Samson Club',\n",
       " \"Breakin' Dishes - Soul Seekerz Remix\",\n",
       " 'California King Bed - DJ Chus & Abel Ramos Radio']"
      ]
     },
     "execution_count": 8,
     "metadata": {},
     "output_type": "execute_result"
    }
   ],
   "source": [
    "def get_all_tracks_for_artist(artist_id):\n",
    "    albums = get_all_albums(artist_id=artist_id)\n",
    "    all_tracks = []\n",
    "\n",
    "    # your code here\n",
    "\n",
    "    return list(set(all_tracks))\n",
    "\n",
    "RIHANNA_ARTIST_ID = \"5pKCCKE2ajJHZ9KAiaK11H\"\n",
    "all_songs_by_rihanna = get_all_tracks_for_artist(artist_id=RIHANNA_ARTIST_ID)\n",
    "all_songs_by_rihanna[0:5]"
   ]
  },
  {
   "cell_type": "markdown",
   "metadata": {},
   "source": [
    "### Get all tracks [10 points]\n",
    "\n",
    "Use your `get_all_tracks_for_artist` method to help you fill a dataframe called `all_tracks` of all the tracks from each artist in the `artists` table.  There is some starter code to help you. Your `all_tracks` dataframe should have two fields, \"artist_id\" and \"track_name\" to represent each track from each artist. Be sure to remove duplicates."
   ]
  },
  {
   "cell_type": "code",
   "execution_count": 11,
   "metadata": {},
   "outputs": [
    {
     "data": {
      "text/html": [
       "<div>\n",
       "<style scoped>\n",
       "    .dataframe tbody tr th:only-of-type {\n",
       "        vertical-align: middle;\n",
       "    }\n",
       "\n",
       "    .dataframe tbody tr th {\n",
       "        vertical-align: top;\n",
       "    }\n",
       "\n",
       "    .dataframe thead th {\n",
       "        text-align: right;\n",
       "    }\n",
       "</style>\n",
       "<table border=\"1\" class=\"dataframe\">\n",
       "  <thead>\n",
       "    <tr style=\"text-align: right;\">\n",
       "      <th></th>\n",
       "      <th>artist_id</th>\n",
       "      <th>track_name</th>\n",
       "    </tr>\n",
       "  </thead>\n",
       "  <tbody>\n",
       "  </tbody>\n",
       "</table>\n",
       "</div>"
      ],
      "text/plain": [
       "Empty DataFrame\n",
       "Columns: [artist_id, track_name]\n",
       "Index: []"
      ]
     },
     "execution_count": 11,
     "metadata": {},
     "output_type": "execute_result"
    }
   ],
   "source": [
    "all_tracks_list = []\n",
    "\n",
    "all_tracks = pd.DataFrame([], columns = [\"artist_id\", \"track_name\"])\n",
    "\n",
    "for artist_no, artist_id in enumerate(artists[\"artist_id\"]):\n",
    "    pass\n",
    "        \n",
    "# fill the dataframe all_tracks\n",
    "\n",
    "all_tracks"
   ]
  },
  {
   "cell_type": "markdown",
   "metadata": {},
   "source": [
    "### Aggregation [20 points]\n",
    "\n",
    "Use `all_tracks` to create a data frame called `count_tracks_df` with three colums: `artist_id`, `artist` and `total_songs`. The `total_songs` field should store the total count of tracks for the artist. The `artist_id` and `artist` fields should store the id and name of the artist. For instance, your table should have a `total_songs` field showing the total number of tracks for the artist Lana Del Rey (ID=`00FQb4jTyendYWaN8pK0wa`)."
   ]
  },
  {
   "cell_type": "code",
   "execution_count": 13,
   "metadata": {},
   "outputs": [
    {
     "data": {
      "text/html": [
       "<div>\n",
       "<style scoped>\n",
       "    .dataframe tbody tr th:only-of-type {\n",
       "        vertical-align: middle;\n",
       "    }\n",
       "\n",
       "    .dataframe tbody tr th {\n",
       "        vertical-align: top;\n",
       "    }\n",
       "\n",
       "    .dataframe thead th {\n",
       "        text-align: right;\n",
       "    }\n",
       "</style>\n",
       "<table border=\"1\" class=\"dataframe\">\n",
       "  <thead>\n",
       "    <tr style=\"text-align: right;\">\n",
       "      <th></th>\n",
       "      <th>artist_id</th>\n",
       "      <th>total_songs</th>\n",
       "      <th>artist</th>\n",
       "    </tr>\n",
       "  </thead>\n",
       "  <tbody>\n",
       "  </tbody>\n",
       "</table>\n",
       "</div>"
      ],
      "text/plain": [
       "Empty DataFrame\n",
       "Columns: [artist_id, total_songs, artist]\n",
       "Index: []"
      ]
     },
     "execution_count": 13,
     "metadata": {},
     "output_type": "execute_result"
    }
   ],
   "source": [
    "count_tracks_df = pd.DataFrame([], columns = [\"artist_id\", \"total_songs\", \"artist\"])\n",
    "\n",
    "count_tracks_df"
   ]
  },
  {
   "cell_type": "code",
   "execution_count": 14,
   "metadata": {},
   "outputs": [
    {
     "data": {
      "text/html": [
       "<div>\n",
       "<style scoped>\n",
       "    .dataframe tbody tr th:only-of-type {\n",
       "        vertical-align: middle;\n",
       "    }\n",
       "\n",
       "    .dataframe tbody tr th {\n",
       "        vertical-align: top;\n",
       "    }\n",
       "\n",
       "    .dataframe thead th {\n",
       "        text-align: right;\n",
       "    }\n",
       "</style>\n",
       "<table border=\"1\" class=\"dataframe\">\n",
       "  <thead>\n",
       "    <tr style=\"text-align: right;\">\n",
       "      <th></th>\n",
       "      <th>artist_id</th>\n",
       "      <th>total_songs</th>\n",
       "      <th>artist</th>\n",
       "    </tr>\n",
       "  </thead>\n",
       "  <tbody>\n",
       "  </tbody>\n",
       "</table>\n",
       "</div>"
      ],
      "text/plain": [
       "Empty DataFrame\n",
       "Columns: [artist_id, total_songs, artist]\n",
       "Index: []"
      ]
     },
     "execution_count": 14,
     "metadata": {},
     "output_type": "execute_result"
    }
   ],
   "source": [
    "# Do not modify this cell. It should show the count of tracks by Lana Del Rey\n",
    "\n",
    "count_tracks_df[count_tracks_df[\"artist\"] == \"Lana Del Rey\"]"
   ]
  },
  {
   "cell_type": "markdown",
   "metadata": {},
   "source": [
    "### Data analysis [20 points]\n",
    "\n",
    "**High level task.** \n",
    "\n",
    "Fill a data frame `love_and_money` which has three columns: `Nlove`, `Nmoney` and `artist_id`. `Nlove` and `Nmoney` should represent the number of tracks containing the string `love` (ignore case) and the number of tracks containing the string `money` (ignore case) respectively, for a given artist. For instance, if Lana Del Ray has 3 songs which include the string `love` the value of `Nlove` should be 3, for the row in the dataframe representing Lana Del Ray. There is a line of code below to show you the structure of the data frame.\n",
    "\n",
    "**Level-level instructions.**\n",
    "\n",
    "It's up to you to figure out how to create `love_and_money`. (There are multiple ways to do it). Here are a few hints; you don't have to use them.\n",
    "- You could create a new column \"love\" in the `all_tracks` dataframe which stores a 1 if the track title contains the word love. Then you could create a new column \"money\" in the `all_tracks` dataframe which stores a 1 if the track title contains the word money. You might want to use [str.contains](https://pandas.pydata.org/pandas-docs/stable/reference/api/pandas.Series.str.contains.html) to create these columns.\n",
    "- You could then select rows from `all_tracks` and group by artist_id to count how many times an artist sings about love and how many times an artist sings about money. You might want to use [value_counts](https://pandas.pydata.org/pandas-docs/stable/reference/api/pandas.Series.value_counts.html) for this.\n"
   ]
  },
  {
   "cell_type": "code",
   "execution_count": 15,
   "metadata": {},
   "outputs": [
    {
     "data": {
      "text/html": [
       "<div>\n",
       "<style scoped>\n",
       "    .dataframe tbody tr th:only-of-type {\n",
       "        vertical-align: middle;\n",
       "    }\n",
       "\n",
       "    .dataframe tbody tr th {\n",
       "        vertical-align: top;\n",
       "    }\n",
       "\n",
       "    .dataframe thead th {\n",
       "        text-align: right;\n",
       "    }\n",
       "</style>\n",
       "<table border=\"1\" class=\"dataframe\">\n",
       "  <thead>\n",
       "    <tr style=\"text-align: right;\">\n",
       "      <th></th>\n",
       "      <th>artist_id</th>\n",
       "      <th>Nlove</th>\n",
       "      <th>Nmoney</th>\n",
       "    </tr>\n",
       "  </thead>\n",
       "  <tbody>\n",
       "  </tbody>\n",
       "</table>\n",
       "</div>"
      ],
      "text/plain": [
       "Empty DataFrame\n",
       "Columns: [artist_id, Nlove, Nmoney]\n",
       "Index: []"
      ]
     },
     "execution_count": 15,
     "metadata": {},
     "output_type": "execute_result"
    }
   ],
   "source": [
    "love_and_money = pd.DataFrame([], columns=['artist_id', 'Nlove', 'Nmoney'])\n",
    "\n",
    "# Your code here\n",
    "\n",
    "love_and_money"
   ]
  },
  {
   "cell_type": "code",
   "execution_count": 16,
   "metadata": {},
   "outputs": [
    {
     "data": {
      "text/html": [
       "<div>\n",
       "<style scoped>\n",
       "    .dataframe tbody tr th:only-of-type {\n",
       "        vertical-align: middle;\n",
       "    }\n",
       "\n",
       "    .dataframe tbody tr th {\n",
       "        vertical-align: top;\n",
       "    }\n",
       "\n",
       "    .dataframe thead th {\n",
       "        text-align: right;\n",
       "    }\n",
       "</style>\n",
       "<table border=\"1\" class=\"dataframe\">\n",
       "  <thead>\n",
       "    <tr style=\"text-align: right;\">\n",
       "      <th></th>\n",
       "      <th>artist_id</th>\n",
       "      <th>Nlove</th>\n",
       "      <th>Nmoney</th>\n",
       "      <th>total_songs</th>\n",
       "      <th>artist</th>\n",
       "    </tr>\n",
       "  </thead>\n",
       "  <tbody>\n",
       "  </tbody>\n",
       "</table>\n",
       "</div>"
      ],
      "text/plain": [
       "Empty DataFrame\n",
       "Columns: [artist_id, Nlove, Nmoney, total_songs, artist]\n",
       "Index: []"
      ]
     },
     "execution_count": 16,
     "metadata": {},
     "output_type": "execute_result"
    }
   ],
   "source": [
    "### Create a results table that has five fields [artist_id, total_songs, artist, Nlove, Nmoney]\n",
    "\n",
    "# The easiest way to do this is to merge the count_tracks_df table with the love_and_money table\n",
    "\n",
    "results = pd.DataFrame([], columns=['artist_id', 'Nlove', 'Nmoney', 'total_songs', 'artist'])\n",
    "\n",
    "results"
   ]
  },
  {
   "cell_type": "code",
   "execution_count": 17,
   "metadata": {},
   "outputs": [
    {
     "data": {
      "text/html": [
       "<div>\n",
       "<style scoped>\n",
       "    .dataframe tbody tr th:only-of-type {\n",
       "        vertical-align: middle;\n",
       "    }\n",
       "\n",
       "    .dataframe tbody tr th {\n",
       "        vertical-align: top;\n",
       "    }\n",
       "\n",
       "    .dataframe thead th {\n",
       "        text-align: right;\n",
       "    }\n",
       "</style>\n",
       "<table border=\"1\" class=\"dataframe\">\n",
       "  <thead>\n",
       "    <tr style=\"text-align: right;\">\n",
       "      <th></th>\n",
       "      <th>artist_id</th>\n",
       "      <th>Nlove</th>\n",
       "      <th>Nmoney</th>\n",
       "      <th>total_songs</th>\n",
       "      <th>artist</th>\n",
       "      <th>money_pct</th>\n",
       "      <th>love_pct</th>\n",
       "    </tr>\n",
       "  </thead>\n",
       "  <tbody>\n",
       "  </tbody>\n",
       "</table>\n",
       "</div>"
      ],
      "text/plain": [
       "Empty DataFrame\n",
       "Columns: [artist_id, Nlove, Nmoney, total_songs, artist, money_pct, love_pct]\n",
       "Index: []"
      ]
     },
     "execution_count": 17,
     "metadata": {},
     "output_type": "execute_result"
    }
   ],
   "source": [
    "# Add two columns to the results table, love_pct and money_pct, showing what percentage of the\n",
    "# time an artist sings about love and the percentage of the time an artist sings about money. \n",
    "# To make each field, you will have to divide Nlove and Nmoney by the total_songs and \n",
    "# multiply by 100 (remember that percentages are fractions out of 100)\n",
    "\n",
    "results[\"money_pct\"] = \"TODO\"   # your code here\n",
    "results[\"love_pct\"] = \"TODO\" \n",
    "\n",
    "results"
   ]
  },
  {
   "cell_type": "markdown",
   "metadata": {},
   "source": [
    "### Plotting [15 points]\n",
    "\n",
    "- Make a scatter plot showing the percentage of an artist's songs which mention love along the y-axis and the percentage of an artist's songs which mention money along the x-axis.\n",
    "- Each point on the plot should represent one artist.\n",
    "- Most of the code is provided for you. You need to fill the `X`, `Y` and `labels` variables to get it to run. The label variable is a list of labels for each point on the scatter plot.\n",
    "- If are confused what the code is doing, please consult this [stackoverflow post](https://stackoverflow.com/questions/14432557/matplotlib-scatter-plot-with-different-text-at-each-data-point) and the [matplotlib documentation](https://matplotlib.org/3.1.1/gallery/text_labels_and_annotations/annotation_demo.html).\n",
    "- **Once you are finished with the plot, be sure to answer the final question below**"
   ]
  },
  {
   "cell_type": "code",
   "execution_count": 18,
   "metadata": {},
   "outputs": [],
   "source": [
    "# You need to modify this cell to fill the X, Y and labels variables\n",
    "\n",
    "X = []\n",
    "Y = []\n",
    "labels = []\n"
   ]
  },
  {
   "cell_type": "code",
   "execution_count": 19,
   "metadata": {},
   "outputs": [
    {
     "data": {
      "image/png": "[encoded data removed]",
      "text/plain": [
       "<Figure size 864x864 with 1 Axes>"
      ]
     },
     "metadata": {
      "needs_background": "light"
     },
     "output_type": "display_data"
    }
   ],
   "source": [
    "import matplotlib.pyplot as plt\n",
    "\n",
    "fig, ax = plt.subplots()\n",
    "\n",
    "ax.scatter(X, Y)\n",
    "\n",
    "for i, txt in enumerate(labels):\n",
    "    ax.annotate(txt, (X[i], Y[i]))\n",
    "    \n",
    "ax.set_xlabel('pct love')\n",
    "ax.set_ylabel('pct money')\n",
    "fig.set_size_inches(12, 12)  # If you want, you can make the plot even larger to make the points easier to see."
   ]
  },
  {
   "cell_type": "markdown",
   "metadata": {},
   "source": [
    "### Questions [10 points]\n",
    "\n",
    "- Which artists tend to sing the most about money? Does this surprise you?\n",
    "\n",
    "[Your answer here]\n",
    "\n",
    "- Which artists tend to sing the most about love?  Does this surprise you?\n",
    "\n",
    "[Your answer here]"
   ]
  },
  {
   "cell_type": "markdown",
   "metadata": {},
   "source": [
    "### Extra credit [up to 25 points]\n",
    "\n",
    "Modify this running example to keep track of the genre or gender of each artist (or anything else you are curious about). Redo the scatter plot and color points based on genre or gender or some other variable. Do you see anything interesting? You might want to look at a larger number of artists by looking at more pages while searching for love and money at the top of the notebook (using the Spotify API).\n",
    "\n",
    "### Include all extra credit code below this line"
   ]
  }
 ],
 "metadata": {
  "kernelspec": {
   "display_name": "Python 3",
   "language": "python",
   "name": "python3"
  },
  "language_info": {
   "codemirror_mode": {
    "name": "ipython",
    "version": 3
   },
   "file_extension": ".py",
   "mimetype": "text/x-python",
   "name": "python",
   "nbconvert_exporter": "python",
   "pygments_lexer": "ipython3",
   "version": "3.8.5"
  }
 },
 "nbformat": 4,
 "nbformat_minor": 4
}

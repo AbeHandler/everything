{
 "cells": [
  {
   "cell_type": "markdown",
   "metadata": {},
   "source": [
    "# Intro to variables types in Python"
   ]
  },
  {
   "cell_type": "markdown",
   "metadata": {},
   "source": [
    "### Number types \n",
    "\n",
    "There are two kinds of numbers in Python: integers and floating point numbers (which are also called \"floats\"). Integers represent discrete values and floats represent continous values. "
   ]
  },
  {
   "cell_type": "code",
   "execution_count": 12,
   "metadata": {},
   "outputs": [
    {
     "name": "stdout",
     "output_type": "stream",
     "text": [
      "<class 'int'> <class 'float'>\n"
     ]
    }
   ],
   "source": [
    "# Numbers in Python\n",
    "\n",
    "x = 5    # integer (discrete)\n",
    "y = 5.813  # floating point number / real number (continuous-ish)\n",
    "\n",
    "print(type(x), type(y))"
   ]
  },
  {
   "cell_type": "markdown",
   "metadata": {},
   "source": [
    "#### Question 1\n",
    "What happens if you add an integer and a float? Do you get an integer or a float? Try it in the cell below and then type in your answer below\n",
    "\n",
    "\n",
    "#### Answer\n",
    "\n",
    "[Type your answer here]"
   ]
  },
  {
   "cell_type": "code",
   "execution_count": 4,
   "metadata": {},
   "outputs": [],
   "source": [
    "# Try adding an integer and a float. What happens? Do you get an integer or a float?\n",
    "\n",
    "# Your answer here "
   ]
  },
  {
   "cell_type": "markdown",
   "metadata": {},
   "source": [
    "You can convert integers to floats and vice versa"
   ]
  },
  {
   "cell_type": "code",
   "execution_count": 5,
   "metadata": {},
   "outputs": [
    {
     "name": "stdout",
     "output_type": "stream",
     "text": [
      "5.0 6\n",
      "<class 'float'> <class 'int'>\n"
     ]
    }
   ],
   "source": [
    "x = float(x)\n",
    "y = round(y) # round to nearest integer\n",
    "\n",
    "print(x, y)\n",
    "print(type(x), type(y))"
   ]
  },
  {
   "cell_type": "markdown",
   "metadata": {},
   "source": [
    "#### Question 2\n",
    "\n",
    "What is different between the first time I called `print(type(x), type(y))` and the second time I called `print(type(x), type(y))` ? Why did the output change?\n",
    "\n",
    "#### Answer\n",
    "\n",
    "[Type your answer here]"
   ]
  },
  {
   "cell_type": "markdown",
   "metadata": {},
   "source": [
    "#### Question 3\n",
    "\n",
    "If you look up to the top of the notebook, you will see a drop down menu that allows you to select Code or Markdown. You should set the dropdown to code if you are writing code set it to markdown if you are writing natural language. Try setting this cell to code using the dropdown and try clicking run. What happens and why? \n",
    "\n",
    "#### Answer\n",
    "[Type your answer here]"
   ]
  },
  {
   "cell_type": "markdown",
   "metadata": {},
   "source": [
    "### Python also supports other discrete variable types like strings and Booleans"
   ]
  },
  {
   "cell_type": "code",
   "execution_count": 7,
   "metadata": {},
   "outputs": [],
   "source": [
    "# Other discrete variables\n",
    "\n",
    "a = 'string'\n",
    "b = True"
   ]
  },
  {
   "cell_type": "markdown",
   "metadata": {},
   "source": [
    "#### Question 4\n",
    "You need to pay attention when performing operations on variables in Python. Try running `b + 1` in a new cell in this notebook. What happens? Did you expect this?\n",
    "\n",
    "#### Answer\n",
    "\n",
    "[Type your answer here]"
   ]
  },
  {
   "cell_type": "markdown",
   "metadata": {},
   "source": [
    "# Intro to collections (lists and sets) in Python"
   ]
  },
  {
   "cell_type": "markdown",
   "metadata": {},
   "source": [
    "In computer programming, groups of variables are often called collections. In this class we will work with two kinds of collections in Python: "
   ]
  },
  {
   "cell_type": "code",
   "execution_count": 4,
   "metadata": {},
   "outputs": [
    {
     "name": "stdout",
     "output_type": "stream",
     "text": [
      "[1, 3, 5, 7, 7, 7, 9] 7\n",
      "{1, 3, 5, 7, 9} 5\n"
     ]
    }
   ],
   "source": [
    "# Collections (Lists and sets)\n",
    "\n",
    "odds1 = [1, 3, 5, 7, 7, 7, 9]   # list/array/vector\n",
    "odds2 = {1, 3, 5, 7, 7, 7, 9}   # set\n",
    "\n",
    "#odds1 = set(odds1)\n",
    "#odds2 = list(odds2)\n",
    "\n",
    "print(odds1, len(odds1))\n",
    "print(odds2, len(odds2))"
   ]
  },
  {
   "cell_type": "code",
   "execution_count": 20,
   "metadata": {
    "scrolled": true
   },
   "outputs": [
    {
     "name": "stdout",
     "output_type": "stream",
     "text": [
      "1 3\n",
      "9\n",
      "[1, 3, 5]\n"
     ]
    }
   ],
   "source": [
    "# Accessing elements of lists\n",
    "\n",
    "odds = [1, 3, 5, 7, 9]\n",
    "\n",
    "first = odds[0]   # first element starts at 0\n",
    "second = odds[1]   # first element starts at 1\n",
    "print(first, second)\n",
    "\n",
    "last = odds[-1]\n",
    "print(last)\n",
    "\n",
    "# Slicing\n",
    "\n",
    "section = odds[0:3]\n",
    "print(section)"
   ]
  },
  {
   "cell_type": "markdown",
   "metadata": {
    "collapsed": true
   },
   "source": [
    "### Turning in your notebook \n",
    "\n",
    "When you have completed all questions in the notebook, click \"Kernel\" on the top dropdown menu and then \"Restart and Run All\". This will rerun all of the code in the notebook. It is a good idea to do this from time to time when using a Jupyter notebook to make sure you can easily reproduce all of your results. You definitely need to do this before turning in your assignent just to make sure all of the code runs. After you click \"Restart and Run All,\", scroll back up through this notebook to see if there are any errors. \n",
    "\n",
    "If there are no errors, then click File -> Download As and choose PDF. This will download a file called Notebook1.pdf to your machine. Open up this PDF and take a look. It saves your notebook as a document! \n",
    "\n",
    "Turn in your notebook file `Notebook1.ipynb` and your PDF file `Notebook1.pdf` to Canvas under the assignment called Notebook1."
   ]
  }
 ],
 "metadata": {
  "kernelspec": {
   "display_name": "Python 3",
   "language": "python",
   "name": "python3"
  },
  "language_info": {
   "codemirror_mode": {
    "name": "ipython",
    "version": 3
   },
   "file_extension": ".py",
   "mimetype": "text/x-python",
   "name": "python",
   "nbconvert_exporter": "python",
   "pygments_lexer": "ipython3",
   "version": "3.7.7"
  }
 },
 "nbformat": 4,
 "nbformat_minor": 2
}

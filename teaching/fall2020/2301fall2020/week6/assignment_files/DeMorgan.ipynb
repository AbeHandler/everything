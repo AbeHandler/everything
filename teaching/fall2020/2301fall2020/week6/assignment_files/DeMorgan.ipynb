{
 "cells": [
  {
   "cell_type": "markdown",
   "metadata": {},
   "source": [
    "### DeMorgan's laws \n",
    "\n",
    "[DeMorgan's laws](https://en.wikipedia.org/wiki/De_Morgan%27s_laws) describe what happens when you negate a conjunction or disjunction. Remember that:\n",
    "\n",
    "- **Conjunction** is an AND, as in $A \\wedge B$. Jessica pointed out the sign for AND looks like an \"A\".\n",
    "- **Disjunction** is an OR, as in $A \\vee B$.\n",
    "\n",
    "One of DeMorgan's laws says that\n",
    "\n",
    "- $\\neg(A \\wedge B)$ = $(\\neg A \\vee \\neg B)$. \n",
    "- This is sometimes called \"pushing in the negation\"\n",
    "- Notice that A and B are negated after you push in the negation\n",
    "- Notice that the $\\wedge$ flips to a $\\vee$\n",
    "\n",
    "Another law says\n",
    "\n",
    "- $\\neg(A \\vee B) = (\\neg A \\wedge \\neg B)$ \n",
    "- This time the $\\vee$ flips to a $\\wedge$ \n",
    "- Again, A and B are negated after you push in the negation"
   ]
  },
  {
   "cell_type": "markdown",
   "metadata": {},
   "source": [
    "### DeMorgan's laws are not mysterious \n",
    "\n",
    "- Last time, we mentioned that two expressions are equivalent if they return the same output, when the input variables are the same.\n",
    "- For instance, $A$ is equivalent to $\\neg\\neg A$ because no matter if $A$ is `True` or `False` these two expressions have the same output. \n",
    "- We can use truth tables to convince ourselves that DeMorgan's laws are real."
   ]
  },
  {
   "cell_type": "markdown",
   "metadata": {},
   "source": [
    "| A | B | A $\\vee$ B | $\\neg$ (A $\\vee$ B) |\n",
    "|--:|--:|:--------:|:---------------:|\n",
    "| T | T |        T | F               |\n",
    "| T | F |        T | F               |\n",
    "| F | T |        T | F               |\n",
    "| F | F | F        | T               |"
   ]
  },
  {
   "cell_type": "markdown",
   "metadata": {},
   "source": [
    "| A | B | NOT A | NOT B | $\\neg$ A $\\wedge$ $\\neg$ B | \n",
    "|--:|--:|:--------:|:---------------:|:---------------:|\n",
    "| T | T |        F | T               |F|\n",
    "| T | F |        F | F               |F|\n",
    "| F | T |        T | F               |F|\n",
    "| F | F | T        | T               |T|"
   ]
  },
  {
   "cell_type": "markdown",
   "metadata": {},
   "source": [
    "### In-class exercize\n",
    "\n",
    "Write Python code to confirm that $\\neg(A \\wedge B)$ is equivalent to $(\\neg A \\vee \\neg B)$. This is also good prep for the midterm."
   ]
  },
  {
   "cell_type": "markdown",
   "metadata": {},
   "source": [
    "### DeMorgan's laws and sets \n",
    "\n",
    "Recall that $\\overline{A}$ is the complement of A, i.e. everything not in A. This is sometimes also written $A^c$. (The mathinsight pages use this notation.)\n",
    "\n",
    "DeMorgan's laws also apply to sets. To translate: \n",
    "- Negation $\\rightarrow$ complement \n",
    "- $\\wedge$ $\\rightarrow$ $\\cap$ = Intersection\n",
    "- $\\vee$ $\\rightarrow$ $\\cup$ = Union\n",
    "\n",
    "So we have: \n",
    "1. $\\overline{A \\cup B}$ = $\\overline{A} \\cap \\overline{B}$ \n",
    "2. $\\overline{A \\cap B}$ = $\\overline{A} \\cup \\overline{B}$\n",
    "\n",
    "Wikipedia has a nice venn diagram for law 1. "
   ]
  },
  {
   "cell_type": "markdown",
   "metadata": {},
   "source": [
    "### Exercize \n",
    "\n",
    "Can you make a nice venn diagram for law 2 (by hand or with a graphics program)?"
   ]
  },
  {
   "cell_type": "code",
   "execution_count": null,
   "metadata": {},
   "outputs": [],
   "source": []
  }
 ],
 "metadata": {
  "kernelspec": {
   "display_name": "Python 3",
   "language": "python",
   "name": "python3"
  },
  "language_info": {
   "codemirror_mode": {
    "name": "ipython",
    "version": 3
   },
   "file_extension": ".py",
   "mimetype": "text/x-python",
   "name": "python",
   "nbconvert_exporter": "python",
   "pygments_lexer": "ipython3",
   "version": "3.8.5"
  }
 },
 "nbformat": 4,
 "nbformat_minor": 4
}

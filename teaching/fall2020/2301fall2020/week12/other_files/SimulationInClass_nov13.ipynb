{
 "cells": [
  {
   "cell_type": "markdown",
   "metadata": {},
   "source": [
    "### What are all the things we need to simulate? \n",
    "\n",
    "1. Do you have strep? Do you have no strep? \n",
    "\n",
    "2. Positive test and negative test, given strep or no strep \n",
    "\n",
    "### What are their probabilities? \n",
    "\n",
    "1. p(strep) = 1/1000  and p(no strep)= 1 - 1/1000 = 999/1000\n",
    "\n",
    "2. p(pos|strep) = 99/100  \n",
    "\n",
    "3. p(pos|no strep) = 1/10"
   ]
  },
  {
   "cell_type": "code",
   "execution_count": 10,
   "metadata": {},
   "outputs": [
    {
     "data": {
      "text/plain": [
       "0.0007"
      ]
     },
     "execution_count": 10,
     "metadata": {},
     "output_type": "execute_result"
    }
   ],
   "source": [
    "# This is a general explanation of simulation\n",
    "\n",
    "from random import random\n",
    "from collections import Counter\n",
    "\n",
    "people = []\n",
    "for person in range(10000):\n",
    "    person = doesThePersonHaveStrep(probs_of_strep)\n",
    "    people.append(person)\n",
    "\n",
    "Counter(people)[\"Strep\"]/10000\n",
    "\n"
   ]
  },
  {
   "cell_type": "code",
   "execution_count": 22,
   "metadata": {},
   "outputs": [],
   "source": [
    "from random import random\n",
    "\n",
    "def doesThePersonHaveStrep(probs):\n",
    "    '''\n",
    "    Return \"Strep\" if they have strep else return \"No strep\"\n",
    "    '''\n",
    "    draw = random()\n",
    "    if draw < probs[\"Strep\"]:\n",
    "        return \"Strep\"\n",
    "    else:\n",
    "        return \"No strep\"\n",
    "    \n",
    "    \n",
    "def didThePersonHaveAPositiveTest(do_they_have_strep, probs_of_positive):\n",
    "    '''\n",
    "    do_they_have_strep: This is True if they have strep, else False\n",
    "\n",
    "    Return \"Positive\" if the test is positive and \"Negative\" otherwise\n",
    "    '''\n",
    "    if do_they_have_strep: # Does the person have strep?\n",
    "        # Yep. They have strep.\n",
    "        p_test_catches_the_result = probs_of_positive[\"Strep\"]\n",
    "        draw = random()\n",
    "        if draw < p_test_catches_the_result:\n",
    "            return \"Positive\"\n",
    "        else:\n",
    "            return \"Negative\"\n",
    "    else:\n",
    "        p_test_catches_the_result = probs_of_positive[\"No strep\"]\n",
    "        draw = random()\n",
    "        if draw < p_test_catches_the_result:\n",
    "            return \"Positive\"\n",
    "        else:\n",
    "            return \"Negative\"\n",
    "    \n",
    "probs_of_strep = {\"Strep\": 1/1000, \"No strep\": 999/1000}\n",
    "\n",
    "probs_of_positiveive = {\"Strep\": 99/100, \"No strep\": 1/10}\n",
    "\n",
    "# What is the chance you actually have strep, if you have a positive test?\n",
    "# p(strep|pos)\n",
    "\n",
    "how_many_positives = 0\n",
    "how_many_strep_and_positives = 0\n",
    "\n",
    "for person in range(0, 10000000):\n",
    "    has_strep = doesThePersonHaveStrep(probs_of_strep)\n",
    "    do_they_have_strep = None\n",
    "    if has_strep == \"Strep\":\n",
    "        do_they_have_strep = True\n",
    "    else:\n",
    "        do_they_have_strep = False\n",
    "    has_positive = didThePersonHaveAPositiveTest(do_they_have_strep=do_they_have_strep,\n",
    "                                                 probs_of_positive=probs_of_positive)\n",
    "    if(do_they_have_strep):\n",
    "        how_many_positives += 1\n",
    "        if(has_positive  == \"Positive\"):\n",
    "            how_many_strep_and_positives += 1"
   ]
  },
  {
   "cell_type": "code",
   "execution_count": 23,
   "metadata": {},
   "outputs": [
    {
     "name": "stdout",
     "output_type": "stream",
     "text": [
      "how many positives 10073\n",
      "how many strep and positives 9954\n"
     ]
    },
    {
     "data": {
      "text/plain": [
       "1.0119549929676512"
      ]
     },
     "execution_count": 23,
     "metadata": {},
     "output_type": "execute_result"
    }
   ],
   "source": [
    "print(\"how many positives\", how_many_positives)\n",
    "\n",
    "print(\"how many strep and positives\", how_many_strep_and_positives)\n",
    "\n",
    "# p(strep | pos)\n",
    "how_many_strep_and_positives/how_many_positives"
   ]
  },
  {
   "cell_type": "markdown",
   "metadata": {},
   "source": [
    "### Core stuff ! \n",
    "\n",
    "1. Probabilities.\n",
    "\n",
    "_p(event) or p(event | some other event)_\n",
    "- p(win) \n",
    "- p(win | playing at home)\n",
    "- p(10) \n",
    "- p(10 | draw a jack)\n",
    "\n",
    "2. You are always going to have some kind of draw.\n",
    "\n",
    "- So you could simulate drawing a 10. \n",
    "- You could simulate drawing a win.\n",
    "- You could simulate drawing a win given a home game. \n",
    "\n",
    "3. Simulation loop where you are drawing N events\n",
    "- Simulating 100000 games \n",
    "- Simulating 10000 people in the population\n",
    "- Simulating 1M elections\n",
    "\n",
    "4. Analyzing probabilites from your simulation loop \n",
    "- Counting up how many times something happes in your sample. "
   ]
  },
  {
   "cell_type": "markdown",
   "metadata": {},
   "source": [
    "### Topics\n",
    "\n",
    "- Independence\n",
    "- Conditional probability \n",
    "- Simulation \n",
    "- Bayes Rule "
   ]
  },
  {
   "cell_type": "code",
   "execution_count": null,
   "metadata": {},
   "outputs": [],
   "source": [
    "def allAtOnce():\n",
    "    has_strep = doesThePersonHaveStrep() .... \n",
    "    if(has_strep):\n",
    "        draw = random.random ... \n",
    "        if draw < 99/100:\n",
    "            return \"Strep AND positve\"\n",
    "        else:\n",
    "            return \"Strep AND negative\"\n",
    "    else: # has no strep \n",
    "        draw = random.random \n",
    "        if draw < 1/10: ... \n",
    "            return \"No strep AND postive\""
   ]
  },
  {
   "cell_type": "code",
   "execution_count": null,
   "metadata": {},
   "outputs": [],
   "source": [
    "nice_weather = False\n",
    "\n",
    "if nice_weather: \n",
    "    print(\"sunny\")\n",
    "else:\n",
    "    print(\"rainy\")"
   ]
  },
  {
   "cell_type": "code",
   "execution_count": null,
   "metadata": {},
   "outputs": [],
   "source": []
  }
 ],
 "metadata": {
  "kernelspec": {
   "display_name": "Python 3",
   "language": "python",
   "name": "python3"
  },
  "language_info": {
   "codemirror_mode": {
    "name": "ipython",
    "version": 3
   },
   "file_extension": ".py",
   "mimetype": "text/x-python",
   "name": "python",
   "nbconvert_exporter": "python",
   "pygments_lexer": "ipython3",
   "version": "3.8.5"
  }
 },
 "nbformat": 4,
 "nbformat_minor": 4
}

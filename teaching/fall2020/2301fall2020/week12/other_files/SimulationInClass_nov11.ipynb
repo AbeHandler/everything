{
 "cells": [
  {
   "cell_type": "markdown",
   "metadata": {},
   "source": [
    "### What are all the things we need to simulate? \n",
    "\n",
    "1. Do you have strep? Do you have no strep? \n",
    "\n",
    "2. Positive test and negative test, given strep or no strep \n",
    "\n",
    "### What are their probabilities? \n",
    "\n",
    "1. p(strep) = 1/1000  and p(no strep)= 1 - 1/1000 = 999/1000\n",
    "\n",
    "2. p(pos|strep) = 99/100  \n",
    "\n",
    "3. p(pos|no strep) = 1/10"
   ]
  },
  {
   "cell_type": "code",
   "execution_count": 3,
   "metadata": {},
   "outputs": [],
   "source": [
    "from random import random\n",
    "\n",
    "def doesThePersonHaveStrep_hardcoded():\n",
    "    '''\n",
    "    Return \"Strep\" if they have strep else return \"No strep\"\n",
    "    \n",
    "    This is slightly worse b/c the probability is baked into the code\n",
    "    '''\n",
    "    draw = random.random()\n",
    "    if draw < 1/1000:\n",
    "        return \"Strep\"\n",
    "    else:\n",
    "        return \"No strep\"\n",
    "\n",
    "def doesThePersonHaveStrep(probs):\n",
    "    '''\n",
    "    Return \"Strep\" if they have strep else return \"No strep\"\n",
    "    '''\n",
    "    draw = random.random()\n",
    "    if draw < probs[\"Strep\"]:\n",
    "        return \"Strep\"\n",
    "    else:\n",
    "        return \"No strep\"\n",
    "    \n",
    "    \n",
    "def didThePersonHaveAPositiveTest(do_they_have_strep, probs_of_positive):\n",
    "    '''\n",
    "    do_they_have_strep: This is True if they have strep, else False\n",
    "\n",
    "    Return \"Positive\" if the test is positive and \"Negative\" otherwise\n",
    "    '''\n",
    "    if do_they_have_strep: # Does the person have strep?\n",
    "        # Yep. They have strep.\n",
    "        p_test_catches_the_result = probs_of_positive[\"Strep\"]\n",
    "        draw = random.random()\n",
    "        if draw < p_test_catches_the_result:\n",
    "            return \"Positive\"\n",
    "        else:\n",
    "            return \"Negative\"\n",
    "    else:\n",
    "        pass \n",
    "    \n",
    "    \n",
    "probs_of_strep = {\"Strep\": 1/1000, \"No strep\": 999/1000}\n",
    "\n",
    "probs_of_positive = {\"Strep\": 99/100, \"No strep\": 1/10}\n",
    "\n",
    "didThePersonHaveAPositiveTest(do_they_have_strep=True, probs_of_positive=probs_of_positive)"
   ]
  },
  {
   "cell_type": "code",
   "execution_count": null,
   "metadata": {},
   "outputs": [],
   "source": [
    "\"Strep\" + \"-\" + \"Positive\""
   ]
  },
  {
   "cell_type": "code",
   "execution_count": null,
   "metadata": {},
   "outputs": [],
   "source": [
    "def allAtOnce():\n",
    "    has_strep = doesThePersonHaveStrep() .... \n",
    "    if(has_strep):\n",
    "        draw = random.random ... \n",
    "        if draw < 99/100:\n",
    "            return \"Strep AND positve\"\n",
    "        else:\n",
    "            return \"Strep AND negative\"\n",
    "    else: # has no strep \n",
    "        draw = random.random \n",
    "        if draw < 1/10: ... \n",
    "            return \"No strep AND postive\""
   ]
  },
  {
   "cell_type": "code",
   "execution_count": 4,
   "metadata": {},
   "outputs": [
    {
     "name": "stdout",
     "output_type": "stream",
     "text": [
      "rainy\n"
     ]
    }
   ],
   "source": [
    "nice_weather = False\n",
    "\n",
    "if nice_weather: \n",
    "    print(\"sunny\")\n",
    "else:\n",
    "    print(\"rainy\")"
   ]
  },
  {
   "cell_type": "code",
   "execution_count": null,
   "metadata": {},
   "outputs": [],
   "source": []
  }
 ],
 "metadata": {
  "kernelspec": {
   "display_name": "Python 3",
   "language": "python",
   "name": "python3"
  },
  "language_info": {
   "codemirror_mode": {
    "name": "ipython",
    "version": 3
   },
   "file_extension": ".py",
   "mimetype": "text/x-python",
   "name": "python",
   "nbconvert_exporter": "python",
   "pygments_lexer": "ipython3",
   "version": "3.8.5"
  }
 },
 "nbformat": 4,
 "nbformat_minor": 4
}

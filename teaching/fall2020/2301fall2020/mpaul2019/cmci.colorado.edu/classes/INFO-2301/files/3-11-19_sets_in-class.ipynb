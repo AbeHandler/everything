{
 "cells": [
  {
   "cell_type": "code",
   "execution_count": 1,
   "metadata": {
    "collapsed": true
   },
   "outputs": [],
   "source": [
    "S = {1, 2, 3, 4, 5, 6}  # Sample space for 6-sided die\n",
    "A = {1, 3, 5} \n",
    "B = {2, 4, 6}"
   ]
  },
  {
   "cell_type": "code",
   "execution_count": 6,
   "metadata": {
    "collapsed": false
   },
   "outputs": [
    {
     "name": "stdout",
     "output_type": "stream",
     "text": [
      "0.5035\n"
     ]
    }
   ],
   "source": [
    "from random import choice\n",
    "\n",
    "# Simulation to calculate P(A)\n",
    "number_in_A = 0\n",
    "number_total = 10000\n",
    "for i in range(number_total):\n",
    "    sample = choice(list(S))\n",
    "    if sample in A:\n",
    "        number_in_A += 1\n",
    "print(number_in_A / number_total)"
   ]
  },
  {
   "cell_type": "code",
   "execution_count": 9,
   "metadata": {
    "collapsed": false
   },
   "outputs": [
    {
     "name": "stdout",
     "output_type": "stream",
     "text": [
      "1.0\n"
     ]
    }
   ],
   "source": [
    "# Simulation to calculate P(A or B)\n",
    "number_in_AorB = 0\n",
    "number_total = 10000\n",
    "for i in range(number_total):\n",
    "    sample = choice(list(S))\n",
    "    if sample in A or sample in B:\n",
    "        number_in_AorB += 1\n",
    "print(number_in_AorB / number_total)"
   ]
  },
  {
   "cell_type": "code",
   "execution_count": 12,
   "metadata": {
    "collapsed": false
   },
   "outputs": [
    {
     "name": "stdout",
     "output_type": "stream",
     "text": [
      "0.6673\n"
     ]
    }
   ],
   "source": [
    "C = {1, 2, 3}  # not disjoint from A\n",
    "\n",
    "# Simulation to calculate P(A or C)\n",
    "numerator = 0\n",
    "number_total = 10000\n",
    "for i in range(number_total):\n",
    "    sample = choice(list(S))\n",
    "    if sample in A or sample in C:\n",
    "        numerator += 1\n",
    "print(numerator / number_total)"
   ]
  },
  {
   "cell_type": "code",
   "execution_count": null,
   "metadata": {
    "collapsed": true
   },
   "outputs": [],
   "source": []
  }
 ],
 "metadata": {
  "kernelspec": {
   "display_name": "Python 3",
   "language": "python",
   "name": "python3"
  },
  "language_info": {
   "codemirror_mode": {
    "name": "ipython",
    "version": 3
   },
   "file_extension": ".py",
   "mimetype": "text/x-python",
   "name": "python",
   "nbconvert_exporter": "python",
   "pygments_lexer": "ipython3",
   "version": "3.5.1"
  }
 },
 "nbformat": 4,
 "nbformat_minor": 2
}

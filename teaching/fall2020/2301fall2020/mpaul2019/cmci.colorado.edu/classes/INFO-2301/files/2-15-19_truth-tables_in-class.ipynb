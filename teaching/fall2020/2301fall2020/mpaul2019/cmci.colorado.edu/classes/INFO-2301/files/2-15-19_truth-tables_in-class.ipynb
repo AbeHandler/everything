{
 "cells": [
  {
   "cell_type": "code",
   "execution_count": 5,
   "metadata": {
    "collapsed": false
   },
   "outputs": [
    {
     "name": "stdout",
     "output_type": "stream",
     "text": [
      "False\n",
      "False\n",
      "False\n"
     ]
    }
   ],
   "source": [
    "P = True\n",
    "Q = True\n",
    "\n",
    "print(not(P and Q))\n",
    "print(not(P) or not(Q))\n",
    "print(not(P) and not(Q)) # First two are equivalent, third one is not"
   ]
  },
  {
   "cell_type": "code",
   "execution_count": 6,
   "metadata": {
    "collapsed": false
   },
   "outputs": [
    {
     "name": "stdout",
     "output_type": "stream",
     "text": [
      "True\n",
      "True\n",
      "False\n"
     ]
    }
   ],
   "source": [
    "P = True\n",
    "Q = False\n",
    "\n",
    "print(not(P and Q))\n",
    "print(not(P) or not(Q))\n",
    "print(not(P) and not(Q)) # First two are equivalent, third one is not"
   ]
  },
  {
   "cell_type": "code",
   "execution_count": 7,
   "metadata": {
    "collapsed": false
   },
   "outputs": [
    {
     "name": "stdout",
     "output_type": "stream",
     "text": [
      "True\n",
      "True\n",
      "False\n"
     ]
    }
   ],
   "source": [
    "P = False\n",
    "Q = True\n",
    "\n",
    "print(not(P and Q))\n",
    "print(not(P) or not(Q))\n",
    "print(not(P) and not(Q)) # First two are equivalent, third one is not"
   ]
  },
  {
   "cell_type": "code",
   "execution_count": 8,
   "metadata": {
    "collapsed": false
   },
   "outputs": [
    {
     "name": "stdout",
     "output_type": "stream",
     "text": [
      "True\n",
      "True\n",
      "True\n"
     ]
    }
   ],
   "source": [
    "P = False\n",
    "Q = False\n",
    "\n",
    "print(not(P and Q))\n",
    "print(not(P) or not(Q))\n",
    "print(not(P) and not(Q)) # First two are equivalent, third one is not"
   ]
  },
  {
   "cell_type": "code",
   "execution_count": 11,
   "metadata": {
    "collapsed": false
   },
   "outputs": [
    {
     "name": "stdout",
     "output_type": "stream",
     "text": [
      "P=True Q=True\n",
      "True\n",
      "P=True Q=False\n",
      "True\n",
      "P=False Q=True\n",
      "True\n",
      "P=False Q=False\n",
      "True\n"
     ]
    }
   ],
   "source": [
    "# Make the above 4 cells more compact using loops\n",
    "\n",
    "for P in [True, False]:\n",
    "    for Q in [True, False]:\n",
    "        print(\"P=\"+str(P), \"Q=\"+str(Q))\n",
    "        expression1 = not(P and Q)\n",
    "        expression2 = not(P) or not(Q)\n",
    "        print(expression1 == expression2)"
   ]
  },
  {
   "cell_type": "code",
   "execution_count": 12,
   "metadata": {
    "collapsed": false
   },
   "outputs": [
    {
     "name": "stdout",
     "output_type": "stream",
     "text": [
      "P=True Q=True R=True\n",
      "P=True Q=True R=False\n",
      "P=True Q=False R=True\n",
      "P=True Q=False R=False\n",
      "P=False Q=True R=True\n",
      "P=False Q=True R=False\n",
      "P=False Q=False R=True\n",
      "P=False Q=False R=False\n"
     ]
    }
   ],
   "source": [
    "for P in [True, False]:\n",
    "    for Q in [True, False]:\n",
    "        for R in [True, False]:\n",
    "            print(\"P=\"+str(P), \"Q=\"+str(Q), \"R=\"+str(R))"
   ]
  },
  {
   "cell_type": "code",
   "execution_count": null,
   "metadata": {
    "collapsed": true
   },
   "outputs": [],
   "source": []
  }
 ],
 "metadata": {
  "kernelspec": {
   "display_name": "Python 3",
   "language": "python",
   "name": "python3"
  },
  "language_info": {
   "codemirror_mode": {
    "name": "ipython",
    "version": 3
   },
   "file_extension": ".py",
   "mimetype": "text/x-python",
   "name": "python",
   "nbconvert_exporter": "python",
   "pygments_lexer": "ipython3",
   "version": "3.5.1"
  }
 },
 "nbformat": 4,
 "nbformat_minor": 2
}

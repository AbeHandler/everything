{
 "cells": [
  {
   "cell_type": "code",
   "execution_count": 8,
   "metadata": {
    "collapsed": false
   },
   "outputs": [
    {
     "name": "stdout",
     "output_type": "stream",
     "text": [
      "3\n",
      "{'yellow', 'green', 'red', 'blue', 'purple'}\n",
      "{'blue'}\n",
      "{'green', 'purple'}\n",
      "set()\n"
     ]
    }
   ],
   "source": [
    "A = {'red', 'yellow', 'blue'}\n",
    "B = {'green', 'blue', 'purple'}\n",
    "C = {'green', 'purple'}\n",
    "\n",
    "print(len(A))   # cardinality of A\n",
    "\n",
    "print( B.union(A) )\n",
    "print( B.intersection(A) )\n",
    "print( C.intersection(B) )\n",
    "print( C.intersection(A) )"
   ]
  },
  {
   "cell_type": "code",
   "execution_count": 16,
   "metadata": {
    "collapsed": false
   },
   "outputs": [
    {
     "name": "stdout",
     "output_type": "stream",
     "text": [
      "31\n",
      "51\n"
     ]
    }
   ],
   "source": [
    "A = set(range(10, 50+1))\n",
    "B = set(range(20, 60+1))\n",
    "\n",
    "#print(A)\n",
    "#print(B)\n",
    "\n",
    "print(len(A.intersection(B)))\n",
    "print(len(A.union(B)))"
   ]
  },
  {
   "cell_type": "code",
   "execution_count": 20,
   "metadata": {
    "collapsed": false
   },
   "outputs": [
    {
     "name": "stdout",
     "output_type": "stream",
     "text": [
      "True\n",
      "False\n"
     ]
    }
   ],
   "source": [
    "A = {'red', 'yellow', 'blue'}\n",
    "B = {'green', 'blue', 'purple'}\n",
    "C = {'green', 'purple'}\n",
    "\n",
    "def subset(A, B):   # return if A is a subset of B\n",
    "    return A.intersection(B) == A\n",
    "\n",
    "def subset2(A, B):   # return if A is a subset of B\n",
    "    return A.union(B) == B\n",
    "\n",
    "print(subset2(C, B))\n",
    "print(subset2(B, C))"
   ]
  },
  {
   "cell_type": "code",
   "execution_count": 22,
   "metadata": {
    "collapsed": false
   },
   "outputs": [
    {
     "name": "stdout",
     "output_type": "stream",
     "text": [
      "True\n",
      "False\n"
     ]
    }
   ],
   "source": [
    "def mutually_exclusive(A, B):\n",
    "    return len(A.intersection(B)) == 0\n",
    "\n",
    "print(mutually_exclusive(A, C))\n",
    "print(mutually_exclusive(A, B))"
   ]
  },
  {
   "cell_type": "code",
   "execution_count": 24,
   "metadata": {
    "collapsed": false
   },
   "outputs": [
    {
     "name": "stdout",
     "output_type": "stream",
     "text": [
      "{'red', 'yellow'}\n",
      "{'green', 'purple'}\n"
     ]
    }
   ],
   "source": [
    "A = {'red', 'yellow', 'blue'}\n",
    "B = {'green', 'blue', 'purple'}\n",
    "C = {'green', 'purple'}\n",
    "\n",
    "print(A.difference(B))   # A - B\n",
    "print(B.difference(A))   # B - A"
   ]
  },
  {
   "cell_type": "code",
   "execution_count": null,
   "metadata": {
    "collapsed": true
   },
   "outputs": [],
   "source": []
  }
 ],
 "metadata": {
  "kernelspec": {
   "display_name": "Python 3",
   "language": "python",
   "name": "python3"
  },
  "language_info": {
   "codemirror_mode": {
    "name": "ipython",
    "version": 3
   },
   "file_extension": ".py",
   "mimetype": "text/x-python",
   "name": "python",
   "nbconvert_exporter": "python",
   "pygments_lexer": "ipython3",
   "version": "3.5.1"
  }
 },
 "nbformat": 4,
 "nbformat_minor": 2
}

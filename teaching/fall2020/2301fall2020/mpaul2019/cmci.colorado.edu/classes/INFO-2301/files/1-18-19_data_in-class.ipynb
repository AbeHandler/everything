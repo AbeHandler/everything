{
 "cells": [
  {
   "cell_type": "code",
   "execution_count": 7,
   "metadata": {
    "collapsed": false
   },
   "outputs": [
    {
     "name": "stdout",
     "output_type": "stream",
     "text": [
      "5.0 6\n"
     ]
    }
   ],
   "source": [
    "# Numbers in Python\n",
    "\n",
    "x = 5    # integer (discrete)\n",
    "y = 5.813  # floating point number / real number (continuous-ish)\n",
    "\n",
    "x = float(x)\n",
    "y = int(y)  # converting float to int always rounds down\n",
    "y = round(y) # round to nearest integer\n",
    "\n",
    "print(x, y)"
   ]
  },
  {
   "cell_type": "code",
   "execution_count": null,
   "metadata": {
    "collapsed": true
   },
   "outputs": [],
   "source": [
    "# Other discrete variables\n",
    "\n",
    "x = 'string'\n",
    "x = True"
   ]
  },
  {
   "cell_type": "code",
   "execution_count": 13,
   "metadata": {
    "collapsed": false
   },
   "outputs": [
    {
     "name": "stdout",
     "output_type": "stream",
     "text": [
      "[1, 3, 5, 7, 7, 7, 9] 7\n",
      "{9, 3, 5, 1, 7} 5\n"
     ]
    }
   ],
   "source": [
    "# Collections (Lists and sets)\n",
    "\n",
    "odds1 = [1, 3, 5, 7, 7, 7, 9]   # list/array/vector\n",
    "odds2 = {1, 3, 5, 7, 7, 7, 9}   # set\n",
    "\n",
    "#odds1 = set(odds1)\n",
    "#odds2 = list(odds2)\n",
    "\n",
    "print(odds1, len(odds1))   # 'len' tells you the \"cardinality\" of the list/set\n",
    "print(odds2, len(odds2))"
   ]
  },
  {
   "cell_type": "code",
   "execution_count": 4,
   "metadata": {
    "collapsed": false,
    "scrolled": true
   },
   "outputs": [
    {
     "name": "stdout",
     "output_type": "stream",
     "text": [
      "1 3\n",
      "9\n",
      "[1, 3]\n"
     ]
    }
   ],
   "source": [
    "# Accessing elements of lists\n",
    "\n",
    "odds = [1, 3, 5, 7, 9]\n",
    "\n",
    "first = odds[0]   # first element starts at 0\n",
    "second = odds[1]   # first element starts at 1\n",
    "print(first, second)\n",
    "\n",
    "last = odds[-1]\n",
    "print(last)\n",
    "\n",
    "# Slicing\n",
    "\n",
    "section = odds[0:3]\n",
    "section = odds[2:]\n",
    "section = odds[:2]\n",
    "print(section)"
   ]
  },
  {
   "cell_type": "code",
   "execution_count": 11,
   "metadata": {
    "collapsed": false
   },
   "outputs": [
    {
     "name": "stdout",
     "output_type": "stream",
     "text": [
      "[1, 3, 5, 7, 9] 5\n",
      "[1, 3, 5, 7, 9, 11] 6\n",
      "[1, 3, 5, 7, 9, 11, 7] 7\n",
      "\n",
      "{8, 2, 4, 6} 4\n",
      "{8, 2, 10, 4, 6} 5\n",
      "{8, 2, 10, 4, 6} 5\n",
      "{8, 2, 10, 4, 6} 5\n"
     ]
    }
   ],
   "source": [
    "# Creating/modifying collections\n",
    "\n",
    "# Adding to lists\n",
    "odds = [1, 3, 5, 7, 9]\n",
    "print(odds, len(odds))\n",
    "\n",
    "odds.append(11)\n",
    "print(odds, len(odds))\n",
    "\n",
    "odds.append(7)\n",
    "print(odds, len(odds))\n",
    "\n",
    "print('')\n",
    "\n",
    "# Adding to sets\n",
    "\n",
    "evens = {2, 4, 6, 8}\n",
    "print(evens, len(evens))\n",
    "\n",
    "evens.add(10)\n",
    "print(evens, len(evens))\n",
    "\n",
    "evens.add(10)\n",
    "print(evens, len(evens))\n",
    "\n",
    "evens.add(6)\n",
    "print(evens, len(evens))\n",
    "\n",
    "evens_ordered = sorted(evens)\n",
    "#print(evens_ordered)"
   ]
  },
  {
   "cell_type": "code",
   "execution_count": 20,
   "metadata": {
    "collapsed": false
   },
   "outputs": [
    {
     "name": "stdout",
     "output_type": "stream",
     "text": [
      "2\n",
      "4\n",
      "6\n",
      "8\n"
     ]
    }
   ],
   "source": [
    "# Iterating (looping) through collections\n",
    "\n",
    "odds = [1, 3, 5, 7, 9, 11]\n",
    "\n",
    "#for value in odds:\n",
    "#    print(value)\n",
    "    \n",
    "#for index in [0, 1, 2, 3, 4]:\n",
    "#    value = odds[index]\n",
    "#    print(value)\n",
    "    \n",
    "#for index in range(len(odds)):\n",
    "#    value = odds[index]\n",
    "#    print(value)\n",
    "    \n",
    "# Sets don't have indices\n",
    "evens = {2, 4, 6, 8}\n",
    "for value in sorted(evens):\n",
    "    print(value)"
   ]
  },
  {
   "cell_type": "code",
   "execution_count": 24,
   "metadata": {
    "collapsed": false
   },
   "outputs": [
    {
     "name": "stdout",
     "output_type": "stream",
     "text": [
      "[['top left', 'top middle', 'top right'], ['middle left', 'middle middle', 'middle right'], ['bottom left', 'bottom middle', 'bottom right']]\n",
      "['top left', 'top middle', 'top right']\n",
      "top left\n",
      "middle right\n"
     ]
    }
   ],
   "source": [
    "# Multi-dimensional arrays (lists of lists)\n",
    "\n",
    "array = [ ['top left', 'top middle', 'top right'], \n",
    "         ['middle left', 'middle middle', 'middle right'], \n",
    "         ['bottom left', 'bottom middle', 'bottom right'] ]\n",
    "\n",
    "print(array)\n",
    "print(array[0])   # first row\n",
    "print(array[0][0])   # first row, first column\n",
    "print(array[1][2])   # second row, third column"
   ]
  },
  {
   "cell_type": "code",
   "execution_count": null,
   "metadata": {
    "collapsed": true
   },
   "outputs": [],
   "source": []
  }
 ],
 "metadata": {
  "kernelspec": {
   "display_name": "Python 3",
   "language": "python",
   "name": "python3"
  },
  "language_info": {
   "codemirror_mode": {
    "name": "ipython",
    "version": 3
   },
   "file_extension": ".py",
   "mimetype": "text/x-python",
   "name": "python",
   "nbconvert_exporter": "python",
   "pygments_lexer": "ipython3",
   "version": "3.5.1"
  }
 },
 "nbformat": 4,
 "nbformat_minor": 2
}

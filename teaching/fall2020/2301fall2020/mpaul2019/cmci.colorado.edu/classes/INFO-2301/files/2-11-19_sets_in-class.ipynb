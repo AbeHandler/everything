{
 "cells": [
  {
   "cell_type": "code",
   "execution_count": 4,
   "metadata": {
    "collapsed": false
   },
   "outputs": [],
   "source": [
    "set1 = {'cheddar', 'jack', 'colby', 'brie'}\n",
    "set2 = {'cheddar', 'swiss', 'american'}\n",
    "set3 = {'cheddar', 'swiss'}"
   ]
  },
  {
   "cell_type": "code",
   "execution_count": 5,
   "metadata": {
    "collapsed": false
   },
   "outputs": [
    {
     "name": "stdout",
     "output_type": "stream",
     "text": [
      "{'cheddar', 'jack', 'colby', 'american', 'brie', 'swiss'}\n",
      "{'cheddar', 'colby', 'brie', 'swiss', 'jack', 'american'}\n",
      "True\n"
     ]
    }
   ],
   "source": [
    "# Union\n",
    "\n",
    "print(set1.union(set2))\n",
    "\n",
    "def union(A, B):\n",
    "    result = set()   # initially create an empty set\n",
    "    for value in A:\n",
    "        result.add(value)\n",
    "    for value in B:\n",
    "        result.add(value)\n",
    "    return result\n",
    "\n",
    "print(union(set1, set2))\n",
    "\n",
    "print( set1.union(set2) == union(set1, set2) )\n",
    "\n"
   ]
  },
  {
   "cell_type": "code",
   "execution_count": 8,
   "metadata": {
    "collapsed": false
   },
   "outputs": [
    {
     "name": "stdout",
     "output_type": "stream",
     "text": [
      "True\n",
      "True\n",
      "True\n"
     ]
    }
   ],
   "source": [
    "def intersection(A, B):\n",
    "    result = set()\n",
    "    for value in A:\n",
    "        if value in B:\n",
    "            result.add(value)\n",
    "    return result\n",
    "\n",
    "print( set1.intersection(set2) == intersection(set1, set2) )\n",
    "print( set1.intersection(set3) == intersection(set1, set3) )\n",
    "print( set2.intersection(set3) == intersection(set2, set3) )"
   ]
  },
  {
   "cell_type": "code",
   "execution_count": 12,
   "metadata": {
    "collapsed": false
   },
   "outputs": [
    {
     "name": "stdout",
     "output_type": "stream",
     "text": [
      "True\n",
      "True\n",
      "True\n",
      "True\n"
     ]
    }
   ],
   "source": [
    "def difference(A, B):   # returns A-B\n",
    "    result = set()\n",
    "    for value in A:\n",
    "        if value not in B:\n",
    "            result.add(value)\n",
    "    return result\n",
    "\n",
    "print( set1.difference(set2) == difference(set1, set2) )\n",
    "print( set2.difference(set1) == difference(set2, set1) )\n",
    "print( set1.difference(set3) == difference(set1, set3) )\n",
    "print( set2.difference(set3) == difference(set2, set3) )"
   ]
  },
  {
   "cell_type": "code",
   "execution_count": 15,
   "metadata": {
    "collapsed": false
   },
   "outputs": [
    {
     "name": "stdout",
     "output_type": "stream",
     "text": [
      "True\n",
      "True\n",
      "True\n",
      "True\n"
     ]
    }
   ],
   "source": [
    "def difference2(A, B):   # returns A-B\n",
    "    result = set(A)   # need to make a **copy** of A\n",
    "    for value in A:\n",
    "        if value in B:\n",
    "            result.remove(value)\n",
    "    return result\n",
    "\n",
    "print( set1.difference(set2) == difference2(set1, set2) )\n",
    "print( set2.difference(set1) == difference2(set2, set1) )\n",
    "print( set1.difference(set3) == difference2(set1, set3) )\n",
    "print( set2.difference(set3) == difference2(set2, set3) )"
   ]
  },
  {
   "cell_type": "code",
   "execution_count": null,
   "metadata": {
    "collapsed": true
   },
   "outputs": [],
   "source": []
  }
 ],
 "metadata": {
  "kernelspec": {
   "display_name": "Python 3",
   "language": "python",
   "name": "python3"
  },
  "language_info": {
   "codemirror_mode": {
    "name": "ipython",
    "version": 3
   },
   "file_extension": ".py",
   "mimetype": "text/x-python",
   "name": "python",
   "nbconvert_exporter": "python",
   "pygments_lexer": "ipython3",
   "version": "3.5.1"
  }
 },
 "nbformat": 4,
 "nbformat_minor": 2
}

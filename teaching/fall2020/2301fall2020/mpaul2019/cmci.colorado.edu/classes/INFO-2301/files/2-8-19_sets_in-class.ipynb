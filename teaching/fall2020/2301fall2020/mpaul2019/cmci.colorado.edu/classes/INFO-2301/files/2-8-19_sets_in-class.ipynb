{
 "cells": [
  {
   "cell_type": "code",
   "execution_count": 2,
   "metadata": {
    "collapsed": false
   },
   "outputs": [],
   "source": [
    "set1 = {'cheddar', 'jack', 'colby', 'brie'}\n",
    "set2 = {'cheddar', 'swiss', 'american'}\n",
    "set3 = {'cheddar', 'swiss'}"
   ]
  },
  {
   "cell_type": "code",
   "execution_count": 8,
   "metadata": {
    "collapsed": false
   },
   "outputs": [
    {
     "name": "stdout",
     "output_type": "stream",
     "text": [
      "{'jack', 'american', 'cheddar', 'swiss', 'colby', 'brie'}\n",
      "{'jack', 'brie', 'american', 'cheddar', 'swiss', 'colby'}\n",
      "True\n"
     ]
    }
   ],
   "source": [
    "# Union\n",
    "\n",
    "print(set1.union(set2))\n",
    "\n",
    "def union(A, B):\n",
    "    result = set()   # initially create an empty set\n",
    "    for value in A:\n",
    "        result.add(value)\n",
    "    for value in B:\n",
    "        result.add(value)\n",
    "    return result\n",
    "\n",
    "print(union(set1, set2))\n",
    "\n",
    "print( set1.union(set2) == union(set1, set2) )\n",
    "\n"
   ]
  },
  {
   "cell_type": "code",
   "execution_count": null,
   "metadata": {
    "collapsed": true
   },
   "outputs": [],
   "source": []
  }
 ],
 "metadata": {
  "kernelspec": {
   "display_name": "Python 3",
   "language": "python",
   "name": "python3"
  },
  "language_info": {
   "codemirror_mode": {
    "name": "ipython",
    "version": 3
   },
   "file_extension": ".py",
   "mimetype": "text/x-python",
   "name": "python",
   "nbconvert_exporter": "python",
   "pygments_lexer": "ipython3",
   "version": "3.5.1"
  }
 },
 "nbformat": 4,
 "nbformat_minor": 2
}

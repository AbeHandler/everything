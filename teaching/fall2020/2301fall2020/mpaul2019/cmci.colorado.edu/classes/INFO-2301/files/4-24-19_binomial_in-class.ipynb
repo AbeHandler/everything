{
 "cells": [
  {
   "cell_type": "code",
   "execution_count": 1,
   "metadata": {
    "collapsed": true
   },
   "outputs": [],
   "source": [
    "from random import random\n",
    "\n",
    "def sample(prob):\n",
    "    if random() > prob:\n",
    "        return False\n",
    "    return True"
   ]
  },
  {
   "cell_type": "code",
   "execution_count": 18,
   "metadata": {
    "collapsed": true
   },
   "outputs": [],
   "source": [
    "def binomial_simulation(n, p):\n",
    "    count = 0\n",
    "    for i in range(n):\n",
    "        if sample(p): count += 1\n",
    "    return count\n",
    "\n",
    "def binomial(n, p):\n",
    "    distribution = []\n",
    "    for count in range(n+1):\n",
    "        distribution.append(0)\n",
    "        \n",
    "    num_simulations = 100000\n",
    "    for i in range(num_simulations):\n",
    "        count = binomial_simulation(n, p)\n",
    "        distribution[count] += 1\n",
    "        \n",
    "    for count in range(n+1):\n",
    "        distribution[count] /= num_simulations\n",
    "    \n",
    "    return distribution"
   ]
  },
  {
   "cell_type": "code",
   "execution_count": 19,
   "metadata": {
    "collapsed": false
   },
   "outputs": [
    {
     "data": {
      "text/plain": [
       "[0.0,\n",
       " 0.0,\n",
       " 0.0,\n",
       " 0.0,\n",
       " 0.00021,\n",
       " 0.00146,\n",
       " 0.01143,\n",
       " 0.05694,\n",
       " 0.19139,\n",
       " 0.39003,\n",
       " 0.34854]"
      ]
     },
     "execution_count": 19,
     "metadata": {},
     "output_type": "execute_result"
    }
   ],
   "source": [
    "binomial(10, 0.9)"
   ]
  },
  {
   "cell_type": "code",
   "execution_count": null,
   "metadata": {
    "collapsed": true
   },
   "outputs": [],
   "source": []
  }
 ],
 "metadata": {
  "kernelspec": {
   "display_name": "Python 3",
   "language": "python",
   "name": "python3"
  },
  "language_info": {
   "codemirror_mode": {
    "name": "ipython",
    "version": 3
   },
   "file_extension": ".py",
   "mimetype": "text/x-python",
   "name": "python",
   "nbconvert_exporter": "python",
   "pygments_lexer": "ipython3",
   "version": "3.5.1"
  }
 },
 "nbformat": 4,
 "nbformat_minor": 2
}

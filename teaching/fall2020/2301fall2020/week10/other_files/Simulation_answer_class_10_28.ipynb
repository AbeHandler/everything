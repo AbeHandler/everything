{
 "cells": [
  {
   "cell_type": "code",
   "execution_count": 2,
   "metadata": {},
   "outputs": [],
   "source": [
    "import random\n",
    "from collections import Counter\n",
    "\n",
    "probOfAge = {\"18-34\": 2.4/5, \"34+\": 2.6/5}\n",
    "\n",
    "pBidenGivenAge = {\"18-34\": 1.7/2.4,  \"34+\": 1.1/2.6}"
   ]
  },
  {
   "cell_type": "markdown",
   "metadata": {},
   "source": [
    "### Step 1: intuition\n",
    "\n",
    "Assuming voters vote for either Biden or Trump, what is pTrumpGivenAge? Fill out the dictionary below."
   ]
  },
  {
   "cell_type": "code",
   "execution_count": 2,
   "metadata": {},
   "outputs": [],
   "source": [
    "pTrumpGivenAge = {\"18-34\": None,  \"34+\": None}"
   ]
  },
  {
   "cell_type": "markdown",
   "metadata": {},
   "source": [
    "### Step 2: Draw age"
   ]
  },
  {
   "cell_type": "code",
   "execution_count": 3,
   "metadata": {},
   "outputs": [],
   "source": [
    "def drawAge(probOfAge):\n",
    "    '''implement me'''\n",
    "    draw = random.random()\n",
    "    if draw < probOfAge[\"18-34\"]:\n",
    "        return \"18-34\"\n",
    "    else:\n",
    "        return \"34+\""
   ]
  },
  {
   "cell_type": "markdown",
   "metadata": {},
   "source": [
    "### Step 2: Draw vote"
   ]
  },
  {
   "cell_type": "code",
   "execution_count": 4,
   "metadata": {},
   "outputs": [],
   "source": [
    "def drawVote(pBidenGivenAge, age):\n",
    "    '''implement me'''\n",
    "    draw = random.random()\n",
    "    if draw < pBidenGivenAge[age]:\n",
    "        return \"Biden\"\n",
    "    else:\n",
    "        return \"Trump\""
   ]
  },
  {
   "cell_type": "code",
   "execution_count": 6,
   "metadata": {},
   "outputs": [],
   "source": [
    "def election(Nvoters):\n",
    "    '''implement me'''\n",
    "    # Simulate an election! Draw Nvoters at random\n",
    "    # First draw their age, then draw their vote given their age\n",
    "    output = []\n",
    "    for n in range(Nvoters):\n",
    "        age = drawAge(probOfAge)\n",
    "        vote = drawVote(pBidenGivenAge, age)\n",
    "        output.append(vote)\n",
    "    return output\n",
    "\n",
    "votes = election(Nvoters = 100)"
   ]
  },
  {
   "cell_type": "markdown",
   "metadata": {},
   "source": [
    "### Step 3: compute the winner of the election"
   ]
  },
  {
   "cell_type": "code",
   "execution_count": 10,
   "metadata": {},
   "outputs": [
    {
     "data": {
      "text/plain": [
       "'Biden'"
      ]
     },
     "execution_count": 10,
     "metadata": {},
     "output_type": "execute_result"
    }
   ],
   "source": [
    "def compute_winner(votes):\n",
    "    counts = Counter(votes)\n",
    "    if counts[\"Biden\"] > counts['Trump']:\n",
    "        return \"Biden\"\n",
    "    else:\n",
    "        return \"Trump\"\n",
    "\n",
    "compute_winner(votes)"
   ]
  },
  {
   "cell_type": "markdown",
   "metadata": {},
   "source": [
    "### Step 4: run 100 elections and count the winners"
   ]
  },
  {
   "cell_type": "code",
   "execution_count": 11,
   "metadata": {},
   "outputs": [
    {
     "data": {
      "text/plain": [
       "{'NTrumpwins': 9, 'NBidenwins': 91}"
      ]
     },
     "execution_count": 11,
     "metadata": {},
     "output_type": "execute_result"
    }
   ],
   "source": [
    "def K_elections(K=100):\n",
    "    output = {'NTrumpwins': 0, 'NBidenwins': 0}\n",
    "    for i in range(K):\n",
    "        votes = election(Nvoters = 100)\n",
    "        if compute_winner(votes) == \"Trump\":\n",
    "            output[\"NTrumpwins\"] = output[\"NTrumpwins\"] + 1\n",
    "        else:\n",
    "            output[\"NBidenwins\"] = output[\"NBidenwins\"] + 1\n",
    "    return output\n",
    "\n",
    "\n",
    "K_elections(K=100)"
   ]
  },
  {
   "cell_type": "code",
   "execution_count": 17,
   "metadata": {},
   "outputs": [
    {
     "data": {
      "text/plain": [
       "Counter({'NoAccident-No': 9894, 'Accident-Yes': 32, 'Accident-No': 74})"
      ]
     },
     "execution_count": 17,
     "metadata": {},
     "output_type": "execute_result"
    }
   ],
   "source": [
    "from collections import Counter\n",
    "\n",
    "import random\n",
    "\n",
    "pAccident = {\"Accident\": .01, \"NoAccident\": .99}\n",
    "\n",
    "pHospitalGivenAccident = {\"Yes\": .25, \"No\": .75}\n",
    "\n",
    "### Modify the simulation so that you draw both accidents and hospitalizations ...\n",
    "\n",
    "### Everyone totally understands simulation with conditioning. \n",
    "\n",
    "def drawRide(pAccident):\n",
    "    draw = random.random() # between 0 and 1\n",
    "    \n",
    "    # draw = .3\n",
    "    if draw < pAccident[\"Accident\"]: \n",
    "        return \"Accident\"\n",
    "    else:\n",
    "        return \"NoAccident\"\n",
    "    \n",
    "\n",
    "def drawHospitalization(pHospitalGivenAccident):\n",
    "    draw = random.random() # between 0 and 1\n",
    "    if draw < pHospitalGivenAccident[\"Yes\"]: \n",
    "        return \"Yes\"\n",
    "    else:\n",
    "        return \"No\"\n",
    "\n",
    "results = []\n",
    "for ride in range(10000):\n",
    "    event = drawRide(pAccident)\n",
    "    if(event == \"Accident\"):\n",
    "        hospitalization = drawHospitalization(pHospitalGivenAccident)\n",
    "    else:\n",
    "        hospitalization = \"No\"\n",
    "    results.append(event + \"-\" + hospitalization)\n",
    "   \n",
    "results = Counter(results)\n",
    "results"
   ]
  },
  {
   "cell_type": "markdown",
   "metadata": {},
   "source": [
    "### Step 5: Vary parameters\n",
    "\n",
    "Vary `probOfAge` and `pBidenGivenAge`. What do you observe about how it affects the winner of K elections?\n",
    "\n",
    "[Type your answer here]"
   ]
  }
 ],
 "metadata": {
  "kernelspec": {
   "display_name": "Python 3",
   "language": "python",
   "name": "python3"
  },
  "language_info": {
   "codemirror_mode": {
    "name": "ipython",
    "version": 3
   },
   "file_extension": ".py",
   "mimetype": "text/x-python",
   "name": "python",
   "nbconvert_exporter": "python",
   "pygments_lexer": "ipython3",
   "version": "3.8.5"
  }
 },
 "nbformat": 4,
 "nbformat_minor": 4
}

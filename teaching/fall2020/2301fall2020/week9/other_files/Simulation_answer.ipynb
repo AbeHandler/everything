{
 "cells": [
  {
   "cell_type": "code",
   "execution_count": 1,
   "metadata": {},
   "outputs": [],
   "source": [
    "import random\n",
    "from collections import Counter\n",
    "\n",
    "probOfAge = {\"18-34\": 2.4/5, \"34+\": 2.6/5}\n",
    "\n",
    "pBidenGivenAge = {\"18-34\": 1.7/2.4,  \"34+\": 1.1/2.6}"
   ]
  },
  {
   "cell_type": "markdown",
   "metadata": {},
   "source": [
    "### Step 1: intuition\n",
    "\n",
    "Assuming voters vote for either Biden or Trump, what is pTrumpGivenAge? Fill out the dictionary below."
   ]
  },
  {
   "cell_type": "code",
   "execution_count": 2,
   "metadata": {},
   "outputs": [],
   "source": [
    "pTrumpGivenAge = {\"18-34\": None,  \"34+\": None}"
   ]
  },
  {
   "cell_type": "markdown",
   "metadata": {},
   "source": [
    "### Step 2: Draw age"
   ]
  },
  {
   "cell_type": "code",
   "execution_count": 3,
   "metadata": {},
   "outputs": [],
   "source": [
    "def drawAge(probOfAge):\n",
    "    '''implement me'''\n",
    "    draw = random.random()\n",
    "    if draw < probOfAge[\"18-34\"]:\n",
    "        return \"18-34\"\n",
    "    else:\n",
    "        return \"34+\""
   ]
  },
  {
   "cell_type": "markdown",
   "metadata": {},
   "source": [
    "### Step 2: Draw vote"
   ]
  },
  {
   "cell_type": "code",
   "execution_count": 4,
   "metadata": {},
   "outputs": [],
   "source": [
    "def drawVote(pBidenGivenAge, age):\n",
    "    '''implement me'''\n",
    "    draw = random.random()\n",
    "    if draw < pBidenGivenAge[age]:\n",
    "        return \"Biden\"\n",
    "    else:\n",
    "        return \"Trump\""
   ]
  },
  {
   "cell_type": "code",
   "execution_count": 5,
   "metadata": {},
   "outputs": [],
   "source": [
    "def election(Nvoters):\n",
    "    '''implement me'''\n",
    "    # Simulate an election! Draw Nvoters at random\n",
    "    # First draw their age, then draw their vote given their age\n",
    "    output = []\n",
    "    for n in range(Nvoters):\n",
    "        age = drawAge(probOfAge)\n",
    "        vote = drawVote(pBidenGivenAge, age)\n",
    "        output.append(vote)\n",
    "    return output\n",
    "\n",
    "votes = election(Nvoters = 100)"
   ]
  },
  {
   "cell_type": "markdown",
   "metadata": {},
   "source": [
    "### Step 3: compute the winner of the election"
   ]
  },
  {
   "cell_type": "code",
   "execution_count": 6,
   "metadata": {},
   "outputs": [
    {
     "data": {
      "text/plain": [
       "'Biden'"
      ]
     },
     "execution_count": 6,
     "metadata": {},
     "output_type": "execute_result"
    }
   ],
   "source": [
    "def compute_winner(votes):\n",
    "    counts = Counter(votes)\n",
    "    if counts[\"Biden\"] > counts['Trump']:\n",
    "        return \"Biden\"\n",
    "    else:\n",
    "        return \"Trump\"\n",
    "\n",
    "compute_winner(votes)"
   ]
  },
  {
   "cell_type": "markdown",
   "metadata": {},
   "source": [
    "### Step 4: run 100 elections and count the winners"
   ]
  },
  {
   "cell_type": "code",
   "execution_count": 7,
   "metadata": {},
   "outputs": [
    {
     "data": {
      "text/plain": [
       "{'NTrumpwins': 17, 'NBidenwins': 83}"
      ]
     },
     "execution_count": 7,
     "metadata": {},
     "output_type": "execute_result"
    }
   ],
   "source": [
    "def K_elections(K=100):\n",
    "    output = {'NTrumpwins': 0, 'NBidenwins': 0}\n",
    "    for i in range(K):\n",
    "        votes = election(Nvoters = 100)\n",
    "        if compute_winner(votes) == \"Trump\":\n",
    "            output[\"NTrumpwins\"] = output[\"NTrumpwins\"] + 1\n",
    "        else:\n",
    "            output[\"NBidenwins\"] = output[\"NBidenwins\"] + 1\n",
    "    return output\n",
    "\n",
    "K_elections(K=100)"
   ]
  },
  {
   "cell_type": "markdown",
   "metadata": {},
   "source": [
    "### Step 5: Vary parameters\n",
    "\n",
    "Vary `probOfAge` and `pBidenGivenAge`. What do you observe about how it affects the winner of K elections?\n",
    "\n",
    "[Type your answer here]"
   ]
  }
 ],
 "metadata": {
  "kernelspec": {
   "display_name": "Python 3",
   "language": "python",
   "name": "python3"
  },
  "language_info": {
   "codemirror_mode": {
    "name": "ipython",
    "version": 3
   },
   "file_extension": ".py",
   "mimetype": "text/x-python",
   "name": "python",
   "nbconvert_exporter": "python",
   "pygments_lexer": "ipython3",
   "version": "3.8.5"
  }
 },
 "nbformat": 4,
 "nbformat_minor": 4
}

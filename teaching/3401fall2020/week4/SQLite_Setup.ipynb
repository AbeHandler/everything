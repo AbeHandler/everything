{
 "cells": [
  {
   "cell_type": "markdown",
   "metadata": {},
   "source": [
    "### Hello, databases"
   ]
  },
  {
   "cell_type": "markdown",
   "metadata": {},
   "source": [
    "Databases are _very_ common software tools. They are fundamental infrastructure underlying the digital world. \n",
    "\n",
    "In this module, you will learn to use databases and understand how they work. This notebook will help you get setup with a particular database [SQLite](https://www.sqlite.org/index.html). However, it's good to remember that SQLite is just one kind of database. There are lots of others too. We'll talk about that at the end of this notebook."
   ]
  },
  {
   "cell_type": "markdown",
   "metadata": {},
   "source": [
    "### Installation and setup\n",
    "\n",
    "If you are using Anaconda, then it is very easy to import sqllite. The package is included in standard conda environments."
   ]
  },
  {
   "cell_type": "code",
   "execution_count": 3,
   "metadata": {},
   "outputs": [],
   "source": [
    "import sqlite3 as sql "
   ]
  },
  {
   "cell_type": "markdown",
   "metadata": {},
   "source": [
    "If you were able to import sqlite3 in the prior line, congrats you are all set up! If you are not using conda, you might have to do some more work to install and configure sqlite3. "
   ]
  },
  {
   "cell_type": "code",
   "execution_count": 14,
   "metadata": {},
   "outputs": [
    {
     "data": {
      "text/plain": [
       "<sqlite3.Cursor at 0x7f959f765dc0>"
      ]
     },
     "execution_count": 14,
     "metadata": {},
     "output_type": "execute_result"
    }
   ],
   "source": [
    "## This cell shows you how to create a database\n",
    "\n",
    "dbname = \"shapedatabase\"     # name the database\n",
    "\n",
    "conn  = sql.connect(dbname)    # Connect to the database\n",
    "cur = conn.cursor()            # Your connection to the database is maintained via cursor\n",
    "                                    # this line just gets a cursor\n",
    " \n",
    "'''\n",
    "We interact with databases via SQL statments. \n",
    "A SQL statement is a short command, either requesting information \n",
    "from a database or updating a database. The SQL statement below\n",
    "creates a table called \"shapes\" in the database \"shapedatabase\"\n",
    "'''\n",
    "\n",
    "SQLStatement = '''\n",
    "CREATE TABLE shapes ( \n",
    "id INTEGER PRIMARY KEY AUTOINCREMENT, \n",
    "shape VARCHAR, \n",
    "color VARCHAR \n",
    ")'''     \n",
    "\n",
    "cur.execute(SQLStatement) "
   ]
  },
  {
   "cell_type": "markdown",
   "metadata": {},
   "source": [
    "**Question** \n",
    "\n",
    "Try running `cur.execute(SQLStatement)` a second time. What happens? Why do you think this occurs?\n",
    "\n",
    "[Type your answer here]"
   ]
  },
  {
   "cell_type": "code",
   "execution_count": 42,
   "metadata": {},
   "outputs": [
    {
     "name": "stdout",
     "output_type": "stream",
     "text": [
      "cid name type primary key\n",
      "0 id INTEGER 1\n",
      "1 shape VARCHAR 0\n",
      "2 color VARCHAR 0\n"
     ]
    }
   ],
   "source": [
    "### This code prints out the structure of the database \n",
    "\n",
    "SQLStatement = '''pragma table_info('shapes')'''     # this command requests the schema for the table shapes \n",
    "\n",
    "sth = cur.execute(SQLStatement).fetchall()\n",
    "\n",
    "print(\"cid\", \"name\", \"type\", \"primary key\")\n",
    "for s in sth:\n",
    "    print(s[0], s[1], s[2], s[-1])"
   ]
  },
  {
   "cell_type": "markdown",
   "metadata": {},
   "source": [
    "**Questions** \n",
    "\n",
    "How many rows are printed out above? Why do you think that is the case?\n",
    "\n",
    "[Type your answer here]\n",
    "\n",
    "What do you think the cid column might represent?\n",
    "\n",
    "[Type your answer here]\n",
    "\n",
    "Why is there a 1 in the primary key column for the first row?\n",
    "\n",
    "[Type your answer here]\n"
   ]
  },
  {
   "cell_type": "markdown",
   "metadata": {},
   "source": [
    "### Hello, INSERT statement"
   ]
  },
  {
   "cell_type": "code",
   "execution_count": 43,
   "metadata": {},
   "outputs": [
    {
     "ename": "SyntaxError",
     "evalue": "invalid character in identifier (<ipython-input-43-5970ec30201f>, line 11)",
     "output_type": "error",
     "traceback": [
      "\u001b[0;36m  File \u001b[0;32m\"<ipython-input-43-5970ec30201f>\"\u001b[0;36m, line \u001b[0;32m11\u001b[0m\n\u001b[0;31m    cur.execute(‘insert into atable (some_key) VALUES (?)’, (‘noval’,))\u001b[0m\n\u001b[0m                      ^\u001b[0m\n\u001b[0;31mSyntaxError\u001b[0m\u001b[0;31m:\u001b[0m invalid character in identifier\n"
     ]
    }
   ],
   "source": [
    "insert_data = ''' \n",
    "INSERT INTO atable (some_key, some_value) VALUES (?,?)''' \n",
    " \n",
    "cur.execute(insert_data, ('foo', 'bar')) \n",
    "some_data = ( \n",
    "\t('fob','baz'), \n",
    "\t('zoo','bee') \n",
    "\t) \n",
    "cur.executemany(insert_data, some_data) \n",
    " \n",
    "cur.execute(‘insert into atable (some_key) VALUES (?)’, (‘noval’,)) \n",
    " "
   ]
  },
  {
   "cell_type": "code",
   "execution_count": null,
   "metadata": {},
   "outputs": [],
   "source": [
    "query = ''' \n",
    "SELECT id, some_key, some_value FROM atable''' \n",
    " \n",
    "sth = cur.execute(query) \n",
    "results = sth.fetchall() \n",
    "for i, key, val in results: \n",
    "\tprint(i, key, val) "
   ]
  },
  {
   "cell_type": "markdown",
   "metadata": {},
   "source": [
    "In this notebook, you will get setup with SQLite. But before going through the steps to get things running, it is worth pointing out that there are lots and lots of different kinds of databases. We just picked SQLite for this assignment set because it is easy to get working. In your career in information science, you will have many database choices. \n",
    "\n",
    "Postgres and MySQL are standard, established and popular open-source, relational databases. Postgres in particular is a great choice for a reliable and performant database to support many applications (beware, Postgres can be slightly annoying to set up). Beyond reliable favorites like Postgres and MySQL, there are lots and lots of other kinds of databases, which fill different software niches and use cases. For instance, standard databases store records on disk, but VoltDB stores records in memory. Some databases like Oracle (expensive, “enterprise” software) might support complex permission structures (i.e. who can access what record) which are needed very large organizations. CockroachDB replicates information in many places, to ensure that information is accessible. Google BigQuery supports a SQL-like API for records stored on Google cloud. In this lecture, we will also talk about software systems that store information like databases, but might not support a database-like API. For instance, there is a system called Hadoop which just stores information in files rather than tables, based on a system called MapReduce from Google. Things like MongoDB use a key-value store, rather than a table-like API. \n",
    "\n",
    "In general, when people say “database” they mean something that supports a SQL-like API and guarantees four properties anytime you interact with the API https://en.wikipedia.org/wiki/ACID. There are many, many articles online explaining the ACID properties. \n",
    "\n",
    "Question: VoltDB stores records in memory but Postgres stores records on disk. Why do you think someone designed an in-memory database? What might be the advantage of this sort of software? What kinds of applications might be suited to VoltDB? (Hint: accessing disk is slow)\n",
    "\n",
    "The point of all that is not to overwhelm you! Instead, imagine that you are walking into the tool aisle at Home Depot. There are hundreds and hundreds of different tools on the shelves. When you install SQLite, you are essentially picking one particular kind of wrench. That's just a good thing to keep in mind. "
   ]
  }
 ],
 "metadata": {
  "kernelspec": {
   "display_name": "Python 3",
   "language": "python",
   "name": "python3"
  },
  "language_info": {
   "codemirror_mode": {
    "name": "ipython",
    "version": 3
   },
   "file_extension": ".py",
   "mimetype": "text/x-python",
   "name": "python",
   "nbconvert_exporter": "python",
   "pygments_lexer": "ipython3",
   "version": "3.8.5"
  }
 },
 "nbformat": 4,
 "nbformat_minor": 2
}

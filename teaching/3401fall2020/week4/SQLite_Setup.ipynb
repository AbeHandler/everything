{
 "cells": [
  {
   "cell_type": "markdown",
   "metadata": {},
   "source": [
    "### Hello, databases"
   ]
  },
  {
   "cell_type": "markdown",
   "metadata": {},
   "source": [
    "Databases are _very_ common software tools. They are fundamental infrastructure underlying the digital world. \n",
    "\n",
    "In this module, you will learn to use databases and understand how they work. This notebook will help you get setup with a particular kind of database called [SQLite](https://www.sqlite.org/index.html). There are lots of other kinds of databases too. We'll talk about that at the end of this notebook."
   ]
  },
  {
   "cell_type": "markdown",
   "metadata": {},
   "source": [
    "### Installation and setup\n",
    "\n",
    "If you are using Anaconda, then it is very easy to import sqllite. The package is included in standard conda environments."
   ]
  },
  {
   "cell_type": "code",
   "execution_count": 5,
   "metadata": {},
   "outputs": [],
   "source": [
    "import sqlite3 as sql "
   ]
  },
  {
   "cell_type": "markdown",
   "metadata": {},
   "source": [
    "If you were able to import sqlite3 in the prior line, congrats you are all set up! If you are not using Anaconda, you might have to do some more work to install and configure sqlite3. "
   ]
  },
  {
   "cell_type": "code",
   "execution_count": 6,
   "metadata": {},
   "outputs": [
    {
     "data": {
      "text/plain": [
       "<sqlite3.Cursor at 0x7f8247770340>"
      ]
     },
     "execution_count": 6,
     "metadata": {},
     "output_type": "execute_result"
    }
   ],
   "source": [
    "## This cell shows you how to create a database\n",
    "\n",
    "dbname = \"shapedatabase\"     # name the database\n",
    "\n",
    "conn  = sql.connect(dbname)    # Connect to the database\n",
    "cur = conn.cursor()            # Your connection to the database is maintained via a cursor\n",
    "\n",
    "cur.execute(\"DROP TABLE shapes\")   # This statement is just here in case you re-run your notebook; you can ignore it\n"
   ]
  },
  {
   "cell_type": "markdown",
   "metadata": {},
   "source": [
    "### Hello, SQL\n",
    "We interact with databases via SQL. SQL is a computer language, sort of like Python. With Python you tell a computer *how* you want to do something, step-by-step. With SQL, you just [declare](https://en.wikipedia.org/wiki/Declarative_programming) *what* you want and then the computer figures out how to do it for you.\n",
    "\n",
    "A SQL statement is a short command, either requesting information \n",
    "from a database or updating a database. The SQL statement below\n",
    "creates a table called \"shapes\" in the database \"shapedatabase.\" Please take a minute\n",
    "to read over the `SQLStatement`.\n",
    "\n",
    "The statement id `INTEGER PRIMARY KEY AUTOINCREMENT` says that there is a field called\n",
    "id that is an ingeger and is aun automatically incremented primary key on the shapes table\n"
   ]
  },
  {
   "cell_type": "code",
   "execution_count": 7,
   "metadata": {},
   "outputs": [
    {
     "data": {
      "text/plain": [
       "<sqlite3.Cursor at 0x7f8247770340>"
      ]
     },
     "execution_count": 7,
     "metadata": {},
     "output_type": "execute_result"
    }
   ],
   "source": [
    "SQLStatement = '''\n",
    "CREATE TABLE shapes ( \n",
    "id INTEGER PRIMARY KEY AUTOINCREMENT, \n",
    "shape VARCHAR, \n",
    "color VARCHAR \n",
    ")'''     \n",
    "\n",
    "cur.execute(SQLStatement) "
   ]
  },
  {
   "cell_type": "markdown",
   "metadata": {},
   "source": [
    "**Questions**\n",
    "\n",
    "Using the [docs](https://sqlite.org/lang_createtable.html) as a reference, what do you think `CREATE TABLE` does in the statement above?\n",
    "\n",
    "[Type your answer here] \n",
    "\n",
    "Again using the docs, what does `VARCHAR` mean in the `SQLStatement` above?\n",
    "\n",
    "[Type your answer here] \n",
    "\n",
    "Try running `cur.execute(SQLStatement)` a second time. What happens? Why do you think this occurs?\n",
    "\n",
    "[Type your answer here]"
   ]
  },
  {
   "cell_type": "code",
   "execution_count": 8,
   "metadata": {},
   "outputs": [
    {
     "name": "stdout",
     "output_type": "stream",
     "text": [
      "cid name type primary key\n",
      "0 id INTEGER 1\n",
      "1 shape VARCHAR 0\n",
      "2 color VARCHAR 0\n"
     ]
    }
   ],
   "source": [
    "### This code prints out the structure of the database \n",
    "\n",
    "SQLStatement = '''pragma table_info('shapes')'''     # this command requests the schema for the table shapes \n",
    "                                                     # A schema shows the layout of a database\n",
    "\n",
    "sth = cur.execute(SQLStatement).fetchall()\n",
    "\n",
    "print(\"cid\", \"name\", \"type\", \"primary key\")\n",
    "for s in sth:\n",
    "    print(s[0], s[1], s[2], s[-1])"
   ]
  },
  {
   "cell_type": "markdown",
   "metadata": {},
   "source": [
    "**Questions** \n",
    "\n",
    "How many rows are printed out above? Why do you think that is the case?\n",
    "\n",
    "[Type your answer here]\n",
    "\n",
    "What do you think the cid column might represent?\n",
    "\n",
    "[Type your answer here]\n",
    "\n",
    "Why is there a 1 in the primary key column for the first row?\n",
    "\n",
    "[Type your answer here]\n"
   ]
  },
  {
   "cell_type": "markdown",
   "metadata": {},
   "source": [
    "### Hello, insert statement\n",
    "\n",
    "The whole point of a database is to store information. An [INSERT](https://www.sqlitetutorial.net/sqlite-insert/) statement is a kind of SQL statement that adds rows to a database. Please refer to the pre-class lecture for more details."
   ]
  },
  {
   "cell_type": "code",
   "execution_count": 9,
   "metadata": {},
   "outputs": [
    {
     "data": {
      "text/plain": [
       "<sqlite3.Cursor at 0x7f8247770340>"
      ]
     },
     "execution_count": 9,
     "metadata": {},
     "output_type": "execute_result"
    }
   ],
   "source": [
    "# If you run this code, it will insert a row into the table\n",
    "insert_statement = '''INSERT INTO shapes (shape, color) VALUES (\"square\", \"red\")''' \n",
    " \n",
    "cur.execute(insert_statement)  # this line tells SQLite to run your insert statement\n",
    " "
   ]
  },
  {
   "cell_type": "markdown",
   "metadata": {},
   "source": [
    "### Hello, query statement\n",
    "\n",
    "After you insert information into a database, you them must use a [SELECT](https://www.sqlitetutorial.net/sqlite-select/) statement to query rows from the database. Please refer to the pre-class lecture for more details."
   ]
  },
  {
   "cell_type": "code",
   "execution_count": 11,
   "metadata": {},
   "outputs": [
    {
     "name": "stdout",
     "output_type": "stream",
     "text": [
      "(1, 'square', 'red')\n"
     ]
    }
   ],
   "source": [
    "# An QUERY statement is a kind of SQL statement that selects rows from a database\n",
    "# This statement selects data from the id, shape and color columns in the database \n",
    "\n",
    "query_statement = '''SELECT id, shape, color FROM shapes''' \n",
    " \n",
    "sth = cur.execute(query_statement) \n",
    "results = sth.fetchall() \n",
    "for i in results: \n",
    "    print(i) "
   ]
  },
  {
   "cell_type": "code",
   "execution_count": 14,
   "metadata": {},
   "outputs": [
    {
     "data": {
      "text/plain": [
       "<sqlite3.Cursor at 0x7f8247770340>"
      ]
     },
     "execution_count": 14,
     "metadata": {},
     "output_type": "execute_result"
    }
   ],
   "source": [
    "# If you run this code, it will insert more rows into the table\n",
    "\n",
    "\n",
    "insert_statement = '''INSERT INTO shapes (shape, color) VALUES (\"triangle\", \"blue\")''' \n",
    "cur.execute(insert_statement)  # this line tells SQLite to run your insert statement\n",
    " \n",
    "insert_statement2 = '''INSERT INTO shapes (shape, color) VALUES (\"triangle\", \"green\")''' \n",
    "cur.execute(insert_statement2)  # this line tells SQLite to run your 2nd insert statement\n",
    "\n",
    "insert_statement2 = '''INSERT INTO shapes (shape, color) VALUES (\"circle\", \"blue\")''' \n",
    "cur.execute(insert_statement2)  # this line tells SQLite to run your 2nd insert statement"
   ]
  },
  {
   "cell_type": "markdown",
   "metadata": {},
   "source": [
    "**Question**\n",
    "\n",
    "What do you think will happen if you run the query `SELECT id, shape, color FROM shapes` again, now that you have run more insert statements? \n",
    "\n",
    "[Type your answer here]"
   ]
  },
  {
   "cell_type": "code",
   "execution_count": 15,
   "metadata": {},
   "outputs": [
    {
     "name": "stdout",
     "output_type": "stream",
     "text": [
      "(1, 'square', 'red')\n",
      "(2, 'triangle', 'blue')\n",
      "(3, 'triangle', 'green')\n",
      "(4, 'circle', 'blue')\n"
     ]
    }
   ],
   "source": [
    "query_statement = '''SELECT id, shape, color FROM shapes''' \n",
    " \n",
    "sth = cur.execute(query_statement) \n",
    "results = sth.fetchall() \n",
    "for i in results: \n",
    "    print(i) "
   ]
  },
  {
   "cell_type": "markdown",
   "metadata": {},
   "source": [
    "### Hello, WHERE clause \n",
    "\n",
    "Query statements will select all rows from database. When you use a WHERE clause in a SELECT statement, it specifies that you are only selecting rows that match a certain condition"
   ]
  },
  {
   "cell_type": "code",
   "execution_count": 17,
   "metadata": {},
   "outputs": [
    {
     "name": "stdout",
     "output_type": "stream",
     "text": [
      "(4, 'circle', 'blue')\n"
     ]
    }
   ],
   "source": [
    "'''The statement below selects all circles from the database'''\n",
    "\n",
    "query_statement = '''SELECT id, shape, color FROM shapes WHERE shape =\"circle\"''' \n",
    " \n",
    "sth = cur.execute(query_statement)\n",
    "results = sth.fetchall() \n",
    "for i in results: \n",
    "    print(i) \n"
   ]
  },
  {
   "cell_type": "code",
   "execution_count": 15,
   "metadata": {},
   "outputs": [],
   "source": [
    "# Question: select all red shapes from the database\n",
    "\n",
    "newSQLStatement = None # implement me! \n",
    "\n",
    "# [type your code here. Your code should print out all of the red shapes from the database]"
   ]
  },
  {
   "cell_type": "markdown",
   "metadata": {},
   "source": [
    "### The wide world of databases\n",
    "\n",
    "In this notebook, you got set up with SQLite and got practice with a few basic SQL commands. It is worth pointing out that there are lots and lots of different kinds of databases. We just picked SQLite for this assignment set because it is easy to get working. In your career in information science, you will have many database choices. \n",
    "\n",
    "**Postgres** and **MySQL** are standard, established and popular open-source, relational databases. Postgres in particular is a great choice for a reliable and performant database to support many applications (beware, Postgres can be slightly annoying to set up). \n",
    "\n",
    "Beyond reliable favorites like Postgres and MySQL, there are lots and lots of other kinds of specialized databases, which fill different software niches and use cases. For instance, standard databases store records on disk, but **VoltDB** stores records in memory. Some databases like **Oracle** are designed to support complex permission structures (i.e. who can access what record) which are sometimes needed at large organizations. **CockroachDB** replicates information in many machines across the cloud, to ensure that information is always accessible. Google **BigQuery** supports a SQL-like API for records stored on Google cloud. A SQL-like API lets you add, retrieve and update records using SQL commands.\n",
    "\n",
    "In general, when people say “database” they mean something that supports a SQL-like API and guarantees four properties anytime you interact with the API. There are many, many articles online explaining the [ACID](https://en.wikipedia.org/wiki/ACID) properties. Recently, there has also been interest in [key-value stores](https://en.wikipedia.org/wiki/Key%E2%80%93value_database) which offer an alternative API that stores information in a systematic manner without SQL. One common key-value store is **MongoDB**.\n",
    "\n",
    "**Question**\n",
    "\n",
    "VoltDB stores records in memory but SQLite stores records on disk. Why do you think someone designed an in-memory database? What might be the advantage of this sort of software? What kinds of applications might be suited to VoltDB? (Hint: accessing disk is slow)\n",
    "\n",
    "[Type your answer here]\n",
    "\n",
    "\n",
    "The point of all that is not to overwhelm you! Instead, imagine that you are walking into the tool aisle at Home Depot. There are hundreds and hundreds of different tools on the shelves. When you install SQLite, you are essentially picking one particular kind of wrench. That's just a good thing to keep in mind. "
   ]
  },
  {
   "cell_type": "code",
   "execution_count": null,
   "metadata": {},
   "outputs": [],
   "source": []
  }
 ],
 "metadata": {
  "kernelspec": {
   "display_name": "Python 3",
   "language": "python",
   "name": "python3"
  },
  "language_info": {
   "codemirror_mode": {
    "name": "ipython",
    "version": 3
   },
   "file_extension": ".py",
   "mimetype": "text/x-python",
   "name": "python",
   "nbconvert_exporter": "python",
   "pygments_lexer": "ipython3",
   "version": "3.8.5"
  }
 },
 "nbformat": 4,
 "nbformat_minor": 2
}

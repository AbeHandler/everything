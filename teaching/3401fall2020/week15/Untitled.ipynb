{
 "cells": [
  {
   "cell_type": "code",
   "execution_count": 12,
   "metadata": {},
   "outputs": [
    {
     "name": "stdout",
     "output_type": "stream",
     "text": [
      "doc1.txt 275\n",
      "doc2.txt 270\n"
     ]
    }
   ],
   "source": [
    "from ptb import TreebankWordTokenizer\n",
    "\n",
    "for doc in [\"doc1.txt\", \"doc2.txt\"]:\n",
    "    with open(doc, \"r\") as inf:\n",
    "        txt = inf.read()\n",
    "    tokr = TreebankWordTokenizer()\n",
    "    V = set(tokr.tokenize(txt))\n",
    "    print(doc, len(V)) "
   ]
  },
  {
   "cell_type": "code",
   "execution_count": null,
   "metadata": {},
   "outputs": [],
   "source": [
    "# match the property of text data to its meaning\n",
    "\n",
    "# sparse \n",
    "# discrete\n",
    "# unstructured"
   ]
  },
  {
   "cell_type": "code",
   "execution_count": 15,
   "metadata": {},
   "outputs": [
    {
     "name": "stdout",
     "output_type": "stream",
     "text": [
      "/Users/abramhandler/everything/teaching/3401fall2020/week15\r\n"
     ]
    }
   ],
   "source": [
    "! pwd"
   ]
  },
  {
   "cell_type": "code",
   "execution_count": 14,
   "metadata": {},
   "outputs": [],
   "source": [
    "! cp /Users/abramhandler/Downloads/Abe_code_Nov_25.ipynb .\n"
   ]
  },
  {
   "cell_type": "code",
   "execution_count": null,
   "metadata": {},
   "outputs": [],
   "source": []
  }
 ],
 "metadata": {
  "kernelspec": {
   "display_name": "Python 3",
   "language": "python",
   "name": "python3"
  },
  "language_info": {
   "codemirror_mode": {
    "name": "ipython",
    "version": 3
   },
   "file_extension": ".py",
   "mimetype": "text/x-python",
   "name": "python",
   "nbconvert_exporter": "python",
   "pygments_lexer": "ipython3",
   "version": "3.8.3"
  }
 },
 "nbformat": 4,
 "nbformat_minor": 4
}

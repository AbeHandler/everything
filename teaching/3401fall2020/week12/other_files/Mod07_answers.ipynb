{
 "cells": [
  {
   "cell_type": "markdown",
   "metadata": {},
   "source": [
    "## Module assignment 7 \n",
    "- INFO 3401 Fall 2020\n",
    "- Topic: APIs and JSON\n",
    "- 200 points"
   ]
  },
  {
   "cell_type": "markdown",
   "metadata": {},
   "source": [
    "### Intro\n",
    "\n",
    "For this assignment we will be using the Spotify API using the Spotipy API wrapper. Both the API and the wrapper illustrate a number of common patterns in working with APIs including: \n",
    "\n",
    "1. **Authentication.** _Getting set up with a service, and proving you are who you say you are_\n",
    "\n",
    "2. **Pagination.** _Accessing data in chunks or pages_\n",
    "\n",
    "3. **Python wrapper libraries.** _Using wrapper code around an API to help you use the API with Python objects_\n",
    "\n",
    "4. **Nesting and linking.** _Calls to the API return nested and linked JSON objects_\n",
    "\n",
    "It's very useful to be comfortable working with APIs in general. This module will give you practice with one specific API to help build up your capacity to work with other tools."
   ]
  },
  {
   "cell_type": "markdown",
   "metadata": {},
   "source": [
    "### Setup [25 points]\n",
    "\n",
    "#### Step One: Registration\n",
    "To do this assignment, you will need to get set up with the Spotify API. Please follow the sections \"Set Up Your Account\" and \"Register Your Application\" to tell Spotify that you are a creating an application. Here is a [link](https://developer.spotify.com/documentation/web-api/quick-start/) to the Spotify site to get started. **You should NOT setup a nodejs environment. Just follow the steps to create an account and register a sample application**. \n",
    "\n",
    "#### Step Two: Lookup\n",
    "Once you are set up, you should be able to go to your Spotify [\"Dashboard\"](https://developer.spotify.com/dashboard/applications), click on your application and learn your `Client ID` and `Client Secret`. \n",
    "\n",
    "#### Step Three: Configuration\n",
    "You should set up [environment variables](https://askubuntu.com/questions/58814/how-do-i-add-environment-variables) `CLIENT_ID` and `CLIENT_SECRET`. We covered how to do this in class on 11/16 so please consult the recording for extra help. \n",
    "\n",
    "#### Step Four: Installation\n",
    "You should install spotipy in the same environment where you set your `CLIENT_ID` and `CLIENT_SECRET` variables using the command `$pip install spotipy --upgrade`\n",
    "\n",
    "#### Step Four: Five\n",
    "If you are correctly set up, you should be able to run the cell below without error to print out the albumbs from the English singer [Birdy](https://www.officialbirdy.com/). This is the example on the \"Welcome to Spotipy\" [documentation page](https://spotipy.readthedocs.io/en/2.16.1/). Often APIs give you a minimal example to help you get started."
   ]
  },
  {
   "cell_type": "code",
   "execution_count": 9,
   "metadata": {},
   "outputs": [
    {
     "name": "stdout",
     "output_type": "stream",
     "text": [
      "Beautiful Lies\n",
      "Beautiful Lies\n",
      "Beautiful Lies (Deluxe)\n",
      "Beautiful Lies (Deluxe)\n",
      "Fire Within\n",
      "Fire Within\n",
      "Fire Within (Deluxe)\n",
      "Fire Within (Deluxe)\n",
      "Fire Within (Deluxe)\n",
      "Live in London\n",
      "Birdy\n",
      "Birdy\n",
      "Birdy\n",
      "Birdy\n",
      "Birdy (Deluxe Version)\n"
     ]
    }
   ],
   "source": [
    "import spotipy\n",
    "from spotipy.oauth2 import SpotifyClientCredentials\n",
    "\n",
    "birdy_uri = 'spotify:artist:2WX2uTcsvV5OnS0inACecP'\n",
    "spotify = spotipy.Spotify(client_credentials_manager=SpotifyClientCredentials())\n",
    "\n",
    "results = spotify.artist_albums(birdy_uri, album_type='album')\n",
    "\n",
    "albums = results['items']\n",
    "while results['next']:\n",
    "    results = spotify.next(results)\n",
    "    albums.extend(results['items'])\n",
    "\n",
    "for album in albums:\n",
    "    print(album['name'])"
   ]
  },
  {
   "cell_type": "code",
   "execution_count": 5,
   "metadata": {},
   "outputs": [
    {
     "name": "stderr",
     "output_type": "stream",
     "text": [
      "<ipython-input-5-eb6122f8817d>:5: TqdmDeprecationWarning: This function will be removed in tqdm==5.0.0\n",
      "Please use `tqdm.notebook.tqdm` instead of `tqdm.tqdm_notebook`\n",
      "  for offset in tqdm(range(1000)):\n"
     ]
    },
    {
     "data": {
      "application/vnd.jupyter.widget-view+json": {
       "model_id": "a45e94e9322a4618bdd0e04e1ff29820",
       "version_major": 2,
       "version_minor": 0
      },
      "text/plain": [
       "HBox(children=(HTML(value=''), FloatProgress(value=0.0, max=1000.0), HTML(value='')))"
      ]
     },
     "metadata": {},
     "output_type": "display_data"
    },
    {
     "name": "stdout",
     "output_type": "stream",
     "text": [
      "\n"
     ]
    }
   ],
   "source": [
    "love_songs = []\n",
    "\n",
    "for offset in range(1000):\n",
    "    if offset % 100:\n",
    "        print(\"iter=\", offset)\n",
    "    results = spotify.search(q='love', type='track', limit=50, offset=offset)\n",
    "    items = results[\"tracks\"][\"items\"]\n",
    "    for item in items:\n",
    "        for artist in item['artists']:\n",
    "            love_songs.append({\"artist\": artist[\"name\"], \"artist_id\": artist['id'], \"song\": item[\"name\"]})"
   ]
  },
  {
   "cell_type": "code",
   "execution_count": 6,
   "metadata": {},
   "outputs": [],
   "source": [
    "import pandas as pd\n",
    "love_songs = pd.DataFrame(love_songs)"
   ]
  },
  {
   "cell_type": "code",
   "execution_count": 7,
   "metadata": {},
   "outputs": [
    {
     "name": "stderr",
     "output_type": "stream",
     "text": [
      "<ipython-input-7-16dbda4add3b>:5: TqdmDeprecationWarning: This function will be removed in tqdm==5.0.0\n",
      "Please use `tqdm.notebook.tqdm` instead of `tqdm.tqdm_notebook`\n",
      "  for offset in tqdm(range(1000)):\n"
     ]
    },
    {
     "data": {
      "application/vnd.jupyter.widget-view+json": {
       "model_id": "9af59df18c8c4998b4ad733a16d94d6c",
       "version_major": 2,
       "version_minor": 0
      },
      "text/plain": [
       "HBox(children=(HTML(value=''), FloatProgress(value=0.0, max=1000.0), HTML(value='')))"
      ]
     },
     "metadata": {},
     "output_type": "display_data"
    },
    {
     "name": "stdout",
     "output_type": "stream",
     "text": [
      "\n"
     ]
    }
   ],
   "source": [
    "money_songs = []\n",
    "\n",
    "for offset in range(1000):\n",
    "    if offset % 100:\n",
    "        print(\"iter=\", offset)\n",
    "    results = spotify.search(q='money', type='track', limit=50, offset=offset)\n",
    "    items = results[\"tracks\"][\"items\"]\n",
    "    for item in items:\n",
    "        for artist in item['artists']:\n",
    "            money_songs.append({\"artist\": artist[\"name\"], \"artist_id\": artist['id'], \"song\": item[\"name\"]})"
   ]
  },
  {
   "cell_type": "code",
   "execution_count": 10,
   "metadata": {},
   "outputs": [],
   "source": [
    "money_songs = pd.DataFrame(money_songs)"
   ]
  },
  {
   "cell_type": "code",
   "execution_count": 47,
   "metadata": {},
   "outputs": [
    {
     "data": {
      "text/html": [
       "<div>\n",
       "<style scoped>\n",
       "    .dataframe tbody tr th:only-of-type {\n",
       "        vertical-align: middle;\n",
       "    }\n",
       "\n",
       "    .dataframe tbody tr th {\n",
       "        vertical-align: top;\n",
       "    }\n",
       "\n",
       "    .dataframe thead th {\n",
       "        text-align: right;\n",
       "    }\n",
       "</style>\n",
       "<table border=\"1\" class=\"dataframe\">\n",
       "  <thead>\n",
       "    <tr style=\"text-align: right;\">\n",
       "      <th></th>\n",
       "      <th>index</th>\n",
       "      <th>artist</th>\n",
       "      <th>artist_id</th>\n",
       "    </tr>\n",
       "  </thead>\n",
       "  <tbody>\n",
       "    <tr>\n",
       "      <th>0</th>\n",
       "      <td>0</td>\n",
       "      <td>Kendrick Lamar</td>\n",
       "      <td>2YZyLoL8N0Wb9xBt1NhZWg</td>\n",
       "    </tr>\n",
       "    <tr>\n",
       "      <th>1</th>\n",
       "      <td>5555</td>\n",
       "      <td>Rihanna</td>\n",
       "      <td>5pKCCKE2ajJHZ9KAiaK11H</td>\n",
       "    </tr>\n",
       "    <tr>\n",
       "      <th>2</th>\n",
       "      <td>29491</td>\n",
       "      <td>Lil Tecca</td>\n",
       "      <td>4Ga1P7PMIsmqEZqhYZQgDo</td>\n",
       "    </tr>\n",
       "    <tr>\n",
       "      <th>3</th>\n",
       "      <td>127932</td>\n",
       "      <td>Trippie Redd</td>\n",
       "      <td>6Xgp2XMz1fhVYe7i6yNAax</td>\n",
       "    </tr>\n",
       "    <tr>\n",
       "      <th>4</th>\n",
       "      <td>672273</td>\n",
       "      <td>Lil Wayne</td>\n",
       "      <td>55Aa2cqylxrFIXC767Z865</td>\n",
       "    </tr>\n",
       "    <tr>\n",
       "      <th>...</th>\n",
       "      <td>...</td>\n",
       "      <td>...</td>\n",
       "      <td>...</td>\n",
       "    </tr>\n",
       "    <tr>\n",
       "      <th>97</th>\n",
       "      <td>3300618</td>\n",
       "      <td>Rich The Kid</td>\n",
       "      <td>1pPmIToKXyGdsCF6LmqLmI</td>\n",
       "    </tr>\n",
       "    <tr>\n",
       "      <th>98</th>\n",
       "      <td>3306718</td>\n",
       "      <td>Anderson .Paak</td>\n",
       "      <td>3jK9MiCrA42lLAdMGUZpwa</td>\n",
       "    </tr>\n",
       "    <tr>\n",
       "      <th>99</th>\n",
       "      <td>3314218</td>\n",
       "      <td>The Drums</td>\n",
       "      <td>0p5axeJsbtTCXBrRVoKjwu</td>\n",
       "    </tr>\n",
       "    <tr>\n",
       "      <th>100</th>\n",
       "      <td>3314538</td>\n",
       "      <td>Mötley Crüe</td>\n",
       "      <td>0cc6vw3VN8YlIcvr1v7tBL</td>\n",
       "    </tr>\n",
       "    <tr>\n",
       "      <th>101</th>\n",
       "      <td>3316388</td>\n",
       "      <td>Bruno Mars</td>\n",
       "      <td>0du5cEVh5yTK9QJze8zA0C</td>\n",
       "    </tr>\n",
       "  </tbody>\n",
       "</table>\n",
       "<p>102 rows × 3 columns</p>\n",
       "</div>"
      ],
      "text/plain": [
       "       index          artist               artist_id\n",
       "0          0  Kendrick Lamar  2YZyLoL8N0Wb9xBt1NhZWg\n",
       "1       5555         Rihanna  5pKCCKE2ajJHZ9KAiaK11H\n",
       "2      29491       Lil Tecca  4Ga1P7PMIsmqEZqhYZQgDo\n",
       "3     127932    Trippie Redd  6Xgp2XMz1fhVYe7i6yNAax\n",
       "4     672273       Lil Wayne  55Aa2cqylxrFIXC767Z865\n",
       "..       ...             ...                     ...\n",
       "97   3300618    Rich The Kid  1pPmIToKXyGdsCF6LmqLmI\n",
       "98   3306718  Anderson .Paak  3jK9MiCrA42lLAdMGUZpwa\n",
       "99   3314218       The Drums  0p5axeJsbtTCXBrRVoKjwu\n",
       "100  3314538     Mötley Crüe  0cc6vw3VN8YlIcvr1v7tBL\n",
       "101  3316388      Bruno Mars  0du5cEVh5yTK9QJze8zA0C\n",
       "\n",
       "[102 rows x 3 columns]"
      ]
     },
     "execution_count": 47,
     "metadata": {},
     "output_type": "execute_result"
    }
   ],
   "source": [
    "artists = love_songs.merge(money_songs, on=\"artist\", how=\"inner\", suffixes=('_love', '_money'))[[\"artist\", \"artist_id_money\"]]\n",
    "\n",
    "artists = artists.drop_duplicates().reset_index()\n",
    "\n",
    "artists = artists.rename(columns={\"artist_id_money\": \"artist_id\"})\n",
    "\n",
    "artists"
   ]
  },
  {
   "cell_type": "code",
   "execution_count": 13,
   "metadata": {},
   "outputs": [],
   "source": [
    "def get_all_albums(artist_id):\n",
    "    '''Ok to get the first 10'''\n",
    "    results = spotify.artist_albums(artist_id, album_type='album', limit=50)\n",
    "    out = []\n",
    "    for i in results['items']:\n",
    "        out.append(i[\"id\"])\n",
    "    return out"
   ]
  },
  {
   "cell_type": "code",
   "execution_count": 14,
   "metadata": {},
   "outputs": [],
   "source": [
    "def get_tracks_from_album(album_id):\n",
    "    tracks = []\n",
    "    for track in spotify.album_tracks(album_id)['items']:\n",
    "        tracks.append(track[\"name\"])\n",
    "    return tracks\n",
    "\n",
    "def get_tracks_from_all_albums(artist_id):\n",
    "    albums = get_all_albums(artist_id=artist_id)\n",
    "    all_tracks = []\n",
    "        \n",
    "    for album_id in albums:\n",
    "        tracks = get_tracks_from_album(album_id)\n",
    "        all_tracks = all_tracks + tracks\n",
    "\n",
    "    return all_tracks"
   ]
  },
  {
   "cell_type": "code",
   "execution_count": 127,
   "metadata": {},
   "outputs": [
    {
     "name": "stdout",
     "output_type": "stream",
     "text": [
      "2YZyLoL8N0Wb9xBt1NhZWg\n",
      "45TgXXqMDdF8BkjA83OM7z\n",
      "3nFkdlSjzX9mRTtwJOzDYB\n",
      "3KV3p5EY4AvKxOlhGHORLg\n",
      "3q7HBObVc0L8jNeTe5Gofh\n",
      "13ubrt8QOOCPljQ2FL1Kca\n",
      "2jku7tDXc6XoB6MO2hFuqg\n",
      "0c173mlxpT3dSFRgMO8XPh\n",
      "4tYSBptyGeVyZsk8JC4JHZ\n",
      "5a2EaR3hamoenG9rDuVn8j\n",
      "0cc6vw3VN8YlIcvr1v7tBL\n"
     ]
    }
   ],
   "source": [
    "all_tracks = []\n",
    "\n",
    "for artist_no, artist_id in enumerate(artists[\"artist_id\"]):\n",
    "    if (artist_no % 10) == 0:\n",
    "        print(artist_no)\n",
    "    tracks = get_tracks_from_all_albums(artist_id)\n",
    "    for track in tracks:\n",
    "        all_tracks.append({\"artist_id\": artist_id, \"track\": track})\n",
    "        \n"
   ]
  },
  {
   "cell_type": "code",
   "execution_count": 159,
   "metadata": {},
   "outputs": [
    {
     "data": {
      "text/html": [
       "<div>\n",
       "<style scoped>\n",
       "    .dataframe tbody tr th:only-of-type {\n",
       "        vertical-align: middle;\n",
       "    }\n",
       "\n",
       "    .dataframe tbody tr th {\n",
       "        vertical-align: top;\n",
       "    }\n",
       "\n",
       "    .dataframe thead th {\n",
       "        text-align: right;\n",
       "    }\n",
       "</style>\n",
       "<table border=\"1\" class=\"dataframe\">\n",
       "  <thead>\n",
       "    <tr style=\"text-align: right;\">\n",
       "      <th></th>\n",
       "      <th>artist_id</th>\n",
       "      <th>count</th>\n",
       "      <th>index</th>\n",
       "      <th>artist</th>\n",
       "    </tr>\n",
       "  </thead>\n",
       "  <tbody>\n",
       "    <tr>\n",
       "      <th>0</th>\n",
       "      <td>00FQb4jTyendYWaN8pK0wa</td>\n",
       "      <td>106</td>\n",
       "      <td>2577458</td>\n",
       "      <td>Lana Del Rey</td>\n",
       "    </tr>\n",
       "    <tr>\n",
       "      <th>1</th>\n",
       "      <td>02kJSzxNuaWGqwubyUba0Z</td>\n",
       "      <td>100</td>\n",
       "      <td>2558508</td>\n",
       "      <td>G-Eazy</td>\n",
       "    </tr>\n",
       "    <tr>\n",
       "      <th>2</th>\n",
       "      <td>0A0FS04o6zMoto8OKPsDwY</td>\n",
       "      <td>164</td>\n",
       "      <td>2916768</td>\n",
       "      <td>YG</td>\n",
       "    </tr>\n",
       "    <tr>\n",
       "      <th>3</th>\n",
       "      <td>0ErzCpIMyLcjPiwT4elrtZ</td>\n",
       "      <td>63</td>\n",
       "      <td>2607258</td>\n",
       "      <td>NLE Choppa</td>\n",
       "    </tr>\n",
       "    <tr>\n",
       "      <th>4</th>\n",
       "      <td>0HkcYmcjrBR3SCw9Ld5VZk</td>\n",
       "      <td>44</td>\n",
       "      <td>3182618</td>\n",
       "      <td>Calboy</td>\n",
       "    </tr>\n",
       "    <tr>\n",
       "      <th>...</th>\n",
       "      <td>...</td>\n",
       "      <td>...</td>\n",
       "      <td>...</td>\n",
       "      <td>...</td>\n",
       "    </tr>\n",
       "    <tr>\n",
       "      <th>94</th>\n",
       "      <td>7J2lZBANizgPNfUzux31PV</td>\n",
       "      <td>200</td>\n",
       "      <td>3240118</td>\n",
       "      <td>David Gray</td>\n",
       "    </tr>\n",
       "    <tr>\n",
       "      <th>95</th>\n",
       "      <td>7bXgB6jMjp9ATFy66eO08Z</td>\n",
       "      <td>276</td>\n",
       "      <td>2874018</td>\n",
       "      <td>Chris Brown</td>\n",
       "    </tr>\n",
       "    <tr>\n",
       "      <th>96</th>\n",
       "      <td>7c0XG5cIJTrrAgEC3ULPiq</td>\n",
       "      <td>110</td>\n",
       "      <td>3225118</td>\n",
       "      <td>Ty Dolla $ign</td>\n",
       "    </tr>\n",
       "    <tr>\n",
       "      <th>97</th>\n",
       "      <td>7mnBLXK823vNxN3UWB7Gfz</td>\n",
       "      <td>139</td>\n",
       "      <td>3295618</td>\n",
       "      <td>The Black Keys</td>\n",
       "    </tr>\n",
       "    <tr>\n",
       "      <th>98</th>\n",
       "      <td>7wlFDEWiM5OoIAt8RSli8b</td>\n",
       "      <td>225</td>\n",
       "      <td>1964758</td>\n",
       "      <td>YoungBoy Never Broke Again</td>\n",
       "    </tr>\n",
       "  </tbody>\n",
       "</table>\n",
       "<p>99 rows × 4 columns</p>\n",
       "</div>"
      ],
      "text/plain": [
       "                 artist_id  count    index                      artist\n",
       "0   00FQb4jTyendYWaN8pK0wa    106  2577458                Lana Del Rey\n",
       "1   02kJSzxNuaWGqwubyUba0Z    100  2558508                      G-Eazy\n",
       "2   0A0FS04o6zMoto8OKPsDwY    164  2916768                          YG\n",
       "3   0ErzCpIMyLcjPiwT4elrtZ     63  2607258                  NLE Choppa\n",
       "4   0HkcYmcjrBR3SCw9Ld5VZk     44  3182618                      Calboy\n",
       "..                     ...    ...      ...                         ...\n",
       "94  7J2lZBANizgPNfUzux31PV    200  3240118                  David Gray\n",
       "95  7bXgB6jMjp9ATFy66eO08Z    276  2874018                 Chris Brown\n",
       "96  7c0XG5cIJTrrAgEC3ULPiq    110  3225118               Ty Dolla $ign\n",
       "97  7mnBLXK823vNxN3UWB7Gfz    139  3295618              The Black Keys\n",
       "98  7wlFDEWiM5OoIAt8RSli8b    225  1964758  YoungBoy Never Broke Again\n",
       "\n",
       "[99 rows x 4 columns]"
      ]
     },
     "execution_count": 159,
     "metadata": {},
     "output_type": "execute_result"
    }
   ],
   "source": [
    "all_tracks_df = pd.DataFrame(all_tracks)\n",
    "all_tracks_df.drop_duplicates(inplace=True, ignore_index=True)\n",
    "all_tracks_df = all_tracks_df.groupby(\"artist_id\").count().reset_index()\n",
    "all_tracks_df = all_tracks_df.rename(columns={\"track\": \"count\"})\n",
    "all_tracks_df = all_tracks_df.merge(artists, on=\"artist_id\")\n",
    "\n",
    "all_tracks_df = all_tracks_df.reindex()\n",
    "\n",
    "all_tracks_df"
   ]
  },
  {
   "cell_type": "code",
   "execution_count": 69,
   "metadata": {},
   "outputs": [
    {
     "data": {
      "text/plain": [
       "325"
      ]
     },
     "execution_count": 69,
     "metadata": {},
     "output_type": "execute_result"
    }
   ],
   "source": [
    "len(all_tracks[all_tracks[\"artist_id\"] == \"55Aa2cqylxrFIXC767Z865\"][\"track\"].unique())"
   ]
  },
  {
   "cell_type": "code",
   "execution_count": 70,
   "metadata": {},
   "outputs": [],
   "source": [
    "love_tracks = all_tracks[all_tracks[\"track\"].str.lower().str.contains(\"love\")]\n",
    "\n",
    "love_tracks = love_tracks.drop_duplicates().reset_index()"
   ]
  },
  {
   "cell_type": "code",
   "execution_count": 71,
   "metadata": {},
   "outputs": [],
   "source": [
    "money_tracks = all_tracks[all_tracks[\"track\"].str.lower().str.contains(\"money\")]\n",
    "\n",
    "money_tracks = money_tracks.drop_duplicates().reset_index()"
   ]
  },
  {
   "cell_type": "code",
   "execution_count": 72,
   "metadata": {},
   "outputs": [
    {
     "data": {
      "text/html": [
       "<div>\n",
       "<style scoped>\n",
       "    .dataframe tbody tr th:only-of-type {\n",
       "        vertical-align: middle;\n",
       "    }\n",
       "\n",
       "    .dataframe tbody tr th {\n",
       "        vertical-align: top;\n",
       "    }\n",
       "\n",
       "    .dataframe thead th {\n",
       "        text-align: right;\n",
       "    }\n",
       "</style>\n",
       "<table border=\"1\" class=\"dataframe\">\n",
       "  <thead>\n",
       "    <tr style=\"text-align: right;\">\n",
       "      <th></th>\n",
       "      <th>artist_id</th>\n",
       "      <th>Nmoney</th>\n",
       "    </tr>\n",
       "  </thead>\n",
       "  <tbody>\n",
       "    <tr>\n",
       "      <th>0</th>\n",
       "      <td>6Ha4aES39QiVjR0L2lwuwq</td>\n",
       "      <td>13</td>\n",
       "    </tr>\n",
       "    <tr>\n",
       "      <th>1</th>\n",
       "      <td>1RyvyyTE3xzB2ZywiAwp0i</td>\n",
       "      <td>8</td>\n",
       "    </tr>\n",
       "    <tr>\n",
       "      <th>2</th>\n",
       "      <td>0z4gvV4rjIZ9wHck67ucSV</td>\n",
       "      <td>8</td>\n",
       "    </tr>\n",
       "    <tr>\n",
       "      <th>3</th>\n",
       "      <td>3WrFJ7ztbogyGnTHbHJFl2</td>\n",
       "      <td>6</td>\n",
       "    </tr>\n",
       "    <tr>\n",
       "      <th>4</th>\n",
       "      <td>55Aa2cqylxrFIXC767Z865</td>\n",
       "      <td>6</td>\n",
       "    </tr>\n",
       "    <tr>\n",
       "      <th>...</th>\n",
       "      <td>...</td>\n",
       "      <td>...</td>\n",
       "    </tr>\n",
       "    <tr>\n",
       "      <th>65</th>\n",
       "      <td>2EMAnMvWE2eb56ToJVfCWs</td>\n",
       "      <td>1</td>\n",
       "    </tr>\n",
       "    <tr>\n",
       "      <th>66</th>\n",
       "      <td>28ExwzUQsvgJooOI0X1mr3</td>\n",
       "      <td>1</td>\n",
       "    </tr>\n",
       "    <tr>\n",
       "      <th>67</th>\n",
       "      <td>20JZFwl6HVl6yg8a4H3ZqK</td>\n",
       "      <td>1</td>\n",
       "    </tr>\n",
       "    <tr>\n",
       "      <th>68</th>\n",
       "      <td>1pPmIToKXyGdsCF6LmqLmI</td>\n",
       "      <td>1</td>\n",
       "    </tr>\n",
       "    <tr>\n",
       "      <th>69</th>\n",
       "      <td>7wlFDEWiM5OoIAt8RSli8b</td>\n",
       "      <td>1</td>\n",
       "    </tr>\n",
       "  </tbody>\n",
       "</table>\n",
       "<p>70 rows × 2 columns</p>\n",
       "</div>"
      ],
      "text/plain": [
       "                 artist_id  Nmoney\n",
       "0   6Ha4aES39QiVjR0L2lwuwq      13\n",
       "1   1RyvyyTE3xzB2ZywiAwp0i       8\n",
       "2   0z4gvV4rjIZ9wHck67ucSV       8\n",
       "3   3WrFJ7ztbogyGnTHbHJFl2       6\n",
       "4   55Aa2cqylxrFIXC767Z865       6\n",
       "..                     ...     ...\n",
       "65  2EMAnMvWE2eb56ToJVfCWs       1\n",
       "66  28ExwzUQsvgJooOI0X1mr3       1\n",
       "67  20JZFwl6HVl6yg8a4H3ZqK       1\n",
       "68  1pPmIToKXyGdsCF6LmqLmI       1\n",
       "69  7wlFDEWiM5OoIAt8RSli8b       1\n",
       "\n",
       "[70 rows x 2 columns]"
      ]
     },
     "execution_count": 72,
     "metadata": {},
     "output_type": "execute_result"
    }
   ],
   "source": [
    "artist_money = pd.DataFrame(money_tracks.value_counts(subset=['artist_id'], sort=True)).reset_index()\n",
    "\n",
    "artist_money = artist_money.rename(columns={0: \"Nmoney\"})\n",
    "\n",
    "artist_money"
   ]
  },
  {
   "cell_type": "code",
   "execution_count": 20,
   "metadata": {},
   "outputs": [
    {
     "data": {
      "text/html": [
       "<div>\n",
       "<style scoped>\n",
       "    .dataframe tbody tr th:only-of-type {\n",
       "        vertical-align: middle;\n",
       "    }\n",
       "\n",
       "    .dataframe tbody tr th {\n",
       "        vertical-align: top;\n",
       "    }\n",
       "\n",
       "    .dataframe thead th {\n",
       "        text-align: right;\n",
       "    }\n",
       "</style>\n",
       "<table border=\"1\" class=\"dataframe\">\n",
       "  <thead>\n",
       "    <tr style=\"text-align: right;\">\n",
       "      <th></th>\n",
       "      <th>artist_id</th>\n",
       "      <th>Nlove</th>\n",
       "    </tr>\n",
       "  </thead>\n",
       "  <tbody>\n",
       "    <tr>\n",
       "      <th>0</th>\n",
       "      <td>38h03gA85YYPeDPd9ER9rT</td>\n",
       "      <td>54</td>\n",
       "    </tr>\n",
       "    <tr>\n",
       "      <th>1</th>\n",
       "      <td>5a2EaR3hamoenG9rDuVn8j</td>\n",
       "      <td>44</td>\n",
       "    </tr>\n",
       "    <tr>\n",
       "      <th>2</th>\n",
       "      <td>1Cs0zKBU1kc0i8ypK3B9ai</td>\n",
       "      <td>33</td>\n",
       "    </tr>\n",
       "    <tr>\n",
       "      <th>3</th>\n",
       "      <td>3WrFJ7ztbogyGnTHbHJFl2</td>\n",
       "      <td>28</td>\n",
       "    </tr>\n",
       "    <tr>\n",
       "      <th>4</th>\n",
       "      <td>4mxWe1mtYIYfP040G38yvS</td>\n",
       "      <td>26</td>\n",
       "    </tr>\n",
       "    <tr>\n",
       "      <th>...</th>\n",
       "      <td>...</td>\n",
       "      <td>...</td>\n",
       "    </tr>\n",
       "    <tr>\n",
       "      <th>80</th>\n",
       "      <td>20JZFwl6HVl6yg8a4H3ZqK</td>\n",
       "      <td>1</td>\n",
       "    </tr>\n",
       "    <tr>\n",
       "      <th>81</th>\n",
       "      <td>6DPYiyq5kWVQS4RGwxzPC7</td>\n",
       "      <td>1</td>\n",
       "    </tr>\n",
       "    <tr>\n",
       "      <th>82</th>\n",
       "      <td>699OTQXzgjhIYAHMy9RyPD</td>\n",
       "      <td>1</td>\n",
       "    </tr>\n",
       "    <tr>\n",
       "      <th>83</th>\n",
       "      <td>4MCBfE4596Uoi2O4DtmEMz</td>\n",
       "      <td>1</td>\n",
       "    </tr>\n",
       "    <tr>\n",
       "      <th>84</th>\n",
       "      <td>5yy76ufVriyvidNSvXlRU1</td>\n",
       "      <td>1</td>\n",
       "    </tr>\n",
       "  </tbody>\n",
       "</table>\n",
       "<p>85 rows × 2 columns</p>\n",
       "</div>"
      ],
      "text/plain": [
       "                 artist_id  Nlove\n",
       "0   38h03gA85YYPeDPd9ER9rT     54\n",
       "1   5a2EaR3hamoenG9rDuVn8j     44\n",
       "2   1Cs0zKBU1kc0i8ypK3B9ai     33\n",
       "3   3WrFJ7ztbogyGnTHbHJFl2     28\n",
       "4   4mxWe1mtYIYfP040G38yvS     26\n",
       "..                     ...    ...\n",
       "80  20JZFwl6HVl6yg8a4H3ZqK      1\n",
       "81  6DPYiyq5kWVQS4RGwxzPC7      1\n",
       "82  699OTQXzgjhIYAHMy9RyPD      1\n",
       "83  4MCBfE4596Uoi2O4DtmEMz      1\n",
       "84  5yy76ufVriyvidNSvXlRU1      1\n",
       "\n",
       "[85 rows x 2 columns]"
      ]
     },
     "execution_count": 20,
     "metadata": {},
     "output_type": "execute_result"
    }
   ],
   "source": [
    "artist_love = pd.DataFrame(love_tracks.value_counts(subset=['artist_id'], sort=True)).reset_index()\n",
    "\n",
    "artist_love = artist_love.rename(columns={0: \"Nlove\"})\n",
    "\n",
    "artist_love"
   ]
  },
  {
   "cell_type": "code",
   "execution_count": 166,
   "metadata": {},
   "outputs": [],
   "source": [
    "merged = artist_love.merge(artist_money, how='outer').fillna(0)\n",
    "\n",
    "merged = merged.merge(artists, on=\"artist_id\", how=\"inner\")[[\"Nlove\", \"Nmoney\", \"artist\"]]\n",
    "\n",
    "normalized = merged.merge(all_tracks_df, on=\"artist\", how=\"inner\")\n",
    "\n",
    "normalized[\"love_pct\"] = normalized[\"Nlove\"]/normalized[\"count\"]\n",
    "normalized[\"money_pct\"] = normalized[\"Nmoney\"]/normalized[\"count\"]"
   ]
  },
  {
   "cell_type": "code",
   "execution_count": 171,
   "metadata": {},
   "outputs": [
    {
     "data": {
      "image/png": "[encoded data removed]",
      "text/plain": [
       "<Figure size 1152x1152 with 1 Axes>"
      ]
     },
     "metadata": {
      "needs_background": "light"
     },
     "output_type": "display_data"
    }
   ],
   "source": [
    "import matplotlib.pyplot as plt\n",
    "\n",
    "fig, ax = plt.subplots()\n",
    "\n",
    "ax.scatter(normalized[\"love_pct\"].to_list(), normalized[\"money_pct\"].to_list())\n",
    "\n",
    "for i, txt in enumerate(normalized[\"artist\"]):\n",
    "    ax.annotate(txt, (normalized[\"love_pct\"][i], normalized[\"money_pct\"][i]))\n",
    "    \n",
    "ax.set_xlabel('pct love')\n",
    "ax.set_ylabel('pct money')\n",
    "fig.set_size_inches(16, 16)"
   ]
  },
  {
   "cell_type": "markdown",
   "metadata": {},
   "source": [
    "#### Extra credit \n",
    "\n",
    "It is hard to see all of the points in the plot above. Try a few solutions to make the plot look nicer. Any of the following strategies might work"
   ]
  },
  {
   "cell_type": "code",
   "execution_count": null,
   "metadata": {},
   "outputs": [],
   "source": []
  }
 ],
 "metadata": {
  "kernelspec": {
   "display_name": "Python 3",
   "language": "python",
   "name": "python3"
  },
  "language_info": {
   "codemirror_mode": {
    "name": "ipython",
    "version": 3
   },
   "file_extension": ".py",
   "mimetype": "text/x-python",
   "name": "python",
   "nbconvert_exporter": "python",
   "pygments_lexer": "ipython3",
   "version": "3.8.5"
  }
 },
 "nbformat": 4,
 "nbformat_minor": 4
}

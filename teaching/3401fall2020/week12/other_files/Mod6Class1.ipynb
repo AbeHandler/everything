{
 "cells": [
  {
   "cell_type": "markdown",
   "metadata": {},
   "source": [
    "### Calling APIs\n",
    "\n",
    "Interfaces\n",
    "- In computing, an interface is something that allows two different systems to interact\n",
    "- A graphical user interface allows a person to interact with a computer\n",
    "\n",
    "APIs\n",
    "- An API is an application-programming interface\n",
    "- It allows people or machines to talk to a computer system\n",
    "- We have already seen databases, which offer programmers a SQL API\n",
    "- In this unit, we will learn to call APIs across the web\n",
    "\n",
    "Web APIs\n",
    "- When you go to a website, you are already calling a sort of API\n",
    "- You make a request to the server and the server returns HTML, Javascript and CSS\n",
    "- Your browser render that code into a page that you can see \n",
    "- Other kinds of API return information that is really meant for computers instead of people"
   ]
  },
  {
   "cell_type": "markdown",
   "metadata": {},
   "source": [
    "### Our first web API call\n",
    "\n",
    "- Web APIs return information for machines. But you can still read them as a person. I find that this is an important and useful first step when using web APIs\n",
    "\n",
    "- Let's take a look\n",
    "\n",
    "- https://api.pushshift.io/reddit/search/submission/?subreddit=cuboulder\n",
    "\n",
    "- This is a structure called json"
   ]
  },
  {
   "cell_type": "markdown",
   "metadata": {},
   "source": [
    "### JSON\n",
    "\n",
    "- JSON has keys and values\n",
    "- Values can also be JSON objects \n",
    "- We read JSON with Python using the json module\n",
    "- JSON is called \"javascript object notation\" because you use this format to represent javascript objects. \n",
    "- In this class we will stick to Python (no Javascript, though it's handy to learn at some point)"
   ]
  },
  {
   "cell_type": "code",
   "execution_count": 1,
   "metadata": {},
   "outputs": [],
   "source": [
    "import json\n",
    "\n",
    "# You can write json in Python like this \n",
    "some_json = {\"name\": \"Sir John\", \"species\": \"dog\"}\n",
    "\n",
    "serialized = json.dumps(some_json)  # turn it into a string like this, dumps = \"dump string\"\n",
    "\n",
    "restored_from_string = json.loads(serialized)\n",
    "\n",
    "print(type(some_json), type(serialized), type(restored_from_string))\n",
    "\n",
    "print(some_json)\n",
    "\n",
    "print(restored_from_string)"
   ]
  },
  {
   "cell_type": "code",
   "execution_count": 2,
   "metadata": {},
   "outputs": [],
   "source": [
    "### Looping over the keys in json\n",
    "for key in some_json:\n",
    "    print(key, \"is\", some_json[key])"
   ]
  },
  {
   "cell_type": "code",
   "execution_count": 3,
   "metadata": {},
   "outputs": [],
   "source": [
    "### Looping over the keys in json with .items\n",
    "for key, value in some_json.items():\n",
    "    print(key, \"is\", value)"
   ]
  },
  {
   "cell_type": "code",
   "execution_count": 4,
   "metadata": {},
   "outputs": [],
   "source": [
    "### JSON format allows lists of JSON objects\n",
    "\n",
    "pets = [{\"name\": \"Sir John\", \"species\": \"dog\"}, \n",
    "        {\"name\": \"Blender\", \"species\": \"cat\"},\n",
    "        {\"name\": \"harry\", \"species\": \"fish\"}]\n",
    "\n",
    "for pet in pets:\n",
    "    print(\"**\")\n",
    "    print(pet)\n",
    "    print(pet[\"name\"], pet[\"species\"])  # use brackets and quotes to access a field in json \n"
   ]
  },
  {
   "cell_type": "markdown",
   "metadata": {},
   "source": [
    "### Serialization\n",
    "\n",
    "- When you have a list of JSON objects, sometimes you can store them in a file line-by-line\n",
    "- This format is called jsonl. It it a common format for storing information\n",
    "- Storing information in general is called \"serialization\".\n",
    "- You already know and love the csv serialization format\n",
    "- Think of jsonl as a serialization format, just like csv"
   ]
  },
  {
   "cell_type": "code",
   "execution_count": 5,
   "metadata": {},
   "outputs": [],
   "source": [
    "pets = [{\"name\": \"fred\", \"species\": \"dog\"}, \n",
    "        {\"name\": \"george\", \"species\": \"cat\"},\n",
    "        {\"name\": \"harry\", \"species\": \"fish\"}]\n",
    "\n",
    "with open(\"/tmp/pets.jsonl\", \"w\") as of:\n",
    "    for pet in pets:\n",
    "        print(json.dumps(pet)) # dumps = dump string\n",
    "        of.write(json.dumps(pet) + \"\\n\") # write the pet on a new line in our output file"
   ]
  },
  {
   "cell_type": "code",
   "execution_count": 6,
   "metadata": {},
   "outputs": [
    {
     "name": "stdout",
     "output_type": "stream",
     "text": [
      "{\"name\": \"fred\", \"species\": \"dog\"}\r\n",
      "{\"name\": \"george\", \"species\": \"cat\"}\r\n",
      "{\"name\": \"harry\", \"species\": \"fish\"}\r\n"
     ]
    }
   ],
   "source": [
    "! cat /tmp/pets.jsonl"
   ]
  },
  {
   "cell_type": "markdown",
   "metadata": {},
   "source": [
    "### JSON allows for nesting "
   ]
  },
  {
   "cell_type": "code",
   "execution_count": 7,
   "metadata": {},
   "outputs": [],
   "source": [
    "bowl = {\"size\": \"3 gallons\", \"material\": \"glass\", \"name\":\"bowl\"}\n",
    "bed = {\"size\": \"6 feet\", \"material\": \"soft polyester\", \"name\":\"bed\"}"
   ]
  },
  {
   "cell_type": "code",
   "execution_count": 8,
   "metadata": {},
   "outputs": [
    {
     "name": "stdout",
     "output_type": "stream",
     "text": [
      "{'name': 'fred', 'species': 'dog'}\n",
      "{'name': 'fred', 'species': 'dog', 'habitat': {'size': '6 feet', 'material': 'soft polyester', 'name': 'bed'}}\n"
     ]
    }
   ],
   "source": [
    "print(pets[0])\n",
    "pets[0][\"habitat\"] = bed\n",
    "\n",
    "print(pets[0])"
   ]
  },
  {
   "cell_type": "code",
   "execution_count": 9,
   "metadata": {},
   "outputs": [],
   "source": [
    "pets[2][\"habitat\"] = bowl\n",
    "pets[1]['habitat'] = bed"
   ]
  },
  {
   "cell_type": "markdown",
   "metadata": {},
   "source": [
    "### JSON is Pandas for hackers\n",
    "\n",
    "- Python dictionaries (i.e. deserialized JSON) are surprisingly handy as a data analysis format\n",
    "- The Pandas API is often helpful, but it introduces more dependencies and possible confounds. Sometimes you really don't need it."
   ]
  },
  {
   "cell_type": "code",
   "execution_count": 10,
   "metadata": {},
   "outputs": [
    {
     "data": {
      "text/plain": [
       "{'size': '6 feet', 'material': 'soft polyester', 'name': 'bed'}"
      ]
     },
     "execution_count": 10,
     "metadata": {},
     "output_type": "execute_result"
    }
   ],
   "source": [
    "pets[0][\"habitat\"]"
   ]
  },
  {
   "cell_type": "code",
   "execution_count": 11,
   "metadata": {},
   "outputs": [
    {
     "data": {
      "text/plain": [
       "[{'name': 'fred',\n",
       "  'species': 'dog',\n",
       "  'habitat': {'size': '6 feet', 'material': 'soft polyester', 'name': 'bed'}},\n",
       " {'name': 'george',\n",
       "  'species': 'cat',\n",
       "  'habitat': {'size': '6 feet', 'material': 'soft polyester', 'name': 'bed'}}]"
      ]
     },
     "execution_count": 11,
     "metadata": {},
     "output_type": "execute_result"
    }
   ],
   "source": [
    "[pet for pet in pets if pet[\"habitat\"][\"name\"] == \"bed\"]"
   ]
  },
  {
   "cell_type": "code",
   "execution_count": 12,
   "metadata": {},
   "outputs": [
    {
     "data": {
      "text/plain": [
       "2"
      ]
     },
     "execution_count": 12,
     "metadata": {},
     "output_type": "execute_result"
    }
   ],
   "source": [
    "sum(1 for pet in pets if pet[\"habitat\"][\"name\"] == \"bed\")"
   ]
  },
  {
   "cell_type": "code",
   "execution_count": 13,
   "metadata": {},
   "outputs": [
    {
     "data": {
      "text/plain": [
       "0.6666666666666666"
      ]
     },
     "execution_count": 13,
     "metadata": {},
     "output_type": "execute_result"
    }
   ],
   "source": [
    "sum(1 for pet in pets if pet[\"habitat\"][\"name\"] == \"bed\")/len(pets)"
   ]
  }
 ],
 "metadata": {
  "kernelspec": {
   "display_name": "Python 3",
   "language": "python",
   "name": "python3"
  },
  "language_info": {
   "codemirror_mode": {
    "name": "ipython",
    "version": 3
   },
   "file_extension": ".py",
   "mimetype": "text/x-python",
   "name": "python",
   "nbconvert_exporter": "python",
   "pygments_lexer": "ipython3",
   "version": "3.8.5"
  }
 },
 "nbformat": 4,
 "nbformat_minor": 4
}

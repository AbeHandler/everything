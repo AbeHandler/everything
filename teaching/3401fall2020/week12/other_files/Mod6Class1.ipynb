{
 "cells": [
  {
   "cell_type": "markdown",
   "metadata": {},
   "source": [
    "### JSON\n",
    "\n",
    "- JSON has keys and values\n",
    "- We read JSON with Python using the json module\n",
    "- JSON is called \"javascript object notation\" because you use this format to represent javascript objects. \n",
    "- In this class we will stick to Python (no Javascript, though it's handy to learn at some point)\n",
    "- One good way to learn about JSON is just to get some practice with it."
   ]
  },
  {
   "cell_type": "code",
   "execution_count": 1,
   "metadata": {},
   "outputs": [],
   "source": [
    "import json\n",
    "\n",
    "# You can write json in Python like this \n",
    "some_json = {\"name\": \"Sir John\", \"species\": \"dog\"}\n",
    "\n",
    "serialized = json.dumps(some_json)  # turn it into a string like this, dumps = \"dump string\"\n",
    "\n",
    "restored_from_string = json.loads(serialized)"
   ]
  },
  {
   "cell_type": "code",
   "execution_count": 2,
   "metadata": {},
   "outputs": [
    {
     "data": {
      "text/plain": [
       "'Sir John'"
      ]
     },
     "execution_count": 2,
     "metadata": {},
     "output_type": "execute_result"
    }
   ],
   "source": [
    "some_json['name'] # you access fields like this"
   ]
  },
  {
   "cell_type": "markdown",
   "metadata": {},
   "source": [
    "### Questions\n",
    "\n",
    "1. What are the types of `some_json`, `serialized` and `restored_from_string`? Why does that make sense? \n",
    "\n",
    "2. What happens if you print out `some_json`, `serialized` and `restored_from_string` in the terminal? What do you observe?\n",
    "\n",
    "3. Try changing the value of the \"species\" field in `restored_from_string`. Would you expect the value in `some_json` to change? What do you observe?\n",
    "\n",
    "4. What does Sir John look like? Find a picture on the Internet and fill the cell below by changing the URL?"
   ]
  },
  {
   "cell_type": "markdown",
   "metadata": {},
   "source": [
    "![title](https://www.thelabradorsite.com/wp-content/uploads/2017/04/black-lab-enthusiasm.jpg)"
   ]
  },
  {
   "cell_type": "code",
   "execution_count": 3,
   "metadata": {},
   "outputs": [
    {
     "name": "stdout",
     "output_type": "stream",
     "text": [
      "**\n",
      "key = name\n",
      "value = Sir John\n",
      "**\n",
      "key = species\n",
      "value = dog\n"
     ]
    }
   ],
   "source": [
    "### Loop over the keys in JSON like this\n",
    "for key in some_json:  # 3.7+ Python will iterate based on insertion order \n",
    "    print(\"**\")        # https://mail.python.org/pipermail/python-dev/2017-December/151283.html\n",
    "    print(\"key =\", key)\n",
    "    print(\"value =\", some_json[key])"
   ]
  },
  {
   "cell_type": "code",
   "execution_count": 4,
   "metadata": {},
   "outputs": [
    {
     "name": "stdout",
     "output_type": "stream",
     "text": [
      "name is Sir John\n",
      "species is dog\n"
     ]
    }
   ],
   "source": [
    "### Looping over the keys in json with .items\n",
    "for key, value in some_json.items():\n",
    "    print(key, \"is\", value)"
   ]
  },
  {
   "cell_type": "code",
   "execution_count": 5,
   "metadata": {},
   "outputs": [],
   "source": [
    "### JSON format allows lists of JSON objects\n",
    "\n",
    "pets = [{\"name\": \"Sir John\", \"species\": \"dog\"}, \n",
    "        {\"name\": \"Blender\", \"species\": \"cat\"},\n",
    "        {\"name\": \"harry\", \"species\": \"fish\"}]\n",
    "\n",
    "## TODO:\n",
    "# loop over all the the pets in the list and print out their name and species"
   ]
  },
  {
   "cell_type": "markdown",
   "metadata": {},
   "source": [
    "### Serialization\n",
    "\n",
    "- When you have a list of JSON objects, sometimes you can store them in a file line-by-line\n",
    "- This format is called jsonl. It it a common format for storing information\n",
    "- Storing information to a disk in general is called \"serialization\".\n",
    "- You already know and love the csv serialization format\n",
    "- Think of jsonl as a serialization format, just like csv"
   ]
  },
  {
   "cell_type": "code",
   "execution_count": 16,
   "metadata": {},
   "outputs": [
    {
     "name": "stdout",
     "output_type": "stream",
     "text": [
      "{\"name\": \"Sir John\", \"species\": \"dog\"}\n",
      "{\"name\": \"George\", \"species\": \"cat\"}\n",
      "{\"name\": \"Harry\", \"species\": \"fish\"}\n"
     ]
    }
   ],
   "source": [
    "pets = [{\"name\": \"Sir John\", \"species\": \"dog\"}, \n",
    "        {\"name\": \"George\", \"species\": \"cat\"},\n",
    "        {\"name\": \"Harry\", \"species\": \"fish\"}]\n",
    "\n",
    "with open(\"/tmp/pets.jsonl\", \"w\") as of:\n",
    "    for pet in pets:\n",
    "        print(json.dumps(pet)) # dumps = dump string\n",
    "        of.write(json.dumps(pet) + \"\\n\") # write the pet on a new line in our output file"
   ]
  },
  {
   "cell_type": "code",
   "execution_count": 17,
   "metadata": {},
   "outputs": [
    {
     "name": "stdout",
     "output_type": "stream",
     "text": [
      "{\"name\": \"Sir John\", \"species\": \"dog\"}\r\n",
      "{\"name\": \"George\", \"species\": \"cat\"}\r\n",
      "{\"name\": \"Harry\", \"species\": \"fish\"}\r\n"
     ]
    }
   ],
   "source": [
    "! cat /tmp/pets.jsonl   # This saves the file to /tmp/pets.jsonl. \n",
    "                        # If you are on a PC this file location might not work for you. You might have to change it."
   ]
  },
  {
   "cell_type": "markdown",
   "metadata": {},
   "source": [
    "### JSON allows for nesting \n",
    "\n",
    "- JSON values can be JSON objects\n",
    "- This is sometimes called \"nesting\" because some JSON is nested inside other JSON keys"
   ]
  },
  {
   "cell_type": "code",
   "execution_count": 8,
   "metadata": {},
   "outputs": [],
   "source": [
    "bowl = {\"size\": \"3 gallons\", \"material\": \"glass\", \"name\":\"bowl\"}\n",
    "bed = {\"size\": \"6 feet\", \"material\": \"soft polyester\", \"name\":\"bed\"}\n",
    "palace = {\"size\": \"50000 feet\", \"material\": \"gold\", \"name\":\"palace\"}"
   ]
  },
  {
   "cell_type": "code",
   "execution_count": 9,
   "metadata": {},
   "outputs": [
    {
     "name": "stdout",
     "output_type": "stream",
     "text": [
      "{'name': 'Sir John', 'species': 'dog'}\n",
      "{'name': 'Sir John', 'species': 'dog', 'habitat': {'size': '6 feet', 'material': 'soft polyester', 'name': 'bed'}}\n",
      "{'name': 'Sir John', 'species': 'dog', 'habitat': {'size': '50000 feet', 'material': 'gold', 'name': 'palace'}}\n"
     ]
    }
   ],
   "source": [
    "print(pets[0])\n",
    "pets[0][\"habitat\"] = bed\n",
    "print(pets[0])\n",
    "pets[0][\"habitat\"] = palace\n",
    "print(pets[0])"
   ]
  },
  {
   "cell_type": "markdown",
   "metadata": {},
   "source": [
    "#### Question \n",
    "\n",
    "- What happened in the cell above? Why does the habitat field change? "
   ]
  },
  {
   "cell_type": "code",
   "execution_count": 20,
   "metadata": {},
   "outputs": [],
   "source": [
    "pets[0]['habitat'] = palace\n",
    "pets[2][\"habitat\"] = bowl\n",
    "pets[1]['habitat'] = bed"
   ]
  },
  {
   "cell_type": "markdown",
   "metadata": {},
   "source": [
    "### Pandas for hackers\n",
    "\n",
    "- Python dictionaries (i.e. deserialized jsonl) are surprisingly handy as a data analysis format.\n",
    "- The Pandas API is often helpful, but it also does introduce dependencies.\n",
    "- Sometimes you really don't need it, and it is clearer to just use native Python.\n",
    "- This is the \"everything as Python dictionaries\" school of data analysis. It has some merits, and also clear downsides.\n",
    "- You should be comfortable with different ways of doing things, and understand the tradeoffs."
   ]
  },
  {
   "cell_type": "code",
   "execution_count": 18,
   "metadata": {},
   "outputs": [
    {
     "data": {
      "text/plain": [
       "[{'name': 'Sir John', 'species': 'dog'},\n",
       " {'name': 'George', 'species': 'cat'},\n",
       " {'name': 'Harry', 'species': 'fish'}]"
      ]
     },
     "execution_count": 18,
     "metadata": {},
     "output_type": "execute_result"
    }
   ],
   "source": [
    "pets"
   ]
  },
  {
   "cell_type": "code",
   "execution_count": 21,
   "metadata": {},
   "outputs": [
    {
     "data": {
      "text/plain": [
       "[{'name': 'George',\n",
       "  'species': 'cat',\n",
       "  'habitat': {'size': '6 feet', 'material': 'soft polyester', 'name': 'bed'}}]"
      ]
     },
     "execution_count": 21,
     "metadata": {},
     "output_type": "execute_result"
    }
   ],
   "source": [
    "[pet for pet in pets if pet[\"habitat\"][\"name\"] == \"bed\"]"
   ]
  },
  {
   "cell_type": "code",
   "execution_count": 22,
   "metadata": {},
   "outputs": [
    {
     "data": {
      "text/plain": [
       "1"
      ]
     },
     "execution_count": 22,
     "metadata": {},
     "output_type": "execute_result"
    }
   ],
   "source": [
    "sum(1 for pet in pets if pet[\"habitat\"][\"name\"] == \"bed\")"
   ]
  },
  {
   "cell_type": "markdown",
   "metadata": {},
   "source": [
    "### Question \n",
    "\n",
    "Write Python code to determine what fraction of pets live in a gold palace?"
   ]
  },
  {
   "cell_type": "markdown",
   "metadata": {},
   "source": [
    "[your code here]"
   ]
  },
  {
   "cell_type": "markdown",
   "metadata": {},
   "source": [
    "### Pandas\n",
    "\n",
    "Of course, you can also do all this with Pandas. This has many advantages also. For instance, you might be less likely to make mistakes from writing out step-by-step instructions for how to group or average data. "
   ]
  },
  {
   "cell_type": "code",
   "execution_count": 23,
   "metadata": {},
   "outputs": [
    {
     "data": {
      "text/html": [
       "<div>\n",
       "<style scoped>\n",
       "    .dataframe tbody tr th:only-of-type {\n",
       "        vertical-align: middle;\n",
       "    }\n",
       "\n",
       "    .dataframe tbody tr th {\n",
       "        vertical-align: top;\n",
       "    }\n",
       "\n",
       "    .dataframe thead th {\n",
       "        text-align: right;\n",
       "    }\n",
       "</style>\n",
       "<table border=\"1\" class=\"dataframe\">\n",
       "  <thead>\n",
       "    <tr style=\"text-align: right;\">\n",
       "      <th></th>\n",
       "      <th>name</th>\n",
       "      <th>species</th>\n",
       "    </tr>\n",
       "  </thead>\n",
       "  <tbody>\n",
       "    <tr>\n",
       "      <th>0</th>\n",
       "      <td>Sir John</td>\n",
       "      <td>dog</td>\n",
       "    </tr>\n",
       "    <tr>\n",
       "      <th>1</th>\n",
       "      <td>George</td>\n",
       "      <td>cat</td>\n",
       "    </tr>\n",
       "    <tr>\n",
       "      <th>2</th>\n",
       "      <td>Harry</td>\n",
       "      <td>fish</td>\n",
       "    </tr>\n",
       "  </tbody>\n",
       "</table>\n",
       "</div>"
      ],
      "text/plain": [
       "       name species\n",
       "0  Sir John     dog\n",
       "1    George     cat\n",
       "2     Harry    fish"
      ]
     },
     "execution_count": 23,
     "metadata": {},
     "output_type": "execute_result"
    }
   ],
   "source": [
    "pets = [{\"name\": \"Sir John\", \"species\": \"dog\"}, \n",
    "        {\"name\": \"George\", \"species\": \"cat\"},\n",
    "        {\"name\": \"Harry\", \"species\": \"fish\"}]\n",
    "\n",
    "import pandas as pd\n",
    "\n",
    "df = pd.DataFrame(pets)\n",
    "\n",
    "df"
   ]
  },
  {
   "cell_type": "code",
   "execution_count": 24,
   "metadata": {},
   "outputs": [
    {
     "data": {
      "text/html": [
       "<div>\n",
       "<style scoped>\n",
       "    .dataframe tbody tr th:only-of-type {\n",
       "        vertical-align: middle;\n",
       "    }\n",
       "\n",
       "    .dataframe tbody tr th {\n",
       "        vertical-align: top;\n",
       "    }\n",
       "\n",
       "    .dataframe thead th {\n",
       "        text-align: right;\n",
       "    }\n",
       "</style>\n",
       "<table border=\"1\" class=\"dataframe\">\n",
       "  <thead>\n",
       "    <tr style=\"text-align: right;\">\n",
       "      <th></th>\n",
       "      <th>name</th>\n",
       "      <th>species</th>\n",
       "    </tr>\n",
       "  </thead>\n",
       "  <tbody>\n",
       "    <tr>\n",
       "      <th>0</th>\n",
       "      <td>Sir John</td>\n",
       "      <td>dog</td>\n",
       "    </tr>\n",
       "    <tr>\n",
       "      <th>1</th>\n",
       "      <td>George</td>\n",
       "      <td>cat</td>\n",
       "    </tr>\n",
       "    <tr>\n",
       "      <th>2</th>\n",
       "      <td>Harry</td>\n",
       "      <td>fish</td>\n",
       "    </tr>\n",
       "  </tbody>\n",
       "</table>\n",
       "</div>"
      ],
      "text/plain": [
       "       name species\n",
       "0  Sir John     dog\n",
       "1    George     cat\n",
       "2     Harry    fish"
      ]
     },
     "execution_count": 24,
     "metadata": {},
     "output_type": "execute_result"
    }
   ],
   "source": [
    "df2 = pd.read_json(\"/tmp/pets.jsonl\", lines=True)  # another way to do this\n",
    "\n",
    "df2"
   ]
  },
  {
   "cell_type": "markdown",
   "metadata": {},
   "source": [
    "## Calling APIs\n",
    "\n",
    "Interfaces\n",
    "- In computing, an interface is something that allows two different systems to interact\n",
    "- A graphical user interface allows a person to interact with a computer\n",
    "\n",
    "APIs\n",
    "- An API is an application-programming interface\n",
    "- It allows people or machines to talk to a computer system\n",
    "- We have already seen databases, which offer programmers a SQL API\n",
    "- In this unit, we will learn to call APIs across the web\n",
    "\n",
    "Web APIs\n",
    "- When you go to a website, you are already calling a sort of API\n",
    "- You make a request to the server and the server returns HTML, Javascript and CSS\n",
    "- Your browser render that code into a page that you can see \n",
    "- Other kinds of API return information that is really meant for computers instead of people"
   ]
  },
  {
   "cell_type": "markdown",
   "metadata": {},
   "source": [
    "### Our first web API call\n",
    "\n",
    "- Web APIs return information for machines\n",
    "- But you can still read them as a person\n",
    "- I find that this is an important and useful first step when using web APIs\n",
    "\n",
    "- Let's take a look\n",
    "    - https://api.pushshift.io/reddit/search/submission/?subreddit=cuboulder\n",
    "\n",
    "- Behold, json"
   ]
  },
  {
   "cell_type": "markdown",
   "metadata": {},
   "source": [
    "## Question \n",
    "\n",
    "- Copy and paste the json from the site to a file on your machine and read the file into your notebook. \n",
    "    - Soon we will learn better ways of doing this \n",
    "    \n",
    "- What are the fields in the JSON? \n",
    "- Sort posts by upvote ratio\n",
    "- What post has the highest upvote ratio?"
   ]
  },
  {
   "cell_type": "markdown",
   "metadata": {},
   "source": [
    "### More APIs\n",
    "\n",
    "https://pushshift.io/api-parameters/"
   ]
  }
 ],
 "metadata": {
  "kernelspec": {
   "display_name": "Python 3",
   "language": "python",
   "name": "python3"
  },
  "language_info": {
   "codemirror_mode": {
    "name": "ipython",
    "version": 3
   },
   "file_extension": ".py",
   "mimetype": "text/x-python",
   "name": "python",
   "nbconvert_exporter": "python",
   "pygments_lexer": "ipython3",
   "version": "3.8.5"
  }
 },
 "nbformat": 4,
 "nbformat_minor": 4
}

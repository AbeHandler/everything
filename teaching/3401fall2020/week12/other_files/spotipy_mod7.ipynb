{
 "cells": [
  {
   "cell_type": "code",
   "execution_count": 1,
   "metadata": {},
   "outputs": [
    {
     "name": "stdout",
     "output_type": "stream",
     "text": [
      "Beautiful Lies\n",
      "Beautiful Lies\n",
      "Beautiful Lies (Deluxe)\n",
      "Beautiful Lies (Deluxe)\n",
      "Fire Within\n",
      "Fire Within\n",
      "Fire Within (Deluxe)\n",
      "Fire Within (Deluxe)\n",
      "Fire Within (Deluxe)\n",
      "Live in London\n",
      "Birdy\n",
      "Birdy\n",
      "Birdy\n",
      "Birdy\n",
      "Birdy (Deluxe Version)\n"
     ]
    }
   ],
   "source": [
    "import spotipy\n",
    "from spotipy.oauth2 import SpotifyClientCredentials\n",
    "\n",
    "birdy_uri = 'spotify:artist:2WX2uTcsvV5OnS0inACecP'\n",
    "spotify = spotipy.Spotify(client_credentials_manager=SpotifyClientCredentials())\n",
    "\n",
    "results = spotify.artist_albums(birdy_uri, album_type='album')\n",
    "\n",
    "albums = results['items']\n",
    "while results['next']:\n",
    "    results = spotify.next(results)\n",
    "    albums.extend(results['items'])\n",
    "\n",
    "for album in albums:\n",
    "    print(album['name'])"
   ]
  },
  {
   "cell_type": "code",
   "execution_count": 5,
   "metadata": {},
   "outputs": [
    {
     "name": "stdout",
     "output_type": "stream",
     "text": [
      "artists {'href': 'https://api.spotify.com/v1/search?query=artist%3ARadiohead&type=artist&offset=0&limit=10', 'items': [{'external_urls': {'spotify': 'https://open.spotify.com/artist/4Z8W4fKeB5YxbusRsdQVPb'}, 'followers': {'href': None, 'total': 5599419}, 'genres': ['alternative rock', 'art rock', 'melancholia', 'oxford indie', 'permanent wave', 'rock'], 'href': 'https://api.spotify.com/v1/artists/4Z8W4fKeB5YxbusRsdQVPb', 'id': '4Z8W4fKeB5YxbusRsdQVPb', 'images': [{'height': 640, 'url': 'https://i.scdn.co/image/afcd616e1ef2d2786f47b3b4a8a6aeea24a72adc', 'width': 640}, {'height': 320, 'url': 'https://i.scdn.co/image/563754af10b3d9f9f62a3458e699f58c4a02870f', 'width': 320}, {'height': 160, 'url': 'https://i.scdn.co/image/4067ea225d8b42fa6951857d3af27dd07d60f3c6', 'width': 160}], 'name': 'Radiohead', 'popularity': 82, 'type': 'artist', 'uri': 'spotify:artist:4Z8W4fKeB5YxbusRsdQVPb'}, {'external_urls': {'spotify': 'https://open.spotify.com/artist/17mBFWKyCyp506a3n6XUWA'}, 'followers': {'href': None, 'total': 0}, 'genres': [], 'href': 'https://api.spotify.com/v1/artists/17mBFWKyCyp506a3n6XUWA', 'id': '17mBFWKyCyp506a3n6XUWA', 'images': [], 'name': 'DJ Radiohead', 'popularity': 0, 'type': 'artist', 'uri': 'spotify:artist:17mBFWKyCyp506a3n6XUWA'}, {'external_urls': {'spotify': 'https://open.spotify.com/artist/54FnvKUQFU2KpNJlZi25G0'}, 'followers': {'href': None, 'total': 5}, 'genres': [], 'href': 'https://api.spotify.com/v1/artists/54FnvKUQFU2KpNJlZi25G0', 'id': '54FnvKUQFU2KpNJlZi25G0', 'images': [], 'name': 'Dj Radiohead', 'popularity': 0, 'type': 'artist', 'uri': 'spotify:artist:54FnvKUQFU2KpNJlZi25G0'}, {'external_urls': {'spotify': 'https://open.spotify.com/artist/0ADkBHZhR2cVfANgK5gHQO'}, 'followers': {'href': None, 'total': 455}, 'genres': [], 'href': 'https://api.spotify.com/v1/artists/0ADkBHZhR2cVfANgK5gHQO', 'id': '0ADkBHZhR2cVfANgK5gHQO', 'images': [{'height': 640, 'url': 'https://i.scdn.co/image/ab67616d0000b273c8e9b66dea4469de0820ca38', 'width': 640}, {'height': 300, 'url': 'https://i.scdn.co/image/ab67616d00001e02c8e9b66dea4469de0820ca38', 'width': 300}, {'height': 64, 'url': 'https://i.scdn.co/image/ab67616d00004851c8e9b66dea4469de0820ca38', 'width': 64}], 'name': 'Radiohead Tribute Band', 'popularity': 5, 'type': 'artist', 'uri': 'spotify:artist:0ADkBHZhR2cVfANgK5gHQO'}], 'limit': 10, 'next': None, 'offset': 0, 'previous': None, 'total': 4}\n"
     ]
    }
   ],
   "source": [
    "name = 'Radiohead'\n",
    "\n",
    "results = spotify.search(q='artist:' + name, type='artist')\n",
    "\n",
    "for k, v in results.items():\n",
    "    print(k, v)"
   ]
  },
  {
   "cell_type": "code",
   "execution_count": 20,
   "metadata": {},
   "outputs": [
    {
     "ename": "TypeError",
     "evalue": "string indices must be integers",
     "output_type": "error",
     "traceback": [
      "\u001b[0;31m---------------------------------------------------------------------------\u001b[0m",
      "\u001b[0;31mTypeError\u001b[0m                                 Traceback (most recent call last)",
      "\u001b[0;32m<ipython-input-20-53af0a5cc98b>\u001b[0m in \u001b[0;36m<module>\u001b[0;34m\u001b[0m\n\u001b[1;32m      2\u001b[0m \u001b[0;34m\u001b[0m\u001b[0m\n\u001b[1;32m      3\u001b[0m \u001b[0;32mfor\u001b[0m \u001b[0mtrack\u001b[0m \u001b[0;32min\u001b[0m \u001b[0mresults\u001b[0m\u001b[0;34m[\u001b[0m\u001b[0;34m\"tracks\"\u001b[0m\u001b[0;34m]\u001b[0m\u001b[0;34m:\u001b[0m\u001b[0;34m\u001b[0m\u001b[0;34m\u001b[0m\u001b[0m\n\u001b[0;32m----> 4\u001b[0;31m     \u001b[0mprint\u001b[0m\u001b[0;34m(\u001b[0m\u001b[0mtrack\u001b[0m\u001b[0;34m[\u001b[0m\u001b[0;34m\"items\"\u001b[0m\u001b[0;34m]\u001b[0m\u001b[0;34m)\u001b[0m\u001b[0;34m\u001b[0m\u001b[0;34m\u001b[0m\u001b[0m\n\u001b[0m",
      "\u001b[0;31mTypeError\u001b[0m: string indices must be integers"
     ]
    }
   ],
   "source": [
    "\n",
    "results = spotify.search(q='love', type='track')\n",
    "\n",
    "for track in results[\"tracks\"]:\n",
    "    print(track[\"items\"])"
   ]
  },
  {
   "cell_type": "code",
   "execution_count": 16,
   "metadata": {},
   "outputs": [
    {
     "data": {
      "text/plain": [
       "{'album': {'album_type': 'album',\n",
       "  'artists': [{'external_urls': {'spotify': 'https://open.spotify.com/artist/66CXWjxzNUsdJxJ2JdwvnR'},\n",
       "    'href': 'https://api.spotify.com/v1/artists/66CXWjxzNUsdJxJ2JdwvnR',\n",
       "    'id': '66CXWjxzNUsdJxJ2JdwvnR',\n",
       "    'name': 'Ariana Grande',\n",
       "    'type': 'artist',\n",
       "    'uri': 'spotify:artist:66CXWjxzNUsdJxJ2JdwvnR'}],\n",
       "  'available_markets': ['AD',\n",
       "   'AE',\n",
       "   'AL',\n",
       "   'AR',\n",
       "   'AT',\n",
       "   'AU',\n",
       "   'BA',\n",
       "   'BE',\n",
       "   'BG',\n",
       "   'BH',\n",
       "   'BO',\n",
       "   'BR',\n",
       "   'BY',\n",
       "   'CA',\n",
       "   'CH',\n",
       "   'CL',\n",
       "   'CO',\n",
       "   'CR',\n",
       "   'CY',\n",
       "   'CZ',\n",
       "   'DE',\n",
       "   'DK',\n",
       "   'DO',\n",
       "   'DZ',\n",
       "   'EC',\n",
       "   'EE',\n",
       "   'EG',\n",
       "   'ES',\n",
       "   'FI',\n",
       "   'FR',\n",
       "   'GB',\n",
       "   'GR',\n",
       "   'GT',\n",
       "   'HK',\n",
       "   'HN',\n",
       "   'HR',\n",
       "   'HU',\n",
       "   'ID',\n",
       "   'IE',\n",
       "   'IL',\n",
       "   'IN',\n",
       "   'IS',\n",
       "   'IT',\n",
       "   'JO',\n",
       "   'JP',\n",
       "   'KW',\n",
       "   'KZ',\n",
       "   'LB',\n",
       "   'LI',\n",
       "   'LT',\n",
       "   'LU',\n",
       "   'LV',\n",
       "   'MA',\n",
       "   'MC',\n",
       "   'MD',\n",
       "   'ME',\n",
       "   'MK',\n",
       "   'MT',\n",
       "   'MX',\n",
       "   'MY',\n",
       "   'NI',\n",
       "   'NL',\n",
       "   'NO',\n",
       "   'NZ',\n",
       "   'OM',\n",
       "   'PA',\n",
       "   'PE',\n",
       "   'PH',\n",
       "   'PL',\n",
       "   'PS',\n",
       "   'PT',\n",
       "   'PY',\n",
       "   'QA',\n",
       "   'RO',\n",
       "   'RS',\n",
       "   'RU',\n",
       "   'SA',\n",
       "   'SE',\n",
       "   'SG',\n",
       "   'SI',\n",
       "   'SK',\n",
       "   'SV',\n",
       "   'TH',\n",
       "   'TN',\n",
       "   'TR',\n",
       "   'TW',\n",
       "   'UA',\n",
       "   'US',\n",
       "   'UY',\n",
       "   'VN',\n",
       "   'XK',\n",
       "   'ZA'],\n",
       "  'external_urls': {'spotify': 'https://open.spotify.com/album/3euz4vS7ezKGnNSwgyvKcd'},\n",
       "  'href': 'https://api.spotify.com/v1/albums/3euz4vS7ezKGnNSwgyvKcd',\n",
       "  'id': '3euz4vS7ezKGnNSwgyvKcd',\n",
       "  'images': [{'height': 640,\n",
       "    'url': 'https://i.scdn.co/image/ab67616d0000b2735ef878a782c987d38d82b605',\n",
       "    'width': 640},\n",
       "   {'height': 300,\n",
       "    'url': 'https://i.scdn.co/image/ab67616d00001e025ef878a782c987d38d82b605',\n",
       "    'width': 300},\n",
       "   {'height': 64,\n",
       "    'url': 'https://i.scdn.co/image/ab67616d000048515ef878a782c987d38d82b605',\n",
       "    'width': 64}],\n",
       "  'name': 'Positions',\n",
       "  'release_date': '2020-10-30',\n",
       "  'release_date_precision': 'day',\n",
       "  'total_tracks': 14,\n",
       "  'type': 'album',\n",
       "  'uri': 'spotify:album:3euz4vS7ezKGnNSwgyvKcd'},\n",
       " 'artists': [{'external_urls': {'spotify': 'https://open.spotify.com/artist/66CXWjxzNUsdJxJ2JdwvnR'},\n",
       "   'href': 'https://api.spotify.com/v1/artists/66CXWjxzNUsdJxJ2JdwvnR',\n",
       "   'id': '66CXWjxzNUsdJxJ2JdwvnR',\n",
       "   'name': 'Ariana Grande',\n",
       "   'type': 'artist',\n",
       "   'uri': 'spotify:artist:66CXWjxzNUsdJxJ2JdwvnR'}],\n",
       " 'available_markets': ['AD',\n",
       "  'AE',\n",
       "  'AL',\n",
       "  'AR',\n",
       "  'AT',\n",
       "  'AU',\n",
       "  'BA',\n",
       "  'BE',\n",
       "  'BG',\n",
       "  'BH',\n",
       "  'BO',\n",
       "  'BR',\n",
       "  'BY',\n",
       "  'CA',\n",
       "  'CH',\n",
       "  'CL',\n",
       "  'CO',\n",
       "  'CR',\n",
       "  'CY',\n",
       "  'CZ',\n",
       "  'DE',\n",
       "  'DK',\n",
       "  'DO',\n",
       "  'DZ',\n",
       "  'EC',\n",
       "  'EE',\n",
       "  'EG',\n",
       "  'ES',\n",
       "  'FI',\n",
       "  'FR',\n",
       "  'GB',\n",
       "  'GR',\n",
       "  'GT',\n",
       "  'HK',\n",
       "  'HN',\n",
       "  'HR',\n",
       "  'HU',\n",
       "  'ID',\n",
       "  'IE',\n",
       "  'IL',\n",
       "  'IN',\n",
       "  'IS',\n",
       "  'IT',\n",
       "  'JO',\n",
       "  'JP',\n",
       "  'KW',\n",
       "  'KZ',\n",
       "  'LB',\n",
       "  'LI',\n",
       "  'LT',\n",
       "  'LU',\n",
       "  'LV',\n",
       "  'MA',\n",
       "  'MC',\n",
       "  'MD',\n",
       "  'ME',\n",
       "  'MK',\n",
       "  'MT',\n",
       "  'MX',\n",
       "  'MY',\n",
       "  'NI',\n",
       "  'NL',\n",
       "  'NO',\n",
       "  'NZ',\n",
       "  'OM',\n",
       "  'PA',\n",
       "  'PE',\n",
       "  'PH',\n",
       "  'PL',\n",
       "  'PS',\n",
       "  'PT',\n",
       "  'PY',\n",
       "  'QA',\n",
       "  'RO',\n",
       "  'RS',\n",
       "  'RU',\n",
       "  'SA',\n",
       "  'SE',\n",
       "  'SG',\n",
       "  'SI',\n",
       "  'SK',\n",
       "  'SV',\n",
       "  'TH',\n",
       "  'TN',\n",
       "  'TR',\n",
       "  'TW',\n",
       "  'UA',\n",
       "  'US',\n",
       "  'UY',\n",
       "  'VN',\n",
       "  'XK',\n",
       "  'ZA'],\n",
       " 'disc_number': 1,\n",
       " 'duration_ms': 179860,\n",
       " 'explicit': True,\n",
       " 'external_ids': {'isrc': 'USUM72020437'},\n",
       " 'external_urls': {'spotify': 'https://open.spotify.com/track/6NYtLvyThMT0oALFdJFdzq'},\n",
       " 'href': 'https://api.spotify.com/v1/tracks/6NYtLvyThMT0oALFdJFdzq',\n",
       " 'id': '6NYtLvyThMT0oALFdJFdzq',\n",
       " 'is_local': False,\n",
       " 'name': 'love language',\n",
       " 'popularity': 82,\n",
       " 'preview_url': None,\n",
       " 'track_number': 11,\n",
       " 'type': 'track',\n",
       " 'uri': 'spotify:track:6NYtLvyThMT0oALFdJFdzq'}"
      ]
     },
     "execution_count": 16,
     "metadata": {},
     "output_type": "execute_result"
    }
   ],
   "source": [
    "results[\"tracks\"][\"items\"][0]"
   ]
  },
  {
   "cell_type": "code",
   "execution_count": 19,
   "metadata": {},
   "outputs": [
    {
     "name": "stdout",
     "output_type": "stream",
     "text": [
      "{'external_urls': {'spotify': 'https://open.spotify.com/artist/66CXWjxzNUsdJxJ2JdwvnR'}, 'followers': {'href': None, 'total': 52571724}, 'genres': ['dance pop', 'pop', 'post-teen pop'], 'href': 'https://api.spotify.com/v1/artists/66CXWjxzNUsdJxJ2JdwvnR', 'id': '66CXWjxzNUsdJxJ2JdwvnR', 'images': [{'height': 640, 'url': 'https://i.scdn.co/image/f8c793519d837ca2f920c561535fe62ef32e8e5b', 'width': 640}, {'height': 320, 'url': 'https://i.scdn.co/image/610f278171ed793b0d6c771f2877e5d4fd533d38', 'width': 320}, {'height': 160, 'url': 'https://i.scdn.co/image/03345cd15fe15956bbc204131ac1b45991b99bb6', 'width': 160}], 'name': 'Ariana Grande', 'popularity': 99, 'type': 'artist', 'uri': 'spotify:artist:66CXWjxzNUsdJxJ2JdwvnR'}\n"
     ]
    }
   ],
   "source": [
    "\n",
    "urn = 'spotify:artist:66CXWjxzNUsdJxJ2JdwvnR'\n",
    "\n",
    "artist = spotify.artist(urn)\n",
    "print(artist)"
   ]
  },
  {
   "cell_type": "code",
   "execution_count": 67,
   "metadata": {},
   "outputs": [
    {
     "name": "stderr",
     "output_type": "stream",
     "text": [
      "<ipython-input-67-eb6122f8817d>:5: TqdmDeprecationWarning: This function will be removed in tqdm==5.0.0\n",
      "Please use `tqdm.notebook.tqdm` instead of `tqdm.tqdm_notebook`\n",
      "  for offset in tqdm(range(1000)):\n"
     ]
    },
    {
     "data": {
      "application/vnd.jupyter.widget-view+json": {
       "model_id": "d8c4db42a91e47adab936cda1ef47539",
       "version_major": 2,
       "version_minor": 0
      },
      "text/plain": [
       "HBox(children=(HTML(value=''), FloatProgress(value=0.0, max=1000.0), HTML(value='')))"
      ]
     },
     "metadata": {},
     "output_type": "display_data"
    },
    {
     "name": "stdout",
     "output_type": "stream",
     "text": [
      "\n"
     ]
    }
   ],
   "source": [
    "from tqdm import tqdm_notebook as tqdm\n",
    "\n",
    "love_songs = []\n",
    "\n",
    "for offset in tqdm(range(1000)):\n",
    "    results = spotify.search(q='love', type='track', limit=50, offset=offset)\n",
    "    items = results[\"tracks\"][\"items\"]\n",
    "    for item in items:\n",
    "        for artist in item['artists']:\n",
    "            love_songs.append({\"artist\": artist[\"name\"], \"artist_id\": artist['id'], \"song\": item[\"name\"]})"
   ]
  },
  {
   "cell_type": "code",
   "execution_count": 68,
   "metadata": {},
   "outputs": [],
   "source": [
    "import pandas as pd\n",
    "love_songs = pd.DataFrame(love_songs)"
   ]
  },
  {
   "cell_type": "code",
   "execution_count": 66,
   "metadata": {},
   "outputs": [
    {
     "name": "stderr",
     "output_type": "stream",
     "text": [
      "<ipython-input-66-16dbda4add3b>:5: TqdmDeprecationWarning: This function will be removed in tqdm==5.0.0\n",
      "Please use `tqdm.notebook.tqdm` instead of `tqdm.tqdm_notebook`\n",
      "  for offset in tqdm(range(1000)):\n"
     ]
    },
    {
     "data": {
      "application/vnd.jupyter.widget-view+json": {
       "model_id": "b03d9f292c284f94ae232d4b11b2b814",
       "version_major": 2,
       "version_minor": 0
      },
      "text/plain": [
       "HBox(children=(HTML(value=''), FloatProgress(value=0.0, max=1000.0), HTML(value='')))"
      ]
     },
     "metadata": {},
     "output_type": "display_data"
    },
    {
     "name": "stdout",
     "output_type": "stream",
     "text": [
      "\n"
     ]
    }
   ],
   "source": [
    "\n",
    "from tqdm import tqdm_notebook as tqdm\n",
    "\n",
    "money_songs = []\n",
    "\n",
    "for offset in tqdm(range(1000)):\n",
    "    results = spotify.search(q='money', type='track', limit=50, offset=offset)\n",
    "    items = results[\"tracks\"][\"items\"]\n",
    "    for item in items:\n",
    "        for artist in item['artists']:\n",
    "            money_songs.append({\"artist\": artist[\"name\"], \"artist_id\": artist['id'], \"song\": item[\"name\"]})"
   ]
  },
  {
   "cell_type": "code",
   "execution_count": 69,
   "metadata": {},
   "outputs": [],
   "source": [
    "money_songs = pd.DataFrame(money_songs)"
   ]
  },
  {
   "cell_type": "code",
   "execution_count": 96,
   "metadata": {},
   "outputs": [
    {
     "data": {
      "text/html": [
       "<div>\n",
       "<style scoped>\n",
       "    .dataframe tbody tr th:only-of-type {\n",
       "        vertical-align: middle;\n",
       "    }\n",
       "\n",
       "    .dataframe tbody tr th {\n",
       "        vertical-align: top;\n",
       "    }\n",
       "\n",
       "    .dataframe thead th {\n",
       "        text-align: right;\n",
       "    }\n",
       "</style>\n",
       "<table border=\"1\" class=\"dataframe\">\n",
       "  <thead>\n",
       "    <tr style=\"text-align: right;\">\n",
       "      <th></th>\n",
       "      <th>index</th>\n",
       "      <th>artist</th>\n",
       "      <th>artist_id</th>\n",
       "    </tr>\n",
       "  </thead>\n",
       "  <tbody>\n",
       "    <tr>\n",
       "      <th>0</th>\n",
       "      <td>0</td>\n",
       "      <td>Kendrick Lamar</td>\n",
       "      <td>2YZyLoL8N0Wb9xBt1NhZWg</td>\n",
       "    </tr>\n",
       "    <tr>\n",
       "      <th>1</th>\n",
       "      <td>5555</td>\n",
       "      <td>Trippie Redd</td>\n",
       "      <td>6Xgp2XMz1fhVYe7i6yNAax</td>\n",
       "    </tr>\n",
       "    <tr>\n",
       "      <th>2</th>\n",
       "      <td>554726</td>\n",
       "      <td>Rihanna</td>\n",
       "      <td>5pKCCKE2ajJHZ9KAiaK11H</td>\n",
       "    </tr>\n",
       "    <tr>\n",
       "      <th>3</th>\n",
       "      <td>582914</td>\n",
       "      <td>Lil Tecca</td>\n",
       "      <td>4Ga1P7PMIsmqEZqhYZQgDo</td>\n",
       "    </tr>\n",
       "    <tr>\n",
       "      <th>4</th>\n",
       "      <td>709252</td>\n",
       "      <td>Sam Smith</td>\n",
       "      <td>2wY79sveU1sp5g7SokKOiI</td>\n",
       "    </tr>\n",
       "    <tr>\n",
       "      <th>...</th>\n",
       "      <td>...</td>\n",
       "      <td>...</td>\n",
       "      <td>...</td>\n",
       "    </tr>\n",
       "    <tr>\n",
       "      <th>98</th>\n",
       "      <td>2965567</td>\n",
       "      <td>Rich The Kid</td>\n",
       "      <td>1pPmIToKXyGdsCF6LmqLmI</td>\n",
       "    </tr>\n",
       "    <tr>\n",
       "      <th>99</th>\n",
       "      <td>2971567</td>\n",
       "      <td>Anderson .Paak</td>\n",
       "      <td>3jK9MiCrA42lLAdMGUZpwa</td>\n",
       "    </tr>\n",
       "    <tr>\n",
       "      <th>100</th>\n",
       "      <td>2979067</td>\n",
       "      <td>Mötley Crüe</td>\n",
       "      <td>0cc6vw3VN8YlIcvr1v7tBL</td>\n",
       "    </tr>\n",
       "    <tr>\n",
       "      <th>101</th>\n",
       "      <td>2981567</td>\n",
       "      <td>The Drums</td>\n",
       "      <td>0p5axeJsbtTCXBrRVoKjwu</td>\n",
       "    </tr>\n",
       "    <tr>\n",
       "      <th>102</th>\n",
       "      <td>2981967</td>\n",
       "      <td>Bruno Mars</td>\n",
       "      <td>0du5cEVh5yTK9QJze8zA0C</td>\n",
       "    </tr>\n",
       "  </tbody>\n",
       "</table>\n",
       "<p>103 rows × 3 columns</p>\n",
       "</div>"
      ],
      "text/plain": [
       "       index          artist               artist_id\n",
       "0          0  Kendrick Lamar  2YZyLoL8N0Wb9xBt1NhZWg\n",
       "1       5555    Trippie Redd  6Xgp2XMz1fhVYe7i6yNAax\n",
       "2     554726         Rihanna  5pKCCKE2ajJHZ9KAiaK11H\n",
       "3     582914       Lil Tecca  4Ga1P7PMIsmqEZqhYZQgDo\n",
       "4     709252       Sam Smith  2wY79sveU1sp5g7SokKOiI\n",
       "..       ...             ...                     ...\n",
       "98   2965567    Rich The Kid  1pPmIToKXyGdsCF6LmqLmI\n",
       "99   2971567  Anderson .Paak  3jK9MiCrA42lLAdMGUZpwa\n",
       "100  2979067     Mötley Crüe  0cc6vw3VN8YlIcvr1v7tBL\n",
       "101  2981567       The Drums  0p5axeJsbtTCXBrRVoKjwu\n",
       "102  2981967      Bruno Mars  0du5cEVh5yTK9QJze8zA0C\n",
       "\n",
       "[103 rows x 3 columns]"
      ]
     },
     "execution_count": 96,
     "metadata": {},
     "output_type": "execute_result"
    }
   ],
   "source": [
    "artists"
   ]
  },
  {
   "cell_type": "code",
   "execution_count": 86,
   "metadata": {},
   "outputs": [],
   "source": [
    "artists = love_songs.merge(money_songs, on=\"artist\", how=\"inner\", suffixes=('_love', '_money'))[[\"artist\", \"artist_id_money\"]]\n",
    "\n",
    "artists = artists.drop_duplicates().reset_index()\n",
    "\n",
    "artists = artists.rename(columns={\"artist_id_money\": \"artist_id\"})"
   ]
  },
  {
   "cell_type": "code",
   "execution_count": 103,
   "metadata": {},
   "outputs": [],
   "source": [
    "def get_all_albums(artist_id):\n",
    "    '''Ok to get the first 10'''\n",
    "    results = spotify.artist_albums(artist_id, album_type='album', limit=50)\n",
    "    out = []\n",
    "    for i in results['items']:\n",
    "        out.append(i[\"id\"])\n",
    "    return out"
   ]
  },
  {
   "cell_type": "code",
   "execution_count": 111,
   "metadata": {},
   "outputs": [],
   "source": [
    "def get_tracks_from_album(album_id):\n",
    "    tracks = []\n",
    "    for track in spotify.album_tracks(album_id)['items']:\n",
    "        tracks.append(track[\"name\"])\n",
    "    return tracks\n",
    "\n",
    "def get_tracks_from_all_albums(artist_id):\n",
    "    albums = get_all_albums(artist_id=artist_id)\n",
    "    all_tracks = []\n",
    "        \n",
    "    for album_id in albums:\n",
    "        tracks = get_tracks_from_album(album_id)\n",
    "        all_tracks = all_tracks + tracks\n",
    "\n",
    "    return all_tracks"
   ]
  },
  {
   "cell_type": "code",
   "execution_count": 117,
   "metadata": {},
   "outputs": [
    {
     "name": "stderr",
     "output_type": "stream",
     "text": [
      "<ipython-input-117-cfddc904af12>:3: TqdmDeprecationWarning: This function will be removed in tqdm==5.0.0\n",
      "Please use `tqdm.notebook.tqdm` instead of `tqdm.tqdm_notebook`\n",
      "  for artist_id in tqdm(artists[\"artist_id\"]):\n"
     ]
    },
    {
     "data": {
      "application/vnd.jupyter.widget-view+json": {
       "model_id": "10ac01b131aa4b4c827ae69bc2e96364",
       "version_major": 2,
       "version_minor": 0
      },
      "text/plain": [
       "HBox(children=(HTML(value=''), FloatProgress(value=0.0, max=103.0), HTML(value='')))"
      ]
     },
     "metadata": {},
     "output_type": "display_data"
    },
    {
     "name": "stdout",
     "output_type": "stream",
     "text": [
      "\n"
     ]
    }
   ],
   "source": [
    "all_tracks = []\n",
    "\n",
    "for artist_id in tqdm(artists[\"artist_id\"]):\n",
    "    tracks = get_tracks_from_all_albums(artist_id)\n",
    "    for track in tracks:\n",
    "        all_tracks.append({\"artist_id\": artist_id, \"track\": track})"
   ]
  },
  {
   "cell_type": "code",
   "execution_count": 118,
   "metadata": {},
   "outputs": [],
   "source": [
    "all_tracks = pd.DataFrame(all_tracks)"
   ]
  },
  {
   "cell_type": "code",
   "execution_count": 131,
   "metadata": {},
   "outputs": [],
   "source": [
    "love_tracks = all_tracks[all_tracks[\"track\"].str.lower().str.contains(\"love\")]\n",
    "\n",
    "love_tracks = love_tracks.drop_duplicates().reset_index()"
   ]
  },
  {
   "cell_type": "code",
   "execution_count": 134,
   "metadata": {},
   "outputs": [],
   "source": [
    "money_tracks = all_tracks[all_tracks[\"track\"].str.lower().str.contains(\"money\")]\n",
    "\n",
    "money_tracks = money_tracks.drop_duplicates().reset_index()"
   ]
  },
  {
   "cell_type": "code",
   "execution_count": 165,
   "metadata": {},
   "outputs": [
    {
     "data": {
      "text/html": [
       "<div>\n",
       "<style scoped>\n",
       "    .dataframe tbody tr th:only-of-type {\n",
       "        vertical-align: middle;\n",
       "    }\n",
       "\n",
       "    .dataframe tbody tr th {\n",
       "        vertical-align: top;\n",
       "    }\n",
       "\n",
       "    .dataframe thead th {\n",
       "        text-align: right;\n",
       "    }\n",
       "</style>\n",
       "<table border=\"1\" class=\"dataframe\">\n",
       "  <thead>\n",
       "    <tr style=\"text-align: right;\">\n",
       "      <th></th>\n",
       "      <th>artist_id</th>\n",
       "      <th>Nmoney</th>\n",
       "    </tr>\n",
       "  </thead>\n",
       "  <tbody>\n",
       "    <tr>\n",
       "      <th>0</th>\n",
       "      <td>6Ha4aES39QiVjR0L2lwuwq</td>\n",
       "      <td>13</td>\n",
       "    </tr>\n",
       "    <tr>\n",
       "      <th>1</th>\n",
       "      <td>0z4gvV4rjIZ9wHck67ucSV</td>\n",
       "      <td>8</td>\n",
       "    </tr>\n",
       "    <tr>\n",
       "      <th>2</th>\n",
       "      <td>1RyvyyTE3xzB2ZywiAwp0i</td>\n",
       "      <td>8</td>\n",
       "    </tr>\n",
       "    <tr>\n",
       "      <th>3</th>\n",
       "      <td>55Aa2cqylxrFIXC767Z865</td>\n",
       "      <td>6</td>\n",
       "    </tr>\n",
       "    <tr>\n",
       "      <th>4</th>\n",
       "      <td>3WrFJ7ztbogyGnTHbHJFl2</td>\n",
       "      <td>6</td>\n",
       "    </tr>\n",
       "    <tr>\n",
       "      <th>...</th>\n",
       "      <td>...</td>\n",
       "      <td>...</td>\n",
       "    </tr>\n",
       "    <tr>\n",
       "      <th>66</th>\n",
       "      <td>2bA6fzP0lMAQ4kz6CF61w8</td>\n",
       "      <td>1</td>\n",
       "    </tr>\n",
       "    <tr>\n",
       "      <th>67</th>\n",
       "      <td>2YZyLoL8N0Wb9xBt1NhZWg</td>\n",
       "      <td>1</td>\n",
       "    </tr>\n",
       "    <tr>\n",
       "      <th>68</th>\n",
       "      <td>2EMAnMvWE2eb56ToJVfCWs</td>\n",
       "      <td>1</td>\n",
       "    </tr>\n",
       "    <tr>\n",
       "      <th>69</th>\n",
       "      <td>4mxWe1mtYIYfP040G38yvS</td>\n",
       "      <td>1</td>\n",
       "    </tr>\n",
       "    <tr>\n",
       "      <th>70</th>\n",
       "      <td>7wlFDEWiM5OoIAt8RSli8b</td>\n",
       "      <td>1</td>\n",
       "    </tr>\n",
       "  </tbody>\n",
       "</table>\n",
       "<p>71 rows × 2 columns</p>\n",
       "</div>"
      ],
      "text/plain": [
       "                 artist_id  Nmoney\n",
       "0   6Ha4aES39QiVjR0L2lwuwq      13\n",
       "1   0z4gvV4rjIZ9wHck67ucSV       8\n",
       "2   1RyvyyTE3xzB2ZywiAwp0i       8\n",
       "3   55Aa2cqylxrFIXC767Z865       6\n",
       "4   3WrFJ7ztbogyGnTHbHJFl2       6\n",
       "..                     ...     ...\n",
       "66  2bA6fzP0lMAQ4kz6CF61w8       1\n",
       "67  2YZyLoL8N0Wb9xBt1NhZWg       1\n",
       "68  2EMAnMvWE2eb56ToJVfCWs       1\n",
       "69  4mxWe1mtYIYfP040G38yvS       1\n",
       "70  7wlFDEWiM5OoIAt8RSli8b       1\n",
       "\n",
       "[71 rows x 2 columns]"
      ]
     },
     "execution_count": 165,
     "metadata": {},
     "output_type": "execute_result"
    }
   ],
   "source": [
    "artist_money = pd.DataFrame(money_tracks.value_counts(subset=['artist_id'], sort=True)).reset_index()\n",
    "\n",
    "artist_money = artist_money.rename(columns={0: \"Nmoney\"})\n",
    "\n",
    "artist_money"
   ]
  },
  {
   "cell_type": "code",
   "execution_count": 166,
   "metadata": {},
   "outputs": [
    {
     "data": {
      "text/html": [
       "<div>\n",
       "<style scoped>\n",
       "    .dataframe tbody tr th:only-of-type {\n",
       "        vertical-align: middle;\n",
       "    }\n",
       "\n",
       "    .dataframe tbody tr th {\n",
       "        vertical-align: top;\n",
       "    }\n",
       "\n",
       "    .dataframe thead th {\n",
       "        text-align: right;\n",
       "    }\n",
       "</style>\n",
       "<table border=\"1\" class=\"dataframe\">\n",
       "  <thead>\n",
       "    <tr style=\"text-align: right;\">\n",
       "      <th></th>\n",
       "      <th>artist_id</th>\n",
       "      <th>Nlove</th>\n",
       "    </tr>\n",
       "  </thead>\n",
       "  <tbody>\n",
       "    <tr>\n",
       "      <th>0</th>\n",
       "      <td>38h03gA85YYPeDPd9ER9rT</td>\n",
       "      <td>54</td>\n",
       "    </tr>\n",
       "    <tr>\n",
       "      <th>1</th>\n",
       "      <td>5a2EaR3hamoenG9rDuVn8j</td>\n",
       "      <td>44</td>\n",
       "    </tr>\n",
       "    <tr>\n",
       "      <th>2</th>\n",
       "      <td>1Cs0zKBU1kc0i8ypK3B9ai</td>\n",
       "      <td>33</td>\n",
       "    </tr>\n",
       "    <tr>\n",
       "      <th>3</th>\n",
       "      <td>3WrFJ7ztbogyGnTHbHJFl2</td>\n",
       "      <td>28</td>\n",
       "    </tr>\n",
       "    <tr>\n",
       "      <th>4</th>\n",
       "      <td>4mxWe1mtYIYfP040G38yvS</td>\n",
       "      <td>26</td>\n",
       "    </tr>\n",
       "    <tr>\n",
       "      <th>...</th>\n",
       "      <td>...</td>\n",
       "      <td>...</td>\n",
       "    </tr>\n",
       "    <tr>\n",
       "      <th>81</th>\n",
       "      <td>28ExwzUQsvgJooOI0X1mr3</td>\n",
       "      <td>1</td>\n",
       "    </tr>\n",
       "    <tr>\n",
       "      <th>82</th>\n",
       "      <td>2y246nnP9pQT0E6v3ZMMOO</td>\n",
       "      <td>1</td>\n",
       "    </tr>\n",
       "    <tr>\n",
       "      <th>83</th>\n",
       "      <td>3MZsBdqDrRTJihTHQrO6Dq</td>\n",
       "      <td>1</td>\n",
       "    </tr>\n",
       "    <tr>\n",
       "      <th>84</th>\n",
       "      <td>4MCBfE4596Uoi2O4DtmEMz</td>\n",
       "      <td>1</td>\n",
       "    </tr>\n",
       "    <tr>\n",
       "      <th>85</th>\n",
       "      <td>20JZFwl6HVl6yg8a4H3ZqK</td>\n",
       "      <td>1</td>\n",
       "    </tr>\n",
       "  </tbody>\n",
       "</table>\n",
       "<p>86 rows × 2 columns</p>\n",
       "</div>"
      ],
      "text/plain": [
       "                 artist_id  Nlove\n",
       "0   38h03gA85YYPeDPd9ER9rT     54\n",
       "1   5a2EaR3hamoenG9rDuVn8j     44\n",
       "2   1Cs0zKBU1kc0i8ypK3B9ai     33\n",
       "3   3WrFJ7ztbogyGnTHbHJFl2     28\n",
       "4   4mxWe1mtYIYfP040G38yvS     26\n",
       "..                     ...    ...\n",
       "81  28ExwzUQsvgJooOI0X1mr3      1\n",
       "82  2y246nnP9pQT0E6v3ZMMOO      1\n",
       "83  3MZsBdqDrRTJihTHQrO6Dq      1\n",
       "84  4MCBfE4596Uoi2O4DtmEMz      1\n",
       "85  20JZFwl6HVl6yg8a4H3ZqK      1\n",
       "\n",
       "[86 rows x 2 columns]"
      ]
     },
     "execution_count": 166,
     "metadata": {},
     "output_type": "execute_result"
    }
   ],
   "source": [
    "artist_love = pd.DataFrame(love_tracks.value_counts(subset=['artist_id'], sort=True)).reset_index()\n",
    "\n",
    "artist_love = artist_love.rename(columns={0: \"Nlove\"})\n",
    "\n",
    "artist_love"
   ]
  },
  {
   "cell_type": "code",
   "execution_count": 191,
   "metadata": {},
   "outputs": [
    {
     "data": {
      "image/png": "[encoded data removed]",
      "text/plain": [
       "<Figure size 432x288 with 1 Axes>"
      ]
     },
     "metadata": {
      "needs_background": "light"
     },
     "output_type": "display_data"
    }
   ],
   "source": [
    "import matplotlib.pyplot as plt\n",
    "\n",
    "merged = artist_love.merge(artist_money, how='outer').fillna(0)\n",
    "\n",
    "fig, ax = plt.subplots()\n",
    "\n",
    "ax.scatter(merged[\"Nlove\"].to_list(), merged[\"Nmoney\"].to_list())\n",
    "\n",
    "for i, txt in enumerate(merged[\"artist_id\"]):\n",
    "    ax.annotate(txt, (merged[\"Nlove\"][i], merged[\"Nmoney\"][i]))"
   ]
  }
 ],
 "metadata": {
  "kernelspec": {
   "display_name": "Python 3",
   "language": "python",
   "name": "python3"
  },
  "language_info": {
   "codemirror_mode": {
    "name": "ipython",
    "version": 3
   },
   "file_extension": ".py",
   "mimetype": "text/x-python",
   "name": "python",
   "nbconvert_exporter": "python",
   "pygments_lexer": "ipython3",
   "version": "3.8.5"
  }
 },
 "nbformat": 4,
 "nbformat_minor": 4
}

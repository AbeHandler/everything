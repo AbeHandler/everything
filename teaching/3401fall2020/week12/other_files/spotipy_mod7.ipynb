{
 "cells": [
  {
   "cell_type": "code",
   "execution_count": 1,
   "metadata": {},
   "outputs": [
    {
     "name": "stdout",
     "output_type": "stream",
     "text": [
      "Beautiful Lies\n",
      "Beautiful Lies\n",
      "Beautiful Lies (Deluxe)\n",
      "Beautiful Lies (Deluxe)\n",
      "Fire Within\n",
      "Fire Within\n",
      "Fire Within (Deluxe)\n",
      "Fire Within (Deluxe)\n",
      "Fire Within (Deluxe)\n",
      "Live in London\n",
      "Birdy\n",
      "Birdy\n",
      "Birdy\n",
      "Birdy\n",
      "Birdy (Deluxe Version)\n"
     ]
    }
   ],
   "source": [
    "import spotipy\n",
    "from spotipy.oauth2 import SpotifyClientCredentials\n",
    "\n",
    "birdy_uri = 'spotify:artist:2WX2uTcsvV5OnS0inACecP'\n",
    "spotify = spotipy.Spotify(client_credentials_manager=SpotifyClientCredentials())\n",
    "\n",
    "results = spotify.artist_albums(birdy_uri, album_type='album')\n",
    "\n",
    "albums = results['items']\n",
    "while results['next']:\n",
    "    results = spotify.next(results)\n",
    "    albums.extend(results['items'])\n",
    "\n",
    "for album in albums:\n",
    "    print(album['name'])"
   ]
  },
  {
   "cell_type": "code",
   "execution_count": 5,
   "metadata": {},
   "outputs": [
    {
     "name": "stdout",
     "output_type": "stream",
     "text": [
      "artists {'href': 'https://api.spotify.com/v1/search?query=artist%3ARadiohead&type=artist&offset=0&limit=10', 'items': [{'external_urls': {'spotify': 'https://open.spotify.com/artist/4Z8W4fKeB5YxbusRsdQVPb'}, 'followers': {'href': None, 'total': 5599419}, 'genres': ['alternative rock', 'art rock', 'melancholia', 'oxford indie', 'permanent wave', 'rock'], 'href': 'https://api.spotify.com/v1/artists/4Z8W4fKeB5YxbusRsdQVPb', 'id': '4Z8W4fKeB5YxbusRsdQVPb', 'images': [{'height': 640, 'url': 'https://i.scdn.co/image/afcd616e1ef2d2786f47b3b4a8a6aeea24a72adc', 'width': 640}, {'height': 320, 'url': 'https://i.scdn.co/image/563754af10b3d9f9f62a3458e699f58c4a02870f', 'width': 320}, {'height': 160, 'url': 'https://i.scdn.co/image/4067ea225d8b42fa6951857d3af27dd07d60f3c6', 'width': 160}], 'name': 'Radiohead', 'popularity': 82, 'type': 'artist', 'uri': 'spotify:artist:4Z8W4fKeB5YxbusRsdQVPb'}, {'external_urls': {'spotify': 'https://open.spotify.com/artist/17mBFWKyCyp506a3n6XUWA'}, 'followers': {'href': None, 'total': 0}, 'genres': [], 'href': 'https://api.spotify.com/v1/artists/17mBFWKyCyp506a3n6XUWA', 'id': '17mBFWKyCyp506a3n6XUWA', 'images': [], 'name': 'DJ Radiohead', 'popularity': 0, 'type': 'artist', 'uri': 'spotify:artist:17mBFWKyCyp506a3n6XUWA'}, {'external_urls': {'spotify': 'https://open.spotify.com/artist/54FnvKUQFU2KpNJlZi25G0'}, 'followers': {'href': None, 'total': 5}, 'genres': [], 'href': 'https://api.spotify.com/v1/artists/54FnvKUQFU2KpNJlZi25G0', 'id': '54FnvKUQFU2KpNJlZi25G0', 'images': [], 'name': 'Dj Radiohead', 'popularity': 0, 'type': 'artist', 'uri': 'spotify:artist:54FnvKUQFU2KpNJlZi25G0'}, {'external_urls': {'spotify': 'https://open.spotify.com/artist/0ADkBHZhR2cVfANgK5gHQO'}, 'followers': {'href': None, 'total': 455}, 'genres': [], 'href': 'https://api.spotify.com/v1/artists/0ADkBHZhR2cVfANgK5gHQO', 'id': '0ADkBHZhR2cVfANgK5gHQO', 'images': [{'height': 640, 'url': 'https://i.scdn.co/image/ab67616d0000b273c8e9b66dea4469de0820ca38', 'width': 640}, {'height': 300, 'url': 'https://i.scdn.co/image/ab67616d00001e02c8e9b66dea4469de0820ca38', 'width': 300}, {'height': 64, 'url': 'https://i.scdn.co/image/ab67616d00004851c8e9b66dea4469de0820ca38', 'width': 64}], 'name': 'Radiohead Tribute Band', 'popularity': 5, 'type': 'artist', 'uri': 'spotify:artist:0ADkBHZhR2cVfANgK5gHQO'}], 'limit': 10, 'next': None, 'offset': 0, 'previous': None, 'total': 4}\n"
     ]
    }
   ],
   "source": [
    "name = 'Radiohead'\n",
    "\n",
    "results = spotify.search(q='artist:' + name, type='artist')\n",
    "\n",
    "for k, v in results.items():\n",
    "    print(k, v)"
   ]
  },
  {
   "cell_type": "code",
   "execution_count": 20,
   "metadata": {},
   "outputs": [
    {
     "ename": "TypeError",
     "evalue": "string indices must be integers",
     "output_type": "error",
     "traceback": [
      "\u001b[0;31m---------------------------------------------------------------------------\u001b[0m",
      "\u001b[0;31mTypeError\u001b[0m                                 Traceback (most recent call last)",
      "\u001b[0;32m<ipython-input-20-53af0a5cc98b>\u001b[0m in \u001b[0;36m<module>\u001b[0;34m\u001b[0m\n\u001b[1;32m      2\u001b[0m \u001b[0;34m\u001b[0m\u001b[0m\n\u001b[1;32m      3\u001b[0m \u001b[0;32mfor\u001b[0m \u001b[0mtrack\u001b[0m \u001b[0;32min\u001b[0m \u001b[0mresults\u001b[0m\u001b[0;34m[\u001b[0m\u001b[0;34m\"tracks\"\u001b[0m\u001b[0;34m]\u001b[0m\u001b[0;34m:\u001b[0m\u001b[0;34m\u001b[0m\u001b[0;34m\u001b[0m\u001b[0m\n\u001b[0;32m----> 4\u001b[0;31m     \u001b[0mprint\u001b[0m\u001b[0;34m(\u001b[0m\u001b[0mtrack\u001b[0m\u001b[0;34m[\u001b[0m\u001b[0;34m\"items\"\u001b[0m\u001b[0;34m]\u001b[0m\u001b[0;34m)\u001b[0m\u001b[0;34m\u001b[0m\u001b[0;34m\u001b[0m\u001b[0m\n\u001b[0m",
      "\u001b[0;31mTypeError\u001b[0m: string indices must be integers"
     ]
    }
   ],
   "source": [
    "\n",
    "results = spotify.search(q='love', type='track')\n",
    "\n",
    "for track in results[\"tracks\"]:\n",
    "    print(track[\"items\"])"
   ]
  },
  {
   "cell_type": "code",
   "execution_count": 16,
   "metadata": {},
   "outputs": [
    {
     "data": {
      "text/plain": [
       "{'album': {'album_type': 'album',\n",
       "  'artists': [{'external_urls': {'spotify': 'https://open.spotify.com/artist/66CXWjxzNUsdJxJ2JdwvnR'},\n",
       "    'href': 'https://api.spotify.com/v1/artists/66CXWjxzNUsdJxJ2JdwvnR',\n",
       "    'id': '66CXWjxzNUsdJxJ2JdwvnR',\n",
       "    'name': 'Ariana Grande',\n",
       "    'type': 'artist',\n",
       "    'uri': 'spotify:artist:66CXWjxzNUsdJxJ2JdwvnR'}],\n",
       "  'available_markets': ['AD',\n",
       "   'AE',\n",
       "   'AL',\n",
       "   'AR',\n",
       "   'AT',\n",
       "   'AU',\n",
       "   'BA',\n",
       "   'BE',\n",
       "   'BG',\n",
       "   'BH',\n",
       "   'BO',\n",
       "   'BR',\n",
       "   'BY',\n",
       "   'CA',\n",
       "   'CH',\n",
       "   'CL',\n",
       "   'CO',\n",
       "   'CR',\n",
       "   'CY',\n",
       "   'CZ',\n",
       "   'DE',\n",
       "   'DK',\n",
       "   'DO',\n",
       "   'DZ',\n",
       "   'EC',\n",
       "   'EE',\n",
       "   'EG',\n",
       "   'ES',\n",
       "   'FI',\n",
       "   'FR',\n",
       "   'GB',\n",
       "   'GR',\n",
       "   'GT',\n",
       "   'HK',\n",
       "   'HN',\n",
       "   'HR',\n",
       "   'HU',\n",
       "   'ID',\n",
       "   'IE',\n",
       "   'IL',\n",
       "   'IN',\n",
       "   'IS',\n",
       "   'IT',\n",
       "   'JO',\n",
       "   'JP',\n",
       "   'KW',\n",
       "   'KZ',\n",
       "   'LB',\n",
       "   'LI',\n",
       "   'LT',\n",
       "   'LU',\n",
       "   'LV',\n",
       "   'MA',\n",
       "   'MC',\n",
       "   'MD',\n",
       "   'ME',\n",
       "   'MK',\n",
       "   'MT',\n",
       "   'MX',\n",
       "   'MY',\n",
       "   'NI',\n",
       "   'NL',\n",
       "   'NO',\n",
       "   'NZ',\n",
       "   'OM',\n",
       "   'PA',\n",
       "   'PE',\n",
       "   'PH',\n",
       "   'PL',\n",
       "   'PS',\n",
       "   'PT',\n",
       "   'PY',\n",
       "   'QA',\n",
       "   'RO',\n",
       "   'RS',\n",
       "   'RU',\n",
       "   'SA',\n",
       "   'SE',\n",
       "   'SG',\n",
       "   'SI',\n",
       "   'SK',\n",
       "   'SV',\n",
       "   'TH',\n",
       "   'TN',\n",
       "   'TR',\n",
       "   'TW',\n",
       "   'UA',\n",
       "   'US',\n",
       "   'UY',\n",
       "   'VN',\n",
       "   'XK',\n",
       "   'ZA'],\n",
       "  'external_urls': {'spotify': 'https://open.spotify.com/album/3euz4vS7ezKGnNSwgyvKcd'},\n",
       "  'href': 'https://api.spotify.com/v1/albums/3euz4vS7ezKGnNSwgyvKcd',\n",
       "  'id': '3euz4vS7ezKGnNSwgyvKcd',\n",
       "  'images': [{'height': 640,\n",
       "    'url': 'https://i.scdn.co/image/ab67616d0000b2735ef878a782c987d38d82b605',\n",
       "    'width': 640},\n",
       "   {'height': 300,\n",
       "    'url': 'https://i.scdn.co/image/ab67616d00001e025ef878a782c987d38d82b605',\n",
       "    'width': 300},\n",
       "   {'height': 64,\n",
       "    'url': 'https://i.scdn.co/image/ab67616d000048515ef878a782c987d38d82b605',\n",
       "    'width': 64}],\n",
       "  'name': 'Positions',\n",
       "  'release_date': '2020-10-30',\n",
       "  'release_date_precision': 'day',\n",
       "  'total_tracks': 14,\n",
       "  'type': 'album',\n",
       "  'uri': 'spotify:album:3euz4vS7ezKGnNSwgyvKcd'},\n",
       " 'artists': [{'external_urls': {'spotify': 'https://open.spotify.com/artist/66CXWjxzNUsdJxJ2JdwvnR'},\n",
       "   'href': 'https://api.spotify.com/v1/artists/66CXWjxzNUsdJxJ2JdwvnR',\n",
       "   'id': '66CXWjxzNUsdJxJ2JdwvnR',\n",
       "   'name': 'Ariana Grande',\n",
       "   'type': 'artist',\n",
       "   'uri': 'spotify:artist:66CXWjxzNUsdJxJ2JdwvnR'}],\n",
       " 'available_markets': ['AD',\n",
       "  'AE',\n",
       "  'AL',\n",
       "  'AR',\n",
       "  'AT',\n",
       "  'AU',\n",
       "  'BA',\n",
       "  'BE',\n",
       "  'BG',\n",
       "  'BH',\n",
       "  'BO',\n",
       "  'BR',\n",
       "  'BY',\n",
       "  'CA',\n",
       "  'CH',\n",
       "  'CL',\n",
       "  'CO',\n",
       "  'CR',\n",
       "  'CY',\n",
       "  'CZ',\n",
       "  'DE',\n",
       "  'DK',\n",
       "  'DO',\n",
       "  'DZ',\n",
       "  'EC',\n",
       "  'EE',\n",
       "  'EG',\n",
       "  'ES',\n",
       "  'FI',\n",
       "  'FR',\n",
       "  'GB',\n",
       "  'GR',\n",
       "  'GT',\n",
       "  'HK',\n",
       "  'HN',\n",
       "  'HR',\n",
       "  'HU',\n",
       "  'ID',\n",
       "  'IE',\n",
       "  'IL',\n",
       "  'IN',\n",
       "  'IS',\n",
       "  'IT',\n",
       "  'JO',\n",
       "  'JP',\n",
       "  'KW',\n",
       "  'KZ',\n",
       "  'LB',\n",
       "  'LI',\n",
       "  'LT',\n",
       "  'LU',\n",
       "  'LV',\n",
       "  'MA',\n",
       "  'MC',\n",
       "  'MD',\n",
       "  'ME',\n",
       "  'MK',\n",
       "  'MT',\n",
       "  'MX',\n",
       "  'MY',\n",
       "  'NI',\n",
       "  'NL',\n",
       "  'NO',\n",
       "  'NZ',\n",
       "  'OM',\n",
       "  'PA',\n",
       "  'PE',\n",
       "  'PH',\n",
       "  'PL',\n",
       "  'PS',\n",
       "  'PT',\n",
       "  'PY',\n",
       "  'QA',\n",
       "  'RO',\n",
       "  'RS',\n",
       "  'RU',\n",
       "  'SA',\n",
       "  'SE',\n",
       "  'SG',\n",
       "  'SI',\n",
       "  'SK',\n",
       "  'SV',\n",
       "  'TH',\n",
       "  'TN',\n",
       "  'TR',\n",
       "  'TW',\n",
       "  'UA',\n",
       "  'US',\n",
       "  'UY',\n",
       "  'VN',\n",
       "  'XK',\n",
       "  'ZA'],\n",
       " 'disc_number': 1,\n",
       " 'duration_ms': 179860,\n",
       " 'explicit': True,\n",
       " 'external_ids': {'isrc': 'USUM72020437'},\n",
       " 'external_urls': {'spotify': 'https://open.spotify.com/track/6NYtLvyThMT0oALFdJFdzq'},\n",
       " 'href': 'https://api.spotify.com/v1/tracks/6NYtLvyThMT0oALFdJFdzq',\n",
       " 'id': '6NYtLvyThMT0oALFdJFdzq',\n",
       " 'is_local': False,\n",
       " 'name': 'love language',\n",
       " 'popularity': 82,\n",
       " 'preview_url': None,\n",
       " 'track_number': 11,\n",
       " 'type': 'track',\n",
       " 'uri': 'spotify:track:6NYtLvyThMT0oALFdJFdzq'}"
      ]
     },
     "execution_count": 16,
     "metadata": {},
     "output_type": "execute_result"
    }
   ],
   "source": [
    "results[\"tracks\"][\"items\"][0]"
   ]
  },
  {
   "cell_type": "code",
   "execution_count": 19,
   "metadata": {},
   "outputs": [
    {
     "name": "stdout",
     "output_type": "stream",
     "text": [
      "{'external_urls': {'spotify': 'https://open.spotify.com/artist/66CXWjxzNUsdJxJ2JdwvnR'}, 'followers': {'href': None, 'total': 52571724}, 'genres': ['dance pop', 'pop', 'post-teen pop'], 'href': 'https://api.spotify.com/v1/artists/66CXWjxzNUsdJxJ2JdwvnR', 'id': '66CXWjxzNUsdJxJ2JdwvnR', 'images': [{'height': 640, 'url': 'https://i.scdn.co/image/f8c793519d837ca2f920c561535fe62ef32e8e5b', 'width': 640}, {'height': 320, 'url': 'https://i.scdn.co/image/610f278171ed793b0d6c771f2877e5d4fd533d38', 'width': 320}, {'height': 160, 'url': 'https://i.scdn.co/image/03345cd15fe15956bbc204131ac1b45991b99bb6', 'width': 160}], 'name': 'Ariana Grande', 'popularity': 99, 'type': 'artist', 'uri': 'spotify:artist:66CXWjxzNUsdJxJ2JdwvnR'}\n"
     ]
    }
   ],
   "source": [
    "\n",
    "urn = 'spotify:artist:66CXWjxzNUsdJxJ2JdwvnR'\n",
    "\n",
    "artist = spotify.artist(urn)\n",
    "print(artist)"
   ]
  },
  {
   "cell_type": "code",
   "execution_count": 49,
   "metadata": {},
   "outputs": [
    {
     "name": "stderr",
     "output_type": "stream",
     "text": [
      "<ipython-input-49-51943771aac0>:5: TqdmDeprecationWarning: This function will be removed in tqdm==5.0.0\n",
      "Please use `tqdm.notebook.tqdm` instead of `tqdm.tqdm_notebook`\n",
      "  for offset in tqdm(range(1000)):\n"
     ]
    },
    {
     "data": {
      "application/vnd.jupyter.widget-view+json": {
       "model_id": "a127f66db79f4bdc8d7d75ba08e52e17",
       "version_major": 2,
       "version_minor": 0
      },
      "text/plain": [
       "HBox(children=(HTML(value=''), FloatProgress(value=0.0, max=1000.0), HTML(value='')))"
      ]
     },
     "metadata": {},
     "output_type": "display_data"
    },
    {
     "name": "stdout",
     "output_type": "stream",
     "text": [
      "\n"
     ]
    }
   ],
   "source": [
    "from tqdm import tqdm_notebook as tqdm\n",
    "\n",
    "love_songs = []\n",
    "\n",
    "for offset in tqdm(range(1000)):\n",
    "    results = spotify.search(q='love', type='track', limit=50, offset=offset)\n",
    "    items = results[\"tracks\"][\"items\"]\n",
    "    for item in items:\n",
    "        for artist in item['artists']:\n",
    "            love_songs.append({\"artist\": artist[\"name\"], \"artist_id\": artist['id'], \"song\": item[\"name\"]})"
   ]
  },
  {
   "cell_type": "code",
   "execution_count": 51,
   "metadata": {},
   "outputs": [],
   "source": [
    "import pandas as pd\n",
    "love_songs = pd.DataFrame(love_songs)"
   ]
  },
  {
   "cell_type": "code",
   "execution_count": null,
   "metadata": {},
   "outputs": [
    {
     "name": "stderr",
     "output_type": "stream",
     "text": [
      "<ipython-input-66-16dbda4add3b>:5: TqdmDeprecationWarning: This function will be removed in tqdm==5.0.0\n",
      "Please use `tqdm.notebook.tqdm` instead of `tqdm.tqdm_notebook`\n",
      "  for offset in tqdm(range(1000)):\n"
     ]
    },
    {
     "data": {
      "application/vnd.jupyter.widget-view+json": {
       "model_id": "b03d9f292c284f94ae232d4b11b2b814",
       "version_major": 2,
       "version_minor": 0
      },
      "text/plain": [
       "HBox(children=(HTML(value=''), FloatProgress(value=0.0, max=1000.0), HTML(value='')))"
      ]
     },
     "metadata": {},
     "output_type": "display_data"
    }
   ],
   "source": [
    "\n",
    "from tqdm import tqdm_notebook as tqdm\n",
    "\n",
    "money_songs = []\n",
    "\n",
    "for offset in tqdm(range(1000)):\n",
    "    results = spotify.search(q='money', type='track', limit=50, offset=offset)\n",
    "    items = results[\"tracks\"][\"items\"]\n",
    "    for item in items:\n",
    "        for artist in item['artists']:\n",
    "            money_songs.append({\"artist\": artist[\"name\"], \"artist_id\": artist['id'], \"song\": item[\"name\"]})"
   ]
  },
  {
   "cell_type": "code",
   "execution_count": 57,
   "metadata": {},
   "outputs": [],
   "source": [
    "money_songs = pd.DataFrame(money_songs)"
   ]
  },
  {
   "cell_type": "code",
   "execution_count": 60,
   "metadata": {},
   "outputs": [],
   "source": [
    "artists = love_songs.merge(money_songs, on=\"artist\", how=\"inner\", suffixes=('_love', '_money'))[\"artist\"]"
   ]
  },
  {
   "cell_type": "code",
   "execution_count": 63,
   "metadata": {},
   "outputs": [],
   "source": [
    "artists = artists.unique()"
   ]
  },
  {
   "cell_type": "code",
   "execution_count": null,
   "metadata": {},
   "outputs": [],
   "source": [
    "for artist in artists:\n",
    "    spotify.artist_albums(artist)"
   ]
  }
 ],
 "metadata": {
  "kernelspec": {
   "display_name": "Python 3",
   "language": "python",
   "name": "python3"
  },
  "language_info": {
   "codemirror_mode": {
    "name": "ipython",
    "version": 3
   },
   "file_extension": ".py",
   "mimetype": "text/x-python",
   "name": "python",
   "nbconvert_exporter": "python",
   "pygments_lexer": "ipython3",
   "version": "3.8.5"
  }
 },
 "nbformat": 4,
 "nbformat_minor": 4
}

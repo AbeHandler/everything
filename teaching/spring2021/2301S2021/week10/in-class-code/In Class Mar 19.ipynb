{
 "cells": [
  {
   "cell_type": "code",
   "execution_count": 4,
   "metadata": {},
   "outputs": [],
   "source": [
    "from random import random \n",
    "\n",
    "probs = {\"Smoker\": .1, \"NonSmoker\": .9, \"Cancer|Smoker\": .3, \"Cancer|NonSmoker\": .1}\n",
    "\n",
    "def determineSmokerOrNot():\n",
    "    if random() < probs[\"Smoker\"]:\n",
    "        return \"Smoker\"\n",
    "    else:\n",
    "        return \"NonSmoker\"\n",
    "    \n",
    "def determineCancerOrNot(person):\n",
    "    if person == \"Smoker\":\n",
    "        if random() < probs[\"Cancer|Smoker\"]:\n",
    "            return \"Cancer\"\n",
    "        else:\n",
    "            return \"NoCancer\"\n",
    "    else:\n",
    "        if random() < probs[\"Cancer|NonSmoker\"]:\n",
    "            return \"Cancer\"\n",
    "        else:\n",
    "            return \"NoCancer\"\n",
    "    \n",
    "data = []\n",
    "for i in range(1000):\n",
    "    smoker = determineSmokerOrNot()\n",
    "    cancer = determineCancerOrNot(smoker)\n",
    "    data.append({\"smoker\": smoker, \"cancer\": cancer})"
   ]
  },
  {
   "cell_type": "markdown",
   "metadata": {},
   "source": [
    "### what is p(Cancer|Smoker)\n",
    "\n",
    "- p(Smoker AND cancer)/p(smoke)"
   ]
  },
  {
   "cell_type": "code",
   "execution_count": 12,
   "metadata": {},
   "outputs": [
    {
     "name": "stdout",
     "output_type": "stream",
     "text": [
      "0.101\n"
     ]
    }
   ],
   "source": [
    "smokers = 0\n",
    "for point in data:\n",
    "    if point[\"smoker\"] == \"Smoker\":\n",
    "        smokers += 1\n",
    "\n",
    "pSmoke = smokers/len(data)\n",
    "\n",
    "print(pSmoke)"
   ]
  },
  {
   "cell_type": "code",
   "execution_count": 10,
   "metadata": {},
   "outputs": [],
   "source": [
    "smoker_and_cancer = 0\n",
    "\n",
    "for point in data:\n",
    "    if point[\"smoker\"] == \"Smoker\" and point[\"cancer\"] == \"Cancer\":\n",
    "        smoker_and_cancer += 1\n",
    "        \n",
    "pSmokerANDcancer = smoker_and_cancer/len(data)"
   ]
  },
  {
   "cell_type": "code",
   "execution_count": 11,
   "metadata": {},
   "outputs": [
    {
     "data": {
      "text/plain": [
       "0.31683168316831684"
      ]
     },
     "execution_count": 11,
     "metadata": {},
     "output_type": "execute_result"
    }
   ],
   "source": [
    "pSmokerANDcancer/pSmoke"
   ]
  },
  {
   "cell_type": "markdown",
   "metadata": {},
   "source": [
    "- Figure out from data: what is p(Cancer|Smoker)\n",
    "- Figure out from data: if you get cancer, what is the probability you were a smoker?\n",
    "- Figure out from math: if you get cancer, what is the probability you were a smoker?"
   ]
  }
 ],
 "metadata": {
  "kernelspec": {
   "display_name": "Python 3",
   "language": "python",
   "name": "python3"
  },
  "language_info": {
   "codemirror_mode": {
    "name": "ipython",
    "version": 3
   },
   "file_extension": ".py",
   "mimetype": "text/x-python",
   "name": "python",
   "nbconvert_exporter": "python",
   "pygments_lexer": "ipython3",
   "version": "3.8.3"
  }
 },
 "nbformat": 4,
 "nbformat_minor": 4
}

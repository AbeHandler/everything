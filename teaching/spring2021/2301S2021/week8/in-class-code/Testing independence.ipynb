{
 "cells": [
  {
   "cell_type": "markdown",
   "metadata": {},
   "source": [
    "- You are a data scientist testing to see if cars coming off the assembly line with part A are more likely to break than those with part B."
   ]
  },
  {
   "cell_type": "code",
   "execution_count": 4,
   "metadata": {},
   "outputs": [],
   "source": [
    "# This import wont work. I will show you the complex \n",
    "# process at the end of class\n",
    "\n",
    "'''\n",
    "from complex_process_from_nature import getOutcome\n",
    "outcomes = []\n",
    "for i in range(1000):\n",
    "    outcomes.append(getOutcome())\n",
    "\n",
    "with open(\"outcomes.txt\", \"w\") as of:\n",
    "    for o in outcomes:\n",
    "        of.write(o + \"\\n\")\n",
    "'''"
   ]
  }
 ],
 "metadata": {
  "kernelspec": {
   "display_name": "Python 3",
   "language": "python",
   "name": "python3"
  },
  "language_info": {
   "codemirror_mode": {
    "name": "ipython",
    "version": 3
   },
   "file_extension": ".py",
   "mimetype": "text/x-python",
   "name": "python",
   "nbconvert_exporter": "python",
   "pygments_lexer": "ipython3",
   "version": "3.8.3"
  }
 },
 "nbformat": 4,
 "nbformat_minor": 4
}

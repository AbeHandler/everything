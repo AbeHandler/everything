{
 "cells": [
  {
   "cell_type": "markdown",
   "metadata": {},
   "source": [
    "$\\Sigma^{N=5}_{i=0} x_i^2$\n",
    "\n",
    "\n",
    "$\\Sigma x_i^2$\n",
    "\n",
    "$\\Sigma^S_R$"
   ]
  },
  {
   "cell_type": "code",
   "execution_count": 8,
   "metadata": {},
   "outputs": [
    {
     "name": "stdout",
     "output_type": "stream",
     "text": [
      "1 1\n",
      "2 4\n",
      "3 9\n"
     ]
    },
    {
     "data": {
      "text/plain": [
       "0"
      ]
     },
     "execution_count": 8,
     "metadata": {},
     "output_type": "execute_result"
    }
   ],
   "source": [
    "def sumOfSquares(N):\n",
    "    '''\n",
    "    input:\n",
    "        an integer N\n",
    "\n",
    "    output:\n",
    "        \\Sigma_{i=0}^N x_i^2\n",
    "    '''\n",
    "\n",
    "    output = 0\n",
    "\n",
    "    '''\n",
    "    if N == 1:\n",
    "        return 1\n",
    "    if N == 2:\n",
    "        return 1^2 + 2^2\n",
    "    if N == 3:\n",
    "        return 1^2 + 2^2 + 3^2 = 1 + 4 + 9\n",
    "    if N == 4:\n",
    "        return 1^2 + 2^2 + 3^2 + 4^2\n",
    "    '''\n",
    "    \n",
    "    output = 0 \n",
    "    for i in range(1, N+1):\n",
    "        print(i, i ** 2)\n",
    "    \n",
    "    return output \n",
    "\n",
    "sumOfSquares(3)"
   ]
  },
  {
   "cell_type": "code",
   "execution_count": null,
   "metadata": {},
   "outputs": [],
   "source": []
  }
 ],
 "metadata": {
  "kernelspec": {
   "display_name": "Python 3",
   "language": "python",
   "name": "python3"
  },
  "language_info": {
   "codemirror_mode": {
    "name": "ipython",
    "version": 3
   },
   "file_extension": ".py",
   "mimetype": "text/x-python",
   "name": "python",
   "nbconvert_exporter": "python",
   "pygments_lexer": "ipython3",
   "version": "3.8.3"
  }
 },
 "nbformat": 4,
 "nbformat_minor": 4
}

{
 "cells": [
  {
   "cell_type": "code",
   "execution_count": 12,
   "metadata": {},
   "outputs": [
    {
     "name": "stdout",
     "output_type": "stream",
     "text": [
      "HHTHH\n"
     ]
    },
    {
     "ename": "TypeError",
     "evalue": "'int' object is not callable",
     "output_type": "error",
     "traceback": [
      "\u001b[0;31m---------------------------------------------------------------------------\u001b[0m",
      "\u001b[0;31mTypeError\u001b[0m                                 Traceback (most recent call last)",
      "\u001b[0;32m<ipython-input-12-d8e316cf092d>\u001b[0m in \u001b[0;36m<module>\u001b[0;34m\u001b[0m\n\u001b[1;32m     47\u001b[0m \u001b[0meX\u001b[0m \u001b[0;34m=\u001b[0m \u001b[0;36m0\u001b[0m\u001b[0;34m\u001b[0m\u001b[0;34m\u001b[0m\u001b[0m\n\u001b[1;32m     48\u001b[0m \u001b[0;32mfor\u001b[0m \u001b[0mnumHeads\u001b[0m \u001b[0;32min\u001b[0m \u001b[0mrange\u001b[0m\u001b[0;34m(\u001b[0m\u001b[0;36m0\u001b[0m\u001b[0;34m,\u001b[0m \u001b[0;36m6\u001b[0m\u001b[0;34m)\u001b[0m\u001b[0;34m:\u001b[0m\u001b[0;34m\u001b[0m\u001b[0;34m\u001b[0m\u001b[0m\n\u001b[0;32m---> 49\u001b[0;31m     \u001b[0mpnumHeads\u001b[0m \u001b[0;34m=\u001b[0m \u001b[0mpXi\u001b[0m\u001b[0;34m(\u001b[0m\u001b[0mN\u001b[0m\u001b[0;34m=\u001b[0m\u001b[0mnumHeads\u001b[0m\u001b[0;34m,\u001b[0m \u001b[0mflips\u001b[0m\u001b[0;34m=\u001b[0m\u001b[0;36m5\u001b[0m\u001b[0;34m,\u001b[0m \u001b[0mtrials\u001b[0m\u001b[0;34m=\u001b[0m\u001b[0;36m100\u001b[0m\u001b[0;34m)\u001b[0m\u001b[0;34m\u001b[0m\u001b[0;34m\u001b[0m\u001b[0m\n\u001b[0m\u001b[1;32m     50\u001b[0m     \u001b[0meX\u001b[0m \u001b[0;34m+=\u001b[0m \u001b[0mpnumHeads\u001b[0m \u001b[0;34m*\u001b[0m \u001b[0mnumHeads\u001b[0m\u001b[0;34m\u001b[0m\u001b[0;34m\u001b[0m\u001b[0m\n\u001b[1;32m     51\u001b[0m \u001b[0;34m\u001b[0m\u001b[0m\n",
      "\u001b[0;32m<ipython-input-12-d8e316cf092d>\u001b[0m in \u001b[0;36mpXi\u001b[0;34m(N, flips, trials)\u001b[0m\n\u001b[1;32m     38\u001b[0m         \u001b[0mmyString\u001b[0m \u001b[0;34m=\u001b[0m \u001b[0mflipCoin\u001b[0m\u001b[0;34m(\u001b[0m\u001b[0mflips\u001b[0m\u001b[0;34m)\u001b[0m  \u001b[0;31m# get a string corresponding to an experiment\u001b[0m\u001b[0;34m\u001b[0m\u001b[0;34m\u001b[0m\u001b[0m\n\u001b[1;32m     39\u001b[0m         \u001b[0mprint\u001b[0m\u001b[0;34m(\u001b[0m\u001b[0mmyString\u001b[0m\u001b[0;34m)\u001b[0m\u001b[0;34m\u001b[0m\u001b[0;34m\u001b[0m\u001b[0m\n\u001b[0;32m---> 40\u001b[0;31m         \u001b[0mprint\u001b[0m\u001b[0;34m(\u001b[0m\u001b[0mnumHeads\u001b[0m\u001b[0;34m(\u001b[0m\u001b[0mmyString\u001b[0m\u001b[0;34m)\u001b[0m\u001b[0;34m)\u001b[0m\u001b[0;34m\u001b[0m\u001b[0;34m\u001b[0m\u001b[0m\n\u001b[0m\u001b[1;32m     41\u001b[0m         \u001b[0mnHeads\u001b[0m \u001b[0;34m=\u001b[0m \u001b[0mnumHeads\u001b[0m\u001b[0;34m(\u001b[0m\u001b[0mmyString\u001b[0m\u001b[0;34m)\u001b[0m \u001b[0;31m#  count up how many heads are in the string\u001b[0m\u001b[0;34m\u001b[0m\u001b[0;34m\u001b[0m\u001b[0m\n\u001b[1;32m     42\u001b[0m         \u001b[0;32mif\u001b[0m \u001b[0mnHeads\u001b[0m \u001b[0;34m==\u001b[0m \u001b[0mN\u001b[0m\u001b[0;34m:\u001b[0m\u001b[0;34m\u001b[0m\u001b[0;34m\u001b[0m\u001b[0m\n",
      "\u001b[0;31mTypeError\u001b[0m: 'int' object is not callable"
     ]
    }
   ],
   "source": [
    "import random as random\n",
    "\n",
    "def flipCoin(numFlips=2):\n",
    "    '''\n",
    "    Returns a string of H and T \n",
    "        - e.g. \"HH\" or \"HT\"\n",
    "    '''\n",
    "    coinString = \"\"\n",
    "    \n",
    "    for i in range(0,numFlips):\n",
    "        flip = random.randint(0,1)\n",
    "        if flip == 0:\n",
    "            coinString += \"H\"\n",
    "        else:\n",
    "            coinString += \"T\"\n",
    "    return coinString\n",
    "\n",
    "def numHeads(coinString):\n",
    "    '''returns the number of heads in the string'''\n",
    "    count = 0\n",
    "  \n",
    "    for i in range(0, len(coinString)):\n",
    "        if coinString[i] == \"H\":\n",
    "            count += 1\n",
    "        \n",
    "    return count\n",
    "\n",
    "\n",
    "def pXi(N=3, flips=10, trials=1000):\n",
    "    '''\n",
    "    input is N, and a number of trials\n",
    "\n",
    "    output is p(Xi = N)\n",
    "\n",
    "    '''\n",
    "    count = 0 # starts off with a counter \n",
    "    for trial in range(trials):  # iterate through each trial\n",
    "        myString = flipCoin(flips)  # get a string corresponding to an experiment \n",
    "        print(myString)\n",
    "        print(numHeads(myString))\n",
    "        nHeads = numHeads(myString) #  count up how many heads are in the string\n",
    "        if nHeads == N:\n",
    "            count += 1\n",
    "      \n",
    "    return count/trials\n",
    "\n",
    "eX = 0\n",
    "for numHeads in range(0, 6):\n",
    "    pnumHeads = pXi(N=numHeads, flips=5, trials=100)\n",
    "    eX += pnumHeads * numHeads\n",
    "\n",
    "eX"
   ]
  },
  {
   "cell_type": "code",
   "execution_count": null,
   "metadata": {},
   "outputs": [],
   "source": []
  }
 ],
 "metadata": {
  "kernelspec": {
   "display_name": "Python 3",
   "language": "python",
   "name": "python3"
  },
  "language_info": {
   "codemirror_mode": {
    "name": "ipython",
    "version": 3
   },
   "file_extension": ".py",
   "mimetype": "text/x-python",
   "name": "python",
   "nbconvert_exporter": "python",
   "pygments_lexer": "ipython3",
   "version": "3.8.3"
  }
 },
 "nbformat": 4,
 "nbformat_minor": 4
}

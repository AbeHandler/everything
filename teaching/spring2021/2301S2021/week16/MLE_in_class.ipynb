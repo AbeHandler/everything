{
 "cells": [
  {
   "cell_type": "code",
   "execution_count": 1,
   "metadata": {},
   "outputs": [],
   "source": [
    "from random import random \n",
    "\n",
    "def generate(theta, n):\n",
    "    '''\n",
    "    generate a list of N 1 or 0s, where p(1) = theta\n",
    "    \n",
    "    example output = [0, 1, 0, 0, 1]\n",
    "    '''\n",
    "    \n",
    "    \n",
    "def likelihood(data, theta):\n",
    "    '''\n",
    "    Compute the likelihood of a list of N 1s or 0s, assuming that p(1)=theta\n",
    "    \n",
    "    Data is a list of N 1s or 0s, e.g. [0, 0, 1, 1, 0, 0]\n",
    "    \n",
    "    Theta is a number between 0 and 1\n",
    "    '''\n",
    "\n",
    "def learn(data, trials):\n",
    "    '''\n",
    "    Learn the maximum likelihood parameter by randomly checking possible theta. \n",
    "    - You should run trials number of checks\n",
    "    Return the maximum likelihood parameter (i.e. the guess that maximizes the likelihood)\n",
    "    '''"
   ]
  }
 ],
 "metadata": {
  "kernelspec": {
   "display_name": "Python 3",
   "language": "python",
   "name": "python3"
  },
  "language_info": {
   "codemirror_mode": {
    "name": "ipython",
    "version": 3
   },
   "file_extension": ".py",
   "mimetype": "text/x-python",
   "name": "python",
   "nbconvert_exporter": "python",
   "pygments_lexer": "ipython3",
   "version": "3.8.3"
  }
 },
 "nbformat": 4,
 "nbformat_minor": 4
}

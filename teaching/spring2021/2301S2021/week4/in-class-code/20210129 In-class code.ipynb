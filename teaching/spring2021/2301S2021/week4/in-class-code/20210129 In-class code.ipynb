{
 "cells": [
  {
   "cell_type": "code",
   "execution_count": null,
   "metadata": {},
   "outputs": [],
   "source": [
    "def notIntersection(U, A, B):\n",
    "    '''\n",
    "    This function should return the complement of the intersection of A and B\n",
    "    \n",
    "    Parameters:\n",
    "        U : a set\n",
    "        A : a set\n",
    "        B : a set\n",
    "\n",
    "    Returns:\n",
    "        A set equal to the complement of the intersection of A and B\n",
    "            \n",
    "    Error:\n",
    "        Throw some sort of exception if not A \\subset U and not B \\subset U\n",
    "    '''\n",
    "    pass"
   ]
  },
  {
   "cell_type": "code",
   "execution_count": null,
   "metadata": {},
   "outputs": [],
   "source": [
    "def intersection(A, B):\n",
    "    '''\n",
    "    Comment \n",
    "    '''\n",
    "    \n",
    "    # Comment \n",
    "    \n",
    "    inBoth = []\n",
    "    for a in A:\n",
    "        if a in B:\n",
    "            inBoth.append(a)\n",
    "    return set(inBoth)"
   ]
  }
 ],
 "metadata": {
  "kernelspec": {
   "display_name": "Python 3",
   "language": "python",
   "name": "python3"
  },
  "language_info": {
   "codemirror_mode": {
    "name": "ipython",
    "version": 3
   },
   "file_extension": ".py",
   "mimetype": "text/x-python",
   "name": "python",
   "nbconvert_exporter": "python",
   "pygments_lexer": "ipython3",
   "version": "3.8.3"
  }
 },
 "nbformat": 4,
 "nbformat_minor": 4
}

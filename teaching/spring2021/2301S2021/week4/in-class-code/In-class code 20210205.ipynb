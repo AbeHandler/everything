{
 "cells": [
  {
   "cell_type": "code",
   "execution_count": 8,
   "metadata": {},
   "outputs": [
    {
     "data": {
      "text/plain": [
       "[0, 0, 0, 0, 6, 11, 7, 0]"
      ]
     },
     "execution_count": 8,
     "metadata": {},
     "output_type": "execute_result"
    }
   ],
   "source": [
    "def vectorAddition(m, n):\n",
    "    '''\n",
    "    Inputs: \n",
    "        m and n are vectors (i.e. lists)\n",
    "    Outputs:\n",
    "        A new vector equal to m + n\n",
    "    '''\n",
    "    final_vector = []\n",
    "    for component in m:\n",
    "        final_vector.append(0)\n",
    "        \n",
    "    # final_vector = [0, 0, 0, 0]\n",
    "    \n",
    "    ###\n",
    "    # This is not going to work...\n",
    "    # for component in m:\n",
    "    #     how get compoment of N?\n",
    "    ### \n",
    "    \n",
    "    for j in range(len(m)):   # stepping through the vector m\n",
    "        compoment_of_m = m[j]\n",
    "        component_of_n = n[j]\n",
    "        new_component = compoment_of_m + component_of_n\n",
    "        final_vector.append(new_component)\n",
    "        \n",
    "    return final_vector\n",
    "        \n",
    "vectorAddition(m=[2, 5, -3, 0], n=[4, 6, 10 ,0])"
   ]
  },
  {
   "cell_type": "code",
   "execution_count": 6,
   "metadata": {},
   "outputs": [
    {
     "name": "stdout",
     "output_type": "stream",
     "text": [
      "0\n",
      "1\n",
      "2\n"
     ]
    },
    {
     "data": {
      "text/plain": [
       "[0, 1, 2]"
      ]
     },
     "execution_count": 6,
     "metadata": {},
     "output_type": "execute_result"
    }
   ],
   "source": [
    "m=[2,5,-3]\n",
    "for j in range(len(m)):\n",
    "    print(j)\n",
    "[j for j in range(len(m))]"
   ]
  }
 ],
 "metadata": {
  "kernelspec": {
   "display_name": "Python 3",
   "language": "python",
   "name": "python3"
  },
  "language_info": {
   "codemirror_mode": {
    "name": "ipython",
    "version": 3
   },
   "file_extension": ".py",
   "mimetype": "text/x-python",
   "name": "python",
   "nbconvert_exporter": "python",
   "pygments_lexer": "ipython3",
   "version": "3.8.3"
  }
 },
 "nbformat": 4,
 "nbformat_minor": 4
}

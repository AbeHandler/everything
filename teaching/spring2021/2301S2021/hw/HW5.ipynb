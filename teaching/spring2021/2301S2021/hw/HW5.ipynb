{
 "cells": [
  {
   "cell_type": "markdown",
   "metadata": {},
   "source": [
    "### HW 5 \n",
    "\n",
    "You are welcome to work on this HW with a partner. If you work together, please list your partner below.\n",
    "\n",
    "[Partner?]"
   ]
  },
  {
   "cell_type": "markdown",
   "metadata": {},
   "source": [
    "#### Question\n",
    "\n",
    "You can drive home via the highway or by taking local roads. \n",
    "\n",
    "If you drive on the highway, and there is no traffic, you can get home in 30 minutes. But if there is a road accident on the highway there will be severe traffic and it will take you 90 minutes to get home. Every time you take the highway, there is a 10% chance that a road accident will cause severe traffic. You can assume you always get home in 30 or 90 minutes, if you drive on the highway. \n",
    "\n",
    "If you drive on local roads, they are more predictable than the highway. On local roads, there is a probability of .95 that it will take you 40 minutes to get home. However, with probability .05 there will be construction on the local roads, which will case traffic. If there is traffic, you will get home in 45 minutes due to delays. You can assume you always get home in 40 or 45 minutes, if you drive on local roads. "
   ]
  },
  {
   "cell_type": "markdown",
   "metadata": {},
   "source": [
    "\n",
    "### Part one [2.5 pts]\n",
    "\n",
    "Use math to calcuate the expected value of your drive time (in minutes) on local roads. Then apply the same logic to calcuate the expected value of your drive time (in minutes) on the highway. Answer using the formal definition of expected value presented in class and in the outline. You should use at least some math notation. Be sure to briefly explain your reasoning.\n",
    "\n",
    "[Answer here with math and words]\n",
    "\n",
    "According to your math, which route should you take if you want to get home as quickly as possible? \n",
    "\n",
    "[Answer here briefly with words]"
   ]
  },
  {
   "cell_type": "markdown",
   "metadata": {},
   "source": [
    "### Part two [2.5 pts]\n",
    "\n",
    "Finish the function `highway` (below) which simulates the number of minutes you spend driving home on the highway. Your function should return an integer indicating how many minutes you spend driving home. \n",
    "\n",
    "Note that your function should return a different answer depending on if you got stuck in traffic or not. To get this random behavior, you will have to draw a random number to determine if you got stuck in traffic using the appropriate probabilities (based on the question above).\n",
    "\n",
    "Also, finish the function `local` which simulates your drive time on local roads. This function should be very similar to your highway function.\n"
   ]
  },
  {
   "cell_type": "code",
   "execution_count": null,
   "metadata": {},
   "outputs": [],
   "source": [
    "from random import random # hint\n",
    "\n",
    "def highway():\n",
    "    '''\n",
    "    Simulate one trip home on the highway\n",
    "    \n",
    "    You should return the number of minutes it takes you to drive home\n",
    "    \n",
    "    For instance, if you get stuck in traffic during the simulated drive\n",
    "    (which happens with probability .1) your function should return 90\n",
    "    '''\n",
    "    pass\n",
    "\n",
    "def local():\n",
    "    '''\n",
    "    Simulate one trip home on local roads.\n",
    "    \n",
    "    You should return an integer, equal to how long you were in the car\n",
    "    '''\n",
    "    pass"
   ]
  },
  {
   "cell_type": "markdown",
   "metadata": {},
   "source": [
    "### Part three [2.5 pts]\n",
    "\n",
    "Run your `local` function 3 times, and compute the average output value of the function."
   ]
  },
  {
   "cell_type": "code",
   "execution_count": null,
   "metadata": {},
   "outputs": [],
   "source": [
    "sum_ = 0\n",
    "for i in range(3):\n",
    "    # complete this code"
   ]
  },
  {
   "cell_type": "markdown",
   "metadata": {},
   "source": [
    "Recall that expected value is a weighted average (based on probabilities). You should expect that if you keep drawing samples, your average will come close to the expected value. How far away is the average you just computed (based on three samples) to the expected value (from Part 1)?\n",
    "\n",
    "[Answer in English or math symbols here]"
   ]
  },
  {
   "cell_type": "markdown",
   "metadata": {},
   "source": [
    "Now run the `local` function 5000 times and take the average over 5000 runs."
   ]
  },
  {
   "cell_type": "code",
   "execution_count": null,
   "metadata": {},
   "outputs": [],
   "source": [
    "sum_ = 0\n",
    "for i in range(5000):\n",
    "    # complete this code"
   ]
  },
  {
   "cell_type": "markdown",
   "metadata": {},
   "source": [
    "How far apart is your simulated average (based on 5000 samples) from the expected value? Do you find that you are you closer or farther from the theoretical expected value (from the math) as you take more samples?\n",
    "\n",
    "[Answer in English or math symbols here]"
   ]
  },
  {
   "cell_type": "markdown",
   "metadata": {},
   "source": [
    "### Part Four [2.5 pts]\n",
    "\n",
    "Explain intuitively why your code and math seem to get the same answer (if you take enough random samples). You don’t need to make a formal argument. Instead, you should imagine that you are explaining why the code and math are the same in the most clear and concise way possible. \n",
    "\n",
    "[Answer with a few short, clear sentences]"
   ]
  },
  {
   "cell_type": "markdown",
   "metadata": {},
   "source": [
    "### Part Five (+2.5 extra credit)\n",
    "\n",
    "Calculate the variance of your drive time on local roads using math. Then calculate the variance of your drive time on the highway using math. Show your answer below. Which variance is higher? Explain why that makes sense, using English."
   ]
  },
  {
   "cell_type": "code",
   "execution_count": null,
   "metadata": {},
   "outputs": [],
   "source": []
  }
 ],
 "metadata": {
  "kernelspec": {
   "display_name": "Python 3",
   "language": "python",
   "name": "python3"
  },
  "language_info": {
   "codemirror_mode": {
    "name": "ipython",
    "version": 3
   },
   "file_extension": ".py",
   "mimetype": "text/x-python",
   "name": "python",
   "nbconvert_exporter": "python",
   "pygments_lexer": "ipython3",
   "version": "3.8.3"
  }
 },
 "nbformat": 4,
 "nbformat_minor": 4
}

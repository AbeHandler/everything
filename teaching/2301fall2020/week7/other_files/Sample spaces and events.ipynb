{
 "cells": [
  {
   "cell_type": "markdown",
   "metadata": {},
   "source": [
    "### The class so far\n",
    "\n",
    "- So far: we have learned about sets, vectors and Booleans.\n",
    "\n",
    "    - Many people did well on the midterm! This is great prep for the rest of the class.\n",
    "\n",
    "\n",
    "- It's good to know about diffderent mathematical data types. But the real point of 2301 is to build up analytic skills for **reasoning under uncertainty**. \n",
    "\n",
    "\n",
    "- In the rest of this class, we will apply our knowledge of sets, vectors and Booleans to understand situations that are random.\n",
    "\n",
    "\n",
    "### Reasoning under uncertainty\n",
    "\n",
    "- Some things are certain. If you throw a ball in the air, it will come down. If you prick a balloon with a needle it will pop. \n",
    "\n",
    "\n",
    "- Somethings are not certain.\n",
    "    - If you smoke cigarettes you may or may not develop lung cancer\n",
    "    - If you go to Las Vegas you may or may not win money\n",
    "    - If the Buffs play the Cardinals they may win or not\n",
    "    - If you post on Instagram about your breakfast you may or may not go viral\n",
    "    \n",
    "    \n",
    "\n",
    "- In this class, we are going to build up the ability to *reason* about uncertain situations. This is very useful! It helps you understand what to expect from situations involving randomness. \n",
    "\n",
    "- Systems or processes which invole randomness are said to **stochastic**\n",
    "\n",
    "- Systems or processes which do not involve randomness are said to be **deterministic**\n",
    "\n",
    "\n",
    "What are examples of things that are stochastic? What about deterministic?"
   ]
  },
  {
   "cell_type": "markdown",
   "metadata": {},
   "source": [
    "### Sample spaces \n",
    "\n",
    "The sample space $\\Omega$ is the set of possible outcomes of a stochastic process. Notice that the sample space is a *set*!\n",
    "\n",
    "- If you flip a coin once, $\\Omega$ = $\\{H, T\\}$\n",
    "- If you flip a coin twice, $\\Omega$ = $\\{H, T\\}$"
   ]
  },
  {
   "cell_type": "markdown",
   "metadata": {},
   "source": [
    "#### Breakout rooms \n",
    "\n",
    "Say the Buffs play two practice games. If the Buffs win use the notation W. If they lose, use the notation L. (Assume there are no ties.) What is the sample space $\\Omega$ of the two practice games? Your answer should be a set."
   ]
  },
  {
   "cell_type": "markdown",
   "metadata": {},
   "source": [
    "### Events\n",
    "\n",
    "An *event* is a subset of $\\Omega$.\n",
    "\n",
    "What is the *event* that the Buffs win exactly once? \n"
   ]
  },
  {
   "cell_type": "markdown",
   "metadata": {},
   "source": [
    "### Set builder notation\n",
    "\n",
    "You can define a set or subset via [set builder notation](https://en.wikipedia.org/wiki/Set-builder_notation)\n",
    "- Example:\n",
    "    - A = $\\{cats, dogs, birds\\}$\n",
    "    - B = $\\{x \\in A | x \\text{ has feathers} \\} $ = $\\{birds\\}$\n"
   ]
  },
  {
   "cell_type": "markdown",
   "metadata": {},
   "source": [
    "### Events and set operations \n",
    "\n",
    "Because events are subsets of $\\Omega$ we can use all of our set operations to reason about events. \n",
    "\n",
    "Let $O$ be the event that the Buffs win exactly one of their two practice matches. What is $\\overline{O}$?\n"
   ]
  },
  {
   "cell_type": "markdown",
   "metadata": {},
   "source": [
    "### More questions\n",
    "\n",
    "Let $Z$ be the event that the Buffs win exactly zero practice matches? What is $Z$?\n",
    "\n",
    "Is $|\\Omega|$ > $|Z \\cup O|$"
   ]
  },
  {
   "cell_type": "code",
   "execution_count": null,
   "metadata": {},
   "outputs": [],
   "source": []
  }
 ],
 "metadata": {
  "kernelspec": {
   "display_name": "Python 3",
   "language": "python",
   "name": "python3"
  },
  "language_info": {
   "codemirror_mode": {
    "name": "ipython",
    "version": 3
   },
   "file_extension": ".py",
   "mimetype": "text/x-python",
   "name": "python",
   "nbconvert_exporter": "python",
   "pygments_lexer": "ipython3",
   "version": "3.8.5"
  }
 },
 "nbformat": 4,
 "nbformat_minor": 4
}

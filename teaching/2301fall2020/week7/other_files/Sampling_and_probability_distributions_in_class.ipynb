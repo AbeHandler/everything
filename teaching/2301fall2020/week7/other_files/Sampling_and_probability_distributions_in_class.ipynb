{
 "cells": [
  {
   "cell_type": "markdown",
   "metadata": {},
   "source": [
    "### Functions\n",
    "\n",
    "Recall that a probability distribution is a *function* that maps events to real numbers. What is a function? \n",
    "\n",
    "A function translates from one set to another set. The first set is called the domain. The second set is called the range. To be a function, each element from the domain needs to map to exactly one element in the range.\n",
    "\n",
    "Here is how to write a function in math symbols \n",
    "\n",
    "$f: X \\rightarrow Y$   \n",
    "\n",
    "That says that there is a function named $f$ that maps $x \\in X$ to $f(x) \\in Q$"
   ]
  },
  {
   "cell_type": "code",
   "execution_count": 14,
   "metadata": {},
   "outputs": [
    {
     "data": {
      "text/html": [
       "<img src=\"https://upload.wikimedia.org/wikipedia/commons/thumb/6/64/Codomain2.SVG/660px-Codomain2.SVG.png\" width=\"300\"/>"
      ],
      "text/plain": [
       "<IPython.core.display.Image object>"
      ]
     },
     "execution_count": 14,
     "metadata": {},
     "output_type": "execute_result"
    }
   ],
   "source": [
    "from IPython.display import Image\n",
    "from IPython.core.display import HTML \n",
    "\n",
    "# here is a nice picture of the process from Wikipedia\n",
    "Image(url= \"https://upload.wikimedia.org/wikipedia/commons/thumb/6/64/Codomain2.SVG/660px-Codomain2.SVG.png\", width=300 )"
   ]
  },
  {
   "cell_type": "markdown",
   "metadata": {},
   "source": [
    "You have been writing Python functions at least since you started programming. The word \"function\" in computer programming is very similar to a \"function\" in math. When you write a Python function you map from some input to some output. (There are admittedly some messy engineering details when you translate from math to code, so the comparison is a little loose... but it's very close). For example, let's write the example above using Python"
   ]
  },
  {
   "cell_type": "code",
   "execution_count": 11,
   "metadata": {},
   "outputs": [
    {
     "name": "stdout",
     "output_type": "stream",
     "text": [
      "***\n",
      "x is 1\n",
      "f(x) is 2\n",
      "f(x) in Y? True\n",
      "***\n",
      "x is 2\n",
      "f(x) is 3\n",
      "f(x) in Y? True\n",
      "***\n",
      "x is 3\n",
      "f(x) is 4\n",
      "f(x) in Y? True\n"
     ]
    }
   ],
   "source": [
    "def f(n):\n",
    "    return n + 1\n",
    "\n",
    "X = {1, 2, 3}\n",
    "Y = {2,3,4,5}\n",
    "\n",
    "for x in X:\n",
    "    print(\"***\")\n",
    "    print(\"x is {}\".format(x))\n",
    "    print(\"f(x) is {}\".format(f(x)))\n",
    "    print(\"f(x) in Y? {}\".format(f(x) in Y))"
   ]
  },
  {
   "cell_type": "markdown",
   "metadata": {},
   "source": [
    "### Probability distribution"
   ]
  },
  {
   "cell_type": "markdown",
   "metadata": {},
   "source": [
    "Recall that a probability distribution is a function that needs to \n",
    "\n",
    "1. Assign a probability of at least 0 to all events\n",
    "2. Assign a probability of 1 to $\\Omega$ \n",
    "3. Assign a probability to a union of disjoint events that is equal to the sum of the probabilities of each event"
   ]
  },
  {
   "cell_type": "code",
   "execution_count": 21,
   "metadata": {},
   "outputs": [
    {
     "name": "stdout",
     "output_type": "stream",
     "text": [
      "**\n",
      "{'W'}\n",
      "0.2\n",
      "**\n",
      "{'L'}\n",
      "0.8\n",
      "**\n",
      "{}\n",
      "0.0\n",
      "**\n",
      "{'L', 'W'}\n",
      "1.0\n"
     ]
    },
    {
     "data": {
      "text/plain": [
       "1.0"
      ]
     },
     "execution_count": 21,
     "metadata": {},
     "output_type": "execute_result"
    }
   ],
   "source": [
    "def probabilityDistributionBuffsGame(event):\n",
    "    '''\n",
    "    This is a probability distribution, written in Python\n",
    "    '''\n",
    "    if event == {\"W\"}: # event is a set \\in Omega\n",
    "        return .2\n",
    "    if event == {\"L\"}:\n",
    "        return .8\n",
    "    if event == {\"W\", \"L\"}: # Omega!\n",
    "        return 1.\n",
    "    if event == {}:\n",
    "        return 0.\n",
    "    \n",
    "    \n",
    "omega = {\"W\", \"L\"} #  All possible outcomes: i.e. win or lose\n",
    "all_possible_events = [{\"W\"}, {\"L\"}, {}, {\"W\", \"L\"}] # All possible subsets of omega = all possible events \n",
    "\n",
    "for event in all_possible_events:\n",
    "    print(\"**\")\n",
    "    print(event)\n",
    "    print(probabilityDistributionBuffsGame(event))\n",
    "    \n",
    "    # all probabilities are at least zero\n",
    "    assert probabilityDistributionBuffsGame(event) >= 0\n",
    "    \n",
    "# The sample space maps to 1\n",
    "assert probabilityDistributionBuffsGame(omega) == 1\n",
    "\n",
    "# The probability of the union of all disjoint sets is equal to the sum of their probabilities \n",
    "# We don't know how to show this one yet. But we will by next month! \n",
    "# Here is a simple one \n",
    "\n",
    "# Assert {W} and {L} are disjoint \n",
    "assert {\"W\"}.intersection({\"L\"}) == set()\n",
    "\n",
    "# Probability of their union is 1? \n",
    "probabilityDistributionBuffsGame({\"W\"}.union({\"L\"}))\n",
    "\n",
    "# Probability of the sum of each event is 1? \n",
    "probabilityDistributionBuffsGame({\"W\"}) + probabilityDistributionBuffsGame({\"L\"})\n",
    "\n",
    "# Valid distribution. Hooray. "
   ]
  },
  {
   "cell_type": "markdown",
   "metadata": {},
   "source": [
    "### Simulation "
   ]
  },
  {
   "cell_type": "code",
   "execution_count": 25,
   "metadata": {},
   "outputs": [
    {
     "name": "stdout",
     "output_type": "stream",
     "text": [
      "0.4531214893482556\n",
      "0.7749511142746017\n",
      "0.10680869423430739\n"
     ]
    }
   ],
   "source": [
    "import random\n",
    "\n",
    "# drawing random numbers in Python\n",
    "# This will draw a number between 0 and 1\n",
    "\n",
    "for i in range(3): # draw a random number between 0 and 1\n",
    "    print(random.random())"
   ]
  },
  {
   "cell_type": "markdown",
   "metadata": {},
   "source": [
    "It is possible to draw events \"at random\" based on a probability distribution. Drawing events at random based on a distribution is still random. But the randomness follows long-term patterns. For instance, if your distribution $p$ says that the Buffs will win with probability .2, then if you draw an event from the distrubtion then 2 times out of 10 the event will be a win and 8 times out of 10 the event will be a loss. We can write this \n",
    "\n",
    "$g \\sim p$\n",
    "\n",
    "which says we are going to draw a game $g$ in proportion to the distribution $p$."
   ]
  },
  {
   "cell_type": "code",
   "execution_count": 26,
   "metadata": {},
   "outputs": [
    {
     "data": {
      "text/plain": [
       "'L'"
      ]
     },
     "execution_count": 26,
     "metadata": {},
     "output_type": "execute_result"
    }
   ],
   "source": [
    "def drawGame(pWin):\n",
    "    '''Sample a random outcome, based on the probability distrubition'''\n",
    "    if random.random() < pWin:\n",
    "        return \"W\"\n",
    "    else:\n",
    "        return \"L\"\n",
    "    \n",
    "drawGame(.2)"
   ]
  },
  {
   "cell_type": "code",
   "execution_count": 33,
   "metadata": {},
   "outputs": [
    {
     "name": "stdout",
     "output_type": "stream",
     "text": [
      "L L W W L L L L L W "
     ]
    }
   ],
   "source": [
    "# sample a 10 game season\n",
    "for i in range(10):\n",
    "    g = drawGame(pWin=.2)\n",
    "    print(g, end =\" \")"
   ]
  },
  {
   "cell_type": "code",
   "execution_count": null,
   "metadata": {},
   "outputs": [],
   "source": []
  }
 ],
 "metadata": {
  "kernelspec": {
   "display_name": "Python 3",
   "language": "python",
   "name": "python3"
  },
  "language_info": {
   "codemirror_mode": {
    "name": "ipython",
    "version": 3
   },
   "file_extension": ".py",
   "mimetype": "text/x-python",
   "name": "python",
   "nbconvert_exporter": "python",
   "pygments_lexer": "ipython3",
   "version": "3.8.5"
  }
 },
 "nbformat": 4,
 "nbformat_minor": 4
}

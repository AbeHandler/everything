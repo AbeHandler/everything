{
 "cells": [
  {
   "cell_type": "markdown",
   "metadata": {},
   "source": [
    "### The class so far\n",
    "\n",
    "- So far: we have learned about sets, vectors and Booleans.\n",
    "\n",
    "    - Many people did well on the midterm! This is great prep for the rest of the class.\n",
    "\n",
    "\n",
    "- It's good to know about diffderent mathematical data types. But the real point of 2301 is to build up analytic skills for **reasoning under uncertainty**. \n",
    "\n",
    "\n",
    "- In the rest of this class, we will apply our knowledge of sets, vectors and Booleans to understand situations that are random.\n",
    "\n",
    "\n",
    "### Reasoning under uncertainty\n",
    "\n",
    "- Some things are certain. If you throw a ball in the air, it will come down. If you prick a balloon with a needle it will pop. \n",
    "\n",
    "\n",
    "- Somethings are not certain.\n",
    "    - If you smoke cigarettes you may or may not develop lung cancer\n",
    "    - If you go to Las Vegas you may or may not win money\n",
    "    - If the Buffs play the Cardinals they may win or not\n",
    "    - If you post on Instagram about your breakfast you may or may not go viral\n",
    "    \n",
    "    \n",
    "\n",
    "- In this class, we are going to build up the ability to *reason* about uncertain situations. This is very useful! It helps you understand what to expect from situations involving randomness. \n",
    "\n",
    "- Systems or processes which invole randomness are said to **stochastic**\n",
    "\n",
    "- Systems or processes which do not involve randomness are said to be **deterministic**\n",
    "\n",
    "\n",
    "What are examples of things that are stochastic? What about deterministic?"
   ]
  },
  {
   "cell_type": "markdown",
   "metadata": {},
   "source": [
    "### Sample spaces \n",
    "\n",
    "The sample space $\\Omega$ is the set of possible outcomes of a stochastic process. Notice that the sample space is a *set*!\n",
    "\n",
    "- If you flip a coin once, $\\Omega$ = $\\{H, T\\}$\n",
    "- If you flip a coin twice, $\\Omega$ = $\\{HH, TT, HT, TH\\}$"
   ]
  },
  {
   "cell_type": "markdown",
   "metadata": {},
   "source": [
    "#### Breakout rooms \n",
    "\n",
    "Say the Buffs play two practice games. If the Buffs win use the notation W. If they lose, use the notation L. (Assume there are no ties.) What is the sample space $\\Omega$ of the two practice games? Your answer should be a set."
   ]
  },
  {
   "cell_type": "markdown",
   "metadata": {},
   "source": [
    "W=Win\n",
    "L=Loss"
   ]
  },
  {
   "cell_type": "markdown",
   "metadata": {},
   "source": [
    "### Events\n",
    "\n",
    "$\\Omega$ = $\\{WW,LL,WL,LW\\}$\n",
    "\n",
    "An *event* is a subset of $\\Omega$.\n",
    "\n",
    "What is the *event* that the Buffs win exactly once? \n"
   ]
  },
  {
   "cell_type": "markdown",
   "metadata": {},
   "source": [
    "{WL, LW} $\\subset  \\Omega $ "
   ]
  },
  {
   "cell_type": "markdown",
   "metadata": {},
   "source": [
    "### Set builder notation\n",
    "\n",
    "You can define a set or subset via [set builder notation](https://en.wikipedia.org/wiki/Set-builder_notation)\n",
    "- Example:\n",
    "    - A = $\\{cats, dogs, birds\\}$\n",
    "    - B = $\\{x \\in A | x \\text{ has feathers} \\} $ = $\\{birds\\}$\n",
    "    \n",
    "    \n",
    "Define a set = Pets\n",
    "\n",
    "- Name of set = $\\{$ thing in some set $|$ property of thing $\\}$\n",
    "- Birds = $\\{$ a $\\in$ A $|$ a has wings $\\}$\n",
    "\n",
    "N = $\\{1,2,3,4\\}$ \n",
    "N2 = $\\{3,4\\}$ \n",
    "\n",
    "How would we use set builder notation to define N2? \n",
    "\n",
    "N2 = $\\{$ a $\\in$ N | $a > 2$ $\\}$\n",
    "\n",
    "\n",
    "$N2$ = $\\{3,4\\}$"
   ]
  },
  {
   "cell_type": "markdown",
   "metadata": {},
   "source": [
    "shapes = $\\{$circle, square, oval $\\}$\n",
    "\n",
    "round\\_shapes = $\\{$circle, oval $\\}$\n",
    "\n",
    "round\\_shapes = $\\{a$ $\\in$ shapes | a is round $\\}$"
   ]
  },
  {
   "cell_type": "markdown",
   "metadata": {},
   "source": [
    "suits = {hearts, spades, diamonds, clubs}\n",
    "\n",
    "redsuits = {hearts, diamonds}\n",
    "\n",
    "redsuits = {a \\in suits | a is red}"
   ]
  },
  {
   "cell_type": "code",
   "execution_count": 9,
   "metadata": {},
   "outputs": [
    {
     "name": "stdout",
     "output_type": "stream",
     "text": [
      "{'hearts': {'color': 'red'}}\n"
     ]
    },
    {
     "ename": "KeyError",
     "evalue": "'color'",
     "output_type": "error",
     "traceback": [
      "\u001b[0;31m---------------------------------------------------------------------------\u001b[0m",
      "\u001b[0;31mKeyError\u001b[0m                                  Traceback (most recent call last)",
      "\u001b[0;32m<ipython-input-9-87ce3f116b00>\u001b[0m in \u001b[0;36m<module>\u001b[0;34m\u001b[0m\n\u001b[1;32m      7\u001b[0m     \u001b[0;32mreturn\u001b[0m \u001b[0moutput\u001b[0m\u001b[0;34m\u001b[0m\u001b[0;34m\u001b[0m\u001b[0m\n\u001b[1;32m      8\u001b[0m \u001b[0;34m\u001b[0m\u001b[0m\n\u001b[0;32m----> 9\u001b[0;31m setBuilder([{\"hearts\": {\"color\":\"red\"}}, {\"diamonds\": {\"color\":\"red\"}}, \n\u001b[0m\u001b[1;32m     10\u001b[0m             {\"spades\": {\"color\":\"black\"}}, {\"clubs\": {\"color\":\"black\"}}], color=\"black\")\n",
      "\u001b[0;32m<ipython-input-9-87ce3f116b00>\u001b[0m in \u001b[0;36msetBuilder\u001b[0;34m(input_set, color)\u001b[0m\n\u001b[1;32m      3\u001b[0m     \u001b[0;32mfor\u001b[0m \u001b[0mi\u001b[0m \u001b[0;32min\u001b[0m \u001b[0minput_set\u001b[0m\u001b[0;34m:\u001b[0m\u001b[0;34m\u001b[0m\u001b[0;34m\u001b[0m\u001b[0m\n\u001b[1;32m      4\u001b[0m         \u001b[0mprint\u001b[0m\u001b[0;34m(\u001b[0m\u001b[0mi\u001b[0m\u001b[0;34m)\u001b[0m\u001b[0;34m\u001b[0m\u001b[0;34m\u001b[0m\u001b[0m\n\u001b[0;32m----> 5\u001b[0;31m         \u001b[0;32mif\u001b[0m \u001b[0mi\u001b[0m\u001b[0;34m[\u001b[0m\u001b[0;34m\"color\"\u001b[0m\u001b[0;34m]\u001b[0m \u001b[0;34m==\u001b[0m \u001b[0mcolor\u001b[0m\u001b[0;34m:\u001b[0m\u001b[0;34m\u001b[0m\u001b[0;34m\u001b[0m\u001b[0m\n\u001b[0m\u001b[1;32m      6\u001b[0m             \u001b[0moutput\u001b[0m\u001b[0;34m.\u001b[0m\u001b[0madd\u001b[0m\u001b[0;34m(\u001b[0m\u001b[0mi\u001b[0m\u001b[0;34m)\u001b[0m\u001b[0;34m\u001b[0m\u001b[0;34m\u001b[0m\u001b[0m\n\u001b[1;32m      7\u001b[0m     \u001b[0;32mreturn\u001b[0m \u001b[0moutput\u001b[0m\u001b[0;34m\u001b[0m\u001b[0;34m\u001b[0m\u001b[0m\n",
      "\u001b[0;31mKeyError\u001b[0m: 'color'"
     ]
    }
   ],
   "source": [
    "def setBuilder(input_set, color):\n",
    "    output = set()\n",
    "    for i in input_set:\n",
    "        print(i)\n",
    "        if i[\"color\"] == color:\n",
    "            output.add(i)\n",
    "    return output\n",
    "\n",
    "setBuilder([{\"hearts\": {\"color\":\"red\"}}, {\"diamonds\": {\"color\":\"red\"}}, \n",
    "            {\"spades\": {\"color\":\"black\"}}, {\"clubs\": {\"color\":\"black\"}}], color=\"black\")"
   ]
  },
  {
   "cell_type": "markdown",
   "metadata": {},
   "source": [
    "### Events and set operations \n",
    "\n",
    "Because events are subsets of $\\Omega$ we can use all of our set operations to reason about events. \n",
    "\n",
    "Let $O$ be the event that the Buffs win exactly one of their two practice matches. $O \\in \\Omega$. What is $\\overline{O}$?\n",
    "\n",
    "$\\Omega$ = {WW, LL, LW, WL} \n",
    "\n",
    "$O$ = {LW,WL}\n",
    "\n",
    "$\\overline{O}$ = $\\{$ WW, LL $\\}$\n"
   ]
  },
  {
   "cell_type": "markdown",
   "metadata": {},
   "source": [
    "### More questions\n",
    "\n",
    "Let $Z$ be the event that the Buffs win exactly zero practice matches? What is $Z$?\n",
    "\n",
    "Is $|\\Omega|$ > $|Z \\cup O|$"
   ]
  },
  {
   "cell_type": "code",
   "execution_count": null,
   "metadata": {},
   "outputs": [],
   "source": []
  }
 ],
 "metadata": {
  "kernelspec": {
   "display_name": "Python 3",
   "language": "python",
   "name": "python3"
  },
  "language_info": {
   "codemirror_mode": {
    "name": "ipython",
    "version": 3
   },
   "file_extension": ".py",
   "mimetype": "text/x-python",
   "name": "python",
   "nbconvert_exporter": "python",
   "pygments_lexer": "ipython3",
   "version": "3.8.5"
  }
 },
 "nbformat": 4,
 "nbformat_minor": 4
}

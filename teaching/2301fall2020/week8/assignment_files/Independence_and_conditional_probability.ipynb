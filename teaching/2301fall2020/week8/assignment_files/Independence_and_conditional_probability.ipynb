{
 "cells": [
  {
   "cell_type": "markdown",
   "metadata": {},
   "source": [
    "### Independence \n",
    "\n",
    "Two events $A$ and $B$ are independent if $P(A \\cap B)$ = $P(A)P(B)$\n",
    "\n",
    "How do we know events are independent?\n",
    "- Independence can be something we assume \n",
    "- Independence can be something we observe in the data"
   ]
  },
  {
   "cell_type": "markdown",
   "metadata": {},
   "source": [
    "### Example 1\n",
    "\n",
    "You flip a fair coin 2 times. Assume that each flip of the coin is independent. What is the probability of getting two heads?\n",
    "\n",
    "[Type your answer here]"
   ]
  },
  {
   "cell_type": "markdown",
   "metadata": {},
   "source": [
    "### Example 2 \n",
    "\n",
    "Say you are rolling a fair 6-sided die. Let $A$=$\\{2,4,6\\}$ and let $B$=$\\{1,2,3,4\\}$. Are $A$ and $B$ independent? \n",
    "\n",
    "[Type your answer here]"
   ]
  },
  {
   "cell_type": "markdown",
   "metadata": {},
   "source": [
    "### Example 3 \n",
    "\n",
    "Are A an B independent?  \n",
    "\n",
    "[Type your answer here]\n",
    "\n",
    "![title](https://www.probabilitycourse.com/images/chapter1/intersection_b.png)"
   ]
  },
  {
   "cell_type": "markdown",
   "metadata": {},
   "source": [
    "### Conditional probability\n",
    "\n",
    "Conditional probability gives us the probabilty of event $A$ given that event $B$ has occured. \n",
    "\n",
    "Examples:\n",
    "- What is the probability that the Buffs will all of the games in their season, given that they have lost one game already? \n",
    "- What is the probability that Biden wins Colorado, given that Biden wins Georgia? \n",
    "- What is the probability that Biden wins Colorado, given that Trump wins Georgia?\n",
    "- What is the probability that you get 21 on your second draw in blackjack, given that your first card is a King? \n",
    "\n",
    "In each of these cases we have two events, A and B. We are asking, what is the probabiliy of event A given that event B has happened?\n",
    "\n",
    "We write conditional probability as $p(A|B)$. You should read this as the probability of A given B. "
   ]
  },
  {
   "cell_type": "markdown",
   "metadata": {},
   "source": [
    "### Question\n",
    "Write the previous examples using conditional probability notation.\n",
    "\n",
    "[Type your answers here]"
   ]
  },
  {
   "cell_type": "markdown",
   "metadata": {},
   "source": [
    "### Conditional probability: definition\n",
    "\n",
    "The definition of conditional probability is $p(A|B) = \\frac{P(A \\cap B)}{p(B)}$\n",
    "\n",
    "- Wikipedia has a [nice example](https://en.wikipedia.org/wiki/Conditional_probability#Example) of conditional probability. We will talk through this example."
   ]
  },
  {
   "cell_type": "markdown",
   "metadata": {},
   "source": [
    "### Question\n",
    "What is the probability that at least 1 die is a 6, given that the sum of the die is greater than or equal to 10?\n",
    "\n",
    "[Type your answers here]"
   ]
  },
  {
   "cell_type": "markdown",
   "metadata": {},
   "source": [
    "### Again, this is for actually interesting stuff.\n",
    "\n",
    "It's easier to explain this stuff when discussing die. But actually this is for more interesting things. Here are some hypothetical voter counts based on the assumption that 5M people cast ballots in the Presidential election in Colorado this year, and based on polling information from the website [FiveThirtyEight](https://projects.fivethirtyeight.com/polls/colorado/)."
   ]
  },
  {
   "cell_type": "markdown",
   "metadata": {},
   "source": [
    "|  Age  | Biden | Trump | *Total* |\n",
    "|:-----:|:-----:|-------| ------- |\n",
    "| 18-34 | 1.7M   | .7M   |   2.4M     | \n",
    "| 34+   | 1.1M   | 1.5M  |   2.6M     | \n",
    "| *Total* |  *2.8M*  |  *2.2M*  | **5M** | "
   ]
  },
  {
   "cell_type": "markdown",
   "metadata": {},
   "source": [
    "### Questions \n",
    "\n",
    "Based on this table of Colorado voters\n",
    "\n",
    "1. What is p(vote Biden | age 18-34) ? \n",
    "\n",
    "2. What is p(age 34 + | voted Trump) ?\n",
    "\n",
    "3. What is p(vote Biden) ?"
   ]
  }
 ],
 "metadata": {
  "kernelspec": {
   "display_name": "Python 3",
   "language": "python",
   "name": "python3"
  },
  "language_info": {
   "codemirror_mode": {
    "name": "ipython",
    "version": 3
   },
   "file_extension": ".py",
   "mimetype": "text/x-python",
   "name": "python",
   "nbconvert_exporter": "python",
   "pygments_lexer": "ipython3",
   "version": "3.8.5"
  }
 },
 "nbformat": 4,
 "nbformat_minor": 4
}

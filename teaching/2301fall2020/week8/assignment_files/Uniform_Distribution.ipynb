{
 "cells": [
  {
   "cell_type": "code",
   "execution_count": null,
   "metadata": {},
   "outputs": [],
   "source": [
    "### Uniform distribution"
   ]
  },
  {
   "cell_type": "markdown",
   "metadata": {},
   "source": [
    "If $\\Omega$ is finite and every event $A$ is equally likely, then $p(A)$ is said to be *uniformly distributed*. The probability of each event $A$ is \n",
    "\n",
    "$$\n",
    "p(A) = \\frac{|A|}{|\\Omega|}\n",
    "$$"
   ]
  },
  {
   "cell_type": "code",
   "execution_count": null,
   "metadata": {},
   "outputs": [],
   "source": [
    "- If you flip a fair coin, is this uniformly distributed? \n",
    "- If you roll a die, is this uniformly distributed? \n",
    "- If you run an election, is is this uniformly distributed? \n",
    "- If the Buffs play a game, is this uniformly distrubuted? "
   ]
  },
  {
   "cell_type": "markdown",
   "metadata": {},
   "source": [
    "Think of a collection of events that are uniformly distributed. Think of a new example different from the above \n",
    "1. What is your process (e.g. rolling a die)?\n",
    "2. What is $\\Omega$? \n",
    "3. What is p(A) for all A? \n",
    "4. What is |A|?\n",
    "5. What is |\\Omega|?"
   ]
  }
 ],
 "metadata": {
  "kernelspec": {
   "display_name": "Python 3",
   "language": "python",
   "name": "python3"
  },
  "language_info": {
   "codemirror_mode": {
    "name": "ipython",
    "version": 3
   },
   "file_extension": ".py",
   "mimetype": "text/x-python",
   "name": "python",
   "nbconvert_exporter": "python",
   "pygments_lexer": "ipython3",
   "version": "3.8.5"
  }
 },
 "nbformat": 4,
 "nbformat_minor": 4
}

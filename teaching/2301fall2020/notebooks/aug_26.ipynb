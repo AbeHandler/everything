{
 "cells": [
  {
   "cell_type": "markdown",
   "metadata": {},
   "source": [
    "# Intro to variables types in Python"
   ]
  },
  {
   "cell_type": "markdown",
   "metadata": {},
   "source": [
    "### Number types \n",
    "\n",
    "There are two kinds of numbers in Python: integers and floating point numbers (which are also called \"floats\"). Integers represent discrete values and floats represent continous values. "
   ]
  },
  {
   "cell_type": "code",
   "execution_count": 12,
   "metadata": {},
   "outputs": [
    {
     "name": "stdout",
     "output_type": "stream",
     "text": [
      "<class 'int'> <class 'float'>\n"
     ]
    }
   ],
   "source": [
    "# Numbers in Python\n",
    "\n",
    "x = 5    # integer (discrete)\n",
    "y = 5.813  # floating point number / real number (continuous-ish)\n",
    "\n",
    "print(type(x), type(y))"
   ]
  },
  {
   "cell_type": "markdown",
   "metadata": {},
   "source": [
    "#### Question 1\n",
    "What happens if you add an integer and a float? Do you get an integer or a float? Try it in the cell below and then type in your answer below\n",
    "\n",
    "\n",
    "#### Answer\n",
    "\n",
    "[Type your answer here]"
   ]
  },
  {
   "cell_type": "code",
   "execution_count": 4,
   "metadata": {},
   "outputs": [],
   "source": [
    "# Try adding an integer and a float. What happens? Do you get an integer or a float?\n",
    "\n",
    "# Your answer here "
   ]
  },
  {
   "cell_type": "markdown",
   "metadata": {},
   "source": [
    "You can convert integers to floats and vice versa"
   ]
  },
  {
   "cell_type": "code",
   "execution_count": 5,
   "metadata": {},
   "outputs": [
    {
     "name": "stdout",
     "output_type": "stream",
     "text": [
      "5.0 6\n",
      "<class 'float'> <class 'int'>\n"
     ]
    }
   ],
   "source": [
    "x = float(x)\n",
    "y = round(y) # round to nearest integer\n",
    "\n",
    "print(x, y)\n",
    "print(type(x), type(y))"
   ]
  },
  {
   "cell_type": "markdown",
   "metadata": {},
   "source": [
    "#### Question 2\n",
    "\n",
    "What is different between the first time I called `print(type(x), type(y))` and the second time I called `print(type(x), type(y))` ? Why did the output change?\n",
    "\n",
    "#### Answer\n",
    "\n",
    "[Type your answer here]"
   ]
  },
  {
   "cell_type": "markdown",
   "metadata": {},
   "source": [
    "#### Question 3\n",
    "\n",
    "If you look up to the top of the notebook, you will see a drop down menu that allows you to select Code or Markdown. You should set the dropdown to code if you are writing code set it to markdown if you are writing natural language. Try setting this cell to code using the dropdown and try clicking run. What happens and why? \n",
    "\n",
    "#### Answer\n",
    "[Type your answer here]"
   ]
  },
  {
   "cell_type": "markdown",
   "metadata": {},
   "source": [
    "### Python also supports other discrete variable types like strings and Booleans"
   ]
  },
  {
   "cell_type": "code",
   "execution_count": 7,
   "metadata": {},
   "outputs": [],
   "source": [
    "# Other discrete variables\n",
    "\n",
    "a = 'string'\n",
    "b = True"
   ]
  },
  {
   "cell_type": "markdown",
   "metadata": {},
   "source": [
    "#### Question 4\n",
    "You need to pay attention when performing operations on variables in Python. Try running `b + 1` in a new cell in this notebook. What happens? Did you expect this?\n",
    "\n",
    "#### Answer\n",
    "\n",
    "[Type your answer here]"
   ]
  },
  {
   "cell_type": "markdown",
   "metadata": {},
   "source": [
    "### Collections\n",
    "\n",
    "In computer programming, a data structure that contains multiple items is called a collection. In this class, we will use two kinds of Python collections: lists and sets. A list can also be called an array or a vector. As we progress through this class, you will understand more about why those names for a list make sense. \n",
    "\n",
    "There are some important differences between lists and sets. \n",
    "\n",
    "One important difference between lists and sets is that lists can contain duplicates, but sets cannot"
   ]
  },
  {
   "cell_type": "code",
   "execution_count": 6,
   "metadata": {},
   "outputs": [
    {
     "name": "stdout",
     "output_type": "stream",
     "text": [
      "[1, 3, 5, 7, 7, 7, 9]\n",
      "{1, 3, 5, 7, 9}\n"
     ]
    }
   ],
   "source": [
    "# Collections (Lists and sets)\n",
    "\n",
    "odds1 = [1, 3, 5, 7, 7, 7, 9]   # This is the syntax to create a list/array/vector. Notice that you use square brackets.\n",
    "odds2 = {1, 3, 5, 7, 7, 7, 9}   # This is the syntax to create a set. Notice that you use curly brackets.\n",
    "\n",
    "print(odds1)\n",
    "print(odds2)"
   ]
  },
  {
   "cell_type": "markdown",
   "metadata": {},
   "source": [
    "#### Question 5\n",
    "What happens when you print out `odds1` and `odds2` in the cells above? Whay do you notice about repeating values in the print outs? Does that make sense?\n",
    "\n",
    "#### Answer\n",
    "\n",
    "[Type your answer here]"
   ]
  },
  {
   "cell_type": "code",
   "execution_count": 9,
   "metadata": {},
   "outputs": [
    {
     "name": "stdout",
     "output_type": "stream",
     "text": [
      "[1, 3, 5, 7, 7, 7, 9] 7\n",
      "{1, 3, 5, 7, 9} 5\n"
     ]
    }
   ],
   "source": [
    "# Use code like this to print out the length of a collection\n",
    "print(odds1, len(odds1))\n",
    "print(odds2, len(odds2))"
   ]
  },
  {
   "cell_type": "code",
   "execution_count": 19,
   "metadata": {},
   "outputs": [
    {
     "name": "stdout",
     "output_type": "stream",
     "text": [
      "<class 'list'>\n",
      "<class 'set'>\n",
      "**\n",
      "<class 'set'>\n",
      "<class 'list'>\n"
     ]
    }
   ],
   "source": [
    "# Use code like this to convert a list to a set, or convert a set to a list\n",
    "\n",
    "odds1 = [1, 3, 5, 7, 7, 7, 9]   # This is the syntax to create a list/array/vector. Notice that you use square brackets.\n",
    "odds2 = {1, 3, 5, 7, 7, 7, 9}\n",
    "\n",
    "print(type(odds1))\n",
    "odds1 = set(odds1) \n",
    "print(type(odds1))\n",
    "\n",
    "print(\"**\")\n",
    "print(type(odds2))\n",
    "odds2 = list(odds2) \n",
    "print(type(odds2))"
   ]
  },
  {
   "cell_type": "markdown",
   "metadata": {},
   "source": [
    "#### Question 6\n",
    "What is the type of the variable `odds1` at the start of the previous cell? What is the type of the variable `odds2` at the end of the previous cell? \n",
    "\n",
    "#### Answer\n",
    "\n",
    "[Type your answer here]"
   ]
  },
  {
   "cell_type": "markdown",
   "metadata": {},
   "source": [
    "#### Accessing elements of lists\n",
    "\n",
    "- In Python, you can use the syntax `MyList[x]` to access the element `x` in a list. Note that counting starts at 0 when you are accessing elements. So `MyList[0]` will return the first element in a list.\n",
    "\n",
    "- If you also use the syntax `MyList[-x]` to return the `xth` element in a list, count backward from the end"
   ]
  },
  {
   "cell_type": "code",
   "execution_count": 39,
   "metadata": {},
   "outputs": [
    {
     "name": "stdout",
     "output_type": "stream",
     "text": [
      "1 3 7 9\n"
     ]
    }
   ],
   "source": [
    "# Accessing elements of lists\n",
    "odds = [1, 3, 5, 7, 9]\n",
    "\n",
    "first = odds[0]   # first element starts at 0\n",
    "second = odds[1]   # first element starts at 1\n",
    "last = odds[-1]\n",
    "secondtolast = odds[-2]\n",
    "print(first, second, secondtolast, last)"
   ]
  },
  {
   "cell_type": "markdown",
   "metadata": {},
   "source": [
    "#### Accessing more than one elements of a list\n",
    "\n",
    "- In Python, you can use method called slicing to access more than one element from a list. The syntax is shown in the cell below."
   ]
  },
  {
   "cell_type": "code",
   "execution_count": 43,
   "metadata": {},
   "outputs": [
    {
     "name": "stdout",
     "output_type": "stream",
     "text": [
      "[1, 3, 5]\n",
      "[7, 9]\n",
      "[1, 3]\n"
     ]
    }
   ],
   "source": [
    "# Slicing \n",
    "# https://stackoverflow.com/questions/509211/understanding-slice-notation\n",
    "\n",
    "#a[start:stop]  # items start through stop-1\n",
    "#a[start:]      # items start through the rest of the array\n",
    "#a[:stop]       # items from the beginning through stop-1\n",
    "#a[:]           # a copy of the whole array\n",
    "\n",
    "\n",
    "odds = [1, 3, 5, 7, 9]\n",
    "print(odds[0:3])\n",
    "print(odds[3:])\n",
    "print(odds[:2])"
   ]
  },
  {
   "cell_type": "code",
   "execution_count": 44,
   "metadata": {},
   "outputs": [
    {
     "ename": "TypeError",
     "evalue": "'set' object is not subscriptable",
     "output_type": "error",
     "traceback": [
      "\u001b[0;31m---------------------------\u001b[0m",
      "\u001b[0;31mTypeError\u001b[0mTraceback (most recent call last)",
      "\u001b[0;32m<ipython-input-44-755bacd9bf39>\u001b[0m in \u001b[0;36m<module>\u001b[0;34m\u001b[0m\n\u001b[1;32m      3\u001b[0m \u001b[0;34m\u001b[0m\u001b[0m\n\u001b[1;32m      4\u001b[0m \u001b[0mset1\u001b[0m\u001b[0;34m=\u001b[0m\u001b[0;34m{\u001b[0m\u001b[0;36m1\u001b[0m\u001b[0;34m,\u001b[0m\u001b[0;36m3\u001b[0m\u001b[0;34m,\u001b[0m\u001b[0;36m4\u001b[0m\u001b[0;34m}\u001b[0m\u001b[0;34m\u001b[0m\u001b[0;34m\u001b[0m\u001b[0m\n\u001b[0;32m----> 5\u001b[0;31m \u001b[0mset1\u001b[0m\u001b[0;34m[\u001b[0m\u001b[0;36m0\u001b[0m\u001b[0;34m]\u001b[0m\u001b[0;34m\u001b[0m\u001b[0;34m\u001b[0m\u001b[0m\n\u001b[0m",
      "\u001b[0;31mTypeError\u001b[0m: 'set' object is not subscriptable"
     ]
    }
   ],
   "source": [
    "# Another important difference between lists and sets is that lists have an order but sets do not. \n",
    "# Notice what happens when you run the following code\n",
    "\n",
    "set1={1,3,4}\n",
    "set1[0]"
   ]
  },
  {
   "cell_type": "markdown",
   "metadata": {
    "collapsed": true
   },
   "source": [
    "### Turning in your notebook \n",
    "\n",
    "When you have completed all questions in the notebook, click \"Kernel\" on the top dropdown menu and then click \"Restart and Run All\". This will rerun all of the code in the notebook. It is a good idea to do this from time to time when using a Jupyter notebook to make sure you can easily reproduce all of your results. You definitely need to \"Restart and Run All\" before turning in your assignent, just to make sure all of the code runs. After you click \"Restart and Run All,\" scroll back up through this notebook to see if there are any errors. \n",
    "\n",
    "If there are no errors, then click File -> Download As and click PDF to save this notebook as a PDF."
   ]
  }
 ],
 "metadata": {
  "kernelspec": {
   "display_name": "Python 3",
   "language": "python",
   "name": "python3"
  },
  "language_info": {
   "codemirror_mode": {
    "name": "ipython",
    "version": 3
   },
   "file_extension": ".py",
   "mimetype": "text/x-python",
   "name": "python",
   "nbconvert_exporter": "python",
   "pygments_lexer": "ipython3",
   "version": "3.7.7"
  }
 },
 "nbformat": 4,
 "nbformat_minor": 2
}

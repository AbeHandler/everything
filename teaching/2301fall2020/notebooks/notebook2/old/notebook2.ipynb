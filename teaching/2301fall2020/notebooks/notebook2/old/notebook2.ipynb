{
 "cells": [
  {
   "cell_type": "markdown",
   "metadata": {},
   "source": [
    "### Notebook2: Sets\n",
    "\n",
    "Hello 2301 👋 Welcome to week two. \n",
    "\n",
    "This week, we are going to get more practice with sets. We are also going to practice translating between math and computer code, which is an important skill for data science. We will also learn how to write math in a Jupyter notebook."
   ]
  },
  {
   "cell_type": "code",
   "execution_count": 4,
   "metadata": {},
   "outputs": [],
   "source": [
    "# Lets go ahead and define some sets\n",
    "\n",
    "ColoradoReps = {'DeGette', 'Neguse', 'Tipton', 'Buck', 'Lamborn', 'Crow', 'Perlmutter'}\n",
    "A = {'red', 'yellow', 'blue'}\n",
    "B = {'yellow', 'blue', 'red'}\n",
    "C = {'yellow', 'blue', 'red', 'red'}\n",
    "Cheese1 = {'cheddar', 'jack', 'colby', 'brie'}\n",
    "Cheese2 = {'cheddar', 'swiss', 'american'}\n",
    "Cheese3 = {'cheddar', 'swiss'}"
   ]
  },
  {
   "cell_type": "markdown",
   "metadata": {},
   "source": [
    "### Translating between math and code\n",
    "\n",
    "In this course, and in data science in general, we can use code to implement ideas that can also be expressed in math (and vice versa). We will practice this in this notebook.\n",
    "\n",
    "For instance, we can write in math that $A$=`{red, yellow, blue}`. If you look at the cell above you can see $A$ defined in code. The math and the code are just two ways of expressing the idea that $A$ is a set with three elements: red, yellow and blue. \n",
    "\n",
    "To translate between math and code, you will need to understand how to express math in a notebook, which we do with dollar signs. For instance, to write the set $A$ you write `$A$` (double click the notebook to see how to do this).\n",
    "\n",
    "Please write the name of the set `{'yellow', 'blue', 'red'}` using math symbols. The name of the set should be the same as the name of the corresponding variable in Python. You can use the name of the set `{red, yellow, blue}` (described in this cell) as an example. Your answer should be a single capital letter in italics.\n",
    "\n",
    "**Answer**:  [Type your answer here]"
   ]
  },
  {
   "cell_type": "markdown",
   "metadata": {},
   "source": [
    "**Note.** There are lots and lots of math symbols. Many common symbols are supported in markdown. There are tons of \n",
    "[cheet sheets](https://gist.github.com/LKS90/252ac41bd4a173be35b0) out there if you don't know how to write a certain symbol. \n"
   ]
  },
  {
   "cell_type": "markdown",
   "metadata": {},
   "source": [
    "### Set properties\n",
    "Sets are a mathematical object. They are defined so that sets:\n",
    "1. Do not have order\n",
    "2. Do not have duplicates\n",
    "\n",
    "With that said do you think $A$ = $B$ and $B$ = $C$? Please explain why.\n",
    "\n",
    "[Type your answer here]"
   ]
  },
  {
   "cell_type": "code",
   "execution_count": 7,
   "metadata": {},
   "outputs": [],
   "source": [
    "# Use this cell to test if $A$ = $B$ and $B$ = $C$, using Python \n",
    "\n",
    "# [Show your code here]"
   ]
  },
  {
   "cell_type": "markdown",
   "metadata": {},
   "source": [
    "According to Python's interpretper, does $A$ = $B$ and $B$ = $C$? Did that match your predictions? Does the Python syntax make sense? \n",
    "\n",
    "[Type your answer here]\n",
    "\n",
    "**Philosophy note** It's worth pointing out that Python is not some source of eternal truth. Ultimately, *humans* define Python syntax to reflect mathematical reality. People wrote Python, and you use Python. The extent to which humans [invent](https://www.distractify.com/p/math-girl-tiktok) or [discover](https://twitter.com/JSEllenberg/status/1298749871353192448) mathematical reality (reflected in Python syntax) is an interesting question! Do not worry however. In 2301 we will stick to very established mathematical definitions."
   ]
  },
  {
   "cell_type": "code",
   "execution_count": 2,
   "metadata": {},
   "outputs": [
    {
     "name": "stdout",
     "output_type": "stream",
     "text": [
      "yellow\n",
      "red\n",
      "blue\n"
     ]
    }
   ],
   "source": [
    "## To enumerate the items in a set, you can use a for loop\n",
    "\n",
    "for a in A:\n",
    "    print(a)"
   ]
  },
  {
   "cell_type": "markdown",
   "metadata": {},
   "source": [
    "#### Cardinality \n",
    "\n",
    "The cardinality of a set is the number of elements in the set. \n",
    "\n",
    "for a in A:\n",
    "    print(a)"
   ]
  },
  {
   "cell_type": "code",
   "execution_count": 3,
   "metadata": {},
   "outputs": [
    {
     "name": "stdout",
     "output_type": "stream",
     "text": [
      "True\n",
      "False\n"
     ]
    }
   ],
   "source": [
    "print( 'red' in A )\n",
    "print( 'green' in A )"
   ]
  },
  {
   "cell_type": "code",
   "execution_count": 4,
   "metadata": {},
   "outputs": [
    {
     "name": "stdout",
     "output_type": "stream",
     "text": [
      "15\n"
     ]
    }
   ],
   "source": [
    "A = {4, 5, 6}\n",
    "print(sum(A))"
   ]
  },
  {
   "cell_type": "code",
   "execution_count": 5,
   "metadata": {},
   "outputs": [
    {
     "ename": "TypeError",
     "evalue": "'set' object does not support indexing",
     "output_type": "error",
     "traceback": [
      "\u001b[0;31m---------------------------------------------------------------------------\u001b[0m",
      "\u001b[0;31mTypeError\u001b[0m                                 Traceback (most recent call last)",
      "\u001b[0;32m<ipython-input-5-bdacb2a9d0c2>\u001b[0m in \u001b[0;36m<module>\u001b[0;34m()\u001b[0m\n\u001b[0;32m----> 1\u001b[0;31m \u001b[0mprint\u001b[0m\u001b[0;34m(\u001b[0m\u001b[0mA\u001b[0m\u001b[0;34m[\u001b[0m\u001b[0;36m0\u001b[0m\u001b[0;34m]\u001b[0m\u001b[0;34m)\u001b[0m    \u001b[0;31m# can't access specific index of set\u001b[0m\u001b[0;34m\u001b[0m\u001b[0m\n\u001b[0m",
      "\u001b[0;31mTypeError\u001b[0m: 'set' object does not support indexing"
     ]
    }
   ],
   "source": [
    "print(A[0])    # can't access specific index of set"
   ]
  },
  {
   "cell_type": "code",
   "execution_count": 6,
   "metadata": {},
   "outputs": [
    {
     "name": "stdout",
     "output_type": "stream",
     "text": [
      "['blue', 'red', 'yellow']\n",
      "blue\n"
     ]
    }
   ],
   "source": [
    "A = {'red', 'yellow', 'blue'}\n",
    "A = list(A)    # convert set to list, then you can access a specific index\n",
    "A = sorted(A)   # order alphabetically \n",
    "print(A)\n",
    "print(A[0])"
   ]
  },
  {
   "cell_type": "code",
   "execution_count": 7,
   "metadata": {},
   "outputs": [
    {
     "name": "stdout",
     "output_type": "stream",
     "text": [
      "True\n",
      "False\n"
     ]
    }
   ],
   "source": [
    "def subset(A, B):   # return True if A is a subset of B, False if A is not a subset of B\n",
    "    for a in A:\n",
    "        if a not in B:\n",
    "            return False\n",
    "    return True\n",
    "\n",
    "A = {'red', 'yellow', 'blue'}\n",
    "B = {'red', 'yellow', 'blue', 'orange'}\n",
    "\n",
    "print(subset(A, B))\n",
    "print(subset(B, A))"
   ]
  },
  {
   "cell_type": "code",
   "execution_count": null,
   "metadata": {
    "collapsed": true
   },
   "outputs": [],
   "source": [
    "A = {'red', 'yellow', 'blue'}\n",
    "B = {'green', 'blue', 'purple'}\n",
    "C = {'green', 'purple'}\n",
    "\n",
    "print(len(A))   # cardinality of A\n",
    "\n",
    "print( B.union(A) )\n",
    "print( B.intersection(A) )\n",
    "print( C.intersection(B) )\n",
    "print( C.intersection(A) )"
   ]
  },
  {
   "cell_type": "code",
   "execution_count": null,
   "metadata": {},
   "outputs": [],
   "source": [
    "\n",
    "A = set(range(10, 50+1))\n",
    "B = set(range(20, 60+1))\n",
    "\n",
    "#print(A)\n",
    "#print(B)\n",
    "\n",
    "print(len(A.intersection(B)))\n",
    "print(len(A.union(B)))"
   ]
  },
  {
   "cell_type": "code",
   "execution_count": null,
   "metadata": {},
   "outputs": [],
   "source": [
    "A = {'red', 'yellow', 'blue'}\n",
    "B = {'green', 'blue', 'purple'}\n",
    "C = {'green', 'purple'}\n",
    "\n",
    "def subset(A, B):   # return if A is a subset of B\n",
    "    return A.intersection(B) == A\n",
    "\n",
    "def subset2(A, B):   # return if A is a subset of B\n",
    "    return A.union(B) == B\n",
    "\n",
    "print(subset2(C, B))\n",
    "print(subset2(B, C))"
   ]
  },
  {
   "cell_type": "code",
   "execution_count": null,
   "metadata": {},
   "outputs": [],
   "source": [
    "def mutually_exclusive(A, B):\n",
    "    return len(A.intersection(B)) == 0\n",
    "\n",
    "print(mutually_exclusive(A, C))\n",
    "print(mutually_exclusive(A, B))"
   ]
  },
  {
   "cell_type": "code",
   "execution_count": null,
   "metadata": {},
   "outputs": [],
   "source": [
    "A = {'red', 'yellow', 'blue'}\n",
    "B = {'green', 'blue', 'purple'}\n",
    "C = {'green', 'purple'}\n",
    "\n",
    "print(A.difference(B))   # A - B\n",
    "print(B.difference(A))   # B - A"
   ]
  },
  {
   "cell_type": "code",
   "execution_count": null,
   "metadata": {},
   "outputs": [],
   "source": [
    "# Union\n",
    "\n",
    "print(set1.union(set2))\n",
    "\n",
    "def union(A, B):\n",
    "    result = set()   # initially create an empty set\n",
    "    for value in A:\n",
    "        result.add(value)\n",
    "    for value in B:\n",
    "        result.add(value)\n",
    "    return result\n",
    "\n",
    "print(union(set1, set2))\n",
    "\n",
    "print( set1.union(set2) == union(set1, set2) )\n"
   ]
  }
 ],
 "metadata": {
  "kernelspec": {
   "display_name": "Python 3",
   "language": "python",
   "name": "python3"
  },
  "language_info": {
   "codemirror_mode": {
    "name": "ipython",
    "version": 3
   },
   "file_extension": ".py",
   "mimetype": "text/x-python",
   "name": "python",
   "nbconvert_exporter": "python",
   "pygments_lexer": "ipython3",
   "version": "3.7.7"
  }
 },
 "nbformat": 4,
 "nbformat_minor": 2
}

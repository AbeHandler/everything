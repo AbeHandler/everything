{
 "cells": [
  {
   "cell_type": "code",
   "execution_count": 10,
   "metadata": {},
   "outputs": [
    {
     "name": "stdout",
     "output_type": "stream",
     "text": [
      "- product so far = 3\n",
      "- now multiplying by = 2\n",
      "- product so far = 6\n",
      "- now multiplying by = 1\n",
      "returning 6\n"
     ]
    },
    {
     "data": {
      "text/plain": [
       "6"
      ]
     },
     "execution_count": 10,
     "metadata": {},
     "output_type": "execute_result"
    }
   ],
   "source": [
    "def factorial(j):\n",
    "    '''\n",
    "    input = j\n",
    "    output = j!\n",
    "    \n",
    "    j * (j - 1) * (j - 2) .... 1\n",
    "    '''\n",
    "    product = j\n",
    "    range_ = list(range(1, j))\n",
    "    range_.sort(reverse=True)\n",
    "    for jp in range_:\n",
    "        print(\"- product so far = {}\".format(product))\n",
    "        print(\"- now multiplying by = {}\".format(jp))\n",
    "        product = product * jp\n",
    "    print(\"returning {}\".format(product))\n",
    "    return product\n",
    "        \n",
    "factorial(3)"
   ]
  },
  {
   "cell_type": "code",
   "execution_count": null,
   "metadata": {},
   "outputs": [],
   "source": []
  }
 ],
 "metadata": {
  "kernelspec": {
   "display_name": "Python 3",
   "language": "python",
   "name": "python3"
  },
  "language_info": {
   "codemirror_mode": {
    "name": "ipython",
    "version": 3
   },
   "file_extension": ".py",
   "mimetype": "text/x-python",
   "name": "python",
   "nbconvert_exporter": "python",
   "pygments_lexer": "ipython3",
   "version": "3.8.3"
  }
 },
 "nbformat": 4,
 "nbformat_minor": 4
}

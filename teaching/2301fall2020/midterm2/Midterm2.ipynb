{
 "cells": [
  {
   "cell_type": "markdown",
   "metadata": {},
   "source": [
    "### 2301 Fall 2020\n",
    "\n",
    "#### Midterm 2: probability and simulation\n",
    "\n",
    "Type your name here\n",
    "\n",
    "**Academic honesty policy** \n",
    "\n",
    "You are expected to complete your midterm on your own. You are welcome to use any course materials to complete the exam. You are not permitted to copy code or answers from other students, or copy materials you find online. I will run plagiarism checking software to detect copied work. Any violations will be considered a breach of CU Boulder's [honor code](https://www.colorado.edu/sccr/honor-code), and I will take steps to ensure accountability. \n",
    "\n",
    "It is very important to me that you complete the midterm honestly. Completing the exam honestly will help me understand what you know in order to guide the direction of the class. It will also help you gain experience with foundational concepts you will use throughout your entire career in information science. Please do not allow a short-term focus on grades to lead you to cheat, at the cost of your long-term learning. \n",
    "\n",
    "Once you have read the above statement, please type [your name here] to indicate your comittement to completing the exam on your own.\n"
   ]
  },
  {
   "cell_type": "markdown",
   "metadata": {},
   "source": [
    "## Part 1: Math\n",
    "\n",
    "_For the math questions below, you can turn in your answers as separate files (e.g. as photos of hand-written notes or as digital documents). For some questions, you can also answer in the notebook using math symbols. However, which ever method. you choose, you must label your submission clearly. Make sure I can tell which submitted file answers which question. It is a good idea to show your work and explain your reasoning to get partial credit if your answer is incorrect._\n",
    "\n",
    "### Problem\n",
    "\n",
    "You are working as a designer and product manager for a company that sells sweaters for dogs. \n",
    "- Two thirds of your customers are from the United States. One third of your customers are from Europe. \n",
    "- Customers from the United States love to buy sweaters with logos for US [football teams](https://en.wikipedia.org/wiki/American_football). Two out of ten sweaters you sell to customers in the United States has [a football team logo](https://www.coolpetstuff.com/denver-broncos-orange-pet-jersey). \n",
    "- Customers from Europe also sometimes buy sweaters with with logos for US football teams, but this is much less common. One out of fifty sweaters you sell to customers in Europe has a US football team logo on it."
   ]
  },
  {
   "cell_type": "markdown",
   "metadata": {},
   "source": [
    "#### Part 1, question 1 [5 points]\n",
    "\n",
    "What is the probability that a customer in Europe buys a sweater with the logo of a US football team on it? \n",
    "\n",
    "[Your answer here]"
   ]
  },
  {
   "cell_type": "markdown",
   "metadata": {},
   "source": [
    "#### Part 1, question 2 [5 points]\n",
    "\n",
    "Complete the tree diagram below. I have begun the diagram to help you get started. (You can print out the diagram and write by hand or label it with a computer, and then submit the file). Feel free to turn in a separate file, just make sure it is clearly labeled. Your diagram should show the probability of each leaf.\n",
    "\n",
    "![tree](https://s3-us-west-2.amazonaws.com/www.abehandler.com/resources/Tree.jpeg)\n"
   ]
  },
  {
   "cell_type": "markdown",
   "metadata": {},
   "source": [
    "#### Part 1, question 3 [5 points]\n",
    "\n",
    "Complete the sample-space diagram below. I have begun the diagram to help you get started. (You can print it out and write by hand or label it with a computer, and then submit the file). Feel free to turn in a separate file, just make sure it is clearly labeled. Your diagram should show the probability of each portion of the sample space. Remember that the values in all of the squares should sum to one.\n",
    "\n",
    "![tree](https://s3-us-west-2.amazonaws.com/www.abehandler.com/resources/state_space.jpeg)\n"
   ]
  },
  {
   "cell_type": "markdown",
   "metadata": {},
   "source": [
    "#### Part 1, question 4 [5 points]\n",
    "\n",
    "What is the law of total probability? Please write the law below using math symbols. I have included some symbols to help you get started.\n",
    "\n",
    "$p(A) = ... $  finish this expression"
   ]
  },
  {
   "cell_type": "markdown",
   "metadata": {},
   "source": [
    "#### Part 1, question 5 [10 points]\n",
    "\n",
    "Let $F$ be the event that a customer buys a sweater with the logo of a US football team. Let $E$ be the event that a customer is from Europe. Let $U$ be the the event that a customer is from the US. \n",
    "\n",
    "Apply the law of total probability to calculate $p(F)$. I have included some symbols to help you get started. Your answer should be a number between 0 and 1. **To receive full credit you must apply the law of total probability and show your work.**\n",
    "\n",
    "\n",
    "- $p(F) = p(F|U)p(U) + ... $\n",
    "\n",
    "- [Your reasoning goes here]\n",
    "\n",
    "\n",
    "- The probability is equal to = [Your answer here]"
   ]
  },
  {
   "cell_type": "markdown",
   "metadata": {},
   "source": [
    "## Part 2: Simulation [20 points]\n",
    "\n",
    "_I have started code to simulate customers and their purchases below. Your job is to finish the code so that it prints out $p(F)$, the probability that a customer (in the US or in Europe) buys a sweater with a US football team logo. When you download this file, the last line will print out zero, which is incorrect. You will need to update this line to print out p(F)._ \n",
    "\n",
    "**To get partial credit, please add comments explaining what each line of code does, and explaining any changes you make to the code.**"
   ]
  },
  {
   "cell_type": "code",
   "execution_count": 2,
   "metadata": {},
   "outputs": [
    {
     "name": "stdout",
     "output_type": "stream",
     "text": [
      "The probability of a customer buying a sweater with a football logo is ...\n",
      "0.0\n"
     ]
    }
   ],
   "source": [
    "from random import random\n",
    "\n",
    "probsCustomerLocation = {\"US\": 2/3, \"Europe\": 1/3}\n",
    "probsBuyFootballSweater = {\"US\": 2/10, \"Europe\": 1/50}\n",
    "\n",
    "def drawCustomer(probsCustomerLocation):\n",
    "    '''\n",
    "    Please finish this method. You should return either \"US\" or \"Europe\"\n",
    "    '''\n",
    "    draw = random()\n",
    "    output = None\n",
    "    if draw < probsCustomerLocation[\"US\"]:\n",
    "        pass # you will have to change this line \n",
    "    else:\n",
    "        pass # you will have to change this line \n",
    "    return output\n",
    "\n",
    "def drawSweaterPurchase(customer_in_us, probsBuyFootballSweater):\n",
    "    '''\n",
    "    Change the last line of this method to return \"Football\" or \"No football\"\n",
    "    '''\n",
    "    draw = random()\n",
    "\n",
    "    if customer_in_us:\n",
    "        prob = probsBuyFootballSweater[\"US\"]\n",
    "    else:\n",
    "        prob = probsBuyFootballSweater[\"Europe\"]\n",
    "\n",
    "    output = \"No football\" \n",
    "    \n",
    "    ## Your code goes here\n",
    "    ## You should return \"Football or No Football, based on the draw\"\n",
    "    \n",
    "    return output\n",
    "\n",
    "samples = 100000\n",
    "sweaters = 0\n",
    "\n",
    "for i in range(samples):\n",
    "    customer = drawCustomer(probsCustomerLocation)\n",
    "    if customer == \"US\":\n",
    "        customer_in_us = True\n",
    "    else:\n",
    "        customer_in_us = False\n",
    "    footballSweater = drawSweaterPurchase(customer_in_us, probsBuyFootballSweater)\n",
    "    ## Your code here to help compute the probability \n",
    "\n",
    "\n",
    "probability = sweaters/samples\n",
    "\n",
    "# Print your final answer here. Your answer should be very similar to your answer \n",
    "# from part 1, question 5. When you download the file the code outputs 0, which is incorrect\n",
    "print(\"The probability of a customer buying a sweater with a football logo is ...\")\n",
    "print(probability)"
   ]
  }
 ],
 "metadata": {
  "kernelspec": {
   "display_name": "Python 3",
   "language": "python",
   "name": "python3"
  },
  "language_info": {
   "codemirror_mode": {
    "name": "ipython",
    "version": 3
   },
   "file_extension": ".py",
   "mimetype": "text/x-python",
   "name": "python",
   "nbconvert_exporter": "python",
   "pygments_lexer": "ipython3",
   "version": "3.8.5"
  }
 },
 "nbformat": 4,
 "nbformat_minor": 4
}

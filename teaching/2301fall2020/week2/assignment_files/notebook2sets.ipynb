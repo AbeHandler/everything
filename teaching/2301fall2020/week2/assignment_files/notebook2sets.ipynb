{
 "cells": [
  {
   "cell_type": "markdown",
   "metadata": {},
   "source": [
    "### Notebook2\n",
    "\n",
    "Hello 2301 ... 👋. Welcome to week two. \n",
    "\n",
    "In this notebook, we will:\n",
    "\n",
    "1. Practice with sets\n",
    "2. Practice translating between math and computer code, which is an important skill for data science\n",
    "3. Learn how to write math in a Jupyter notebook\n",
    "4. Learn about and try out unit testing"
   ]
  },
  {
   "cell_type": "code",
   "execution_count": 1,
   "metadata": {},
   "outputs": [],
   "source": [
    "# Lets go ahead and define some sets\n",
    "\n",
    "ColoradoHouseOfReps = {'DeGette', 'Neguse', 'Tipton', 'Buck', 'Lamborn', 'Crow', 'Perlmutter'}\n",
    "\n",
    "A = {'red', 'yellow', 'blue'}\n",
    "B = {'yellow', 'blue', 'red'}\n",
    "C = {'yellow', 'blue', 'red', 'red'}\n",
    "\n",
    "Cheese1 = {'cheddar', 'jack', 'colby', 'brie'}\n",
    "Cheese2 = {'cheddar', 'swiss', 'american'}\n",
    "Cheese3 = {'cheddar', 'swiss'}"
   ]
  },
  {
   "cell_type": "markdown",
   "metadata": {},
   "source": [
    "### Translating between math and code\n",
    "\n",
    "In data science, we use code to implement ideas from math (and vice versa). We will practice this in this notebook, and all the rest of the semester.\n",
    "\n",
    "For instance, we can write in math that the set $A$=`{red, yellow, blue}`. If you look at the cell above you can see a variable `A` defined in code. \n",
    "\n",
    "The math symbol $A$ and the Python variable `A` are just two ways of expressing the idea that $A$ is a set with three elements: red, yellow and blue.\n",
    "\n",
    "To translate between math and code, you will need to understand how to express math in a notebook, which we do with dollar signs. For instance, to write the set $A$ you write `$A$` (double click the notebook to see how to do this).\n",
    "\n",
    "Please write the name of the set `{'yellow', 'blue', 'red'}` below using math symbols. The name of the set should be the same as the name of the corresponding variable in Python. \n",
    "\n",
    "Your answer to this question should be a single capital letter in italics.\n",
    "\n",
    "**Answer**:  [Type your answer here]"
   ]
  },
  {
   "cell_type": "markdown",
   "metadata": {},
   "source": [
    "**Note.** There are lots and lots of math symbols. Many common symbols are supported in markdown. There are tons of \n",
    "[cheet sheets](https://gist.github.com/LKS90/252ac41bd4a173be35b0) out there if you don't know how to write a certain symbol. \n"
   ]
  },
  {
   "cell_type": "markdown",
   "metadata": {},
   "source": [
    "### Set properties\n",
    "Sets are a mathematical object. They are defined so that sets:\n",
    "1. Do not have order\n",
    "2. Do not have duplicates\n",
    "\n",
    "With that said, looking at the definitions of variables `A`, `B` and `C` in Python code above, do you think $A$ = $B$ and $B$ = $C$? Please explain why.\n",
    "\n",
    "[Type your answer here]"
   ]
  },
  {
   "cell_type": "code",
   "execution_count": 2,
   "metadata": {},
   "outputs": [],
   "source": [
    "# Use this cell to test if $A$ = $B$ and $B$ = $C$, using Python \n",
    "\n",
    "# [Show your code here]"
   ]
  },
  {
   "cell_type": "markdown",
   "metadata": {},
   "source": [
    "According to Python's [interpreter](https://en.wikipedia.org/wiki/Interpreter_(computing)), does $A$ = $B$ and $B$ = $C$? Does Python's behavior match what you expected?\n",
    "\n",
    "[Type your answer here]\n",
    "\n",
    "**Philosophy note** It's worth pointing out that Python's interpreter is not some source of eternal truth. Ultimately, *humans* define Python syntax to reflect mathematical reality. People wrote Python, and you use Python. The extent to which humans [invent](https://www.distractify.com/p/math-girl-tiktok) or [discover](https://twitter.com/JSEllenberg/status/1298749871353192448) mathematical truth (which then gets implemented in Python) is an interesting question! Do not worry, however. In 2301 we will stick to very established mathematical definitions!"
   ]
  },
  {
   "cell_type": "code",
   "execution_count": 3,
   "metadata": {},
   "outputs": [
    {
     "name": "stdout",
     "output_type": "stream",
     "text": [
      "blue\n",
      "yellow\n",
      "red\n"
     ]
    }
   ],
   "source": [
    "## To enumerate the items in a set, you can use a for loop\n",
    "\n",
    "for a in A:\n",
    "    print(a)"
   ]
  },
  {
   "cell_type": "markdown",
   "metadata": {},
   "source": [
    "#### About unit tests \n",
    "Unit tests are small programs that test the behavior of software. They are common in software engineering, because they can help you be certain your code does what it is supposed to do. In 2301, we will use them to get feedback on our code as we work on the notebooks. Down the line, I will also use them to autograde your submissions. But first let's understand how they work. Open up `settests.py` and `setops.py`. Then run `settests.py` with `$pytest settests.py` in your terminal. What happens? Why do you think that is? You will have to install [pytest](https://docs.pytest.org/en/stable/assert.html) to complete this question.\n",
    "\n",
    "[Type your answer here]"
   ]
  },
  {
   "cell_type": "markdown",
   "metadata": {},
   "source": [
    "#### Cardinality \n",
    "\n",
    "The cardinality of a set is the number of elements in the set. Use `setops.py` to implement a cardinality function. The setops function should return an integer equal to the number of elements in a set."
   ]
  },
  {
   "cell_type": "code",
   "execution_count": 4,
   "metadata": {},
   "outputs": [
    {
     "ename": "AssertionError",
     "evalue": "",
     "output_type": "error",
     "traceback": [
      "\u001b[0;31m---------------------------------------------------\u001b[0m",
      "\u001b[0;31mAssertionError\u001b[0m    Traceback (most recent call last)",
      "\u001b[0;32m<ipython-input-4-bc80ee74bf33>\u001b[0m in \u001b[0;36m<module>\u001b[0;34m\u001b[0m\n\u001b[1;32m      1\u001b[0m \u001b[0;32mfrom\u001b[0m \u001b[0msetops\u001b[0m \u001b[0;32mimport\u001b[0m \u001b[0mcardinality\u001b[0m\u001b[0;34m\u001b[0m\u001b[0;34m\u001b[0m\u001b[0m\n\u001b[0;32m----> 2\u001b[0;31m \u001b[0;32massert\u001b[0m \u001b[0mcardinality\u001b[0m\u001b[0;34m(\u001b[0m\u001b[0mCheese1\u001b[0m\u001b[0;34m)\u001b[0m \u001b[0;34m==\u001b[0m \u001b[0;36m4\u001b[0m\u001b[0;34m\u001b[0m\u001b[0;34m\u001b[0m\u001b[0m\n\u001b[0m",
      "\u001b[0;31mAssertionError\u001b[0m: "
     ]
    }
   ],
   "source": [
    "from setops import cardinality\n",
    "assert cardinality(Cheese1) == 4"
   ]
  },
  {
   "cell_type": "markdown",
   "metadata": {},
   "source": [
    "Note that cardinality can be infinite. For instance, say you go to the doctor and they take your temperature. Let $T$ equal all of the possible measurements from the thermometer. \n",
    "\n",
    "Is the cardinality of $T$ finite or infinite? \n",
    "\n",
    "[Type your answer here]\n",
    "\n",
    "Is $T$ a discrete or continuous measurement? \n",
    "\n",
    "[Type your answer here]"
   ]
  },
  {
   "cell_type": "markdown",
   "metadata": {},
   "source": [
    "Run `$pytest settests.py` again, after finishing your cardinality function. What happens? Did something change? Why do you think that is? \n",
    "\n",
    "\n",
    "[Type your answer here]"
   ]
  },
  {
   "cell_type": "code",
   "execution_count": null,
   "metadata": {},
   "outputs": [],
   "source": [
    "#### You can use Python to learn if something is an element of a set\n",
    "print(A)\n",
    "print('red' in A )\n",
    "print('green' in A )"
   ]
  },
  {
   "cell_type": "markdown",
   "metadata": {},
   "source": [
    "Use math to express that 'red' is in A. Hint: use the $\\in$ symbol\n",
    "\n",
    "[Type your answer here]"
   ]
  },
  {
   "cell_type": "code",
   "execution_count": null,
   "metadata": {},
   "outputs": [],
   "source": [
    "## You can also compute the sum of a set like this\n",
    "A = {4, 5, 6}\n",
    "print(sum(A))"
   ]
  },
  {
   "cell_type": "code",
   "execution_count": null,
   "metadata": {},
   "outputs": [],
   "source": [
    "## If you need to access a set by index, you can convert it to a list. Lists have order, sets do not. \n",
    "\n",
    "A = {'red', 'yellow', 'blue'}\n",
    "A = list(A)    # convert set to list, then you can access a specific index\n",
    "A = sorted(A)   # order alphabetically \n",
    "print(A)\n",
    "print(A[0])"
   ]
  },
  {
   "cell_type": "code",
   "execution_count": null,
   "metadata": {},
   "outputs": [],
   "source": [
    "#### Python comes with built-in union and intersection functions\n",
    "\n",
    "A = {'red', 'yellow', 'blue'}\n",
    "B = {'green', 'blue', 'purple'}\n",
    "C = {'green', 'purple'}\n",
    "\n",
    "# Statement 1\n",
    "print( B.union(A) )\n",
    "\n",
    "# Statement 2\n",
    "print( B.intersection(A) )\n",
    "\n",
    "# Statement 3\n",
    "print( C.intersection(B) )\n",
    "\n",
    "# Statement 4\n",
    "print( C.intersection(A) )"
   ]
  },
  {
   "cell_type": "markdown",
   "metadata": {},
   "source": [
    "Translate statements 1, 2, 3 and 4 into math using the $\\cup$ and $\\cap$ symbols.\n",
    "\n",
    "[Statement 1, type your answer here]\n",
    "\n",
    "[Statement 2, type your answer here]\n",
    "\n",
    "[Statement 3, type your answer here]\n",
    "\n",
    "[Statement 4, type your answer here]"
   ]
  },
  {
   "cell_type": "code",
   "execution_count": null,
   "metadata": {},
   "outputs": [],
   "source": [
    "from setops import subset\n",
    "\n",
    "A = {'red', 'yellow', 'blue'}\n",
    "B = {'red', 'yellow', 'blue', 'orange'}\n",
    "\n",
    "# TODO: implement the subset function in setops.py\n",
    "\n",
    "assert subset(A, B) == True\n",
    "assert subset(B, A) == False"
   ]
  }
 ],
 "metadata": {
  "kernelspec": {
   "display_name": "Python 3",
   "language": "python",
   "name": "python3"
  },
  "language_info": {
   "codemirror_mode": {
    "name": "ipython",
    "version": 3
   },
   "file_extension": ".py",
   "mimetype": "text/x-python",
   "name": "python",
   "nbconvert_exporter": "python",
   "pygments_lexer": "ipython3",
   "version": "3.8.5"
  }
 },
 "nbformat": 4,
 "nbformat_minor": 2
}

{
 "cells": [
  {
   "cell_type": "code",
   "execution_count": 30,
   "metadata": {
    "collapsed": false
   },
   "outputs": [
    {
     "name": "stdout",
     "output_type": "stream",
     "text": [
      "0.17\n",
      "0.16666666666666666\n"
     ]
    }
   ],
   "source": [
    "import random\n",
    "\n",
    "die = [1, 2, 3, 4, 5, 6]\n",
    "\n",
    "# Law of Large Numbers\n",
    "number_of_times = 0\n",
    "for i in range(1000):\n",
    "    outcome = random.choice(die)\n",
    "    if outcome == 2:\n",
    "        number_of_times += 1\n",
    "    #print(outcome)\n",
    "print(number_of_times / 1000)\n",
    "print(1 / 6)"
   ]
  },
  {
   "cell_type": "code",
   "execution_count": 45,
   "metadata": {
    "collapsed": false
   },
   "outputs": [
    {
     "name": "stdout",
     "output_type": "stream",
     "text": [
      "3.37\n"
     ]
    }
   ],
   "source": [
    "import random\n",
    "\n",
    "die = [1, 2, 3, 4, 5, 6]\n",
    "\n",
    "# Expected Value\n",
    "total = 0\n",
    "for i in range(100):\n",
    "    outcome = random.choice(die)\n",
    "    total += outcome\n",
    "average = total / 100\n",
    "\n",
    "print(average)"
   ]
  },
  {
   "cell_type": "code",
   "execution_count": 48,
   "metadata": {
    "collapsed": false
   },
   "outputs": [
    {
     "name": "stdout",
     "output_type": "stream",
     "text": [
      "6.999961\n"
     ]
    }
   ],
   "source": [
    "import random\n",
    "\n",
    "die1 = [1, 2, 3, 4, 5, 6]\n",
    "die2 = [1, 2, 3, 4, 5, 6]\n",
    "\n",
    "# Expected Value\n",
    "total = 0\n",
    "for i in range(1000000):\n",
    "    outcome1 = random.choice(die1)\n",
    "    outcome2 = random.choice(die2)\n",
    "    \n",
    "    total += outcome1 + outcome2\n",
    "average = total / 1000000\n",
    "\n",
    "print(average)"
   ]
  },
  {
   "cell_type": "code",
   "execution_count": null,
   "metadata": {
    "collapsed": true
   },
   "outputs": [],
   "source": []
  }
 ],
 "metadata": {
  "kernelspec": {
   "display_name": "Python 3",
   "language": "python",
   "name": "python3"
  },
  "language_info": {
   "codemirror_mode": {
    "name": "ipython",
    "version": 3
   },
   "file_extension": ".py",
   "mimetype": "text/x-python",
   "name": "python",
   "nbconvert_exporter": "python",
   "pygments_lexer": "ipython3",
   "version": "3.5.1"
  }
 },
 "nbformat": 4,
 "nbformat_minor": 2
}

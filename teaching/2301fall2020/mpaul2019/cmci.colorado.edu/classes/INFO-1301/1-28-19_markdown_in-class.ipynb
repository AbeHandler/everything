{
 "cells": [
  {
   "cell_type": "markdown",
   "metadata": {},
   "source": [
    "This is *italic* text, this is **bold** text\n",
    "\n",
    "Bulleted lists:\n",
    "- Item 1\n",
    "- Item 2\n",
    "- Item 3"
   ]
  },
  {
   "cell_type": "markdown",
   "metadata": {},
   "source": [
    "## Math mode in Markdown/Latex\n",
    "\n",
    "$1+2=3$\n",
    "\n",
    "$x + y = z$\n",
    "\n",
    "$x \\times y$\n",
    "\n",
    "$\\sqrt{x + y} + z$\n",
    "\n",
    "$\\alpha, \\beta, \\sigma, \\Sigma$\n",
    "\n",
    "$\\sum$"
   ]
  },
  {
   "cell_type": "markdown",
   "metadata": {},
   "source": [
    "### Subscripts and superscripts\n",
    "\n",
    "$x_{ij_{abc}}$ \n",
    "\n",
    "$x^{2}$\n",
    "\n",
    "$\\sum_{i=1}^{N}$\n",
    "\n",
    "$||\\vec{x}|| = \\sum_{i=1}^{N} x_{i}^{2}$ or \n",
    "$||\\mathbf{x}|| = \\sum_{i=1}^{N} x_{i}^{2}$\n",
    "\n",
    "$\\bar{x} = \\frac{1}{N} \\sum_{i=1}^{N} x_{i}$"
   ]
  },
  {
   "cell_type": "code",
   "execution_count": null,
   "metadata": {
    "collapsed": true
   },
   "outputs": [],
   "source": []
  }
 ],
 "metadata": {
  "kernelspec": {
   "display_name": "Python 3",
   "language": "python",
   "name": "python3"
  },
  "language_info": {
   "codemirror_mode": {
    "name": "ipython",
    "version": 3
   },
   "file_extension": ".py",
   "mimetype": "text/x-python",
   "name": "python",
   "nbconvert_exporter": "python",
   "pygments_lexer": "ipython3",
   "version": "3.5.1"
  }
 },
 "nbformat": 4,
 "nbformat_minor": 2
}

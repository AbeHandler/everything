{
 "cells": [
  {
   "cell_type": "code",
   "execution_count": 7,
   "metadata": {
    "collapsed": false
   },
   "outputs": [
    {
     "name": "stdout",
     "output_type": "stream",
     "text": [
      "Union(A,B) =  {'green', 'blue', 'yellow', 'orange', 'red'}\n",
      "Intersection(A,B) =  {'red'}\n",
      "Complement(A) =  {'yellow', 'purple', 'orange'}\n"
     ]
    }
   ],
   "source": [
    "colors = {'red', 'orange', 'yellow', 'green', 'blue', 'purple'}\n",
    "\n",
    "A = {'red', 'green', 'blue'}\n",
    "B = {'red', 'orange', 'yellow'}\n",
    "\n",
    "union = set()\n",
    "for color in colors:\n",
    "    if color in A or color in B:     # Union is related to OR\n",
    "        union.add(color)\n",
    "print(\"Union(A,B) = \", union)\n",
    "\n",
    "intersection = set()\n",
    "for color in colors:\n",
    "    if color in A and color in B:     # Intersection is related to AND\n",
    "        intersection.add(color)\n",
    "print(\"Intersection(A,B) = \", intersection)\n",
    "\n",
    "complement = set()\n",
    "for color in colors:\n",
    "    if not (color in A):     # Complement is related to NOT\n",
    "        complement.add(color)\n",
    "print(\"Complement(A) = \", complement)"
   ]
  },
  {
   "cell_type": "code",
   "execution_count": null,
   "metadata": {
    "collapsed": true
   },
   "outputs": [],
   "source": []
  }
 ],
 "metadata": {
  "kernelspec": {
   "display_name": "Python 3",
   "language": "python",
   "name": "python3"
  },
  "language_info": {
   "codemirror_mode": {
    "name": "ipython",
    "version": 3
   },
   "file_extension": ".py",
   "mimetype": "text/x-python",
   "name": "python",
   "nbconvert_exporter": "python",
   "pygments_lexer": "ipython3",
   "version": "3.5.1"
  }
 },
 "nbformat": 4,
 "nbformat_minor": 2
}

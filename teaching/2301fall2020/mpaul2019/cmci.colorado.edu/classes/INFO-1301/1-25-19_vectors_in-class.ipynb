{
 "cells": [
  {
   "cell_type": "code",
   "execution_count": 4,
   "metadata": {
    "collapsed": false
   },
   "outputs": [
    {
     "name": "stdout",
     "output_type": "stream",
     "text": [
      "[1, 2, 3, 4, 5, 6]\n",
      "string1string2\n",
      "s\n"
     ]
    }
   ],
   "source": [
    "# Concatenation\n",
    "\n",
    "x = [1, 2, 3]\n",
    "y = [4, 5, 6]\n",
    "\n",
    "z = x + y\n",
    "\n",
    "print(z)\n",
    "\n",
    "a = 'string1'\n",
    "b = 'string2'\n",
    "c = a + b\n",
    "print(c)\n",
    "print(a[0])   # strings are actually implemented as lists!"
   ]
  },
  {
   "cell_type": "code",
   "execution_count": 9,
   "metadata": {
    "collapsed": false
   },
   "outputs": [
    {
     "name": "stdout",
     "output_type": "stream",
     "text": [
      "[5, 7, 9]\n",
      "[0, 0]\n"
     ]
    }
   ],
   "source": [
    "# Addition\n",
    "\n",
    "x = [1, 2, 3]\n",
    "y = [4, 5, 6]\n",
    "\n",
    "# z = x + y (vector addition)\n",
    "# z = [5, 7, 9]\n",
    "z = [x[0] + y[0], x[1] + y[1], x[2] + y[2]]\n",
    "print(z)\n",
    "\n",
    "# General purpose approach using loops\n",
    "def add(x, y):\n",
    "    z = []\n",
    "    for i in range(len(x)):    # assume x and y are same length\n",
    "        z.append(x[i] + y[i])\n",
    "    return z\n",
    "        \n",
    "print(add([-1, -1], [1, 1]))"
   ]
  },
  {
   "cell_type": "code",
   "execution_count": 13,
   "metadata": {
    "collapsed": false
   },
   "outputs": [
    {
     "name": "stdout",
     "output_type": "stream",
     "text": [
      "6\n",
      "0\n",
      "25\n"
     ]
    }
   ],
   "source": [
    "# Summation\n",
    "\n",
    "x = [1, 2, 3]\n",
    "print(sum(x))    # 1 + 2 + 3\n",
    "\n",
    "x = [-1, -2, 3]\n",
    "print(sum(x))    # -1 + -2 + 3\n",
    "\n",
    "x = [10, 10, 5]\n",
    "total = 0\n",
    "for i in range(len(x)):\n",
    "    total += x[i]     # total = total + x[i]\n",
    "print(total)"
   ]
  },
  {
   "cell_type": "code",
   "execution_count": 17,
   "metadata": {
    "collapsed": false
   },
   "outputs": [
    {
     "name": "stdout",
     "output_type": "stream",
     "text": [
      "3.7416573867739413\n"
     ]
    }
   ],
   "source": [
    "# Magnitude\n",
    "\n",
    "from math import sqrt\n",
    "\n",
    "sqrt(2)\n",
    "\n",
    "def magnitude(x):\n",
    "    total = 0\n",
    "    for i in range(len(x)):\n",
    "        total += pow(x[i], 2)  # or x[i]*x[i] or x[i]**2\n",
    "    return sqrt(total)\n",
    "\n",
    "print(magnitude([1, 2, 3]))"
   ]
  },
  {
   "cell_type": "code",
   "execution_count": null,
   "metadata": {
    "collapsed": true
   },
   "outputs": [],
   "source": []
  }
 ],
 "metadata": {
  "kernelspec": {
   "display_name": "Python 3",
   "language": "python",
   "name": "python3"
  },
  "language_info": {
   "codemirror_mode": {
    "name": "ipython",
    "version": 3
   },
   "file_extension": ".py",
   "mimetype": "text/x-python",
   "name": "python",
   "nbconvert_exporter": "python",
   "pygments_lexer": "ipython3",
   "version": "3.5.1"
  }
 },
 "nbformat": 4,
 "nbformat_minor": 2
}

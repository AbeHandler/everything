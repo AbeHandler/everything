{
 "cells": [
  {
   "cell_type": "code",
   "execution_count": 1,
   "metadata": {
    "collapsed": true
   },
   "outputs": [],
   "source": [
    "from random import choice\n",
    "\n",
    "S = {1, 2, 3, 4, 5, 6}  # Sample space for 6-sided die\n",
    "A = {1, 3, 5} \n",
    "B = {2, 4, 6}  # disjoint from A (nothing in common)\n",
    "C = {1, 2, 3}  # not disjoint from A"
   ]
  },
  {
   "cell_type": "code",
   "execution_count": 4,
   "metadata": {
    "collapsed": false
   },
   "outputs": [
    {
     "name": "stdout",
     "output_type": "stream",
     "text": [
      "0.3351\n"
     ]
    }
   ],
   "source": [
    "# Simulation to calculate P(A and C)\n",
    "numerator = 0\n",
    "denominator = 10000\n",
    "for i in range(denominator):\n",
    "    sample = choice(list(S))\n",
    "    if sample in A and sample in C:\n",
    "        numerator += 1\n",
    "print(numerator / denominator)"
   ]
  },
  {
   "cell_type": "code",
   "execution_count": 5,
   "metadata": {
    "collapsed": false
   },
   "outputs": [
    {
     "name": "stdout",
     "output_type": "stream",
     "text": [
      "0.2496\n"
     ]
    }
   ],
   "source": [
    "# Independence\n",
    "numerator = 0\n",
    "denominator = 10000\n",
    "for i in range(denominator):\n",
    "    sample1 = choice(list(S))\n",
    "    sample2 = choice(list(S))\n",
    "    if sample1 in A and sample2 in A:\n",
    "        numerator += 1\n",
    "print(numerator / denominator)"
   ]
  },
  {
   "cell_type": "code",
   "execution_count": 7,
   "metadata": {
    "collapsed": false
   },
   "outputs": [
    {
     "name": "stdout",
     "output_type": "stream",
     "text": [
      "0.4977\n"
     ]
    }
   ],
   "source": [
    "# Marginalization   (read section 2.2 of textbook)\n",
    "numerator = 0\n",
    "denominator = 10000\n",
    "for i in range(denominator):\n",
    "    sample1 = choice(list(S))\n",
    "    sample2 = choice(list(S))\n",
    "    if (sample1 in A and sample2 in A) or (sample1 in A and sample2 not in A):\n",
    "        numerator += 1\n",
    "print(numerator / denominator)"
   ]
  },
  {
   "cell_type": "code",
   "execution_count": null,
   "metadata": {
    "collapsed": true
   },
   "outputs": [],
   "source": []
  },
  {
   "cell_type": "code",
   "execution_count": null,
   "metadata": {
    "collapsed": true
   },
   "outputs": [],
   "source": []
  }
 ],
 "metadata": {
  "kernelspec": {
   "display_name": "Python 3",
   "language": "python",
   "name": "python3"
  },
  "language_info": {
   "codemirror_mode": {
    "name": "ipython",
    "version": 3
   },
   "file_extension": ".py",
   "mimetype": "text/x-python",
   "name": "python",
   "nbconvert_exporter": "python",
   "pygments_lexer": "ipython3",
   "version": "3.5.1"
  }
 },
 "nbformat": 4,
 "nbformat_minor": 2
}

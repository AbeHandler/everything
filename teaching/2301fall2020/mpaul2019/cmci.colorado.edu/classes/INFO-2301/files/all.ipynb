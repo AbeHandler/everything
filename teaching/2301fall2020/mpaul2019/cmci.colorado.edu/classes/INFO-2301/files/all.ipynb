{
 "cells": [
  {
   "cell_type": "code",
   "execution_count": 1,
   "metadata": {},
   "outputs": [
    {
     "name": "stdout",
     "output_type": "stream",
     "text": [
      "{'yellow', 'red', 'blue'}\n",
      "{'yellow', 'red', 'blue'}\n",
      "{'yellow', 'red', 'blue'}\n"
     ]
    }
   ],
   "source": [
    "A = {'red', 'yellow', 'blue'}\n",
    "B = {'yellow', 'blue', 'red'}\n",
    "C = {'yellow', 'blue', 'red', 'red'}\n",
    "\n",
    "print(A)\n",
    "print(B)\n",
    "print(C)\n",
    "\n",
    "# These are all the same set! No order, no duplicates"
   ]
  },
  {
   "cell_type": "code",
   "execution_count": 2,
   "metadata": {},
   "outputs": [
    {
     "name": "stdout",
     "output_type": "stream",
     "text": [
      "yellow\n",
      "red\n",
      "blue\n"
     ]
    }
   ],
   "source": [
    "for a in A:\n",
    "    print(a)"
   ]
  },
  {
   "cell_type": "code",
   "execution_count": 3,
   "metadata": {},
   "outputs": [
    {
     "name": "stdout",
     "output_type": "stream",
     "text": [
      "True\n",
      "False\n"
     ]
    }
   ],
   "source": [
    "print( 'red' in A )\n",
    "print( 'green' in A )"
   ]
  },
  {
   "cell_type": "code",
   "execution_count": 4,
   "metadata": {},
   "outputs": [
    {
     "name": "stdout",
     "output_type": "stream",
     "text": [
      "15\n"
     ]
    }
   ],
   "source": [
    "A = {4, 5, 6}\n",
    "print(sum(A))"
   ]
  },
  {
   "cell_type": "code",
   "execution_count": 5,
   "metadata": {},
   "outputs": [
    {
     "ename": "TypeError",
     "evalue": "'set' object does not support indexing",
     "output_type": "error",
     "traceback": [
      "\u001b[0;31m---------------------------------------------------------------------------\u001b[0m",
      "\u001b[0;31mTypeError\u001b[0m                                 Traceback (most recent call last)",
      "\u001b[0;32m<ipython-input-5-bdacb2a9d0c2>\u001b[0m in \u001b[0;36m<module>\u001b[0;34m()\u001b[0m\n\u001b[0;32m----> 1\u001b[0;31m \u001b[0mprint\u001b[0m\u001b[0;34m(\u001b[0m\u001b[0mA\u001b[0m\u001b[0;34m[\u001b[0m\u001b[0;36m0\u001b[0m\u001b[0;34m]\u001b[0m\u001b[0;34m)\u001b[0m    \u001b[0;31m# can't access specific index of set\u001b[0m\u001b[0;34m\u001b[0m\u001b[0m\n\u001b[0m",
      "\u001b[0;31mTypeError\u001b[0m: 'set' object does not support indexing"
     ]
    }
   ],
   "source": [
    "print(A[0])    # can't access specific index of set"
   ]
  },
  {
   "cell_type": "code",
   "execution_count": 6,
   "metadata": {},
   "outputs": [
    {
     "name": "stdout",
     "output_type": "stream",
     "text": [
      "['blue', 'red', 'yellow']\n",
      "blue\n"
     ]
    }
   ],
   "source": [
    "A = {'red', 'yellow', 'blue'}\n",
    "A = list(A)    # convert set to list, then you can access a specific index\n",
    "A = sorted(A)   # order alphabetically \n",
    "print(A)\n",
    "print(A[0])"
   ]
  },
  {
   "cell_type": "code",
   "execution_count": 7,
   "metadata": {},
   "outputs": [
    {
     "name": "stdout",
     "output_type": "stream",
     "text": [
      "True\n",
      "False\n"
     ]
    }
   ],
   "source": [
    "def subset(A, B):   # return True if A is a subset of B, False if A is not a subset of B\n",
    "    for a in A:\n",
    "        if a not in B:\n",
    "            return False\n",
    "    return True\n",
    "\n",
    "A = {'red', 'yellow', 'blue'}\n",
    "B = {'red', 'yellow', 'blue', 'orange'}\n",
    "\n",
    "print(subset(A, B))\n",
    "print(subset(B, A))"
   ]
  },
  {
   "cell_type": "code",
   "execution_count": null,
   "metadata": {
    "collapsed": true
   },
   "outputs": [],
   "source": [
    "A = {'red', 'yellow', 'blue'}\n",
    "B = {'green', 'blue', 'purple'}\n",
    "C = {'green', 'purple'}\n",
    "\n",
    "print(len(A))   # cardinality of A\n",
    "\n",
    "print( B.union(A) )\n",
    "print( B.intersection(A) )\n",
    "print( C.intersection(B) )\n",
    "print( C.intersection(A) )"
   ]
  },
  {
   "cell_type": "code",
   "execution_count": null,
   "metadata": {},
   "outputs": [],
   "source": [
    "\n",
    "A = set(range(10, 50+1))\n",
    "B = set(range(20, 60+1))\n",
    "\n",
    "#print(A)\n",
    "#print(B)\n",
    "\n",
    "print(len(A.intersection(B)))\n",
    "print(len(A.union(B)))"
   ]
  },
  {
   "cell_type": "code",
   "execution_count": null,
   "metadata": {},
   "outputs": [],
   "source": [
    "A = {'red', 'yellow', 'blue'}\n",
    "B = {'green', 'blue', 'purple'}\n",
    "C = {'green', 'purple'}\n",
    "\n",
    "def subset(A, B):   # return if A is a subset of B\n",
    "    return A.intersection(B) == A\n",
    "\n",
    "def subset2(A, B):   # return if A is a subset of B\n",
    "    return A.union(B) == B\n",
    "\n",
    "print(subset2(C, B))\n",
    "print(subset2(B, C))"
   ]
  },
  {
   "cell_type": "code",
   "execution_count": null,
   "metadata": {},
   "outputs": [],
   "source": [
    "def mutually_exclusive(A, B):\n",
    "    return len(A.intersection(B)) == 0\n",
    "\n",
    "print(mutually_exclusive(A, C))\n",
    "print(mutually_exclusive(A, B))"
   ]
  },
  {
   "cell_type": "code",
   "execution_count": null,
   "metadata": {},
   "outputs": [],
   "source": [
    "A = {'red', 'yellow', 'blue'}\n",
    "B = {'green', 'blue', 'purple'}\n",
    "C = {'green', 'purple'}\n",
    "\n",
    "print(A.difference(B))   # A - B\n",
    "print(B.difference(A))   # B - A"
   ]
  },
  {
   "cell_type": "code",
   "execution_count": null,
   "metadata": {},
   "outputs": [],
   "source": [
    "# Union\n",
    "\n",
    "print(set1.union(set2))\n",
    "\n",
    "def union(A, B):\n",
    "    result = set()   # initially create an empty set\n",
    "    for value in A:\n",
    "        result.add(value)\n",
    "    for value in B:\n",
    "        result.add(value)\n",
    "    return result\n",
    "\n",
    "print(union(set1, set2))\n",
    "\n",
    "print( set1.union(set2) == union(set1, set2) )\n"
   ]
  },
  {
   "cell_type": "code",
   "execution_count": null,
   "metadata": {},
   "outputs": [],
   "source": [
    "set1 = {'cheddar', 'jack', 'colby', 'brie'}\n",
    "set2 = {'cheddar', 'swiss', 'american'}\n",
    "set3 = {'cheddar', 'swiss'}"
   ]
  }
 ],
 "metadata": {
  "kernelspec": {
   "display_name": "Python 3",
   "language": "python",
   "name": "python3"
  },
  "language_info": {
   "codemirror_mode": {
    "name": "ipython",
    "version": 3
   },
   "file_extension": ".py",
   "mimetype": "text/x-python",
   "name": "python",
   "nbconvert_exporter": "python",
   "pygments_lexer": "ipython3",
   "version": "3.7.7"
  }
 },
 "nbformat": 4,
 "nbformat_minor": 2
}

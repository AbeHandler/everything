{
 "cells": [
  {
   "cell_type": "code",
   "execution_count": 1,
   "metadata": {
    "collapsed": true
   },
   "outputs": [],
   "source": [
    "from random import choice\n",
    "\n",
    "S = {1, 2, 3, 4, 5, 6}  # Sample space for 6-sided die\n",
    "A = {1, 3, 5} \n",
    "B = {2, 4, 6}  \n",
    "C = {1, 2, 3} "
   ]
  },
  {
   "cell_type": "code",
   "execution_count": 4,
   "metadata": {
    "collapsed": false
   },
   "outputs": [
    {
     "name": "stdout",
     "output_type": "stream",
     "text": [
      "0.3333\n"
     ]
    }
   ],
   "source": [
    "# P(X=3 | X is odd )\n",
    "\n",
    "numerator = 0\n",
    "denominator = 10000\n",
    "for i in range(denominator):\n",
    "    sample = choice(list(A))  # sample only from odd numbers\n",
    "    if sample == 3:\n",
    "        numerator += 1\n",
    "print(numerator / denominator)"
   ]
  },
  {
   "cell_type": "code",
   "execution_count": 10,
   "metadata": {
    "collapsed": false
   },
   "outputs": [
    {
     "name": "stdout",
     "output_type": "stream",
     "text": [
      "0.6737\n"
     ]
    }
   ],
   "source": [
    "# P(C | A)\n",
    "\n",
    "numerator = 0\n",
    "denominator = 10000\n",
    "for i in range(denominator):\n",
    "    sample = choice(list(A))\n",
    "    if sample in C:\n",
    "        numerator += 1\n",
    "print(numerator / denominator)"
   ]
  },
  {
   "cell_type": "code",
   "execution_count": 11,
   "metadata": {
    "collapsed": false
   },
   "outputs": [
    {
     "name": "stdout",
     "output_type": "stream",
     "text": [
      "0.3288\n"
     ]
    }
   ],
   "source": [
    "# P(C | B)\n",
    "\n",
    "numerator = 0\n",
    "denominator = 10000\n",
    "for i in range(denominator):\n",
    "    sample = choice(list(B))\n",
    "    if sample in C:\n",
    "        numerator += 1\n",
    "print(numerator / denominator)"
   ]
  },
  {
   "cell_type": "code",
   "execution_count": null,
   "metadata": {
    "collapsed": true
   },
   "outputs": [],
   "source": []
  }
 ],
 "metadata": {
  "kernelspec": {
   "display_name": "Python 3",
   "language": "python",
   "name": "python3"
  },
  "language_info": {
   "codemirror_mode": {
    "name": "ipython",
    "version": 3
   },
   "file_extension": ".py",
   "mimetype": "text/x-python",
   "name": "python",
   "nbconvert_exporter": "python",
   "pygments_lexer": "ipython3",
   "version": "3.5.1"
  }
 },
 "nbformat": 4,
 "nbformat_minor": 2
}

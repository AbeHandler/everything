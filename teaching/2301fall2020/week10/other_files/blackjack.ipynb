{
 "cells": [
  {
   "cell_type": "code",
   "execution_count": 77,
   "metadata": {},
   "outputs": [],
   "source": [
    "from random import choice \n",
    "\n",
    "def newDeck():\n",
    "    cards = []\n",
    "    for suit in [\"hearts\", \"spades\", \"diamonds\", \"clubs\"]:\n",
    "        for card in [\"ace\", \"2\", \"3\", \"4\", \"5\", \"6\", \"7\", \"8\", \"9\", \"10\", \"jack\", \"queen\", \"king\"]:\n",
    "            cards.append(\"{}-{}\".format(suit, card))\n",
    "            \n",
    "    return cards\n",
    "\n",
    "def draw(cards):\n",
    "    output = choice(cards)\n",
    "    cards.remove(output)\n",
    "    return output\n",
    "\n",
    "\n",
    "def card2number(card):\n",
    "    card = (card.split(\"-\")[1])\n",
    "    if card == \"ace\":\n",
    "        return 1\n",
    "    if card in [\"king\", \"queen\", \"jack\"]:\n",
    "        return 10\n",
    "    return int(card)\n",
    "\n",
    "def choose(your_cards, your_hand):\n",
    "    if your_hand < 15:\n",
    "        return True\n",
    "    else:\n",
    "        return False\n",
    "    \n",
    "def youDraw(cards, your_cards, your_hand):\n",
    "    card = draw(cards)\n",
    "    your_cards.append(card)\n",
    "    number = card2number(card)\n",
    "    your_hand += number\n",
    "    return your_hand, your_cards\n",
    "    \n",
    "def dealerDraw(cards, dealer_cards, dealer_hand):\n",
    "    card = draw(cards)\n",
    "    dealer_cards.append(card)\n",
    "    number = card2number(card)\n",
    "    dealer_hand += number\n",
    "    return dealer_hand, dealer_cards\n",
    "    \n",
    "def whoWins(your_hand, dealer_hand):\n",
    "    output = \"\"\n",
    "    if(your_hand > 21):\n",
    "        output = \"L\"\n",
    "    if(your_hand > dealer_hand):\n",
    "        output = \"W\"\n",
    "    else:\n",
    "        output = \"L\"\n",
    "    return output"
   ]
  },
  {
   "cell_type": "code",
   "execution_count": 81,
   "metadata": {},
   "outputs": [
    {
     "data": {
      "text/plain": [
       "Counter({'L': 1})"
      ]
     },
     "execution_count": 81,
     "metadata": {},
     "output_type": "execute_result"
    }
   ],
   "source": [
    "def playGame(threshold = 17):\n",
    "\n",
    "    cards = newDeck()\n",
    "    \n",
    "    your_hand = 0\n",
    "    dealer_hand = 0\n",
    "    \n",
    "    your_cards = []\n",
    "    dealer_cards = []\n",
    "\n",
    "    # draw your hand\n",
    "    youDraw(cards, your_cards, your_hand)\n",
    "    youDraw(cards, your_cards, your_hand)\n",
    "    \n",
    "    # draw dealer hand\n",
    "    dealer_hand, dealer_cards = dealerDraw(cards, dealer_cards, dealer_hand)\n",
    "    dealer_hand, dealer_cards = dealerDraw(cards, dealer_cards, dealer_hand)\n",
    "    \n",
    "    while dealer_hand < 17:\n",
    "        dealer_hand, dealer_cards = dealerDraw(cards, dealer_cards, dealer_hand)\n",
    "\n",
    "    while choose(your_cards=your_cards, your_hand=your_hand):\n",
    "        your_hand, your_cards = youDraw(cards, your_cards, your_hand)\n",
    "\n",
    "    output = whoWins(your_hand, dealer_hand)\n",
    "    \n",
    "    return output\n",
    "\n",
    "from collections import Counter\n",
    "record = []\n",
    "\n",
    "outcome = playGame()\n",
    "record.append(outcome)\n",
    "    \n",
    "Counter(record)"
   ]
  },
  {
   "cell_type": "code",
   "execution_count": null,
   "metadata": {},
   "outputs": [],
   "source": []
  }
 ],
 "metadata": {
  "kernelspec": {
   "display_name": "Python 3",
   "language": "python",
   "name": "python3"
  },
  "language_info": {
   "codemirror_mode": {
    "name": "ipython",
    "version": 3
   },
   "file_extension": ".py",
   "mimetype": "text/x-python",
   "name": "python",
   "nbconvert_exporter": "python",
   "pygments_lexer": "ipython3",
   "version": "3.8.5"
  }
 },
 "nbformat": 4,
 "nbformat_minor": 4
}

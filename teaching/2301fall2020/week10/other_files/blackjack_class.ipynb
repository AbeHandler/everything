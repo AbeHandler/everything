{
 "cells": [
  {
   "cell_type": "code",
   "execution_count": 77,
   "metadata": {},
   "outputs": [],
   "source": [
    "from random import choice \n",
    "\n",
    "def newDeck():\n",
    "    cards = []\n",
    "    for suit in [\"hearts\", \"spades\", \"diamonds\", \"clubs\"]:\n",
    "        for card in [\"ace\", \"2\", \"3\", \"4\", \"5\", \"6\", \"7\", \"8\", \"9\", \"10\", \"jack\", \"queen\", \"king\"]:\n",
    "            cards.append(\"{}-{}\".format(suit, card))\n",
    "            \n",
    "    return cards\n",
    "\n",
    "def draw(cards):\n",
    "    '''\n",
    "    1. draw a card at random from cards\n",
    "    2. remove the card from cards\n",
    "    3. return the card\n",
    "    '''\n",
    "    pass\n",
    "\n",
    "\n",
    "def card2number(card):\n",
    "    '''\n",
    "    Return the number value associated with the card\n",
    "    \n",
    "    1. Aces are worth 11 (let's keep it simple)\n",
    "    2. 10s, jacks, queens and kings are worth 10\n",
    "    3. All other cards are worth their value\n",
    "    '''\n",
    "    return 10000\n",
    "\n",
    "def choose(your_cards, your_hand):\n",
    "    '''\n",
    "    This is where you implement your strategy\n",
    "    \n",
    "    You can implement any strategy you want. You need to return True or False \n",
    "    based on your hand and your cards\n",
    "    '''\n",
    "    return False\n",
    "    \n",
    "def youDraw(cards, your_cards, your_hand):\n",
    "    card = draw(cards)\n",
    "    your_cards.append(card)\n",
    "    number = card2number(card)\n",
    "    your_hand += number\n",
    "    return your_hand, your_cards\n",
    "    \n",
    "def dealerDraw(cards, dealer_cards, dealer_hand):\n",
    "    card = draw(cards)\n",
    "    dealer_cards.append(card)\n",
    "    number = card2number(card)\n",
    "    dealer_hand += number\n",
    "    return dealer_hand, dealer_cards\n",
    "    \n",
    "def whoWins(your_hand, dealer_hand):\n",
    "    '''\n",
    "    Return who wins the game\n",
    "    \n",
    "    1. If you are over 21, dealer wins\n",
    "    2. If you are under or equal to 21 and have the same score as dealer or higher, you win!\n",
    "    '''\n",
    "    return \"Player\" # or dealer"
   ]
  },
  {
   "cell_type": "code",
   "execution_count": 81,
   "metadata": {},
   "outputs": [
    {
     "data": {
      "text/plain": [
       "Counter({'L': 1})"
      ]
     },
     "execution_count": 81,
     "metadata": {},
     "output_type": "execute_result"
    }
   ],
   "source": [
    "def playGame(threshold = 17):\n",
    "\n",
    "    cards = newDeck()\n",
    "    \n",
    "    your_hand = 0\n",
    "    dealer_hand = 0\n",
    "    \n",
    "    your_cards = []\n",
    "    dealer_cards = []\n",
    "\n",
    "    # draw your hand\n",
    "    youDraw(cards, your_cards, your_hand)\n",
    "    youDraw(cards, your_cards, your_hand)\n",
    "    \n",
    "    # draw dealer hand\n",
    "    dealer_hand, dealer_cards = dealerDraw(cards, dealer_cards, dealer_hand)\n",
    "    dealer_hand, dealer_cards = dealerDraw(cards, dealer_cards, dealer_hand)\n",
    "    \n",
    "    while dealer_hand < 17:\n",
    "        dealer_hand, dealer_cards = dealerDraw(cards, dealer_cards, dealer_hand)\n",
    "\n",
    "    while choose(your_cards=your_cards, your_hand=your_hand):\n",
    "        your_hand, your_cards = youDraw(cards, your_cards, your_hand)\n",
    "\n",
    "    output = whoWins(your_hand, dealer_hand)\n",
    "    \n",
    "    return output\n",
    "\n",
    "from collections import Counter\n",
    "record = []\n",
    "\n",
    "outcome = playGame()\n",
    "record.append(outcome)\n",
    "    \n",
    "Counter(record)"
   ]
  },
  {
   "cell_type": "markdown",
   "metadata": {},
   "source": [
    "### Assignment \n",
    "\n",
    "Write your own blackjack strategy using the `choose` method. Use simulation to test your strategy on 10000 games. Try to find the strategy that wins the most games. The top 3 strategies will get extra credit. "
   ]
  }
 ],
 "metadata": {
  "kernelspec": {
   "display_name": "Python 3",
   "language": "python",
   "name": "python3"
  },
  "language_info": {
   "codemirror_mode": {
    "name": "ipython",
    "version": 3
   },
   "file_extension": ".py",
   "mimetype": "text/x-python",
   "name": "python",
   "nbconvert_exporter": "python",
   "pygments_lexer": "ipython3",
   "version": "3.8.3"
  }
 },
 "nbformat": 4,
 "nbformat_minor": 4
}

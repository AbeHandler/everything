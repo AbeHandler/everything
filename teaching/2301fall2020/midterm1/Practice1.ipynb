{
 "cells": [
  {
   "cell_type": "markdown",
   "metadata": {},
   "source": [
    "### 2301 Fall 2020\n",
    "\n",
    "#### Practice midterm: sets, vectors and Booleans\n",
    "\n",
    "Type your name here\n",
    "\n",
    "**Academic honesty policy** \n",
    "\n",
    "You are expected to complete your midterm on your own. You are welcome to use any course materials to complete the exam. You are not permitted to copy code or answers from other students, or copy materials you find online. I will run plagiarism checking software to detect copied work. Any violations will be considered a breach of CU Boulder's [honor code](https://www.colorado.edu/sccr/honor-code), and I will take steps to ensure accountability. \n",
    "\n",
    "It is very important to me that you complete the midterm honestly. Completing the exam honestly will help me understand what you know in order to guide the direction of the class. It will also help you gain experience with foundational concepts you will use throughout your entire career in information science. Please do not allow a short-term focus on grades to lead you to cheat, at the cost of your long-term learning. Reminder: this exam is only 10% of your \n",
    "\n",
    "Once you have read the above statement, please type [your name here] to indicate your comittement to completing the exam on your own.\n"
   ]
  },
  {
   "cell_type": "markdown",
   "metadata": {},
   "source": [
    "### Question 1\n",
    "\n",
    "Let $X$ = $\\{513, 941, 12\\}$ and let $Y$ = $\\{513\\}$\n",
    "\n",
    "Answer true or false\n",
    "\n",
    "1. $ |X \\cup Y| = |X|$ \n",
    "\n",
    "2. $ Y \\subset X$ \n",
    "\n",
    "3. $ X \\subset Y$ \n",
    "\n",
    "4. $ 12 \\in X \\vee 12 \\in Y$ \n",
    "\n",
    "5. $ |X| > |Y|$ \n",
    "\n",
    "6. $ |X \\cap Y| = |Y|$ \n",
    "\n",
    "7. $ 12 \\in X \\wedge \\neg(513 \\in Y)$ "
   ]
  },
  {
   "cell_type": "markdown",
   "metadata": {},
   "source": [
    "### Question 2\n",
    "\n",
    "The Euclidean distance between two vectors $\\boldsymbol{p}$ and $\\boldsymbol{q}$ is given by the expression $d(\\boldsymbol{p}, \\boldsymbol{q})$ where $d(\\boldsymbol{p}, \\boldsymbol{q}) = \\sqrt{\\Sigma_{i=1}^N (\\boldsymbol{q_i} - \\boldsymbol{p_i})^2 }$. Based on this definition, complete the implementation of the `euclidean` function in `midterm1.py`. Your function should take two input vectors (i.e. lists) of any dimension as input, and return their Euclidean distance (a scalar) as output."
   ]
  },
  {
   "cell_type": "code",
   "execution_count": 8,
   "metadata": {},
   "outputs": [],
   "source": [
    "from midterm1 import euclidean\n",
    "\n",
    "# Use these assert statements to check your implementation\n",
    "\n",
    "# This should run without error\n",
    "assert round(euclidean([2,3], [4,5]), 5) == 2.82843\n",
    "\n",
    "# This should run without error\n",
    "assert round(euclidean([-12, 1, 2, -7], [0, 9, 3, 9]), 5) == 21.56386"
   ]
  },
  {
   "cell_type": "markdown",
   "metadata": {},
   "source": [
    "### Question 3\n",
    "\n",
    "The [material conditional](https://en.wikipedia.org/wiki/Material_conditional) operation is written $A \\rightarrow B$. It has the truth table shown below. Using the truth table, write Python code to verify that the following two expressions are equivalent. There is starter code included below.\n",
    "\n",
    "**Expression One**\n",
    "\n",
    "$\\neg (A \\rightarrow B)$ \n",
    "\n",
    "**Expression Two**\n",
    "\n",
    "$ A \\wedge \\neg B$"
   ]
  },
  {
   "cell_type": "code",
   "execution_count": 3,
   "metadata": {},
   "outputs": [
    {
     "ename": "AssertionError",
     "evalue": "",
     "output_type": "error",
     "traceback": [
      "\u001b[0;31m-----------------------------------------------\u001b[0m",
      "\u001b[0;31mAssertionError\u001b[0mTraceback (most recent call last)",
      "\u001b[0;32m<ipython-input-3-fda890270586>\u001b[0m in \u001b[0;36m<module>\u001b[0;34m\u001b[0m\n\u001b[1;32m      7\u001b[0m \u001b[0;32mfor\u001b[0m \u001b[0mA\u001b[0m \u001b[0;32min\u001b[0m \u001b[0;34m[\u001b[0m\u001b[0;32mTrue\u001b[0m\u001b[0;34m,\u001b[0m \u001b[0;32mFalse\u001b[0m\u001b[0;34m]\u001b[0m\u001b[0;34m:\u001b[0m\u001b[0;34m\u001b[0m\u001b[0;34m\u001b[0m\u001b[0m\n\u001b[1;32m      8\u001b[0m     \u001b[0;32mfor\u001b[0m \u001b[0mB\u001b[0m \u001b[0;32min\u001b[0m \u001b[0;34m[\u001b[0m\u001b[0;32mTrue\u001b[0m\u001b[0;34m,\u001b[0m \u001b[0;32mFalse\u001b[0m\u001b[0;34m]\u001b[0m\u001b[0;34m:\u001b[0m\u001b[0;34m\u001b[0m\u001b[0;34m\u001b[0m\u001b[0m\n\u001b[0;32m----> 9\u001b[0;31m         \u001b[0;32massert\u001b[0m \u001b[0mexpressionOne\u001b[0m\u001b[0;34m(\u001b[0m\u001b[0mA\u001b[0m\u001b[0;34m,\u001b[0m \u001b[0mB\u001b[0m\u001b[0;34m)\u001b[0m \u001b[0;34m==\u001b[0m \u001b[0mexpressionTwo\u001b[0m\u001b[0;34m(\u001b[0m\u001b[0mA\u001b[0m\u001b[0;34m,\u001b[0m \u001b[0mB\u001b[0m\u001b[0;34m)\u001b[0m\u001b[0;34m\u001b[0m\u001b[0;34m\u001b[0m\u001b[0m\n\u001b[0m",
      "\u001b[0;31mAssertionError\u001b[0m: "
     ]
    }
   ],
   "source": [
    "def expressionOne(A, B):\n",
    "    return True\n",
    "\n",
    "def expressionTwo(A, B):\n",
    "    return False\n",
    "\n",
    "for A in [True, False]:\n",
    "    for B in [True, False]:\n",
    "        assert expressionOne(A, B) == expressionTwo(A, B)"
   ]
  },
  {
   "cell_type": "markdown",
   "metadata": {},
   "source": [
    "| A  | B | A $\\rightarrow$ B  |\n",
    "| ------------- | ------------- | ------------- |\n",
    "| T  | T  | T  |\n",
    "| T  | F  | F  |\n",
    "| F  | T  | T  |\n",
    "| F  | F  | T  |"
   ]
  }
 ],
 "metadata": {
  "kernelspec": {
   "display_name": "Python 3",
   "language": "python",
   "name": "python3"
  },
  "language_info": {
   "codemirror_mode": {
    "name": "ipython",
    "version": 3
   },
   "file_extension": ".py",
   "mimetype": "text/x-python",
   "name": "python",
   "nbconvert_exporter": "python",
   "pygments_lexer": "ipython3",
   "version": "3.8.5"
  }
 },
 "nbformat": 4,
 "nbformat_minor": 4
}

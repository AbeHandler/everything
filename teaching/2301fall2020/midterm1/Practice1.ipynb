{
 "cells": [
  {
   "cell_type": "markdown",
   "metadata": {},
   "source": [
    "### 2301 Fall 2020\n",
    "\n",
    "#### Practice midterm: sets, vectors and Booleans\n",
    "\n",
    "Type your name here\n",
    "\n",
    "**Academic honesty policy** \n",
    "\n",
    "You are expected to complete your midterm on your own. You are welcome to use any course materials to complete the exam. You are not permitted to copy code or answers from other students, or copy materials you find online. I will run plagiarism checking software to detect copied work. Any violations will be considered a violation of CU Boulder's [honor code](https://www.colorado.edu/sccr/honor-code). \n",
    "\n",
    "Once you have read the above statement, \n",
    "\n",
    "please type your name here"
   ]
  },
  {
   "cell_type": "markdown",
   "metadata": {},
   "source": [
    "### Question 1"
   ]
  },
  {
   "cell_type": "markdown",
   "metadata": {},
   "source": [
    "The Euclidean distance between two vectors $\\boldsymbol{p}$ and $\\boldsymbol{q}$ is given by the expression $d(\\boldsymbol{p}, \\boldsymbol{q})$ where $d(\\boldsymbol{p}, \\boldsymbol{q}) = \\sqrt{\\Sigma_{i=1}^N (\\boldsymbol{q_i} - \\boldsymbol{p_i})^2 }$. Based on this definition, complete the implementation of the `euclidean` function in `midterm1.py`. Your function should take two input vectors (i.e. lists) of any dimension as input, and return their Euclidean distance as output."
   ]
  },
  {
   "cell_type": "code",
   "execution_count": 8,
   "metadata": {},
   "outputs": [],
   "source": [
    "from midterm1 import euclidean\n",
    "\n",
    "# Use these assert statements to check your implementation\n",
    "\n",
    "# This should run without error\n",
    "assert round(euclidean([2,3], [4,5]), 5) == 2.82843\n",
    "\n",
    "# This should run without error\n",
    "assert round(euclidean([-12, 1, 2, -7], [0, 9, 3, 9]), 5) == 21.56386"
   ]
  },
  {
   "cell_type": "code",
   "execution_count": null,
   "metadata": {},
   "outputs": [],
   "source": [
    "Xor? "
   ]
  }
 ],
 "metadata": {
  "kernelspec": {
   "display_name": "Python 3",
   "language": "python",
   "name": "python3"
  },
  "language_info": {
   "codemirror_mode": {
    "name": "ipython",
    "version": 3
   },
   "file_extension": ".py",
   "mimetype": "text/x-python",
   "name": "python",
   "nbconvert_exporter": "python",
   "pygments_lexer": "ipython3",
   "version": "3.8.5"
  }
 },
 "nbformat": 4,
 "nbformat_minor": 4
}

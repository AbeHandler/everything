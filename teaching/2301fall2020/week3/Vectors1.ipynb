{
 "cells": [
  {
   "cell_type": "markdown",
   "metadata": {},
   "source": [
    "### Introduction to vectors\n",
    "\n",
    "Basics\n",
    "- Vectors are mathematical objects with **magnitude** and **direction**:\n",
    "    - The **magnitude** of a vector is the vector's size\n",
    "    - The **direction** of a vector is which way the arrow points in space \n",
    "- Geometrically, you can think of a vector as an arrow starting at the origin\n",
    "- Vectors have components. Each component says how far you go in each direction in a space\n",
    "- In computer science, we often think of vectors as lists of numbers"
   ]
  },
  {
   "cell_type": "code",
   "execution_count": 4,
   "metadata": {},
   "outputs": [
    {
     "data": {
      "text/html": [
       "<img src=\"https://s3-us-west-2.amazonaws.com/www.abehandler.com/teaching/e1.png\" width=\"350\" height=\"350\"/>"
      ],
      "text/plain": [
       "<IPython.core.display.Image object>"
      ]
     },
     "execution_count": 4,
     "metadata": {},
     "output_type": "execute_result"
    }
   ],
   "source": [
    "# Let's load a sample vector from \n",
    "# https://mathinsight.org/vector_introduction\n",
    "\n",
    "from IPython.display import Image\n",
    "from IPython.core.display import HTML \n",
    "Image(url= \"https://s3-us-west-2.amazonaws.com/www.abehandler.com/teaching/e1.png\" , width=350, height=350)"
   ]
  },
  {
   "cell_type": "markdown",
   "metadata": {},
   "source": [
    "### Looking at the example\n",
    "\n",
    "- The above picture shows the vector $\\boldsymbol{a}$, shown as a blue arrow\n",
    "- The vector $\\boldsymbol{a}$ is moves 3 units along the x-axis and 2 units along the y-axis\n",
    "- The vector $\\boldsymbol{a}$ starts at the origin, where the x-axis and y-axis are equal to 0\n",
    "- The vector name is written in bold in mathmode in the notebook (double click this cell to see how to write this)\n",
    "- The direction of the vector is a small green arrow\n",
    "- The magnitude is shown as $\\lVert\\boldsymbol{a}\\lVert$ in red along the x-axis. We will learn more about magnitude later this week"
   ]
  },
  {
   "cell_type": "markdown",
   "metadata": {},
   "source": [
    "## Writing vectors in math\n",
    "\n",
    "We can write $\\boldsymbol{a} = <3,2>$\n",
    "  - We use subscripts to reference _components_ of the vector\n",
    "  - $\\boldsymbol{a}_0 = 3$\n",
    "      - The first compoment of $\\boldsymbol{a}$ is 0\n",
    "  - $\\boldsymbol{a}_1 = 2$\n",
    "      - The second compoment of $\\boldsymbol{a}$ is 2"
   ]
  },
  {
   "cell_type": "markdown",
   "metadata": {},
   "source": [
    "## Writing vectors in Python"
   ]
  },
  {
   "cell_type": "code",
   "execution_count": 7,
   "metadata": {},
   "outputs": [
    {
     "name": "stdout",
     "output_type": "stream",
     "text": [
      "3\n",
      "2\n"
     ]
    }
   ],
   "source": [
    "## Translating vectors to Python \n",
    "a = [3, 2]\n",
    "\n",
    "print(a[0])  # the first component of a is 0\n",
    "print(a[1])  # the second component of a is 1"
   ]
  },
  {
   "cell_type": "markdown",
   "metadata": {},
   "source": [
    "## Sigma notation\n",
    "\n",
    "- We use sigma notation to write out sums. To understand how to fill out the functions in `vector_functions.py` you will need to double click this cell to see the notation\n",
    "\n",
    "Example 1:\n",
    "- $\\Sigma_{i=0}^2 x_i = 0 + 1 + 2$\n",
    "\n",
    "Example 2:\n",
    "- $\\Sigma_{i=0}^3 2 x_i = 2 * 0 + 2 * 1 + 2 * 2$\n",
    "\n",
    "Example 2:\n",
    "- $\\Sigma_{i=0}^2 x_i ^ 2 = 0^2 + 1^2 + 2^2$\n",
    "\n",
    "Note: sometimes you will see the numbers all the way or below the $\\Sigma$. It means the same thing."
   ]
  },
  {
   "cell_type": "code",
   "execution_count": 10,
   "metadata": {},
   "outputs": [
    {
     "ename": "AssertionError",
     "evalue": "",
     "output_type": "error",
     "traceback": [
      "\u001b[0;31m---------------------------------------------\u001b[0m",
      "\u001b[0;31mAssertionError\u001b[0mTraceback (most recent call last)",
      "\u001b[0;32m<ipython-input-10-fa9cf28b2cd9>\u001b[0m in \u001b[0;36m<module>\u001b[0;34m\u001b[0m\n\u001b[1;32m      3\u001b[0m \u001b[0msigma_sq\u001b[0m\u001b[0;34m(\u001b[0m\u001b[0;36m2\u001b[0m\u001b[0;34m)\u001b[0m \u001b[0;31m# this should be 1^2 + 2^2 = 5\u001b[0m\u001b[0;34m\u001b[0m\u001b[0;34m\u001b[0m\u001b[0m\n\u001b[1;32m      4\u001b[0m \u001b[0;34m\u001b[0m\u001b[0m\n\u001b[0;32m----> 5\u001b[0;31m \u001b[0;32massert\u001b[0m \u001b[0msigma_sq\u001b[0m\u001b[0;34m(\u001b[0m\u001b[0;36m2\u001b[0m\u001b[0;34m)\u001b[0m \u001b[0;34m==\u001b[0m \u001b[0;36m5\u001b[0m\u001b[0;34m\u001b[0m\u001b[0;34m\u001b[0m\u001b[0m\n\u001b[0m",
      "\u001b[0;31mAssertionError\u001b[0m: "
     ]
    }
   ],
   "source": [
    "from vectors_functions import sigma_sq\n",
    "\n",
    "sigma_sq(2) # this should be 1^2 + 2^2 = 5 \n",
    "            \n",
    "assert sigma_sq(2) == 5   # this will fail if sigma_sq(2) != 5"
   ]
  },
  {
   "cell_type": "code",
   "execution_count": 15,
   "metadata": {},
   "outputs": [
    {
     "name": "stdout",
     "output_type": "stream",
     "text": [
      "Please fill out this function\n"
     ]
    },
    {
     "ename": "AssertionError",
     "evalue": "",
     "output_type": "error",
     "traceback": [
      "\u001b[0;31m---------------------------------------------\u001b[0m",
      "\u001b[0;31mAssertionError\u001b[0mTraceback (most recent call last)",
      "\u001b[0;32m<ipython-input-15-4035853a0822>\u001b[0m in \u001b[0;36m<module>\u001b[0;34m\u001b[0m\n\u001b[1;32m      1\u001b[0m \u001b[0;32mfrom\u001b[0m \u001b[0mvectors_functions\u001b[0m \u001b[0;32mimport\u001b[0m \u001b[0msigma_2n\u001b[0m\u001b[0;34m\u001b[0m\u001b[0;34m\u001b[0m\u001b[0m\n\u001b[1;32m      2\u001b[0m \u001b[0;34m\u001b[0m\u001b[0m\n\u001b[0;32m----> 3\u001b[0;31m \u001b[0;32massert\u001b[0m \u001b[0msigma_2n\u001b[0m\u001b[0;34m(\u001b[0m\u001b[0;36m3\u001b[0m\u001b[0;34m)\u001b[0m \u001b[0;34m==\u001b[0m \u001b[0;36m12\u001b[0m\u001b[0;34m\u001b[0m\u001b[0;34m\u001b[0m\u001b[0m\n\u001b[0m\u001b[1;32m      4\u001b[0m \u001b[0;32massert\u001b[0m \u001b[0msigma_2n\u001b[0m\u001b[0;34m(\u001b[0m\u001b[0;36m3\u001b[0m\u001b[0;34m)\u001b[0m \u001b[0;34m==\u001b[0m \u001b[0;34m(\u001b[0m\u001b[0;36m0\u001b[0m \u001b[0;34m*\u001b[0m \u001b[0;36m2\u001b[0m\u001b[0;34m)\u001b[0m \u001b[0;34m+\u001b[0m \u001b[0;34m(\u001b[0m\u001b[0;36m1\u001b[0m \u001b[0;34m*\u001b[0m \u001b[0;36m2\u001b[0m\u001b[0;34m)\u001b[0m \u001b[0;34m+\u001b[0m \u001b[0;34m(\u001b[0m\u001b[0;36m2\u001b[0m \u001b[0;34m*\u001b[0m \u001b[0;36m2\u001b[0m\u001b[0;34m)\u001b[0m \u001b[0;34m+\u001b[0m \u001b[0;34m(\u001b[0m\u001b[0;36m3\u001b[0m \u001b[0;34m*\u001b[0m \u001b[0;36m2\u001b[0m\u001b[0;34m)\u001b[0m\u001b[0;34m\u001b[0m\u001b[0;34m\u001b[0m\u001b[0m\n",
      "\u001b[0;31mAssertionError\u001b[0m: "
     ]
    }
   ],
   "source": [
    "from vectors_functions import sigma_2n\n",
    "\n",
    "assert 12 ==  (0 * 2) + (1 * 2) + (2 * 2) + (3 * 2)\n",
    "assert sigma_2n(3) == 12\n",
    "assert sigma_2n(3) == (0 * 2) + (1 * 2) + (2 * 2) + (3 * 2)"
   ]
  },
  {
   "cell_type": "code",
   "execution_count": 16,
   "metadata": {},
   "outputs": [
    {
     "data": {
      "text/html": [
       "<img src=\"https://s3-us-west-2.amazonaws.com/www.abehandler.com/teaching/e2.png\" width=\"350\" height=\"350\"/>"
      ],
      "text/plain": [
       "<IPython.core.display.Image object>"
      ]
     },
     "execution_count": 16,
     "metadata": {},
     "output_type": "execute_result"
    }
   ],
   "source": [
    "# Let's load a sample vector from \n",
    "# https://mathinsight.org/vector_introduction\n",
    "\n",
    "from IPython.display import Image\n",
    "from IPython.core.display import HTML \n",
    "Image(url= \"https://s3-us-west-2.amazonaws.com/www.abehandler.com/teaching/e2.png\" , width=350, height=350)"
   ]
  },
  {
   "cell_type": "markdown",
   "metadata": {},
   "source": [
    "Write out the components for $\\boldsymbol{a}$ using bracket notation (i.e. $<$...$>$), like in the example above\n",
    "\n",
    "[Type your answer here]"
   ]
  },
  {
   "cell_type": "code",
   "execution_count": null,
   "metadata": {},
   "outputs": [],
   "source": [
    "# Write a as a vector in Python \n",
    "\n",
    "# [uncomment this line and type your code here]\n",
    "\n",
    "# Write code to access the first component (i.e. index zero)\n",
    "\n",
    "# [uncomment this line and type your code here]\n",
    "\n",
    "# Write code to access the first component (i.e. index one)\n",
    "\n",
    "# [uncomment this line and type your code here]"
   ]
  },
  {
   "cell_type": "markdown",
   "metadata": {},
   "source": [
    "**Extra problems**\n",
    "\n",
    "If you have extra time, try re-writing the functions in `sigma_sq` using [Numpy](https://numpy.org/), a package optimized for vector operations. Compare the time it takes to run each function for large $N$, with and without numpy. Numpy should be way faster. Try plotting runtime vs $N$, as $N$ grows."
   ]
  }
 ],
 "metadata": {
  "kernelspec": {
   "display_name": "Python 3",
   "language": "python",
   "name": "python3"
  },
  "language_info": {
   "codemirror_mode": {
    "name": "ipython",
    "version": 3
   },
   "file_extension": ".py",
   "mimetype": "text/x-python",
   "name": "python",
   "nbconvert_exporter": "python",
   "pygments_lexer": "ipython3",
   "version": "3.8.5"
  }
 },
 "nbformat": 4,
 "nbformat_minor": 4
}

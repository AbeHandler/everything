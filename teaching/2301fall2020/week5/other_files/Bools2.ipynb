{
 "cells": [
  {
   "cell_type": "markdown",
   "metadata": {},
   "source": [
    "### Booleans \n",
    "\n",
    "Boolean variables can take the value true or false"
   ]
  },
  {
   "cell_type": "code",
   "execution_count": 4,
   "metadata": {},
   "outputs": [
    {
     "name": "stdout",
     "output_type": "stream",
     "text": [
      "False\n"
     ]
    }
   ],
   "source": [
    "# Boolean variables\n",
    "\n",
    "P = True\n",
    "Q = True\n",
    "R = False\n",
    "   \n",
    "print(P == R) # == returns a boolean value\n",
    "X = P == R    # store it in a new variable, X\n",
    "print(X)"
   ]
  },
  {
   "cell_type": "markdown",
   "metadata": {},
   "source": [
    "#### Negations\n",
    "\n",
    "- A negation returns the opposite value of a Boolean variable. \n",
    "- For instance, the negation of True is False.\n",
    "- The negation of False is True"
   ]
  },
  {
   "cell_type": "code",
   "execution_count": 11,
   "metadata": {},
   "outputs": [
    {
     "name": "stdout",
     "output_type": "stream",
     "text": [
      "True False False\n"
     ]
    }
   ],
   "source": [
    "# You can negate a Boolean variable in Python by using the word not\n",
    "\n",
    "print(P, not P, not(P) )"
   ]
  },
  {
   "cell_type": "markdown",
   "metadata": {},
   "source": [
    "To write a negation in math `not` in math you use the notation $\\neg$. So we might write:\n",
    "\n",
    "- $P$ (i.e. P)\n",
    "- $\\neg P$ (i.e. not P)"
   ]
  },
  {
   "cell_type": "markdown",
   "metadata": {},
   "source": [
    "#### Conjunctions"
   ]
  },
  {
   "cell_type": "markdown",
   "metadata": {},
   "source": [
    "- The value `A and B` is a Boolean, if `A` and `B` are Booleans. \n",
    "- `A and B` is `True` if both  `A and B` are `True`. Otherwise it is false. \n",
    "- `A and B` is called a ''conjunction.''"
   ]
  },
  {
   "cell_type": "code",
   "execution_count": 1,
   "metadata": {},
   "outputs": [
    {
     "name": "stdout",
     "output_type": "stream",
     "text": [
      "True\n",
      "False\n",
      "True\n"
     ]
    }
   ],
   "source": [
    "P = True\n",
    "Q = True\n",
    "R = False\n",
    "\n",
    "print(P and Q)   # return True only if both variables are True\n",
    "print(P and R)   # return True only if both variables are True\n",
    "print(Q and P)   # order does not matter"
   ]
  },
  {
   "cell_type": "markdown",
   "metadata": {},
   "source": [
    "- We can write `A and B` as $A \\wedge B$ in math. \n",
    "- $A \\wedge B$ is the notation for a conjunction.\n",
    "- The value `A and B` is a Boolean, if `A` and `B` are Booleans. \n",
    "- `A` and `B` is `True` if both  `A` and `B` are `True`. Otherwise it is false."
   ]
  },
  {
   "cell_type": "markdown",
   "metadata": {},
   "source": [
    "#### Disjunctions\n",
    "\n",
    "- The value `A or B` is a Boolean, if `A` and `B` are Booleans. \n",
    "- `A or B` is `True` if either  `A` is True or `B` is `True`. Otherwise it is false.\n",
    "- `A` or `B` is called a ''disjunction.''"
   ]
  },
  {
   "cell_type": "code",
   "execution_count": 4,
   "metadata": {},
   "outputs": [
    {
     "name": "stdout",
     "output_type": "stream",
     "text": [
      "True\n",
      "True\n",
      "True\n"
     ]
    }
   ],
   "source": [
    "P = True\n",
    "Q = False\n",
    "R = False\n",
    "\n",
    "print(P or Q)        # return True if any of the variables are True\n",
    "print(P or Q or R)\n",
    "print(R or Q or P)   # order does not matter"
   ]
  },
  {
   "cell_type": "markdown",
   "metadata": {},
   "source": [
    "- We can write `A or B` as $A \\vee B$ in math. $A \\vee B$ is the notation for a conjunction.\n",
    "- `A` and `B` is `True` if either  `A` and `B` are `True`. Otherwise it is false."
   ]
  },
  {
   "cell_type": "markdown",
   "metadata": {},
   "source": [
    "#### Conjunctions and disjunctions and negations\n",
    "\n",
    "We can combine conjuntions and disjunctions and negations into more complex expressions."
   ]
  },
  {
   "cell_type": "code",
   "execution_count": 16,
   "metadata": {},
   "outputs": [
    {
     "name": "stdout",
     "output_type": "stream",
     "text": [
      "True\n",
      "True\n",
      "True\n",
      "True\n",
      "False\n"
     ]
    }
   ],
   "source": [
    "P = True\n",
    "Q = False\n",
    "R = True\n",
    "\n",
    "p_and_q = P and Q\n",
    "print((P and Q) or R)\n",
    "print(p_and_q or R)\n",
    "\n",
    "\n",
    "print( P and Q or R )   # Ambiguous... use parentheses to clarify!\n",
    "print( P and (Q or R) )\n",
    "\n",
    "\n",
    "print(P and (Q or not(R)))"
   ]
  },
  {
   "cell_type": "markdown",
   "metadata": {},
   "source": [
    "### Type checking. Very useful!\n",
    "\n",
    "We have now seen three kinds of types: sets, vectors and Booleans. Every time you see an operation in math, you should ask: what kind of type does this operation return? This is called ''typechecking''.\n",
    "\n",
    "- For instance, if $\\boldsymbol{v}$ is a vector and  $B$ is a set, then $\\boldsymbol{v} \\subset B$ makes no sense, because a vector cannot be a subset of a set. \n",
    "- Similarly, if $A$ is a Boolean and $\\boldsymbol{v}$ is a vector then you cannot write $A \\vee \\boldsymbol{v}$  because the disjunction operation is defined between Booleans and Booleans, not Booleans and vectors. \n",
    "\n",
    "Every time you see complex math notation and are a little bit confused, pause to ask yourself, what are the input types and what are the output types. This is *very* useful to keep in mind. When I am confused about math in data science writing, I *always* break things down by type to clarify.\n",
    "\n",
    "For instance, last week we saw scalar multipication $c\\boldsymbol{v}$. Here $\\boldsymbol{v}$ is a vector and $c$ is a scalar and $c\\boldsymbol{v}$ is a vector, scaled up by a scalar, i.e. the scalar multiplication operation takes a vector and a scalar as input, and returns a vector."
   ]
  },
  {
   "cell_type": "markdown",
   "metadata": {},
   "source": [
    "### Exercizes\n",
    "\n",
    "1. Convert the following into code \n",
    "\n",
    "- $A \\vee B$\n",
    "- $\\neg B$\n",
    "- $A \\wedge B$\n",
    "\n",
    "[Type your answer here]\n",
    "\n",
    "2. Convert the following into math \n",
    "\n",
    "- A or (B and C)\n",
    "- Not A\n",
    "- Not (A or B or C)\n",
    "\n",
    "[Type your answer here]\n",
    "\n",
    "3. The following expressions return Booleans. Let `Q=True` and `P=False`. What do these return? \n",
    "\n",
    "- $\\neg Q$\n",
    "- $\\neg Q \\vee P$\n",
    "- $Q \\wedge \\neg P$\n",
    "\n",
    "[Type your answer here]\n",
    "\n",
    "4. What are the types returned by each of these operations. Your answer for each should be ''vector'', ''set'' or ''Boolean''.\n",
    "\n",
    "- $B \\subset C$\n",
    "- $\\boldsymbol{a} + \\boldsymbol{b}$\n",
    "- $A \\in B$\n",
    "- $\\lvert \\lvert \\boldsymbol{a} \\lvert \\lvert$ + 42\n",
    "- $A \\in B \\vee A \\notin B$ \n",
    "\n",
    "[Type your answer here]"
   ]
  }
 ],
 "metadata": {
  "kernelspec": {
   "display_name": "Python 3",
   "language": "python",
   "name": "python3"
  },
  "language_info": {
   "codemirror_mode": {
    "name": "ipython",
    "version": 3
   },
   "file_extension": ".py",
   "mimetype": "text/x-python",
   "name": "python",
   "nbconvert_exporter": "python",
   "pygments_lexer": "ipython3",
   "version": "3.8.5"
  }
 },
 "nbformat": 4,
 "nbformat_minor": 2
}

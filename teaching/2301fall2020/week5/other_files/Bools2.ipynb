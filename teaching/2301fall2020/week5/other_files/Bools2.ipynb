{
 "cells": [
  {
   "cell_type": "markdown",
   "metadata": {},
   "source": [
    "### Boolean expressions \n",
    "\n",
    "- A Boolean expression is a logical statement that is either True or False.\n",
    "\n",
    "- For instance, $P \\vee Q$ is a Boolean expression. \n",
    "\n",
    "- A Boolean expression will be true or false, depending on the values of its input variables. \n",
    "\n",
    "- For instance, if $P$ is `True` and $Q$ is `False` then $P \\vee Q$ = `True` $ \\vee $ `False` = `True`"
   ]
  },
  {
   "cell_type": "markdown",
   "metadata": {},
   "source": [
    "### Evaluating Boolean expressions\n",
    "\n",
    "- The process of figuring out if a Boolean expression is `True` or `False` is called \"evaluating\" the Boolean expression. \n",
    "\n",
    "\n",
    "- The basic process of evaluating a Boolean expression is as follows:\n",
    "\n",
    "    1. Plug in the value of the Boolean variables \n",
    "    2. Keep simplifying the expression \n",
    "    3. Determine if it is true or false"
   ]
  },
  {
   "cell_type": "markdown",
   "metadata": {},
   "source": [
    "### Examples\n",
    "\n",
    "Let $P$ = `True` and $Q$=`False`. Evaluate the following Boolean expressions. \n",
    "\n",
    "1. $P$ \n",
    "\n",
    "2. $P \\vee Q$  \n",
    "\n",
    "3. $\\neg P \\vee Q$  \n",
    "\n",
    "4. $\\neg (P \\wedge Q)$  \n",
    "\n",
    "5. $\\neg (P \\wedge \\neg Q) \\wedge (P \\vee \\neg Q) $  "
   ]
  },
  {
   "cell_type": "code",
   "execution_count": null,
   "metadata": {},
   "outputs": [],
   "source": [
    "### We can also evaluate expressions with Python. This is more direct\n",
    "\n",
    "\n",
    "P = True\n",
    "Q = False\n",
    "\n",
    "# 1 \n",
    "print(P)\n",
    "\n",
    "#2\n",
    "print(P or Q)\n",
    "\n",
    "#3\n",
    "print((not P) or Q)   # parens helpful here. When in doubt, use them\n",
    "\n",
    "#4\n",
    "print(not(P and Q))\n",
    "\n",
    "#5\n",
    "a = not(P and (not Q)) # You can use subexpressions to make this simpler\n",
    "b = (P or not Q)\n",
    "print(a and b)\n"
   ]
  },
  {
   "cell_type": "markdown",
   "metadata": {},
   "source": [
    "### Truth tables \n",
    "\n",
    "- In the above examples, we know the value of $P$ and $Q$. But we can also consider the value of the expression _for all values_ of $P$ and $Q$. We do this with a truth table. For instance, the truth table below shows all possible ways you can evaluate $P \\vee Q$. You might want to use a [markdown table generator](https://www.tablesgenerator.com/markdown_tables#) to make these"
   ]
  },
  {
   "cell_type": "markdown",
   "metadata": {},
   "source": [
    "| P  | Q  |  P $\\vee$ Q |\n",
    "|:-:|:-:|:-:|\n",
    "| T  | T  | T  |\n",
    "| T  | F  | T  |\n",
    "| F  | T  | T  |\n",
    "| F  | F  | F  |"
   ]
  },
  {
   "cell_type": "markdown",
   "metadata": {},
   "source": [
    "We can also use truth tables to break down more complex expressions.\n",
    "\n",
    "| P  | Q  |  P $\\vee$ Q |  $\\neg$ (P $\\vee$ Q) |\n",
    "|--:|--:|:-:| :-:|\n",
    "| T  | T | T  | F | \n",
    "| T  | F | T  | F | \n",
    "| F  | T | T  | F | \n",
    "| F  | F | F  | T | "
   ]
  },
  {
   "cell_type": "code",
   "execution_count": 14,
   "metadata": {},
   "outputs": [
    {
     "name": "stdout",
     "output_type": "stream",
     "text": [
      "P\t | Q\t | P or Q\n",
      "True\t |True\t | True\n",
      "True\t |False\t | False\n",
      "False\t |True\t | False\n",
      "False\t |False\t | False\n"
     ]
    }
   ],
   "source": [
    "# We can also imagine Python code that is basically the same as truth tables \n",
    "\n",
    "print(\"{} | {} | {}\".format(\"P\\t\", \"Q\\t\", \"P or Q\"))\n",
    "for possible_P_value in [True, False]:\n",
    "    for possible_Q_value in [True, False]:\n",
    "        # $P \\vee Q$\n",
    "        p_and_q = possible_P_value and possible_Q_value\n",
    "        print(\"{}\\t |{}\\t | {}\".format(possible_P_value, possible_Q_value, p_and_q))"
   ]
  },
  {
   "cell_type": "code",
   "execution_count": 20,
   "metadata": {},
   "outputs": [
    {
     "name": "stdout",
     "output_type": "stream",
     "text": [
      "Hello 2301\n",
      "0.203\n",
      "0.204\n"
     ]
    }
   ],
   "source": [
    "## Side note: format strings \n",
    "\n",
    "print(\"Hello {}\".format(\"2301\"))\n",
    "\n",
    "print(\"{:.3}\".format(.20319582))\n",
    "\n",
    "print(\"{:.3}\".format(.20359582))"
   ]
  },
  {
   "cell_type": "code",
   "execution_count": null,
   "metadata": {},
   "outputs": [],
   "source": []
  }
 ],
 "metadata": {
  "kernelspec": {
   "display_name": "Python 3",
   "language": "python",
   "name": "python3"
  },
  "language_info": {
   "codemirror_mode": {
    "name": "ipython",
    "version": 3
   },
   "file_extension": ".py",
   "mimetype": "text/x-python",
   "name": "python",
   "nbconvert_exporter": "python",
   "pygments_lexer": "ipython3",
   "version": "3.8.3"
  }
 },
 "nbformat": 4,
 "nbformat_minor": 2
}

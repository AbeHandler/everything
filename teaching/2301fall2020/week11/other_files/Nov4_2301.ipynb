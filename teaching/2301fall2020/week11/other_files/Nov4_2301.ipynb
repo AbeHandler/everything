{
 "cells": [
  {
   "cell_type": "code",
   "execution_count": 7,
   "metadata": {},
   "outputs": [
    {
     "data": {
      "text/plain": [
       "0.0509"
      ]
     },
     "execution_count": 7,
     "metadata": {},
     "output_type": "execute_result"
    }
   ],
   "source": [
    "from random import shuffle\n",
    "\n",
    "\n",
    "def drawDeck():\n",
    "    cards = []\n",
    "    for i in [\"2\",\"3\",\"4\",\"5\",\"6\",\"7\",\"8\",\"9\",\"10\",\"J\",\"Q\",\"K\", \"A\"]:\n",
    "        for j in [\"H\", \"S\", \"D\", \"C\"]:\n",
    "            cards.append(j + i)\n",
    "    return cards \n",
    "\n",
    "def drawCard(deck):\n",
    "    draw = deck[0]\n",
    "    return draw, deck[1:]\n",
    "\n",
    "def card2number(card):\n",
    "    if \"J\" in card:\n",
    "        return 10\n",
    "    if \"Q\" in card:\n",
    "        return 10\n",
    "    if \"K\" in card:\n",
    "        return 10\n",
    "    if \"A\" in card:\n",
    "        return 11\n",
    "    number = card[1:]\n",
    "    return int(number)\n",
    "\n",
    "\n",
    "get_21 = 0\n",
    "examples = 10000\n",
    "for i in range(examples):\n",
    "\n",
    "    cards = drawDeck()\n",
    "\n",
    "    shuffle(cards)\n",
    "    firstcard, cards = drawCard(cards)\n",
    "    secondcard, cards = drawCard(cards)\n",
    "\n",
    "    if card2number(firstcard) + card2number(secondcard) == 21:\n",
    "        get_21 += 1\n",
    "        \n",
    "get_21/examples"
   ]
  },
  {
   "cell_type": "code",
   "execution_count": null,
   "metadata": {},
   "outputs": [],
   "source": []
  }
 ],
 "metadata": {
  "kernelspec": {
   "display_name": "Python 3",
   "language": "python",
   "name": "python3"
  },
  "language_info": {
   "codemirror_mode": {
    "name": "ipython",
    "version": 3
   },
   "file_extension": ".py",
   "mimetype": "text/x-python",
   "name": "python",
   "nbconvert_exporter": "python",
   "pygments_lexer": "ipython3",
   "version": "3.8.3"
  }
 },
 "nbformat": 4,
 "nbformat_minor": 4
}

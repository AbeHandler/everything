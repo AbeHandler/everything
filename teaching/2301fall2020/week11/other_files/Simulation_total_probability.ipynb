{
 "cells": [
  {
   "cell_type": "code",
   "execution_count": 8,
   "metadata": {},
   "outputs": [],
   "source": [
    "from random import random \n",
    "\n",
    "def rollDie():\n",
    "    '''\n",
    "    Returns True if I roll a 6\n",
    "    '''\n",
    "    draw = random()\n",
    "    if draw < 1/6:\n",
    "        return True\n",
    "    else:\n",
    "        return False\n",
    "\n",
    "def drawBagA():\n",
    "    draw = random()\n",
    "    if draw < 2/3:\n",
    "        return True\n",
    "    else:\n",
    "        return False\n",
    "    \n",
    "def drawBagB():\n",
    "    draw = random()\n",
    "    if draw < 2/5:\n",
    "        return True\n",
    "    else:\n",
    "        return False"
   ]
  },
  {
   "cell_type": "code",
   "execution_count": 10,
   "metadata": {},
   "outputs": [
    {
     "data": {
      "text/plain": [
       "Counter({False: 5539, True: 4461})"
      ]
     },
     "execution_count": 10,
     "metadata": {},
     "output_type": "execute_result"
    }
   ],
   "source": [
    "all_selections = []\n",
    "for i in range(10000):\n",
    "    got_six = rollDie()\n",
    "    if got_six:\n",
    "        selection = drawBagA()\n",
    "    else:\n",
    "        selection = drawBagB()\n",
    "    all_selections.append(selection)\n",
    "\n",
    "from collections import Counter\n",
    "\n",
    "Counter(all_selections)"
   ]
  },
  {
   "cell_type": "code",
   "execution_count": 11,
   "metadata": {},
   "outputs": [
    {
     "data": {
      "text/plain": [
       "0.4461"
      ]
     },
     "execution_count": 11,
     "metadata": {},
     "output_type": "execute_result"
    }
   ],
   "source": [
    "4461/10000"
   ]
  },
  {
   "cell_type": "code",
   "execution_count": 12,
   "metadata": {},
   "outputs": [
    {
     "data": {
      "text/plain": [
       "0.4444444444444445"
      ]
     },
     "execution_count": 12,
     "metadata": {},
     "output_type": "execute_result"
    }
   ],
   "source": [
    "1/6 * 2/3 + 5/6 * 2/5"
   ]
  }
 ],
 "metadata": {
  "kernelspec": {
   "display_name": "Python 3",
   "language": "python",
   "name": "python3"
  },
  "language_info": {
   "codemirror_mode": {
    "name": "ipython",
    "version": 3
   },
   "file_extension": ".py",
   "mimetype": "text/x-python",
   "name": "python",
   "nbconvert_exporter": "python",
   "pygments_lexer": "ipython3",
   "version": "3.8.3"
  }
 },
 "nbformat": 4,
 "nbformat_minor": 4
}

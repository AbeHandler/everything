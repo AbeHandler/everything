{
 "cells": [
  {
   "cell_type": "markdown",
   "metadata": {},
   "source": [
    "### Question 1\n",
    "\n",
    "Research an application of Bayes rule on the Internet. There are hundreds and hundreds of applications of Bayes rule, and you will find that Bayes rule comes up in many interesting scenarios. It's OK to use a simple, toy application of Bayes rule if you want (e.g. $p(\\text{it will rain} |  \\text{it is cloudy outside})$. But you are highly encouraged to do a little bit of digging to discover some interesting application in an interesting area like bioinformatics, natural language processing or computer security. Bayes rule is everywhere! \n",
    "\n",
    "What to report: \n",
    "\n",
    "1. Briefly describe the problem you found and why people use Bayes rule to solve it \n",
    "2. Describe the prior, the likelihood and evidence. \n",
    "\n",
    "Note: Sometimes people don't report the evidence because $p(B)$ is just a constant demoninator in the Bayes equation. So you might see something like $p(A|B) \\propto p(B|A)p(A)$ which means $p(A|B)$ is defined in proportion to $p(B|A)p(A)$ (ignoring the constant). If that happens in your application it is OK to not describe an equation for the evidence."
   ]
  },
  {
   "cell_type": "markdown",
   "metadata": {},
   "source": [
    "### Question 2\n",
    "\n",
    "You play a lottery game where you choose 3 numbers between 0 and 1000. You can pick the number 0 and 1000, and your numbers must be unique. How many possible lottery tickets are there? *Hint: the number of possible lottery tickets, can be described as a combination.* Answer using math below."
   ]
  },
  {
   "cell_type": "markdown",
   "metadata": {},
   "source": [
    "### Question 3\n",
    "\n",
    "Write code to enumerate every single possible lottery ticket. *Do not* print all tickets to the terminal. Just print the number of total possible tickets. You should get the same answer in code that you get with the math above."
   ]
  },
  {
   "cell_type": "code",
   "execution_count": null,
   "metadata": {},
   "outputs": [],
   "source": [
    "num_tickets = 0 # do not modify this line\n",
    "\n",
    "### Your code here. Compute the total number of lottery tickets.\n",
    "\n",
    "print(num_tickets) # do not modify this line"
   ]
  },
  {
   "cell_type": "markdown",
   "metadata": {},
   "source": [
    "### Question 4 \n",
    "\n",
    "Say you are playing the same lottery described in question 2. A lottery ticket costs \\\\$1. If the lottery randomly picks your 3 numbers you will earn \\\\$10001 (otherwise you loose a dollar). Let $X$ by a r.v. that maps a win to \\\\$10000 and a loss to -\\\\$1. \n",
    "\n",
    "1. What is $E[X]$? \n",
    "2. Should you play this lottery? In the long term, if you keep playing, will you win or lose money?"
   ]
  },
  {
   "cell_type": "code",
   "execution_count": null,
   "metadata": {},
   "outputs": [],
   "source": []
  }
 ],
 "metadata": {
  "kernelspec": {
   "display_name": "Python 3",
   "language": "python",
   "name": "python3"
  },
  "language_info": {
   "codemirror_mode": {
    "name": "ipython",
    "version": 3
   },
   "file_extension": ".py",
   "mimetype": "text/x-python",
   "name": "python",
   "nbconvert_exporter": "python",
   "pygments_lexer": "ipython3",
   "version": "3.8.3"
  }
 },
 "nbformat": 4,
 "nbformat_minor": 4
}

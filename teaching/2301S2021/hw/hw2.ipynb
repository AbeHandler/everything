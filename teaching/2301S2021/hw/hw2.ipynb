{
 "cells": [
  {
   "cell_type": "markdown",
   "metadata": {},
   "source": [
    "## 2301 HW #2 \n",
    "\n",
    "Due TODO at midnight. Each late day is a 10% penalty.\n",
    "\n",
    "Collaboration: It is OK to work on this homework with one partner. If you work with a partner, you must list the partner on this assignment."
   ]
  },
  {
   "cell_type": "markdown",
   "metadata": {},
   "source": [
    "### Part 1: Math\n",
    "\n",
    "#### Question 1.1\n",
    "Recall that vector addition is defined as $\\mathbf{x} + \\mathbf{y} = <x_1 + y_1, x_2 + y_2,  ... x_N + y_N>$. Let $\\mathbf{m}$ = <1,-2,4> and $\\mathbf{n}$ = <0,7,1>. What is $\\mathbf{n}$ +  $\\mathbf{m}$? \n",
    "\n",
    "#### Question 1.2\n",
    "\n",
    "The Jaccard index between sets $A$ and $B$ is defined as $\\frac{\\vert A \\cap B \\vert}{\\vert A \\cup B \\vert}$. If $A={1,2,3}$ and $B={3,4,5}$ what is their Jaccard index?\n",
    "\n",
    "#### Question 1.3\n",
    "\n",
    "When is the Jaccard index equal to one? \n",
    " \n",
    "#### Question 1.4\n",
    "\n",
    "When is the Jaccard index equal to zero? \n",
    " \n",
    "#### Question 1.5\n",
    "\n",
    "If two sets are nearly identical, will their Jaccard Index be closer to zero or closer to one? Explain your answer. "
   ]
  },
  {
   "cell_type": "markdown",
   "metadata": {},
   "source": [
    "### Part 2: Code\n",
    "\n",
    "Implement the jaccard function below. Your code should return the Jaccard index between two sets"
   ]
  },
  {
   "cell_type": "code",
   "execution_count": 1,
   "metadata": {},
   "outputs": [],
   "source": [
    "def jaccardIndex(A, B):\n",
    "    '''\n",
    "    Return \n",
    "    \n",
    "    (A \\cap B) / (A \\cup B)\n",
    "    '''\n",
    "    pass"
   ]
  },
  {
   "cell_type": "markdown",
   "metadata": {},
   "source": [
    "### Part 3: Applications\n",
    "\n",
    "Imagine there are four DoorDash customers, $A,B,C,D$. We can represent each customer with the set of all of their prior orders, shown below.\n",
    "\n",
    "- A = $\\{hamburger, hot dog, pizza, french fries, donut, salad, bacon\\}$\n",
    "- B = $\\{cheesburger, pizza, donut, hamburger, onion rings, french fries, donut\\}$\n",
    "- C = $\\{salad, fruit cup, smoothie \\}$"
   ]
  },
  {
   "cell_type": "markdown",
   "metadata": {},
   "source": [
    "### Question\n",
    "\n",
    "#### Question 3.1\n",
    "Which two customers do you think are most similar? Why do you think that? Answer using words \n",
    "\n",
    "#### Question 3.2\n",
    "Compute the Jaccard index between each pair of customers. That means, compute the Jaccard index between $A$ and $B$, between $A$ and $C$, and between $B$ and $C$. Answer using code below."
   ]
  },
  {
   "cell_type": "code",
   "execution_count": null,
   "metadata": {},
   "outputs": [],
   "source": [
    "## Use your jaccardIndex function to compare each customer. There is a little code to help you get started.\n",
    "\n",
    "A = {'hamburger', 'hot dog', 'pizza', 'french fries', 'donut', 'salad', 'bacon'}\n",
    "B = {'cheesburger', 'pizza', 'donut', 'hamburger', 'onion rings', 'french fries', 'donut'}\n",
    "C = {'salad', 'fruit cup', 'smoothie'}\n",
    "\n",
    "customers = [A, B, C]\n",
    "\n",
    "for customer in customers:\n",
    "    pass"
   ]
  },
  {
   "cell_type": "markdown",
   "metadata": {},
   "source": [
    "\n",
    "#### Question 3.3\n",
    "Based on your code, which pair of customers has the highest Jaccard index? Explain why that makes sense."
   ]
  }
 ],
 "metadata": {
  "kernelspec": {
   "display_name": "Python 3",
   "language": "python",
   "name": "python3"
  },
  "language_info": {
   "codemirror_mode": {
    "name": "ipython",
    "version": 3
   },
   "file_extension": ".py",
   "mimetype": "text/x-python",
   "name": "python",
   "nbconvert_exporter": "python",
   "pygments_lexer": "ipython3",
   "version": "3.8.3"
  }
 },
 "nbformat": 4,
 "nbformat_minor": 4
}

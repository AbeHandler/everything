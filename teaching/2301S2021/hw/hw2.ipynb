{
 "cells": [
  {
   "cell_type": "markdown",
   "metadata": {},
   "source": [
    "## 2301 HW #2 \n",
    "\n",
    "Due TODO at midnight. Each late day is a 10% penalty.\n",
    "\n",
    "Collaboration: It is OK to work on this homework with one partner. If you work with a partner, you must list the partner on this assignment."
   ]
  },
  {
   "cell_type": "markdown",
   "metadata": {},
   "source": [
    "### Part 1: Math\n",
    "\n",
    "#### Question 1.1\n",
    "Recall that vector addition is defined as $\\mathbf{x} + \\mathbf{y} = <x_1 + y_1, x_2 + y_2,  ... x_N + y_N>$. Let $\\mathbf{m}$ = <1,-2,4> and $\\mathbf{n}$ = <0,7,1>. What is $\\mathbf{n}$ +  $\\mathbf{m}$? \n",
    "\n",
    "#### Question 1.2\n",
    "\n",
    "The Jaccard index between sets $A$ and $B$ is defined as $\\frac{\\vert A \\cap B \\vert}{\\vert A \\cup B \\vert}$. If $A={1,2,3}$ and $B={3,4,5}$ what is their Jaccard index?\n",
    "\n",
    "#### Question 1.3\n",
    "\n",
    "When is the Jaccard index equal to one? \n",
    " \n",
    "#### Question 1.4\n",
    "\n",
    "When is the Jaccard index equal to zero? \n",
    " \n",
    "#### Question 1.5\n",
    "\n",
    "If two sets are nearly identical, will their Jaccard Index be closer to zero or closer to one? Explain your answer. "
   ]
  },
  {
   "cell_type": "markdown",
   "metadata": {},
   "source": [
    "### Part 2: Code\n",
    "\n",
    "Implement the jaccard function below"
   ]
  },
  {
   "cell_type": "code",
   "execution_count": null,
   "metadata": {},
   "outputs": [],
   "source": [
    "def jaccardIndex(A, B):\n",
    "    '''\n",
    "    Return \n",
    "    \n",
    "    (A \\cap B) / (A \\cup B)\n",
    "    '''\n",
    "    pass"
   ]
  },
  {
   "cell_type": "markdown",
   "metadata": {},
   "source": [
    "### Part 3: Applications\n",
    "\n",
    "Imagine there are four DoorDash customers, $A,B,C,D$. We can represent each customer with the set of all of their prior orders. \n",
    "\n",
    "- A = $\\{hamburger, hamburger, pizza, french fries, donut\\}$\n",
    "- B = $\\{cheesburger, pizza, donut, hamburger, onion rings, french fries, donut\\}$\n",
    "- C = $\\{salad, yogurt, smoothie\\}$\n",
    "- D = $\\{salad, fruit cup, sushi \\}$"
   ]
  },
  {
   "cell_type": "markdown",
   "metadata": {},
   "source": [
    "### Question\n",
    "Use your `jaccardIndex` function to compute the similiarity between each pair of customers (hint, write a double for loop).\n",
    "\n",
    "- Which pair of customers is most similar, based on the Jaccard Index?\n",
    "- Which pair of customers is least similar based on the Jaccard Index?\n",
    "- Do you think the Jaccard Index is a good measure of the similarity between two DoorDash customers?"
   ]
  }
 ],
 "metadata": {
  "kernelspec": {
   "display_name": "Python 3",
   "language": "python",
   "name": "python3"
  },
  "language_info": {
   "codemirror_mode": {
    "name": "ipython",
    "version": 3
   },
   "file_extension": ".py",
   "mimetype": "text/x-python",
   "name": "python",
   "nbconvert_exporter": "python",
   "pygments_lexer": "ipython3",
   "version": "3.8.3"
  }
 },
 "nbformat": 4,
 "nbformat_minor": 4
}

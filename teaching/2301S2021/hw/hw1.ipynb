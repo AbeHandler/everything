{
 "cells": [
  {
   "cell_type": "markdown",
   "metadata": {},
   "source": [
    "## 2301 HW #1 \n",
    "\n",
    "Due Feb 1, 2021\n",
    "\n",
    "Collaboration: It is OK to work on this homework with one partner. If you work with a partner, you must list the partner on this assignment."
   ]
  },
  {
   "cell_type": "markdown",
   "metadata": {},
   "source": [
    "### Part 1: Math\n",
    "\n",
    "- Define two sets, $A$ and $B$\n",
    "    - $A$ and $B$ should be sets related to your interests. For instance, you could define $A$ to be the set of overated football teams and $B$ to be the set of football teams from the west coast of the US\n",
    "    - Answer the following questions about $A$ and $B$. You **must** use math notation like we have used in class"
   ]
  },
  {
   "cell_type": "markdown",
   "metadata": {},
   "source": [
    "- What is the union of $A$ and $B$?\n",
    "- What is the intersection of $A$ and $B$?\n",
    "- What is the cardinality of the union of $A$ and $B$?\n",
    "- Is $A$ a subset of $B$? (Answer with math notation"
   ]
  },
  {
   "cell_type": "markdown",
   "metadata": {},
   "source": [
    "### Part 2: Code\n",
    "\n",
    "- Please implement the following two functions"
   ]
  },
  {
   "cell_type": "code",
   "execution_count": null,
   "metadata": {},
   "outputs": [],
   "source": [
    "def setCompare(A, B):\n",
    "    '''\n",
    "    Return 1 if the cardinality of A is greater or equal to the cardinality of B\n",
    "    '''\n",
    "    pass\n",
    "\n",
    "\n",
    "def sumOfElements(A):\n",
    "    '''\n",
    "    Return the sum of all elements in A. You can assume all elements of A are integers\n",
    "    '''\n",
    "    pass"
   ]
  }
 ],
 "metadata": {
  "kernelspec": {
   "display_name": "Python 3",
   "language": "python",
   "name": "python3"
  },
  "language_info": {
   "codemirror_mode": {
    "name": "ipython",
    "version": 3
   },
   "file_extension": ".py",
   "mimetype": "text/x-python",
   "name": "python",
   "nbconvert_exporter": "python",
   "pygments_lexer": "ipython3",
   "version": "3.8.3"
  }
 },
 "nbformat": 4,
 "nbformat_minor": 4
}

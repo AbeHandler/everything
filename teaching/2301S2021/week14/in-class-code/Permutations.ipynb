{
 "cells": [
  {
   "cell_type": "code",
   "execution_count": 3,
   "metadata": {},
   "outputs": [
    {
     "name": "stdout",
     "output_type": "stream",
     "text": [
      "Circle,Square\n",
      "Circle,Triangle\n",
      "Square,Circle\n",
      "Square,Triangle\n",
      "Triangle,Circle\n",
      "Triangle,Square\n"
     ]
    }
   ],
   "source": [
    "shapes = {\"Triangle\", \"Square\", \"Circle\"}\n",
    "\n",
    "for s in shapes:\n",
    "    for s2 in shapes:\n",
    "        if s != s2:\n",
    "            print(\"{},{}\".format(s, s2))"
   ]
  },
  {
   "cell_type": "code",
   "execution_count": 14,
   "metadata": {},
   "outputs": [
    {
     "data": {
      "text/plain": [
       "[{'Circle', 'Square'}, {'Circle', 'Triangle'}, {'Square', 'Triangle'}]"
      ]
     },
     "execution_count": 14,
     "metadata": {},
     "output_type": "execute_result"
    }
   ],
   "source": [
    "shapes = {\"Triangle\", \"Square\", \"Circle\"}\n",
    "\n",
    "combinations = []\n",
    "\n",
    "for s in shapes:\n",
    "    for s2 in shapes:\n",
    "        if s != s2:\n",
    "            combination = {s, s2}\n",
    "            if combination not in combinations:\n",
    "                combinations.append(combination)\n",
    "\n",
    "combinations"
   ]
  },
  {
   "cell_type": "code",
   "execution_count": 21,
   "metadata": {},
   "outputs": [],
   "source": [
    "from random import randint\n",
    "\n",
    "winner = [randint(0,1000), randint(0,1000), randint(0,1000), randint(0,1000), randint(0,1000)]\n",
    "\n",
    "winner.sort()\n",
    "\n",
    "for i in range(100000):\n",
    "    your_ticket = [randint(0,1000), randint(0,1000), randint(0,1000), randint(0,1000), randint(0,1000)]\n",
    "    your_ticket.sort()\n",
    "    \n",
    "    if winner == your_ticket:\n",
    "        print(\"you win\")\n",
    "    "
   ]
  },
  {
   "cell_type": "code",
   "execution_count": null,
   "metadata": {},
   "outputs": [],
   "source": []
  }
 ],
 "metadata": {
  "kernelspec": {
   "display_name": "Python 3",
   "language": "python",
   "name": "python3"
  },
  "language_info": {
   "codemirror_mode": {
    "name": "ipython",
    "version": 3
   },
   "file_extension": ".py",
   "mimetype": "text/x-python",
   "name": "python",
   "nbconvert_exporter": "python",
   "pygments_lexer": "ipython3",
   "version": "3.8.3"
  }
 },
 "nbformat": 4,
 "nbformat_minor": 4
}

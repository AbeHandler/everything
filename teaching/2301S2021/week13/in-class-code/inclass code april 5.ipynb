{
 "cells": [
  {
   "cell_type": "code",
   "execution_count": 5,
   "metadata": {},
   "outputs": [],
   "source": [
    "from random import randint \n",
    "\n",
    "def roll():\n",
    "    return randint(1,6)"
   ]
  },
  {
   "cell_type": "code",
   "execution_count": 7,
   "metadata": {},
   "outputs": [
    {
     "data": {
      "text/plain": [
       "3.506"
      ]
     },
     "execution_count": 7,
     "metadata": {},
     "output_type": "execute_result"
    }
   ],
   "source": [
    "N = 1000\n",
    "sum_ = 0\n",
    "for j in range(N):\n",
    "    sum_ += roll()\n",
    "    \n",
    "sum_/N   "
   ]
  },
  {
   "cell_type": "code",
   "execution_count": 27,
   "metadata": {},
   "outputs": [
    {
     "data": {
      "text/plain": [
       "4.999155"
      ]
     },
     "execution_count": 27,
     "metadata": {},
     "output_type": "execute_result"
    }
   ],
   "source": [
    "import random\n",
    "\n",
    "\n",
    "def flips(N):\n",
    "    out = \"\"\n",
    "    for i in range(N):\n",
    "        if random.random() < .5:\n",
    "            out = out + \"H\"\n",
    "        else:\n",
    "            out = out + \"T\"\n",
    "    return out\n",
    "            \n",
    "def nHeads(string_):\n",
    "    count = 0\n",
    "    for char in string_:\n",
    "        if char == \"H\":\n",
    "            count += 1\n",
    "    return count\n",
    "\n",
    "def estimatedEV_NHeads():\n",
    "    trials = 1000000\n",
    "    total = 0\n",
    "    for trial in range(trials):\n",
    "        experiment = flips(N=10)\n",
    "        total += nHeads(experiment)\n",
    "\n",
    "    return total/trials\n",
    "\n",
    "estimatedEV_NHeads()"
   ]
  },
  {
   "cell_type": "code",
   "execution_count": null,
   "metadata": {},
   "outputs": [],
   "source": []
  },
  {
   "cell_type": "code",
   "execution_count": null,
   "metadata": {},
   "outputs": [],
   "source": []
  }
 ],
 "metadata": {
  "kernelspec": {
   "display_name": "Python 3",
   "language": "python",
   "name": "python3"
  },
  "language_info": {
   "codemirror_mode": {
    "name": "ipython",
    "version": 3
   },
   "file_extension": ".py",
   "mimetype": "text/x-python",
   "name": "python",
   "nbconvert_exporter": "python",
   "pygments_lexer": "ipython3",
   "version": "3.8.3"
  }
 },
 "nbformat": 4,
 "nbformat_minor": 4
}

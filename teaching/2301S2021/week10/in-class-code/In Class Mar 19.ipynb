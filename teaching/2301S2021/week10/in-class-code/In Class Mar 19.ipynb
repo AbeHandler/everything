{
 "cells": [
  {
   "cell_type": "code",
   "execution_count": null,
   "metadata": {},
   "outputs": [],
   "source": [
    "from random import random \n",
    "\n",
    "probs = {\"Smoker\": .1, \"NonSmoker\": .9, \"Cancer|Smoker\": .3, \"Cancer|NonSmoker\": .1}\n",
    "\n",
    "def determineSmokerOrNot():\n",
    "    if random.random() < probs[\"Smoker\"]:\n",
    "        return \"Smoker\"\n",
    "    else:\n",
    "        return \"NonSmoker\"\n",
    "    \n",
    "def determineCancerOrNot(person):\n",
    "    if person == \"Smoker\":\n",
    "        if random.random() < probs[\"Cancer|Smoker\"]:\n",
    "            return \"Cancer\"\n",
    "        else:\n",
    "            return \"NoCancer\"\n",
    "    else:\n",
    "        if random.random() < probs[\"Cancer|NonSmoker\"]:\n",
    "            return \"Cancer\"\n",
    "        else:\n",
    "            return \"NoCancer\"\n",
    "    \n",
    "data = []\n",
    "for i in range(100):\n",
    "    smoker = determineSmokerOrNot()\n",
    "    cancer = determineCancerOrNot(person)\n",
    "    data.append({\"smoker\": smoker, \"cancer\": cancer})\n",
    "    "
   ]
  },
  {
   "cell_type": "markdown",
   "metadata": {},
   "source": [
    "- Figure out from data: what is p(Cancer|Smoker)\n",
    "- Figure out from data: if you get cancer, what is the probability you were a smoker?\n",
    "- Figure out from math: if you get cancer, what is the probability you were a smoker?"
   ]
  }
 ],
 "metadata": {
  "kernelspec": {
   "display_name": "Python 3",
   "language": "python",
   "name": "python3"
  },
  "language_info": {
   "codemirror_mode": {
    "name": "ipython",
    "version": 3
   },
   "file_extension": ".py",
   "mimetype": "text/x-python",
   "name": "python",
   "nbconvert_exporter": "python",
   "pygments_lexer": "ipython3",
   "version": "3.8.3"
  }
 },
 "nbformat": 4,
 "nbformat_minor": 4
}

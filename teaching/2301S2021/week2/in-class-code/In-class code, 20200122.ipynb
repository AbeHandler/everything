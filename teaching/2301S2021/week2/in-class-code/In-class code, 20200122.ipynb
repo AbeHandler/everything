{
 "cells": [
  {
   "cell_type": "markdown",
   "metadata": {},
   "source": [
    "### Subset function"
   ]
  },
  {
   "cell_type": "code",
   "execution_count": 4,
   "metadata": {},
   "outputs": [
    {
     "name": "stdout",
     "output_type": "stream",
     "text": [
      "cats is not in B so return false\n"
     ]
    },
    {
     "data": {
      "text/plain": [
       "False"
      ]
     },
     "execution_count": 4,
     "metadata": {},
     "output_type": "execute_result"
    }
   ],
   "source": [
    "def subset(A, B):\n",
    "    '''\n",
    "    return true if A \\subset B else return false\n",
    "    \n",
    "    Tahji suggested: check if all elements of A are in B. If they are, then A \\subset B\n",
    "    '''\n",
    "    for a in A:  # \"iterate through A\"\n",
    "        if a not in B:\n",
    "            print(a + \" is not in B so return false\")\n",
    "            return False\n",
    "    return True\n",
    "\n",
    "A = {\"dogs\", \"cats\", \"pandas\"}\n",
    "B = {\"elephants\"}\n",
    "\n",
    "subset(A, B)"
   ]
  },
  {
   "cell_type": "markdown",
   "metadata": {},
   "source": [
    "$A \\subset B$\n",
    "\n",
    "All elements of A are in B"
   ]
  },
  {
   "cell_type": "code",
   "execution_count": null,
   "metadata": {},
   "outputs": [],
   "source": []
  }
 ],
 "metadata": {
  "kernelspec": {
   "display_name": "Python 3",
   "language": "python",
   "name": "python3"
  },
  "language_info": {
   "codemirror_mode": {
    "name": "ipython",
    "version": 3
   },
   "file_extension": ".py",
   "mimetype": "text/x-python",
   "name": "python",
   "nbconvert_exporter": "python",
   "pygments_lexer": "ipython3",
   "version": "3.8.3"
  }
 },
 "nbformat": 4,
 "nbformat_minor": 4
}

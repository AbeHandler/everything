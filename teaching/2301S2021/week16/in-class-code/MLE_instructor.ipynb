{
 "cells": [
  {
   "cell_type": "code",
   "execution_count": 2,
   "metadata": {},
   "outputs": [],
   "source": [
    "secret_theta = .4"
   ]
  },
  {
   "cell_type": "code",
   "execution_count": 17,
   "metadata": {},
   "outputs": [
    {
     "data": {
      "text/plain": [
       "0.30080196446684937"
      ]
     },
     "execution_count": 17,
     "metadata": {},
     "output_type": "execute_result"
    }
   ],
   "source": [
    "from random import random \n",
    "\n",
    "def generate(theta, n):\n",
    "    return [int(random() < theta) for i in range(n)]\n",
    "\n",
    "def likelihood(data, theta):\n",
    "    out = 1\n",
    "    for j in data:\n",
    "        if j == 1:\n",
    "            out *= theta\n",
    "        else:\n",
    "            out *= (1-theta)\n",
    "    return out\n",
    "\n",
    "def learn(data, trials):\n",
    "    max_ = -1000000000000\n",
    "    for i in range(trials):\n",
    "        theta_t = random()\n",
    "        ll = likelihood(data, theta_t)\n",
    "        if ll > max_:\n",
    "            max_ = ll\n",
    "            max_theta = theta_t\n",
    "    return max_theta\n",
    "            \n",
    "data = generate(secret_theta, 10)\n",
    "\n",
    "likelihood(data, theta=.9)\n",
    "\n",
    "learn(data, trials=1000)"
   ]
  },
  {
   "cell_type": "code",
   "execution_count": null,
   "metadata": {},
   "outputs": [],
   "source": []
  }
 ],
 "metadata": {
  "kernelspec": {
   "display_name": "Python 3",
   "language": "python",
   "name": "python3"
  },
  "language_info": {
   "codemirror_mode": {
    "name": "ipython",
    "version": 3
   },
   "file_extension": ".py",
   "mimetype": "text/x-python",
   "name": "python",
   "nbconvert_exporter": "python",
   "pygments_lexer": "ipython3",
   "version": "3.8.3"
  }
 },
 "nbformat": 4,
 "nbformat_minor": 4
}

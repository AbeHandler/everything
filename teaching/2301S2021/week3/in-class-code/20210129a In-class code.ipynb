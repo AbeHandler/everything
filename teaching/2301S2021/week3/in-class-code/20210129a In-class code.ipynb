{
 "cells": [
  {
   "cell_type": "code",
   "execution_count": 3,
   "metadata": {},
   "outputs": [
    {
     "data": {
      "text/plain": [
       "4"
      ]
     },
     "execution_count": 3,
     "metadata": {},
     "output_type": "execute_result"
    }
   ],
   "source": [
    "def cardinality(A):\n",
    "    '''\n",
    "    Is an operation that maps a set to an integer greater than zero\n",
    "    \n",
    "    input:\n",
    "        A (set): a set of values\n",
    "    \n",
    "    returns:\n",
    "        some element of Zplus, where Zplus is the \n",
    "        set of all integers greater than or equal to zero \n",
    "    '''\n",
    "    assert type(A) == set\n",
    "    return len(A)\n",
    "\n",
    "\n",
    "#cardinality(\"horse\")\n",
    "cardinality({1,2,3,8})"
   ]
  },
  {
   "cell_type": "code",
   "execution_count": 4,
   "metadata": {},
   "outputs": [
    {
     "data": {
      "text/plain": [
       "{1, 2}"
      ]
     },
     "execution_count": 4,
     "metadata": {},
     "output_type": "execute_result"
    }
   ],
   "source": [
    "def union(A, B):\n",
    "    '''\n",
    "    Is an operation that maps two sets to a new set equal to all elements in A and B\n",
    "    \n",
    "    input:\n",
    "        A (set): a set of values\n",
    "        B (set): a set of values\n",
    "    \n",
    "    returns:\n",
    "        A new set equal to everything in A and everything in B\n",
    "    '''\n",
    "    assert type(A) == set\n",
    "    assert type(B) == set\n",
    "    return A.union(B)\n",
    "\n",
    "union(A={1}, B={2})"
   ]
  },
  {
   "cell_type": "code",
   "execution_count": 8,
   "metadata": {},
   "outputs": [
    {
     "data": {
      "text/plain": [
       "1.0"
      ]
     },
     "execution_count": 8,
     "metadata": {},
     "output_type": "execute_result"
    }
   ],
   "source": [
    "def classicSubtraction(A, B):\n",
    "    '''\n",
    "    Is an operation that maps two real numbers to their difference\n",
    "    \n",
    "    input:\n",
    "        A (float): a real number\n",
    "        B (fload): a real of values\n",
    "    \n",
    "    returns:\n",
    "        A real number equal to distance between A and B on the number line\n",
    "    '''\n",
    "    assert type(A) == float\n",
    "    assert type(B) == float\n",
    "    return A - B\n",
    "\n",
    "classicSubtraction(A=3., B=2.)\n"
   ]
  },
  {
   "cell_type": "code",
   "execution_count": 9,
   "metadata": {},
   "outputs": [
    {
     "data": {
      "text/plain": [
       "[1, 2, 3, 4, 4]"
      ]
     },
     "execution_count": 9,
     "metadata": {},
     "output_type": "execute_result"
    }
   ],
   "source": [
    "a = [1,2,3,4,4]\n",
    "\n",
    "a"
   ]
  },
  {
   "cell_type": "code",
   "execution_count": 10,
   "metadata": {},
   "outputs": [
    {
     "data": {
      "text/plain": [
       "{1, 2, 3, 4}"
      ]
     },
     "execution_count": 10,
     "metadata": {},
     "output_type": "execute_result"
    }
   ],
   "source": [
    "a = {1,2,3,4,4}\n",
    "\n",
    "a"
   ]
  },
  {
   "cell_type": "code",
   "execution_count": null,
   "metadata": {},
   "outputs": [],
   "source": []
  }
 ],
 "metadata": {
  "kernelspec": {
   "display_name": "Python 3",
   "language": "python",
   "name": "python3"
  },
  "language_info": {
   "codemirror_mode": {
    "name": "ipython",
    "version": 3
   },
   "file_extension": ".py",
   "mimetype": "text/x-python",
   "name": "python",
   "nbconvert_exporter": "python",
   "pygments_lexer": "ipython3",
   "version": "3.8.3"
  }
 },
 "nbformat": 4,
 "nbformat_minor": 4
}

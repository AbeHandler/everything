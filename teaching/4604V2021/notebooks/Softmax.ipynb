{
 "cells": [
  {
   "cell_type": "markdown",
   "metadata": {},
   "source": [
    "### The softmax function\n",
    "\n",
    "$p(y_i = k | x_i) = \\frac{\\text{exp}(\\text{score}_{i, j})}{\\sum_{j=0}^K \\text{exp}(\\text{score}_{i,j})} $\n"
   ]
  },
  {
   "cell_type": "code",
   "execution_count": 2,
   "metadata": {},
   "outputs": [],
   "source": [
    "def softmax(scores):\n",
    "    '''\n",
    "    return a sum of K probabilities that sum to 1 where K = number of classes\n",
    "    '''\n",
    "    pass"
   ]
  },
  {
   "cell_type": "markdown",
   "metadata": {},
   "source": [
    "#### Softmax questions\n",
    "\n",
    "1. What happens when the scores are the same?\n",
    "2. What happens when one score is way bigger than the others\n",
    "3. Why do you think this function might be called a \"soft\" max?\n",
    "4. Where do the scores come from (check slides)?"
   ]
  }
 ],
 "metadata": {
  "kernelspec": {
   "display_name": "Python 3",
   "language": "python",
   "name": "python3"
  },
  "language_info": {
   "codemirror_mode": {
    "name": "ipython",
    "version": 3
   },
   "file_extension": ".py",
   "mimetype": "text/x-python",
   "name": "python",
   "nbconvert_exporter": "python",
   "pygments_lexer": "ipython3",
   "version": "3.8.5"
  }
 },
 "nbformat": 4,
 "nbformat_minor": 4
}

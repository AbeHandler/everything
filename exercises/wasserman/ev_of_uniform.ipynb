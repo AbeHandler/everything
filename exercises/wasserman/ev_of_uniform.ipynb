{
 "cells": [
  {
   "cell_type": "markdown",
   "metadata": {},
   "source": [
    "### Wasserman \n",
    "\n",
    "A question in chapter 3? says: what is the EV of the max of N iid uniform rvs. I am trying this with a die to start w/ a simpler version"
   ]
  },
  {
   "cell_type": "code",
   "execution_count": 1,
   "metadata": {},
   "outputs": [],
   "source": [
    "import random\n",
    "import numpy as np\n",
    "from collections import Counter"
   ]
  },
  {
   "cell_type": "code",
   "execution_count": 4,
   "metadata": {},
   "outputs": [
    {
     "data": {
      "text/plain": [
       "(0.00089, 0.0009596274121915696)"
      ]
     },
     "execution_count": 4,
     "metadata": {},
     "output_type": "execute_result"
    }
   ],
   "source": [
    "def cdf(x):\n",
    "    return sum(1/6 for i in range(x))\n",
    "\n",
    "def analytic_prob(_N, max_):\n",
    "    '''\n",
    "    compute the probability that max_ (e.g. 5) is the max analytically\n",
    "    \n",
    "    The way I think about this is, if the max_ is max_ this can come in position 1, 2, 3, 4, 5 ... N \n",
    "    \n",
    "        - If the max comes in position i then there are i-1 cases where the value is less than max\n",
    "        - Then on position i you roll a max\n",
    "        - Then on the remaining rolls you don't go higher than max.\n",
    "\n",
    "    '''\n",
    "    out = 0\n",
    "    for i in range(_N):\n",
    "        p_first_i_rolls = ((cdf(max_ - 1)) ** i)  # roll lower than max\n",
    "        p_roll_max = (1/6)\n",
    "        p_roll_no_higher_max = cdf(max_) ** (_N - 1 - i)\n",
    "        iter_j =  p_first_i_rolls * p_roll_max * p_roll_no_higher_max\n",
    "        out += iter_j\n",
    "    return out\n",
    "\n",
    "def empiricalProb2(_N, max_, iters=100):\n",
    "    '''A sanity checker to make sure the analytic prob is right'''\n",
    "    c = 0\n",
    "    for i in range(iters):\n",
    "        d = np.random.randint(low=1, high=7, size=(_N,))\n",
    "        if(np.max(d) == max_):\n",
    "            c += 1\n",
    "    return c/iters\n",
    "\n",
    "max_ = 3\n",
    "_N = 10\n",
    "empiricalProb2(max_=max_, _N=_N, iters=100000), analytic_prob(_N=_N, max_=max_)"
   ]
  },
  {
   "cell_type": "code",
   "execution_count": 18,
   "metadata": {},
   "outputs": [
    {
     "data": {
      "text/plain": [
       "(3.5, 3.5556)"
      ]
     },
     "execution_count": 18,
     "metadata": {},
     "output_type": "execute_result"
    }
   ],
   "source": [
    "def eV(N):\n",
    "    ou = 0\n",
    "    for i in range(1,7):\n",
    "        ou += (i * analytic_prob(_N=N, max_=i))\n",
    "    return ou\n",
    "\n",
    "def eV_empirical(N):\n",
    "    ou = 0\n",
    "    for i in range(1,7):\n",
    "        ou += (i * empiricalProb2(_N=N, max_=i, iters=10000))\n",
    "    return ou\n",
    "\n",
    "eV(N=1), eV_empirical(N=1)"
   ]
  }
 ],
 "metadata": {
  "kernelspec": {
   "display_name": "Python 3",
   "language": "python",
   "name": "python3"
  },
  "language_info": {
   "codemirror_mode": {
    "name": "ipython",
    "version": 3
   },
   "file_extension": ".py",
   "mimetype": "text/x-python",
   "name": "python",
   "nbconvert_exporter": "python",
   "pygments_lexer": "ipython3",
   "version": "3.8.3"
  }
 },
 "nbformat": 4,
 "nbformat_minor": 4
}
